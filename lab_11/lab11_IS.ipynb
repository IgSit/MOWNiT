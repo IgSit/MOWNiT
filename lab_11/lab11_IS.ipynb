{
 "cells": [
  {
   "cell_type": "code",
   "execution_count": 1,
   "id": "08137159",
   "metadata": {
    "pycharm": {
     "name": "#%%\n"
    }
   },
   "outputs": [],
   "source": [
    "using LinearAlgebra\n",
    "using DataFrames\n",
    "using Statistics\n",
    "using CSV\n",
    "using Polynomials\n",
    "using Plots"
   ]
  },
  {
   "cell_type": "markdown",
   "id": "84e62e88",
   "metadata": {
    "pycharm": {
     "name": "#%% md\n"
    }
   },
   "source": [
    "# Laboratorium 11\n",
    "\n",
    "#### Zadanie 1 (1pkt)\n",
    "Ustal losowe (referencyjne) `x` rozmiaru 1000 oraz losowe `A` rozmiaru 1000x1000, policz `b=A*x`.\n",
    "Nastepnie rozwiąż równanie `Ax=b` trzema metodami:\n",
    "- inv()\n",
    "- \\\n",
    "- factorize()\n",
    "\n",
    "Porównaj jakość wyniku (zmierzoną jako długość różnicy wektorów wyniku oraz referencyjnego `x`) oraz czas wykonania (@time). UWAGA: pierwsze wykonanie funkcji w Julii zawiera czas kompilacji tej funkcji, dlatego czas mierzymy  od drugiego wywołania!"
   ]
  },
  {
   "cell_type": "code",
   "execution_count": 2,
   "id": "8bee9660",
   "metadata": {
    "pycharm": {
     "name": "#%%\n"
    }
   },
   "outputs": [
    {
     "data": {
      "text/html": [
       "<div class=\"data-frame\"><p>0 rows × 3 columns</p><table class=\"data-frame\"><thead><tr><th></th><th>method</th><th>time</th><th>error</th></tr><tr><th></th><th title=\"String\">String</th><th title=\"Float64\">Float64</th><th title=\"Float64\">Float64</th></tr></thead><tbody></tbody></table></div>"
      ],
      "text/latex": [
       "\\begin{tabular}{r|ccc}\n",
       "\t& method & time & error\\\\\n",
       "\t\\hline\n",
       "\t& String & Float64 & Float64\\\\\n",
       "\t\\hline\n",
       "\\end{tabular}\n"
      ],
      "text/plain": [
       "\u001B[1m0×3 DataFrame\u001B[0m"
      ]
     },
     "execution_count": 2,
     "metadata": {},
     "output_type": "execute_result"
    }
   ],
   "source": [
    "dim = 1000\n",
    "x = rand(dim)\n",
    "a = rand(dim, dim)\n",
    "b = a * x \n",
    "\n",
    "df = DataFrame(method = String[], time = Float64[], error = Float64[])"
   ]
  },
  {
   "cell_type": "code",
   "execution_count": 3,
   "id": "d35be89f",
   "metadata": {
    "pycharm": {
     "name": "#%%\n"
    }
   },
   "outputs": [
    {
     "data": {
      "text/plain": [
       "factorization (generic function with 1 method)"
      ]
     },
     "execution_count": 3,
     "metadata": {},
     "output_type": "execute_result"
    }
   ],
   "source": [
    "function inversion(a, b)\n",
    "    return inv(a) * b\n",
    "end\n",
    "\n",
    "function division(a, b)\n",
    "    return a \\ b\n",
    "end\n",
    "\n",
    "function factorization(a, b)\n",
    "    factorized_a = factorize(a)\n",
    "    return a \\ b\n",
    "end"
   ]
  },
  {
   "cell_type": "code",
   "execution_count": 4,
   "id": "d7be625f",
   "metadata": {
    "scrolled": true,
    "pycharm": {
     "name": "#%%\n"
    }
   },
   "outputs": [
    {
     "data": {
      "text/plain": [
       "1000-element Vector{Float64}:\n",
       " 0.24067219373826987\n",
       " 0.4425670441668433\n",
       " 0.5346636403676058\n",
       " 0.8025671034040516\n",
       " 0.9864396849606591\n",
       " 0.2475181630483665\n",
       " 0.6202749198103423\n",
       " 0.5656780895242363\n",
       " 0.2993967952122814\n",
       " 0.7844320193511317\n",
       " 0.008678273045131886\n",
       " 0.9058566803754382\n",
       " 0.34003510142018245\n",
       " ⋮\n",
       " 0.21208314187575872\n",
       " 0.660320788722509\n",
       " 0.12880221923222201\n",
       " 0.053954055245087784\n",
       " 0.12013502646131544\n",
       " 0.2217413333530456\n",
       " 0.6096212978821153\n",
       " 0.8811561848947412\n",
       " 0.06896277331858058\n",
       " 0.12920016434312978\n",
       " 0.17088717533606812\n",
       " 0.39028062943207886"
      ]
     },
     "execution_count": 4,
     "metadata": {},
     "output_type": "execute_result"
    }
   ],
   "source": [
    "inversion(a, b)\n",
    "division(a, b)\n",
    "factorization(a, b)"
   ]
  },
  {
   "cell_type": "code",
   "execution_count": 5,
   "id": "94fae1aa",
   "metadata": {
    "scrolled": true,
    "pycharm": {
     "name": "#%%\n"
    }
   },
   "outputs": [
    {
     "data": {
      "text/html": [
       "<div class=\"data-frame\"><p>30 rows × 3 columns</p><table class=\"data-frame\"><thead><tr><th></th><th>method</th><th>time</th><th>error</th></tr><tr><th></th><th title=\"String\">String</th><th title=\"Float64\">Float64</th><th title=\"Float64\">Float64</th></tr></thead><tbody><tr><th>1</th><td>inv</td><td>0.14585</td><td>1.01825e-20</td></tr><tr><th>2</th><td>inv</td><td>0.0803478</td><td>1.01825e-20</td></tr><tr><th>3</th><td>inv</td><td>0.165</td><td>1.01825e-20</td></tr><tr><th>4</th><td>inv</td><td>0.104164</td><td>1.01825e-20</td></tr><tr><th>5</th><td>inv</td><td>0.104281</td><td>1.01825e-20</td></tr><tr><th>6</th><td>inv</td><td>0.0744418</td><td>1.01825e-20</td></tr><tr><th>7</th><td>inv</td><td>0.265569</td><td>1.01825e-20</td></tr><tr><th>8</th><td>inv</td><td>0.11066</td><td>1.01825e-20</td></tr><tr><th>9</th><td>inv</td><td>0.224</td><td>1.01825e-20</td></tr><tr><th>10</th><td>inv</td><td>0.271377</td><td>1.01825e-20</td></tr><tr><th>11</th><td>/</td><td>0.0981029</td><td>2.91625e-21</td></tr><tr><th>12</th><td>/</td><td>0.15296</td><td>2.91625e-21</td></tr><tr><th>13</th><td>/</td><td>0.0678165</td><td>2.91625e-21</td></tr><tr><th>14</th><td>/</td><td>0.143225</td><td>2.91625e-21</td></tr><tr><th>15</th><td>/</td><td>0.170998</td><td>2.91625e-21</td></tr><tr><th>16</th><td>/</td><td>0.0789702</td><td>2.91625e-21</td></tr><tr><th>17</th><td>/</td><td>0.104213</td><td>2.91625e-21</td></tr><tr><th>18</th><td>/</td><td>0.0999807</td><td>2.91625e-21</td></tr><tr><th>19</th><td>/</td><td>0.0849974</td><td>2.91625e-21</td></tr><tr><th>20</th><td>/</td><td>0.248159</td><td>2.91625e-21</td></tr><tr><th>21</th><td>factorize</td><td>0.250587</td><td>2.91625e-21</td></tr><tr><th>22</th><td>factorize</td><td>0.1671</td><td>2.91625e-21</td></tr><tr><th>23</th><td>factorize</td><td>0.204328</td><td>2.91625e-21</td></tr><tr><th>24</th><td>factorize</td><td>0.535342</td><td>2.91625e-21</td></tr><tr><th>25</th><td>factorize</td><td>0.179868</td><td>2.91625e-21</td></tr><tr><th>26</th><td>factorize</td><td>0.226888</td><td>2.91625e-21</td></tr><tr><th>27</th><td>factorize</td><td>0.217136</td><td>2.91625e-21</td></tr><tr><th>28</th><td>factorize</td><td>0.242705</td><td>2.91625e-21</td></tr><tr><th>29</th><td>factorize</td><td>0.192706</td><td>2.91625e-21</td></tr><tr><th>30</th><td>factorize</td><td>0.154404</td><td>2.91625e-21</td></tr></tbody></table></div>"
      ],
      "text/latex": [
       "\\begin{tabular}{r|ccc}\n",
       "\t& method & time & error\\\\\n",
       "\t\\hline\n",
       "\t& String & Float64 & Float64\\\\\n",
       "\t\\hline\n",
       "\t1 & inv & 0.14585 & 1.01825e-20 \\\\\n",
       "\t2 & inv & 0.0803478 & 1.01825e-20 \\\\\n",
       "\t3 & inv & 0.165 & 1.01825e-20 \\\\\n",
       "\t4 & inv & 0.104164 & 1.01825e-20 \\\\\n",
       "\t5 & inv & 0.104281 & 1.01825e-20 \\\\\n",
       "\t6 & inv & 0.0744418 & 1.01825e-20 \\\\\n",
       "\t7 & inv & 0.265569 & 1.01825e-20 \\\\\n",
       "\t8 & inv & 0.11066 & 1.01825e-20 \\\\\n",
       "\t9 & inv & 0.224 & 1.01825e-20 \\\\\n",
       "\t10 & inv & 0.271377 & 1.01825e-20 \\\\\n",
       "\t11 & / & 0.0981029 & 2.91625e-21 \\\\\n",
       "\t12 & / & 0.15296 & 2.91625e-21 \\\\\n",
       "\t13 & / & 0.0678165 & 2.91625e-21 \\\\\n",
       "\t14 & / & 0.143225 & 2.91625e-21 \\\\\n",
       "\t15 & / & 0.170998 & 2.91625e-21 \\\\\n",
       "\t16 & / & 0.0789702 & 2.91625e-21 \\\\\n",
       "\t17 & / & 0.104213 & 2.91625e-21 \\\\\n",
       "\t18 & / & 0.0999807 & 2.91625e-21 \\\\\n",
       "\t19 & / & 0.0849974 & 2.91625e-21 \\\\\n",
       "\t20 & / & 0.248159 & 2.91625e-21 \\\\\n",
       "\t21 & factorize & 0.250587 & 2.91625e-21 \\\\\n",
       "\t22 & factorize & 0.1671 & 2.91625e-21 \\\\\n",
       "\t23 & factorize & 0.204328 & 2.91625e-21 \\\\\n",
       "\t24 & factorize & 0.535342 & 2.91625e-21 \\\\\n",
       "\t25 & factorize & 0.179868 & 2.91625e-21 \\\\\n",
       "\t26 & factorize & 0.226888 & 2.91625e-21 \\\\\n",
       "\t27 & factorize & 0.217136 & 2.91625e-21 \\\\\n",
       "\t28 & factorize & 0.242705 & 2.91625e-21 \\\\\n",
       "\t29 & factorize & 0.192706 & 2.91625e-21 \\\\\n",
       "\t30 & factorize & 0.154404 & 2.91625e-21 \\\\\n",
       "\\end{tabular}\n"
      ],
      "text/plain": [
       "\u001B[1m30×3 DataFrame\u001B[0m\n",
       "\u001B[1m Row \u001B[0m│\u001B[1m method    \u001B[0m\u001B[1m time      \u001B[0m\u001B[1m error       \u001B[0m\n",
       "\u001B[1m     \u001B[0m│\u001B[90m String    \u001B[0m\u001B[90m Float64   \u001B[0m\u001B[90m Float64     \u001B[0m\n",
       "─────┼───────────────────────────────────\n",
       "   1 │ inv        0.14585    1.01825e-20\n",
       "   2 │ inv        0.0803478  1.01825e-20\n",
       "   3 │ inv        0.165      1.01825e-20\n",
       "   4 │ inv        0.104164   1.01825e-20\n",
       "   5 │ inv        0.104281   1.01825e-20\n",
       "   6 │ inv        0.0744418  1.01825e-20\n",
       "   7 │ inv        0.265569   1.01825e-20\n",
       "   8 │ inv        0.11066    1.01825e-20\n",
       "   9 │ inv        0.224      1.01825e-20\n",
       "  10 │ inv        0.271377   1.01825e-20\n",
       "  11 │ /          0.0981029  2.91625e-21\n",
       "  ⋮  │     ⋮          ⋮           ⋮\n",
       "  21 │ factorize  0.250587   2.91625e-21\n",
       "  22 │ factorize  0.1671     2.91625e-21\n",
       "  23 │ factorize  0.204328   2.91625e-21\n",
       "  24 │ factorize  0.535342   2.91625e-21\n",
       "  25 │ factorize  0.179868   2.91625e-21\n",
       "  26 │ factorize  0.226888   2.91625e-21\n",
       "  27 │ factorize  0.217136   2.91625e-21\n",
       "  28 │ factorize  0.242705   2.91625e-21\n",
       "  29 │ factorize  0.192706   2.91625e-21\n",
       "  30 │ factorize  0.154404   2.91625e-21\n",
       "\u001B[36m                           9 rows omitted\u001B[0m"
      ]
     },
     "metadata": {},
     "output_type": "display_data"
    }
   ],
   "source": [
    "funcs = [inversion, division, factorization]\n",
    "methods = [\"inv\",\"/\", \"factorize\"]\n",
    "\n",
    "for i in 1:1:length(funcs)\n",
    "    for j in 1:1:10\n",
    "        time = @elapsed funcs[i](a, b)\n",
    "        error = dot(x - funcs[i](a, b), x - funcs[i](a, b))\n",
    "        push!(df, [methods[i], time, error])\n",
    "    end\n",
    "end\n",
    "\n",
    "display(df)"
   ]
  },
  {
   "cell_type": "code",
   "execution_count": 6,
   "id": "43516d1e",
   "metadata": {
    "pycharm": {
     "name": "#%%\n"
    }
   },
   "outputs": [
    {
     "data": {
      "text/html": [
       "<div class=\"data-frame\"><p>3 rows × 3 columns</p><table class=\"data-frame\"><thead><tr><th></th><th>method</th><th>time_mean</th><th>error_mean</th></tr><tr><th></th><th title=\"String\">String</th><th title=\"Float64\">Float64</th><th title=\"Float64\">Float64</th></tr></thead><tbody><tr><th>1</th><td>inv</td><td>0.154569</td><td>1.01825e-20</td></tr><tr><th>2</th><td>/</td><td>0.124942</td><td>2.91625e-21</td></tr><tr><th>3</th><td>factorize</td><td>0.237106</td><td>2.91625e-21</td></tr></tbody></table></div>"
      ],
      "text/latex": [
       "\\begin{tabular}{r|ccc}\n",
       "\t& method & time\\_mean & error\\_mean\\\\\n",
       "\t\\hline\n",
       "\t& String & Float64 & Float64\\\\\n",
       "\t\\hline\n",
       "\t1 & inv & 0.154569 & 1.01825e-20 \\\\\n",
       "\t2 & / & 0.124942 & 2.91625e-21 \\\\\n",
       "\t3 & factorize & 0.237106 & 2.91625e-21 \\\\\n",
       "\\end{tabular}\n"
      ],
      "text/plain": [
       "\u001B[1m3×3 DataFrame\u001B[0m\n",
       "\u001B[1m Row \u001B[0m│\u001B[1m method    \u001B[0m\u001B[1m time_mean \u001B[0m\u001B[1m error_mean  \u001B[0m\n",
       "\u001B[1m     \u001B[0m│\u001B[90m String    \u001B[0m\u001B[90m Float64   \u001B[0m\u001B[90m Float64     \u001B[0m\n",
       "─────┼───────────────────────────────────\n",
       "   1 │ inv         0.154569  1.01825e-20\n",
       "   2 │ /           0.124942  2.91625e-21\n",
       "   3 │ factorize   0.237106  2.91625e-21"
      ]
     },
     "metadata": {},
     "output_type": "display_data"
    }
   ],
   "source": [
    "grouped = groupby(df, :method)\n",
    "aggregated = combine(grouped, \"time\" => mean, \"error\" => mean)\n",
    "display(aggregated)"
   ]
  },
  {
   "cell_type": "markdown",
   "id": "5881310e",
   "metadata": {
    "pycharm": {
     "name": "#%% md\n"
    }
   },
   "source": [
    "#### Zadanie 2 (1pkt)\n",
    "Policz współczynniki wielomianu aproksymującego dowolne dane z poprzednich laboratoriów tworząc wprost układ równań i rozwiązujac go (metoda z użyciem faktoryzacji QR zaprezentowana na tym laboratorium).\n",
    "Porównaj wyniki z tymi otrzymanymi poprzednio."
   ]
  },
  {
   "cell_type": "code",
   "execution_count": 7,
   "id": "081d6a56",
   "metadata": {
    "scrolled": true,
    "pycharm": {
     "name": "#%%\n"
    }
   },
   "outputs": [
    {
     "data": {
      "text/html": [
       "<div class=\"data-frame\"><p>60 rows × 3 columns</p><table class=\"data-frame\"><thead><tr><th></th><th>Size</th><th>Operation</th><th>Time</th></tr><tr><th></th><th title=\"Int64\">Int64</th><th title=\"String31\">String31</th><th title=\"Float64\">Float64</th></tr></thead><tbody><tr><th>1</th><td>10</td><td>naive_multiplication</td><td>0.0</td></tr><tr><th>2</th><td>10</td><td>naive_multiplication</td><td>0.0</td></tr><tr><th>3</th><td>10</td><td>naive_multiplication</td><td>0.0</td></tr><tr><th>4</th><td>10</td><td>naive_multiplication</td><td>0.0</td></tr><tr><th>5</th><td>10</td><td>naive_multiplication</td><td>0.0</td></tr><tr><th>6</th><td>10</td><td>naive_multiplication</td><td>0.0</td></tr><tr><th>7</th><td>10</td><td>naive_multiplication</td><td>0.0</td></tr><tr><th>8</th><td>10</td><td>naive_multiplication</td><td>0.0</td></tr><tr><th>9</th><td>10</td><td>naive_multiplication</td><td>0.0</td></tr><tr><th>10</th><td>10</td><td>naive_multiplication</td><td>0.0</td></tr><tr><th>11</th><td>100</td><td>naive_multiplication</td><td>0.0</td></tr><tr><th>12</th><td>100</td><td>naive_multiplication</td><td>0.01</td></tr><tr><th>13</th><td>100</td><td>naive_multiplication</td><td>0.01</td></tr><tr><th>14</th><td>100</td><td>naive_multiplication</td><td>0.0</td></tr><tr><th>15</th><td>100</td><td>naive_multiplication</td><td>0.01</td></tr><tr><th>16</th><td>100</td><td>naive_multiplication</td><td>0.01</td></tr><tr><th>17</th><td>100</td><td>naive_multiplication</td><td>0.0</td></tr><tr><th>18</th><td>100</td><td>naive_multiplication</td><td>0.01</td></tr><tr><th>19</th><td>100</td><td>naive_multiplication</td><td>0.01</td></tr><tr><th>20</th><td>100</td><td>naive_multiplication</td><td>0.0</td></tr><tr><th>21</th><td>190</td><td>naive_multiplication</td><td>0.05</td></tr><tr><th>22</th><td>190</td><td>naive_multiplication</td><td>0.05</td></tr><tr><th>23</th><td>190</td><td>naive_multiplication</td><td>0.06</td></tr><tr><th>24</th><td>190</td><td>naive_multiplication</td><td>0.05</td></tr><tr><th>25</th><td>190</td><td>naive_multiplication</td><td>0.05</td></tr><tr><th>26</th><td>190</td><td>naive_multiplication</td><td>0.04</td></tr><tr><th>27</th><td>190</td><td>naive_multiplication</td><td>0.05</td></tr><tr><th>28</th><td>190</td><td>naive_multiplication</td><td>0.06</td></tr><tr><th>29</th><td>190</td><td>naive_multiplication</td><td>0.05</td></tr><tr><th>30</th><td>190</td><td>naive_multiplication</td><td>0.04</td></tr><tr><th>&vellip;</th><td>&vellip;</td><td>&vellip;</td><td>&vellip;</td></tr></tbody></table></div>"
      ],
      "text/latex": [
       "\\begin{tabular}{r|ccc}\n",
       "\t& Size & Operation & Time\\\\\n",
       "\t\\hline\n",
       "\t& Int64 & String31 & Float64\\\\\n",
       "\t\\hline\n",
       "\t1 & 10 & naive\\_multiplication & 0.0 \\\\\n",
       "\t2 & 10 & naive\\_multiplication & 0.0 \\\\\n",
       "\t3 & 10 & naive\\_multiplication & 0.0 \\\\\n",
       "\t4 & 10 & naive\\_multiplication & 0.0 \\\\\n",
       "\t5 & 10 & naive\\_multiplication & 0.0 \\\\\n",
       "\t6 & 10 & naive\\_multiplication & 0.0 \\\\\n",
       "\t7 & 10 & naive\\_multiplication & 0.0 \\\\\n",
       "\t8 & 10 & naive\\_multiplication & 0.0 \\\\\n",
       "\t9 & 10 & naive\\_multiplication & 0.0 \\\\\n",
       "\t10 & 10 & naive\\_multiplication & 0.0 \\\\\n",
       "\t11 & 100 & naive\\_multiplication & 0.0 \\\\\n",
       "\t12 & 100 & naive\\_multiplication & 0.01 \\\\\n",
       "\t13 & 100 & naive\\_multiplication & 0.01 \\\\\n",
       "\t14 & 100 & naive\\_multiplication & 0.0 \\\\\n",
       "\t15 & 100 & naive\\_multiplication & 0.01 \\\\\n",
       "\t16 & 100 & naive\\_multiplication & 0.01 \\\\\n",
       "\t17 & 100 & naive\\_multiplication & 0.0 \\\\\n",
       "\t18 & 100 & naive\\_multiplication & 0.01 \\\\\n",
       "\t19 & 100 & naive\\_multiplication & 0.01 \\\\\n",
       "\t20 & 100 & naive\\_multiplication & 0.0 \\\\\n",
       "\t21 & 190 & naive\\_multiplication & 0.05 \\\\\n",
       "\t22 & 190 & naive\\_multiplication & 0.05 \\\\\n",
       "\t23 & 190 & naive\\_multiplication & 0.06 \\\\\n",
       "\t24 & 190 & naive\\_multiplication & 0.05 \\\\\n",
       "\t25 & 190 & naive\\_multiplication & 0.05 \\\\\n",
       "\t26 & 190 & naive\\_multiplication & 0.04 \\\\\n",
       "\t27 & 190 & naive\\_multiplication & 0.05 \\\\\n",
       "\t28 & 190 & naive\\_multiplication & 0.06 \\\\\n",
       "\t29 & 190 & naive\\_multiplication & 0.05 \\\\\n",
       "\t30 & 190 & naive\\_multiplication & 0.04 \\\\\n",
       "\t$\\dots$ & $\\dots$ & $\\dots$ & $\\dots$ \\\\\n",
       "\\end{tabular}\n"
      ],
      "text/plain": [
       "\u001B[1m60×3 DataFrame\u001B[0m\n",
       "\u001B[1m Row \u001B[0m│\u001B[1m Size  \u001B[0m\u001B[1m Operation            \u001B[0m\u001B[1m Time    \u001B[0m\n",
       "\u001B[1m     \u001B[0m│\u001B[90m Int64 \u001B[0m\u001B[90m String31             \u001B[0m\u001B[90m Float64 \u001B[0m\n",
       "─────┼──────────────────────────────────────\n",
       "   1 │    10  naive_multiplication     0.0\n",
       "   2 │    10  naive_multiplication     0.0\n",
       "   3 │    10  naive_multiplication     0.0\n",
       "   4 │    10  naive_multiplication     0.0\n",
       "   5 │    10  naive_multiplication     0.0\n",
       "   6 │    10  naive_multiplication     0.0\n",
       "   7 │    10  naive_multiplication     0.0\n",
       "   8 │    10  naive_multiplication     0.0\n",
       "   9 │    10  naive_multiplication     0.0\n",
       "  10 │    10  naive_multiplication     0.0\n",
       "  11 │   100  naive_multiplication     0.0\n",
       "  ⋮  │   ⋮             ⋮               ⋮\n",
       "  51 │   460  naive_multiplication     1.56\n",
       "  52 │   460  naive_multiplication     0.76\n",
       "  53 │   460  naive_multiplication     0.78\n",
       "  54 │   460  naive_multiplication     0.78\n",
       "  55 │   460  naive_multiplication     0.88\n",
       "  56 │   460  naive_multiplication     0.8\n",
       "  57 │   460  naive_multiplication     0.88\n",
       "  58 │   460  naive_multiplication     0.77\n",
       "  59 │   460  naive_multiplication     1.0\n",
       "  60 │   460  naive_multiplication     1.11\n",
       "\u001B[36m                             39 rows omitted\u001B[0m"
      ]
     },
     "metadata": {},
     "output_type": "display_data"
    }
   ],
   "source": [
    "data = CSV.read(\"c_data.csv\", delim=\",\", DataFrame)\n",
    "data = data[(data.Operation .== \"naive_multiplication\"), :]\n",
    "display(data)"
   ]
  },
  {
   "cell_type": "code",
   "execution_count": 8,
   "id": "8dbe727f",
   "metadata": {
    "pycharm": {
     "name": "#%%\n"
    }
   },
   "outputs": [
    {
     "data": {
      "text/html": [
       "<div class=\"data-frame\"><p>6 rows × 3 columns</p><table class=\"data-frame\"><thead><tr><th></th><th>Size</th><th>Time_mean</th><th>Time_std</th></tr><tr><th></th><th title=\"Int64\">Int64</th><th title=\"Float64\">Float64</th><th title=\"Float64\">Float64</th></tr></thead><tbody><tr><th>1</th><td>10</td><td>0.0</td><td>0.0</td></tr><tr><th>2</th><td>100</td><td>0.006</td><td>0.00516398</td></tr><tr><th>3</th><td>190</td><td>0.05</td><td>0.00666667</td></tr><tr><th>4</th><td>280</td><td>0.167</td><td>0.0507828</td></tr><tr><th>5</th><td>370</td><td>0.41</td><td>0.100333</td></tr><tr><th>6</th><td>460</td><td>0.932</td><td>0.248453</td></tr></tbody></table></div>"
      ],
      "text/latex": [
       "\\begin{tabular}{r|ccc}\n",
       "\t& Size & Time\\_mean & Time\\_std\\\\\n",
       "\t\\hline\n",
       "\t& Int64 & Float64 & Float64\\\\\n",
       "\t\\hline\n",
       "\t1 & 10 & 0.0 & 0.0 \\\\\n",
       "\t2 & 100 & 0.006 & 0.00516398 \\\\\n",
       "\t3 & 190 & 0.05 & 0.00666667 \\\\\n",
       "\t4 & 280 & 0.167 & 0.0507828 \\\\\n",
       "\t5 & 370 & 0.41 & 0.100333 \\\\\n",
       "\t6 & 460 & 0.932 & 0.248453 \\\\\n",
       "\\end{tabular}\n"
      ],
      "text/plain": [
       "\u001B[1m6×3 DataFrame\u001B[0m\n",
       "\u001B[1m Row \u001B[0m│\u001B[1m Size  \u001B[0m\u001B[1m Time_mean \u001B[0m\u001B[1m Time_std   \u001B[0m\n",
       "\u001B[1m     \u001B[0m│\u001B[90m Int64 \u001B[0m\u001B[90m Float64   \u001B[0m\u001B[90m Float64    \u001B[0m\n",
       "─────┼──────────────────────────────\n",
       "   1 │    10      0.0    0.0\n",
       "   2 │   100      0.006  0.00516398\n",
       "   3 │   190      0.05   0.00666667\n",
       "   4 │   280      0.167  0.0507828\n",
       "   5 │   370      0.41   0.100333\n",
       "   6 │   460      0.932  0.248453"
      ]
     },
     "execution_count": 8,
     "metadata": {},
     "output_type": "execute_result"
    }
   ],
   "source": [
    "grouped = groupby(data, :Size)\n",
    "aggregated = combine(grouped, \"Time\" => mean, \"Time\" => std)"
   ]
  },
  {
   "cell_type": "code",
   "execution_count": 9,
   "id": "96e0a784",
   "metadata": {
    "scrolled": false,
    "pycharm": {
     "name": "#%%\n"
    }
   },
   "outputs": [
    {
     "data": {
      "image/svg+xml": [
       "<?xml version=\"1.0\" encoding=\"utf-8\"?>\n",
       "<svg xmlns=\"http://www.w3.org/2000/svg\" xmlns:xlink=\"http://www.w3.org/1999/xlink\" width=\"600\" height=\"400\" viewBox=\"0 0 2400 1600\">\n",
       "<defs>\n",
       "  <clipPath id=\"clip310\">\n",
       "    <rect x=\"0\" y=\"0\" width=\"2400\" height=\"1600\"/>\n",
       "  </clipPath>\n",
       "</defs>\n",
       "<path clip-path=\"url(#clip310)\" d=\"\n",
       "M0 1600 L2400 1600 L2400 0 L0 0  Z\n",
       "  \" fill=\"#ffffff\" fill-rule=\"evenodd\" fill-opacity=\"1\"/>\n",
       "<defs>\n",
       "  <clipPath id=\"clip311\">\n",
       "    <rect x=\"480\" y=\"0\" width=\"1681\" height=\"1600\"/>\n",
       "  </clipPath>\n",
       "</defs>\n",
       "<path clip-path=\"url(#clip310)\" d=\"\n",
       "M156.598 1486.45 L2352.76 1486.45 L2352.76 47.2441 L156.598 47.2441  Z\n",
       "  \" fill=\"#ffffff\" fill-rule=\"evenodd\" fill-opacity=\"1\"/>\n",
       "<defs>\n",
       "  <clipPath id=\"clip312\">\n",
       "    <rect x=\"156\" y=\"47\" width=\"2197\" height=\"1440\"/>\n",
       "  </clipPath>\n",
       "</defs>\n",
       "<polyline clip-path=\"url(#clip312)\" style=\"stroke:#000000; stroke-linecap:butt; stroke-linejoin:round; stroke-width:2; stroke-opacity:0.1; fill:none\" points=\"\n",
       "  172.713,1486.45 172.713,47.2441 \n",
       "  \"/>\n",
       "<polyline clip-path=\"url(#clip312)\" style=\"stroke:#000000; stroke-linecap:butt; stroke-linejoin:round; stroke-width:2; stroke-opacity:0.1; fill:none\" points=\"\n",
       "  633.123,1486.45 633.123,47.2441 \n",
       "  \"/>\n",
       "<polyline clip-path=\"url(#clip312)\" style=\"stroke:#000000; stroke-linecap:butt; stroke-linejoin:round; stroke-width:2; stroke-opacity:0.1; fill:none\" points=\"\n",
       "  1093.53,1486.45 1093.53,47.2441 \n",
       "  \"/>\n",
       "<polyline clip-path=\"url(#clip312)\" style=\"stroke:#000000; stroke-linecap:butt; stroke-linejoin:round; stroke-width:2; stroke-opacity:0.1; fill:none\" points=\"\n",
       "  1553.94,1486.45 1553.94,47.2441 \n",
       "  \"/>\n",
       "<polyline clip-path=\"url(#clip312)\" style=\"stroke:#000000; stroke-linecap:butt; stroke-linejoin:round; stroke-width:2; stroke-opacity:0.1; fill:none\" points=\"\n",
       "  2014.35,1486.45 2014.35,47.2441 \n",
       "  \"/>\n",
       "<polyline clip-path=\"url(#clip310)\" style=\"stroke:#000000; stroke-linecap:butt; stroke-linejoin:round; stroke-width:4; stroke-opacity:1; fill:none\" points=\"\n",
       "  156.598,1486.45 2352.76,1486.45 \n",
       "  \"/>\n",
       "<polyline clip-path=\"url(#clip310)\" style=\"stroke:#000000; stroke-linecap:butt; stroke-linejoin:round; stroke-width:4; stroke-opacity:1; fill:none\" points=\"\n",
       "  172.713,1486.45 172.713,1467.55 \n",
       "  \"/>\n",
       "<polyline clip-path=\"url(#clip310)\" style=\"stroke:#000000; stroke-linecap:butt; stroke-linejoin:round; stroke-width:4; stroke-opacity:1; fill:none\" points=\"\n",
       "  633.123,1486.45 633.123,1467.55 \n",
       "  \"/>\n",
       "<polyline clip-path=\"url(#clip310)\" style=\"stroke:#000000; stroke-linecap:butt; stroke-linejoin:round; stroke-width:4; stroke-opacity:1; fill:none\" points=\"\n",
       "  1093.53,1486.45 1093.53,1467.55 \n",
       "  \"/>\n",
       "<polyline clip-path=\"url(#clip310)\" style=\"stroke:#000000; stroke-linecap:butt; stroke-linejoin:round; stroke-width:4; stroke-opacity:1; fill:none\" points=\"\n",
       "  1553.94,1486.45 1553.94,1467.55 \n",
       "  \"/>\n",
       "<polyline clip-path=\"url(#clip310)\" style=\"stroke:#000000; stroke-linecap:butt; stroke-linejoin:round; stroke-width:4; stroke-opacity:1; fill:none\" points=\"\n",
       "  2014.35,1486.45 2014.35,1467.55 \n",
       "  \"/>\n",
       "<path clip-path=\"url(#clip310)\" d=\"M172.713 1517.37 Q169.102 1517.37 167.273 1520.93 Q165.467 1524.47 165.467 1531.6 Q165.467 1538.71 167.273 1542.27 Q169.102 1545.82 172.713 1545.82 Q176.347 1545.82 178.152 1542.27 Q179.981 1538.71 179.981 1531.6 Q179.981 1524.47 178.152 1520.93 Q176.347 1517.37 172.713 1517.37 M172.713 1513.66 Q178.523 1513.66 181.578 1518.27 Q184.657 1522.85 184.657 1531.6 Q184.657 1540.33 181.578 1544.94 Q178.523 1549.52 172.713 1549.52 Q166.902 1549.52 163.824 1544.94 Q160.768 1540.33 160.768 1531.6 Q160.768 1522.85 163.824 1518.27 Q166.902 1513.66 172.713 1513.66 Z\" fill=\"#000000\" fill-rule=\"evenodd\" fill-opacity=\"1\" /><path clip-path=\"url(#clip310)\" d=\"M592.73 1544.91 L600.369 1544.91 L600.369 1518.55 L592.058 1520.21 L592.058 1515.95 L600.322 1514.29 L604.998 1514.29 L604.998 1544.91 L612.637 1544.91 L612.637 1548.85 L592.73 1548.85 L592.73 1544.91 Z\" fill=\"#000000\" fill-rule=\"evenodd\" fill-opacity=\"1\" /><path clip-path=\"url(#clip310)\" d=\"M632.081 1517.37 Q628.47 1517.37 626.642 1520.93 Q624.836 1524.47 624.836 1531.6 Q624.836 1538.71 626.642 1542.27 Q628.47 1545.82 632.081 1545.82 Q635.716 1545.82 637.521 1542.27 Q639.35 1538.71 639.35 1531.6 Q639.35 1524.47 637.521 1520.93 Q635.716 1517.37 632.081 1517.37 M632.081 1513.66 Q637.892 1513.66 640.947 1518.27 Q644.026 1522.85 644.026 1531.6 Q644.026 1540.33 640.947 1544.94 Q637.892 1549.52 632.081 1549.52 Q626.271 1549.52 623.193 1544.94 Q620.137 1540.33 620.137 1531.6 Q620.137 1522.85 623.193 1518.27 Q626.271 1513.66 632.081 1513.66 Z\" fill=\"#000000\" fill-rule=\"evenodd\" fill-opacity=\"1\" /><path clip-path=\"url(#clip310)\" d=\"M662.243 1517.37 Q658.632 1517.37 656.803 1520.93 Q654.998 1524.47 654.998 1531.6 Q654.998 1538.71 656.803 1542.27 Q658.632 1545.82 662.243 1545.82 Q665.877 1545.82 667.683 1542.27 Q669.512 1538.71 669.512 1531.6 Q669.512 1524.47 667.683 1520.93 Q665.877 1517.37 662.243 1517.37 M662.243 1513.66 Q668.053 1513.66 671.109 1518.27 Q674.188 1522.85 674.188 1531.6 Q674.188 1540.33 671.109 1544.94 Q668.053 1549.52 662.243 1549.52 Q656.433 1549.52 653.354 1544.94 Q650.299 1540.33 650.299 1531.6 Q650.299 1522.85 653.354 1518.27 Q656.433 1513.66 662.243 1513.66 Z\" fill=\"#000000\" fill-rule=\"evenodd\" fill-opacity=\"1\" /><path clip-path=\"url(#clip310)\" d=\"M1057.23 1544.91 L1073.55 1544.91 L1073.55 1548.85 L1051.6 1548.85 L1051.6 1544.91 Q1054.26 1542.16 1058.85 1537.53 Q1063.45 1532.88 1064.63 1531.53 Q1066.88 1529.01 1067.76 1527.27 Q1068.66 1525.51 1068.66 1523.82 Q1068.66 1521.07 1066.72 1519.33 Q1064.8 1517.6 1061.69 1517.6 Q1059.49 1517.6 1057.04 1518.36 Q1054.61 1519.13 1051.83 1520.68 L1051.83 1515.95 Q1054.66 1514.82 1057.11 1514.24 Q1059.56 1513.66 1061.6 1513.66 Q1066.97 1513.66 1070.17 1516.35 Q1073.36 1519.03 1073.36 1523.52 Q1073.36 1525.65 1072.55 1527.57 Q1071.76 1529.47 1069.66 1532.07 Q1069.08 1532.74 1065.98 1535.95 Q1062.87 1539.15 1057.23 1544.91 Z\" fill=\"#000000\" fill-rule=\"evenodd\" fill-opacity=\"1\" /><path clip-path=\"url(#clip310)\" d=\"M1093.36 1517.37 Q1089.75 1517.37 1087.92 1520.93 Q1086.11 1524.47 1086.11 1531.6 Q1086.11 1538.71 1087.92 1542.27 Q1089.75 1545.82 1093.36 1545.82 Q1096.99 1545.82 1098.8 1542.27 Q1100.63 1538.71 1100.63 1531.6 Q1100.63 1524.47 1098.8 1520.93 Q1096.99 1517.37 1093.36 1517.37 M1093.36 1513.66 Q1099.17 1513.66 1102.23 1518.27 Q1105.3 1522.85 1105.3 1531.6 Q1105.3 1540.33 1102.23 1544.94 Q1099.17 1549.52 1093.36 1549.52 Q1087.55 1549.52 1084.47 1544.94 Q1081.42 1540.33 1081.42 1531.6 Q1081.42 1522.85 1084.47 1518.27 Q1087.55 1513.66 1093.36 1513.66 Z\" fill=\"#000000\" fill-rule=\"evenodd\" fill-opacity=\"1\" /><path clip-path=\"url(#clip310)\" d=\"M1123.52 1517.37 Q1119.91 1517.37 1118.08 1520.93 Q1116.28 1524.47 1116.28 1531.6 Q1116.28 1538.71 1118.08 1542.27 Q1119.91 1545.82 1123.52 1545.82 Q1127.16 1545.82 1128.96 1542.27 Q1130.79 1538.71 1130.79 1531.6 Q1130.79 1524.47 1128.96 1520.93 Q1127.16 1517.37 1123.52 1517.37 M1123.52 1513.66 Q1129.33 1513.66 1132.39 1518.27 Q1135.47 1522.85 1135.47 1531.6 Q1135.47 1540.33 1132.39 1544.94 Q1129.33 1549.52 1123.52 1549.52 Q1117.71 1549.52 1114.63 1544.94 Q1111.58 1540.33 1111.58 1531.6 Q1111.58 1522.85 1114.63 1518.27 Q1117.71 1513.66 1123.52 1513.66 Z\" fill=\"#000000\" fill-rule=\"evenodd\" fill-opacity=\"1\" /><path clip-path=\"url(#clip310)\" d=\"M1527.71 1530.21 Q1531.06 1530.93 1532.94 1533.2 Q1534.84 1535.47 1534.84 1538.8 Q1534.84 1543.92 1531.32 1546.72 Q1527.8 1549.52 1521.32 1549.52 Q1519.14 1549.52 1516.83 1549.08 Q1514.53 1548.66 1512.08 1547.81 L1512.08 1543.29 Q1514.03 1544.43 1516.34 1545.01 Q1518.65 1545.58 1521.18 1545.58 Q1525.58 1545.58 1527.87 1543.85 Q1530.18 1542.11 1530.18 1538.8 Q1530.18 1535.75 1528.03 1534.03 Q1525.9 1532.3 1522.08 1532.3 L1518.05 1532.3 L1518.05 1528.45 L1522.27 1528.45 Q1525.71 1528.45 1527.54 1527.09 Q1529.37 1525.7 1529.37 1523.11 Q1529.37 1520.45 1527.47 1519.03 Q1525.6 1517.6 1522.08 1517.6 Q1520.16 1517.6 1517.96 1518.01 Q1515.76 1518.43 1513.12 1519.31 L1513.12 1515.14 Q1515.78 1514.4 1518.1 1514.03 Q1520.44 1513.66 1522.5 1513.66 Q1527.82 1513.66 1530.92 1516.09 Q1534.02 1518.5 1534.02 1522.62 Q1534.02 1525.49 1532.38 1527.48 Q1530.74 1529.45 1527.71 1530.21 Z\" fill=\"#000000\" fill-rule=\"evenodd\" fill-opacity=\"1\" /><path clip-path=\"url(#clip310)\" d=\"M1553.7 1517.37 Q1550.09 1517.37 1548.26 1520.93 Q1546.46 1524.47 1546.46 1531.6 Q1546.46 1538.71 1548.26 1542.27 Q1550.09 1545.82 1553.7 1545.82 Q1557.34 1545.82 1559.14 1542.27 Q1560.97 1538.71 1560.97 1531.6 Q1560.97 1524.47 1559.14 1520.93 Q1557.34 1517.37 1553.7 1517.37 M1553.7 1513.66 Q1559.51 1513.66 1562.57 1518.27 Q1565.65 1522.85 1565.65 1531.6 Q1565.65 1540.33 1562.57 1544.94 Q1559.51 1549.52 1553.7 1549.52 Q1547.89 1549.52 1544.81 1544.94 Q1541.76 1540.33 1541.76 1531.6 Q1541.76 1522.85 1544.81 1518.27 Q1547.89 1513.66 1553.7 1513.66 Z\" fill=\"#000000\" fill-rule=\"evenodd\" fill-opacity=\"1\" /><path clip-path=\"url(#clip310)\" d=\"M1583.86 1517.37 Q1580.25 1517.37 1578.42 1520.93 Q1576.62 1524.47 1576.62 1531.6 Q1576.62 1538.71 1578.42 1542.27 Q1580.25 1545.82 1583.86 1545.82 Q1587.5 1545.82 1589.3 1542.27 Q1591.13 1538.71 1591.13 1531.6 Q1591.13 1524.47 1589.3 1520.93 Q1587.5 1517.37 1583.86 1517.37 M1583.86 1513.66 Q1589.67 1513.66 1592.73 1518.27 Q1595.81 1522.85 1595.81 1531.6 Q1595.81 1540.33 1592.73 1544.94 Q1589.67 1549.52 1583.86 1549.52 Q1578.05 1549.52 1574.97 1544.94 Q1571.92 1540.33 1571.92 1531.6 Q1571.92 1522.85 1574.97 1518.27 Q1578.05 1513.66 1583.86 1513.66 Z\" fill=\"#000000\" fill-rule=\"evenodd\" fill-opacity=\"1\" /><path clip-path=\"url(#clip310)\" d=\"M1987.44 1518.36 L1975.64 1536.81 L1987.44 1536.81 L1987.44 1518.36 M1986.22 1514.29 L1992.1 1514.29 L1992.1 1536.81 L1997.03 1536.81 L1997.03 1540.7 L1992.1 1540.7 L1992.1 1548.85 L1987.44 1548.85 L1987.44 1540.7 L1971.84 1540.7 L1971.84 1536.19 L1986.22 1514.29 Z\" fill=\"#000000\" fill-rule=\"evenodd\" fill-opacity=\"1\" /><path clip-path=\"url(#clip310)\" d=\"M2014.76 1517.37 Q2011.15 1517.37 2009.32 1520.93 Q2007.51 1524.47 2007.51 1531.6 Q2007.51 1538.71 2009.32 1542.27 Q2011.15 1545.82 2014.76 1545.82 Q2018.39 1545.82 2020.2 1542.27 Q2022.03 1538.71 2022.03 1531.6 Q2022.03 1524.47 2020.2 1520.93 Q2018.39 1517.37 2014.76 1517.37 M2014.76 1513.66 Q2020.57 1513.66 2023.63 1518.27 Q2026.7 1522.85 2026.7 1531.6 Q2026.7 1540.33 2023.63 1544.94 Q2020.57 1549.52 2014.76 1549.52 Q2008.95 1549.52 2005.87 1544.94 Q2002.81 1540.33 2002.81 1531.6 Q2002.81 1522.85 2005.87 1518.27 Q2008.95 1513.66 2014.76 1513.66 Z\" fill=\"#000000\" fill-rule=\"evenodd\" fill-opacity=\"1\" /><path clip-path=\"url(#clip310)\" d=\"M2044.92 1517.37 Q2041.31 1517.37 2039.48 1520.93 Q2037.68 1524.47 2037.68 1531.6 Q2037.68 1538.71 2039.48 1542.27 Q2041.31 1545.82 2044.92 1545.82 Q2048.56 1545.82 2050.36 1542.27 Q2052.19 1538.71 2052.19 1531.6 Q2052.19 1524.47 2050.36 1520.93 Q2048.56 1517.37 2044.92 1517.37 M2044.92 1513.66 Q2050.73 1513.66 2053.79 1518.27 Q2056.87 1522.85 2056.87 1531.6 Q2056.87 1540.33 2053.79 1544.94 Q2050.73 1549.52 2044.92 1549.52 Q2039.11 1549.52 2036.03 1544.94 Q2032.98 1540.33 2032.98 1531.6 Q2032.98 1522.85 2036.03 1518.27 Q2039.11 1513.66 2044.92 1513.66 Z\" fill=\"#000000\" fill-rule=\"evenodd\" fill-opacity=\"1\" /><polyline clip-path=\"url(#clip312)\" style=\"stroke:#000000; stroke-linecap:butt; stroke-linejoin:round; stroke-width:2; stroke-opacity:0.1; fill:none\" points=\"\n",
       "  156.598,1440.07 2352.76,1440.07 \n",
       "  \"/>\n",
       "<polyline clip-path=\"url(#clip312)\" style=\"stroke:#000000; stroke-linecap:butt; stroke-linejoin:round; stroke-width:2; stroke-opacity:0.1; fill:none\" points=\"\n",
       "  156.598,1149.92 2352.76,1149.92 \n",
       "  \"/>\n",
       "<polyline clip-path=\"url(#clip312)\" style=\"stroke:#000000; stroke-linecap:butt; stroke-linejoin:round; stroke-width:2; stroke-opacity:0.1; fill:none\" points=\"\n",
       "  156.598,859.774 2352.76,859.774 \n",
       "  \"/>\n",
       "<polyline clip-path=\"url(#clip312)\" style=\"stroke:#000000; stroke-linecap:butt; stroke-linejoin:round; stroke-width:2; stroke-opacity:0.1; fill:none\" points=\"\n",
       "  156.598,569.625 2352.76,569.625 \n",
       "  \"/>\n",
       "<polyline clip-path=\"url(#clip312)\" style=\"stroke:#000000; stroke-linecap:butt; stroke-linejoin:round; stroke-width:2; stroke-opacity:0.1; fill:none\" points=\"\n",
       "  156.598,279.475 2352.76,279.475 \n",
       "  \"/>\n",
       "<polyline clip-path=\"url(#clip310)\" style=\"stroke:#000000; stroke-linecap:butt; stroke-linejoin:round; stroke-width:4; stroke-opacity:1; fill:none\" points=\"\n",
       "  156.598,1486.45 156.598,47.2441 \n",
       "  \"/>\n",
       "<polyline clip-path=\"url(#clip310)\" style=\"stroke:#000000; stroke-linecap:butt; stroke-linejoin:round; stroke-width:4; stroke-opacity:1; fill:none\" points=\"\n",
       "  156.598,1440.07 175.496,1440.07 \n",
       "  \"/>\n",
       "<polyline clip-path=\"url(#clip310)\" style=\"stroke:#000000; stroke-linecap:butt; stroke-linejoin:round; stroke-width:4; stroke-opacity:1; fill:none\" points=\"\n",
       "  156.598,1149.92 175.496,1149.92 \n",
       "  \"/>\n",
       "<polyline clip-path=\"url(#clip310)\" style=\"stroke:#000000; stroke-linecap:butt; stroke-linejoin:round; stroke-width:4; stroke-opacity:1; fill:none\" points=\"\n",
       "  156.598,859.774 175.496,859.774 \n",
       "  \"/>\n",
       "<polyline clip-path=\"url(#clip310)\" style=\"stroke:#000000; stroke-linecap:butt; stroke-linejoin:round; stroke-width:4; stroke-opacity:1; fill:none\" points=\"\n",
       "  156.598,569.625 175.496,569.625 \n",
       "  \"/>\n",
       "<polyline clip-path=\"url(#clip310)\" style=\"stroke:#000000; stroke-linecap:butt; stroke-linejoin:round; stroke-width:4; stroke-opacity:1; fill:none\" points=\"\n",
       "  156.598,279.475 175.496,279.475 \n",
       "  \"/>\n",
       "<path clip-path=\"url(#clip310)\" d=\"M63.4226 1425.87 Q59.8115 1425.87 57.9828 1429.44 Q56.1773 1432.98 56.1773 1440.11 Q56.1773 1447.22 57.9828 1450.78 Q59.8115 1454.32 63.4226 1454.32 Q67.0569 1454.32 68.8624 1450.78 Q70.6911 1447.22 70.6911 1440.11 Q70.6911 1432.98 68.8624 1429.44 Q67.0569 1425.87 63.4226 1425.87 M63.4226 1422.17 Q69.2328 1422.17 72.2883 1426.78 Q75.367 1431.36 75.367 1440.11 Q75.367 1448.84 72.2883 1453.44 Q69.2328 1458.03 63.4226 1458.03 Q57.6125 1458.03 54.5338 1453.44 Q51.4782 1448.84 51.4782 1440.11 Q51.4782 1431.36 54.5338 1426.78 Q57.6125 1422.17 63.4226 1422.17 Z\" fill=\"#000000\" fill-rule=\"evenodd\" fill-opacity=\"1\" /><path clip-path=\"url(#clip310)\" d=\"M83.5845 1451.47 L88.4688 1451.47 L88.4688 1457.35 L83.5845 1457.35 L83.5845 1451.47 Z\" fill=\"#000000\" fill-rule=\"evenodd\" fill-opacity=\"1\" /><path clip-path=\"url(#clip310)\" d=\"M108.654 1425.87 Q105.043 1425.87 103.214 1429.44 Q101.409 1432.98 101.409 1440.11 Q101.409 1447.22 103.214 1450.78 Q105.043 1454.32 108.654 1454.32 Q112.288 1454.32 114.094 1450.78 Q115.922 1447.22 115.922 1440.11 Q115.922 1432.98 114.094 1429.44 Q112.288 1425.87 108.654 1425.87 M108.654 1422.17 Q114.464 1422.17 117.52 1426.78 Q120.598 1431.36 120.598 1440.11 Q120.598 1448.84 117.52 1453.44 Q114.464 1458.03 108.654 1458.03 Q102.844 1458.03 99.765 1453.44 Q96.7095 1448.84 96.7095 1440.11 Q96.7095 1431.36 99.765 1426.78 Q102.844 1422.17 108.654 1422.17 Z\" fill=\"#000000\" fill-rule=\"evenodd\" fill-opacity=\"1\" /><path clip-path=\"url(#clip310)\" d=\"M65.0198 1135.72 Q61.4087 1135.72 59.58 1139.29 Q57.7745 1142.83 57.7745 1149.96 Q57.7745 1157.07 59.58 1160.63 Q61.4087 1164.17 65.0198 1164.17 Q68.6541 1164.17 70.4596 1160.63 Q72.2883 1157.07 72.2883 1149.96 Q72.2883 1142.83 70.4596 1139.29 Q68.6541 1135.72 65.0198 1135.72 M65.0198 1132.02 Q70.83 1132.02 73.8855 1136.63 Q76.9642 1141.21 76.9642 1149.96 Q76.9642 1158.69 73.8855 1163.29 Q70.83 1167.88 65.0198 1167.88 Q59.2097 1167.88 56.131 1163.29 Q53.0754 1158.69 53.0754 1149.96 Q53.0754 1141.21 56.131 1136.63 Q59.2097 1132.02 65.0198 1132.02 Z\" fill=\"#000000\" fill-rule=\"evenodd\" fill-opacity=\"1\" /><path clip-path=\"url(#clip310)\" d=\"M85.1818 1161.32 L90.066 1161.32 L90.066 1167.2 L85.1818 1167.2 L85.1818 1161.32 Z\" fill=\"#000000\" fill-rule=\"evenodd\" fill-opacity=\"1\" /><path clip-path=\"url(#clip310)\" d=\"M104.279 1163.27 L120.598 1163.27 L120.598 1167.2 L98.6539 1167.2 L98.6539 1163.27 Q101.316 1160.51 105.899 1155.88 Q110.506 1151.23 111.686 1149.89 Q113.932 1147.37 114.811 1145.63 Q115.714 1143.87 115.714 1142.18 Q115.714 1139.43 113.77 1137.69 Q111.848 1135.95 108.746 1135.95 Q106.547 1135.95 104.094 1136.72 Q101.663 1137.48 98.8854 1139.03 L98.8854 1134.31 Q101.709 1133.18 104.163 1132.6 Q106.617 1132.02 108.654 1132.02 Q114.024 1132.02 117.219 1134.7 Q120.413 1137.39 120.413 1141.88 Q120.413 1144.01 119.603 1145.93 Q118.816 1147.83 116.709 1150.42 Q116.131 1151.09 113.029 1154.31 Q109.927 1157.51 104.279 1163.27 Z\" fill=\"#000000\" fill-rule=\"evenodd\" fill-opacity=\"1\" /><path clip-path=\"url(#clip310)\" d=\"M62.9365 845.573 Q59.3254 845.573 57.4967 849.138 Q55.6912 852.68 55.6912 859.809 Q55.6912 866.916 57.4967 870.48 Q59.3254 874.022 62.9365 874.022 Q66.5707 874.022 68.3763 870.48 Q70.205 866.916 70.205 859.809 Q70.205 852.68 68.3763 849.138 Q66.5707 845.573 62.9365 845.573 M62.9365 841.869 Q68.7467 841.869 71.8022 846.476 Q74.8809 851.059 74.8809 859.809 Q74.8809 868.536 71.8022 873.142 Q68.7467 877.726 62.9365 877.726 Q57.1264 877.726 54.0477 873.142 Q50.9921 868.536 50.9921 859.809 Q50.9921 851.059 54.0477 846.476 Q57.1264 841.869 62.9365 841.869 Z\" fill=\"#000000\" fill-rule=\"evenodd\" fill-opacity=\"1\" /><path clip-path=\"url(#clip310)\" d=\"M83.0984 871.175 L87.9827 871.175 L87.9827 877.054 L83.0984 877.054 L83.0984 871.175 Z\" fill=\"#000000\" fill-rule=\"evenodd\" fill-opacity=\"1\" /><path clip-path=\"url(#clip310)\" d=\"M111.015 846.569 L99.2095 865.018 L111.015 865.018 L111.015 846.569 M109.788 842.494 L115.668 842.494 L115.668 865.018 L120.598 865.018 L120.598 868.906 L115.668 868.906 L115.668 877.054 L111.015 877.054 L111.015 868.906 L95.4132 868.906 L95.4132 864.393 L109.788 842.494 Z\" fill=\"#000000\" fill-rule=\"evenodd\" fill-opacity=\"1\" /><path clip-path=\"url(#clip310)\" d=\"M63.2606 555.423 Q59.6495 555.423 57.8208 558.988 Q56.0152 562.53 56.0152 569.66 Q56.0152 576.766 57.8208 580.331 Q59.6495 583.872 63.2606 583.872 Q66.8948 583.872 68.7004 580.331 Q70.5291 576.766 70.5291 569.66 Q70.5291 562.53 68.7004 558.988 Q66.8948 555.423 63.2606 555.423 M63.2606 551.72 Q69.0707 551.72 72.1263 556.326 Q75.205 560.91 75.205 569.66 Q75.205 578.386 72.1263 582.993 Q69.0707 587.576 63.2606 587.576 Q57.4504 587.576 54.3717 582.993 Q51.3162 578.386 51.3162 569.66 Q51.3162 560.91 54.3717 556.326 Q57.4504 551.72 63.2606 551.72 Z\" fill=\"#000000\" fill-rule=\"evenodd\" fill-opacity=\"1\" /><path clip-path=\"url(#clip310)\" d=\"M83.4225 581.025 L88.3067 581.025 L88.3067 586.905 L83.4225 586.905 L83.4225 581.025 Z\" fill=\"#000000\" fill-rule=\"evenodd\" fill-opacity=\"1\" /><path clip-path=\"url(#clip310)\" d=\"M109.071 567.761 Q105.922 567.761 104.071 569.914 Q102.242 572.067 102.242 575.817 Q102.242 579.544 104.071 581.72 Q105.922 583.872 109.071 583.872 Q112.219 583.872 114.047 581.72 Q115.899 579.544 115.899 575.817 Q115.899 572.067 114.047 569.914 Q112.219 567.761 109.071 567.761 M118.353 553.109 L118.353 557.368 Q116.594 556.535 114.788 556.095 Q113.006 555.655 111.246 555.655 Q106.617 555.655 104.163 558.78 Q101.733 561.905 101.385 568.224 Q102.751 566.21 104.811 565.146 Q106.871 564.058 109.348 564.058 Q114.557 564.058 117.566 567.229 Q120.598 570.377 120.598 575.817 Q120.598 581.141 117.45 584.359 Q114.302 587.576 109.071 587.576 Q103.075 587.576 99.9039 582.993 Q96.7326 578.386 96.7326 569.66 Q96.7326 561.465 100.621 556.604 Q104.51 551.72 111.061 551.72 Q112.82 551.72 114.603 552.067 Q116.408 552.414 118.353 553.109 Z\" fill=\"#000000\" fill-rule=\"evenodd\" fill-opacity=\"1\" /><path clip-path=\"url(#clip310)\" d=\"M63.5152 265.274 Q59.9041 265.274 58.0754 268.839 Q56.2699 272.38 56.2699 279.51 Q56.2699 286.616 58.0754 290.181 Q59.9041 293.723 63.5152 293.723 Q67.1494 293.723 68.955 290.181 Q70.7837 286.616 70.7837 279.51 Q70.7837 272.38 68.955 268.839 Q67.1494 265.274 63.5152 265.274 M63.5152 261.57 Q69.3254 261.57 72.3809 266.177 Q75.4596 270.76 75.4596 279.51 Q75.4596 288.237 72.3809 292.843 Q69.3254 297.426 63.5152 297.426 Q57.7051 297.426 54.6264 292.843 Q51.5708 288.237 51.5708 279.51 Q51.5708 270.76 54.6264 266.177 Q57.7051 261.57 63.5152 261.57 Z\" fill=\"#000000\" fill-rule=\"evenodd\" fill-opacity=\"1\" /><path clip-path=\"url(#clip310)\" d=\"M83.6771 290.875 L88.5614 290.875 L88.5614 296.755 L83.6771 296.755 L83.6771 290.875 Z\" fill=\"#000000\" fill-rule=\"evenodd\" fill-opacity=\"1\" /><path clip-path=\"url(#clip310)\" d=\"M108.746 280.343 Q105.413 280.343 103.492 282.126 Q101.594 283.908 101.594 287.033 Q101.594 290.158 103.492 291.94 Q105.413 293.723 108.746 293.723 Q112.08 293.723 114.001 291.94 Q115.922 290.135 115.922 287.033 Q115.922 283.908 114.001 282.126 Q112.103 280.343 108.746 280.343 M104.071 278.352 Q101.061 277.612 99.3715 275.551 Q97.7048 273.491 97.7048 270.528 Q97.7048 266.385 100.645 263.977 Q103.608 261.57 108.746 261.57 Q113.908 261.57 116.848 263.977 Q119.788 266.385 119.788 270.528 Q119.788 273.491 118.098 275.551 Q116.432 277.612 113.445 278.352 Q116.825 279.139 118.7 281.431 Q120.598 283.723 120.598 287.033 Q120.598 292.056 117.52 294.741 Q114.464 297.426 108.746 297.426 Q103.029 297.426 99.9502 294.741 Q96.8947 292.056 96.8947 287.033 Q96.8947 283.723 98.7928 281.431 Q100.691 279.139 104.071 278.352 M102.358 270.968 Q102.358 273.653 104.024 275.158 Q105.714 276.663 108.746 276.663 Q111.756 276.663 113.445 275.158 Q115.158 273.653 115.158 270.968 Q115.158 268.283 113.445 266.778 Q111.756 265.274 108.746 265.274 Q105.714 265.274 104.024 266.778 Q102.358 268.283 102.358 270.968 Z\" fill=\"#000000\" fill-rule=\"evenodd\" fill-opacity=\"1\" /><circle clip-path=\"url(#clip312)\" cx=\"218.754\" cy=\"1440.07\" r=\"14\" fill=\"#009af9\" fill-rule=\"evenodd\" fill-opacity=\"1\" stroke=\"#000000\" stroke-opacity=\"1\" stroke-width=\"3.2\"/>\n",
       "<circle clip-path=\"url(#clip312)\" cx=\"633.123\" cy=\"1431.37\" r=\"14\" fill=\"#009af9\" fill-rule=\"evenodd\" fill-opacity=\"1\" stroke=\"#000000\" stroke-opacity=\"1\" stroke-width=\"3.2\"/>\n",
       "<circle clip-path=\"url(#clip312)\" cx=\"1047.49\" cy=\"1367.54\" r=\"14\" fill=\"#009af9\" fill-rule=\"evenodd\" fill-opacity=\"1\" stroke=\"#000000\" stroke-opacity=\"1\" stroke-width=\"3.2\"/>\n",
       "<circle clip-path=\"url(#clip312)\" cx=\"1461.86\" cy=\"1197.8\" r=\"14\" fill=\"#009af9\" fill-rule=\"evenodd\" fill-opacity=\"1\" stroke=\"#000000\" stroke-opacity=\"1\" stroke-width=\"3.2\"/>\n",
       "<circle clip-path=\"url(#clip312)\" cx=\"1876.23\" cy=\"845.267\" r=\"14\" fill=\"#009af9\" fill-rule=\"evenodd\" fill-opacity=\"1\" stroke=\"#000000\" stroke-opacity=\"1\" stroke-width=\"3.2\"/>\n",
       "<circle clip-path=\"url(#clip312)\" cx=\"2290.6\" cy=\"87.9763\" r=\"14\" fill=\"#009af9\" fill-rule=\"evenodd\" fill-opacity=\"1\" stroke=\"#000000\" stroke-opacity=\"1\" stroke-width=\"3.2\"/>\n",
       "<polyline clip-path=\"url(#clip312)\" style=\"stroke:#e26f46; stroke-linecap:butt; stroke-linejoin:round; stroke-width:4; stroke-opacity:1; fill:none\" points=\"\n",
       "  218.754,1445.72 239.472,1442.74 260.191,1440 280.909,1437.48 301.628,1435.17 322.346,1433.06 343.064,1431.13 363.783,1429.36 384.501,1427.75 405.22,1426.28 \n",
       "  425.938,1424.93 446.657,1423.7 467.375,1422.56 488.094,1421.51 508.812,1420.54 529.531,1419.61 550.249,1418.74 570.968,1417.89 591.686,1417.06 612.405,1416.23 \n",
       "  633.123,1415.39 653.841,1414.52 674.56,1413.62 695.278,1412.66 715.997,1411.64 736.715,1410.54 757.434,1409.34 778.152,1408.03 798.871,1406.61 819.589,1405.05 \n",
       "  840.308,1403.34 861.026,1401.47 881.745,1399.42 902.463,1397.18 923.182,1394.74 943.9,1392.08 964.619,1389.19 985.337,1386.06 1006.06,1382.66 1026.77,1379 \n",
       "  1047.49,1375.04 1068.21,1370.79 1088.93,1366.23 1109.65,1361.33 1130.37,1356.1 1151.08,1350.51 1171.8,1344.55 1192.52,1338.21 1213.24,1331.48 1233.96,1324.33 \n",
       "  1254.68,1316.76 1275.4,1308.75 1296.11,1300.3 1316.83,1291.37 1337.55,1281.97 1358.27,1272.08 1378.99,1261.68 1399.71,1250.76 1420.42,1239.31 1441.14,1227.31 \n",
       "  1461.86,1214.75 1482.58,1201.61 1503.3,1187.89 1524.02,1173.56 1544.74,1158.62 1565.45,1143.05 1586.17,1126.83 1606.89,1109.96 1627.61,1092.42 1648.33,1074.19 \n",
       "  1669.05,1055.26 1689.76,1035.62 1710.48,1015.26 1731.2,994.156 1751.92,972.299 1772.64,949.674 1793.36,926.269 1814.08,902.069 1834.79,877.061 1855.51,851.231 \n",
       "  1876.23,824.565 1896.95,797.049 1917.67,768.671 1938.39,739.415 1959.11,709.268 1979.82,678.217 2000.54,646.247 2021.26,613.346 2041.98,579.499 2062.7,544.692 \n",
       "  2083.42,508.912 2104.13,472.145 2124.85,434.378 2145.57,395.596 2166.29,355.785 2187.01,314.933 2207.73,273.025 2228.45,230.048 2249.16,185.988 2269.88,140.83 \n",
       "  2290.6,94.5622 \n",
       "  \"/>\n",
       "<path clip-path=\"url(#clip310)\" d=\"\n",
       "M1883.33 250.738 L2279.55 250.738 L2279.55 95.2176 L1883.33 95.2176  Z\n",
       "  \" fill=\"#ffffff\" fill-rule=\"evenodd\" fill-opacity=\"1\"/>\n",
       "<polyline clip-path=\"url(#clip310)\" style=\"stroke:#000000; stroke-linecap:butt; stroke-linejoin:round; stroke-width:4; stroke-opacity:1; fill:none\" points=\"\n",
       "  1883.33,250.738 2279.55,250.738 2279.55,95.2176 1883.33,95.2176 1883.33,250.738 \n",
       "  \"/>\n",
       "<circle clip-path=\"url(#clip310)\" cx=\"1980.94\" cy=\"147.058\" r=\"23\" fill=\"#009af9\" fill-rule=\"evenodd\" fill-opacity=\"1\" stroke=\"#000000\" stroke-opacity=\"1\" stroke-width=\"5.12\"/>\n",
       "<path clip-path=\"url(#clip310)\" d=\"M2091.74 164.338 L2078.55 129.778 L2083.43 129.778 L2094.38 158.875 L2105.35 129.778 L2110.22 129.778 L2097.04 164.338 L2091.74 164.338 Z\" fill=\"#000000\" fill-rule=\"evenodd\" fill-opacity=\"1\" /><path clip-path=\"url(#clip310)\" d=\"M2123.18 151.305 Q2118.02 151.305 2116.03 152.486 Q2114.03 153.666 2114.03 156.514 Q2114.03 158.782 2115.52 160.125 Q2117.02 161.444 2119.59 161.444 Q2123.13 161.444 2125.26 158.944 Q2127.41 156.421 2127.41 152.254 L2127.41 151.305 L2123.18 151.305 M2131.67 149.546 L2131.67 164.338 L2127.41 164.338 L2127.41 160.402 Q2125.96 162.763 2123.78 163.898 Q2121.6 165.009 2118.46 165.009 Q2114.47 165.009 2112.11 162.787 Q2109.78 160.541 2109.78 156.791 Q2109.78 152.416 2112.69 150.194 Q2115.63 147.972 2121.44 147.972 L2127.41 147.972 L2127.41 147.555 Q2127.41 144.615 2125.47 143.018 Q2123.55 141.398 2120.05 141.398 Q2117.83 141.398 2115.72 141.93 Q2113.62 142.463 2111.67 143.527 L2111.67 139.592 Q2114.01 138.69 2116.21 138.25 Q2118.41 137.787 2120.49 137.787 Q2126.12 137.787 2128.9 140.703 Q2131.67 143.62 2131.67 149.546 Z\" fill=\"#000000\" fill-rule=\"evenodd\" fill-opacity=\"1\" /><path clip-path=\"url(#clip310)\" d=\"M2140.45 128.319 L2144.71 128.319 L2144.71 164.338 L2140.45 164.338 L2140.45 128.319 Z\" fill=\"#000000\" fill-rule=\"evenodd\" fill-opacity=\"1\" /><path clip-path=\"url(#clip310)\" d=\"M2153.18 154.106 L2153.18 138.412 L2157.44 138.412 L2157.44 153.944 Q2157.44 157.625 2158.87 159.476 Q2160.31 161.305 2163.18 161.305 Q2166.63 161.305 2168.62 159.106 Q2170.63 156.907 2170.63 153.111 L2170.63 138.412 L2174.89 138.412 L2174.89 164.338 L2170.63 164.338 L2170.63 160.356 Q2169.08 162.717 2167.02 163.875 Q2164.98 165.009 2162.28 165.009 Q2157.81 165.009 2155.49 162.231 Q2153.18 159.453 2153.18 154.106 M2163.9 137.787 L2163.9 137.787 Z\" fill=\"#000000\" fill-rule=\"evenodd\" fill-opacity=\"1\" /><path clip-path=\"url(#clip310)\" d=\"M2205.84 150.31 L2205.84 152.393 L2186.26 152.393 Q2186.53 156.791 2188.9 159.106 Q2191.28 161.398 2195.52 161.398 Q2197.97 161.398 2200.26 160.796 Q2202.58 160.194 2204.84 158.99 L2204.84 163.018 Q2202.55 163.99 2200.15 164.5 Q2197.74 165.009 2195.26 165.009 Q2189.06 165.009 2185.42 161.398 Q2181.81 157.787 2181.81 151.629 Q2181.81 145.264 2185.24 141.537 Q2188.69 137.787 2194.52 137.787 Q2199.75 137.787 2202.78 141.166 Q2205.84 144.523 2205.84 150.31 M2201.58 149.06 Q2201.53 145.565 2199.61 143.481 Q2197.71 141.398 2194.57 141.398 Q2191 141.398 2188.85 143.412 Q2186.72 145.426 2186.4 149.083 L2201.58 149.06 Z\" fill=\"#000000\" fill-rule=\"evenodd\" fill-opacity=\"1\" /><path clip-path=\"url(#clip310)\" d=\"M2229.36 139.176 L2229.36 143.203 Q2227.55 142.277 2225.61 141.815 Q2223.66 141.352 2221.58 141.352 Q2218.41 141.352 2216.81 142.324 Q2215.24 143.296 2215.24 145.24 Q2215.24 146.722 2216.37 147.578 Q2217.51 148.412 2220.93 149.176 L2222.39 149.5 Q2226.93 150.472 2228.83 152.254 Q2230.75 154.014 2230.75 157.185 Q2230.75 160.796 2227.88 162.902 Q2225.03 165.009 2220.03 165.009 Q2217.95 165.009 2215.68 164.592 Q2213.43 164.199 2210.93 163.388 L2210.93 158.99 Q2213.29 160.217 2215.59 160.842 Q2217.88 161.444 2220.12 161.444 Q2223.13 161.444 2224.75 160.426 Q2226.37 159.384 2226.37 157.509 Q2226.37 155.773 2225.19 154.847 Q2224.03 153.921 2220.08 153.064 L2218.59 152.717 Q2214.64 151.884 2212.88 150.171 Q2211.12 148.435 2211.12 145.426 Q2211.12 141.768 2213.71 139.778 Q2216.3 137.787 2221.07 137.787 Q2223.43 137.787 2225.52 138.134 Q2227.6 138.481 2229.36 139.176 Z\" fill=\"#000000\" fill-rule=\"evenodd\" fill-opacity=\"1\" /><polyline clip-path=\"url(#clip310)\" style=\"stroke:#e26f46; stroke-linecap:butt; stroke-linejoin:round; stroke-width:4; stroke-opacity:1; fill:none\" points=\"\n",
       "  1907.74,198.898 2054.15,198.898 \n",
       "  \"/>\n",
       "<path clip-path=\"url(#clip310)\" d=\"M2078.55 181.618 L2098.41 181.618 L2098.41 185.553 L2083.22 185.553 L2083.22 195.738 L2096.93 195.738 L2096.93 199.673 L2083.22 199.673 L2083.22 216.178 L2078.55 216.178 L2078.55 181.618 Z\" fill=\"#000000\" fill-rule=\"evenodd\" fill-opacity=\"1\" /><path clip-path=\"url(#clip310)\" d=\"M2102.18 190.252 L2106.44 190.252 L2106.44 216.178 L2102.18 216.178 L2102.18 190.252 M2102.18 180.159 L2106.44 180.159 L2106.44 185.553 L2102.18 185.553 L2102.18 180.159 Z\" fill=\"#000000\" fill-rule=\"evenodd\" fill-opacity=\"1\" /><path clip-path=\"url(#clip310)\" d=\"M2119.57 182.891 L2119.57 190.252 L2128.34 190.252 L2128.34 193.562 L2119.57 193.562 L2119.57 207.636 Q2119.57 210.807 2120.42 211.71 Q2121.3 212.613 2123.97 212.613 L2128.34 212.613 L2128.34 216.178 L2123.97 216.178 Q2119.03 216.178 2117.16 214.349 Q2115.28 212.497 2115.28 207.636 L2115.28 193.562 L2112.16 193.562 L2112.16 190.252 L2115.28 190.252 L2115.28 182.891 L2119.57 182.891 Z\" fill=\"#000000\" fill-rule=\"evenodd\" fill-opacity=\"1\" /></svg>\n"
      ]
     },
     "execution_count": 9,
     "metadata": {},
     "output_type": "execute_result"
    }
   ],
   "source": [
    "scatter(aggregated.Size, aggregated.Time_mean, label=\"Values\")\n",
    "\n",
    "fit_f = fit(aggregated.Size, aggregated.Time_mean, 3)\n",
    "plot!(fit_f, extrema(aggregated.Size)..., label=\"Fit\")"
   ]
  },
  {
   "cell_type": "code",
   "execution_count": 10,
   "id": "67a760b6",
   "metadata": {
    "pycharm": {
     "name": "#%%\n"
    }
   },
   "outputs": [
    {
     "data": {
      "text/plain": [
       "6×4 Matrix{Float64}:\n",
       " 1000.0          100.0   10.0  1.0\n",
       "    1.0e6      10000.0  100.0  1.0\n",
       "    6.859e6    36100.0  190.0  1.0\n",
       "    2.1952e7   78400.0  280.0  1.0\n",
       "    5.0653e7  136900.0  370.0  1.0\n",
       "    9.7336e7  211600.0  460.0  1.0"
      ]
     },
     "metadata": {},
     "output_type": "display_data"
    }
   ],
   "source": [
    "len = length(aggregated.Size)\n",
    "\n",
    "a = ones(len, 4)\n",
    "for i in 1:1:4\n",
    "    a[:, i] = aggregated.Size.^(4 - i)\n",
    "end\n",
    "a[:, 4] = ones(len)\n",
    "display(a)"
   ]
  },
  {
   "cell_type": "code",
   "execution_count": 11,
   "id": "45545cd0",
   "metadata": {
    "pycharm": {
     "name": "#%%\n"
    }
   },
   "outputs": [
    {
     "data": {
      "image/svg+xml": [
       "<?xml version=\"1.0\" encoding=\"utf-8\"?>\n",
       "<svg xmlns=\"http://www.w3.org/2000/svg\" xmlns:xlink=\"http://www.w3.org/1999/xlink\" width=\"600\" height=\"400\" viewBox=\"0 0 2400 1600\">\n",
       "<defs>\n",
       "  <clipPath id=\"clip350\">\n",
       "    <rect x=\"0\" y=\"0\" width=\"2400\" height=\"1600\"/>\n",
       "  </clipPath>\n",
       "</defs>\n",
       "<path clip-path=\"url(#clip350)\" d=\"\n",
       "M0 1600 L2400 1600 L2400 0 L0 0  Z\n",
       "  \" fill=\"#ffffff\" fill-rule=\"evenodd\" fill-opacity=\"1\"/>\n",
       "<defs>\n",
       "  <clipPath id=\"clip351\">\n",
       "    <rect x=\"480\" y=\"0\" width=\"1681\" height=\"1600\"/>\n",
       "  </clipPath>\n",
       "</defs>\n",
       "<path clip-path=\"url(#clip350)\" d=\"\n",
       "M156.598 1486.45 L2352.76 1486.45 L2352.76 47.2441 L156.598 47.2441  Z\n",
       "  \" fill=\"#ffffff\" fill-rule=\"evenodd\" fill-opacity=\"1\"/>\n",
       "<defs>\n",
       "  <clipPath id=\"clip352\">\n",
       "    <rect x=\"156\" y=\"47\" width=\"2197\" height=\"1440\"/>\n",
       "  </clipPath>\n",
       "</defs>\n",
       "<polyline clip-path=\"url(#clip352)\" style=\"stroke:#000000; stroke-linecap:butt; stroke-linejoin:round; stroke-width:2; stroke-opacity:0.1; fill:none\" points=\"\n",
       "  172.713,1486.45 172.713,47.2441 \n",
       "  \"/>\n",
       "<polyline clip-path=\"url(#clip352)\" style=\"stroke:#000000; stroke-linecap:butt; stroke-linejoin:round; stroke-width:2; stroke-opacity:0.1; fill:none\" points=\"\n",
       "  633.123,1486.45 633.123,47.2441 \n",
       "  \"/>\n",
       "<polyline clip-path=\"url(#clip352)\" style=\"stroke:#000000; stroke-linecap:butt; stroke-linejoin:round; stroke-width:2; stroke-opacity:0.1; fill:none\" points=\"\n",
       "  1093.53,1486.45 1093.53,47.2441 \n",
       "  \"/>\n",
       "<polyline clip-path=\"url(#clip352)\" style=\"stroke:#000000; stroke-linecap:butt; stroke-linejoin:round; stroke-width:2; stroke-opacity:0.1; fill:none\" points=\"\n",
       "  1553.94,1486.45 1553.94,47.2441 \n",
       "  \"/>\n",
       "<polyline clip-path=\"url(#clip352)\" style=\"stroke:#000000; stroke-linecap:butt; stroke-linejoin:round; stroke-width:2; stroke-opacity:0.1; fill:none\" points=\"\n",
       "  2014.35,1486.45 2014.35,47.2441 \n",
       "  \"/>\n",
       "<polyline clip-path=\"url(#clip350)\" style=\"stroke:#000000; stroke-linecap:butt; stroke-linejoin:round; stroke-width:4; stroke-opacity:1; fill:none\" points=\"\n",
       "  156.598,1486.45 2352.76,1486.45 \n",
       "  \"/>\n",
       "<polyline clip-path=\"url(#clip350)\" style=\"stroke:#000000; stroke-linecap:butt; stroke-linejoin:round; stroke-width:4; stroke-opacity:1; fill:none\" points=\"\n",
       "  172.713,1486.45 172.713,1467.55 \n",
       "  \"/>\n",
       "<polyline clip-path=\"url(#clip350)\" style=\"stroke:#000000; stroke-linecap:butt; stroke-linejoin:round; stroke-width:4; stroke-opacity:1; fill:none\" points=\"\n",
       "  633.123,1486.45 633.123,1467.55 \n",
       "  \"/>\n",
       "<polyline clip-path=\"url(#clip350)\" style=\"stroke:#000000; stroke-linecap:butt; stroke-linejoin:round; stroke-width:4; stroke-opacity:1; fill:none\" points=\"\n",
       "  1093.53,1486.45 1093.53,1467.55 \n",
       "  \"/>\n",
       "<polyline clip-path=\"url(#clip350)\" style=\"stroke:#000000; stroke-linecap:butt; stroke-linejoin:round; stroke-width:4; stroke-opacity:1; fill:none\" points=\"\n",
       "  1553.94,1486.45 1553.94,1467.55 \n",
       "  \"/>\n",
       "<polyline clip-path=\"url(#clip350)\" style=\"stroke:#000000; stroke-linecap:butt; stroke-linejoin:round; stroke-width:4; stroke-opacity:1; fill:none\" points=\"\n",
       "  2014.35,1486.45 2014.35,1467.55 \n",
       "  \"/>\n",
       "<path clip-path=\"url(#clip350)\" d=\"M172.713 1517.37 Q169.102 1517.37 167.273 1520.93 Q165.467 1524.47 165.467 1531.6 Q165.467 1538.71 167.273 1542.27 Q169.102 1545.82 172.713 1545.82 Q176.347 1545.82 178.152 1542.27 Q179.981 1538.71 179.981 1531.6 Q179.981 1524.47 178.152 1520.93 Q176.347 1517.37 172.713 1517.37 M172.713 1513.66 Q178.523 1513.66 181.578 1518.27 Q184.657 1522.85 184.657 1531.6 Q184.657 1540.33 181.578 1544.94 Q178.523 1549.52 172.713 1549.52 Q166.902 1549.52 163.824 1544.94 Q160.768 1540.33 160.768 1531.6 Q160.768 1522.85 163.824 1518.27 Q166.902 1513.66 172.713 1513.66 Z\" fill=\"#000000\" fill-rule=\"evenodd\" fill-opacity=\"1\" /><path clip-path=\"url(#clip350)\" d=\"M592.73 1544.91 L600.369 1544.91 L600.369 1518.55 L592.058 1520.21 L592.058 1515.95 L600.322 1514.29 L604.998 1514.29 L604.998 1544.91 L612.637 1544.91 L612.637 1548.85 L592.73 1548.85 L592.73 1544.91 Z\" fill=\"#000000\" fill-rule=\"evenodd\" fill-opacity=\"1\" /><path clip-path=\"url(#clip350)\" d=\"M632.081 1517.37 Q628.47 1517.37 626.642 1520.93 Q624.836 1524.47 624.836 1531.6 Q624.836 1538.71 626.642 1542.27 Q628.47 1545.82 632.081 1545.82 Q635.716 1545.82 637.521 1542.27 Q639.35 1538.71 639.35 1531.6 Q639.35 1524.47 637.521 1520.93 Q635.716 1517.37 632.081 1517.37 M632.081 1513.66 Q637.892 1513.66 640.947 1518.27 Q644.026 1522.85 644.026 1531.6 Q644.026 1540.33 640.947 1544.94 Q637.892 1549.52 632.081 1549.52 Q626.271 1549.52 623.193 1544.94 Q620.137 1540.33 620.137 1531.6 Q620.137 1522.85 623.193 1518.27 Q626.271 1513.66 632.081 1513.66 Z\" fill=\"#000000\" fill-rule=\"evenodd\" fill-opacity=\"1\" /><path clip-path=\"url(#clip350)\" d=\"M662.243 1517.37 Q658.632 1517.37 656.803 1520.93 Q654.998 1524.47 654.998 1531.6 Q654.998 1538.71 656.803 1542.27 Q658.632 1545.82 662.243 1545.82 Q665.877 1545.82 667.683 1542.27 Q669.512 1538.71 669.512 1531.6 Q669.512 1524.47 667.683 1520.93 Q665.877 1517.37 662.243 1517.37 M662.243 1513.66 Q668.053 1513.66 671.109 1518.27 Q674.188 1522.85 674.188 1531.6 Q674.188 1540.33 671.109 1544.94 Q668.053 1549.52 662.243 1549.52 Q656.433 1549.52 653.354 1544.94 Q650.299 1540.33 650.299 1531.6 Q650.299 1522.85 653.354 1518.27 Q656.433 1513.66 662.243 1513.66 Z\" fill=\"#000000\" fill-rule=\"evenodd\" fill-opacity=\"1\" /><path clip-path=\"url(#clip350)\" d=\"M1057.23 1544.91 L1073.55 1544.91 L1073.55 1548.85 L1051.6 1548.85 L1051.6 1544.91 Q1054.26 1542.16 1058.85 1537.53 Q1063.45 1532.88 1064.63 1531.53 Q1066.88 1529.01 1067.76 1527.27 Q1068.66 1525.51 1068.66 1523.82 Q1068.66 1521.07 1066.72 1519.33 Q1064.8 1517.6 1061.69 1517.6 Q1059.49 1517.6 1057.04 1518.36 Q1054.61 1519.13 1051.83 1520.68 L1051.83 1515.95 Q1054.66 1514.82 1057.11 1514.24 Q1059.56 1513.66 1061.6 1513.66 Q1066.97 1513.66 1070.17 1516.35 Q1073.36 1519.03 1073.36 1523.52 Q1073.36 1525.65 1072.55 1527.57 Q1071.76 1529.47 1069.66 1532.07 Q1069.08 1532.74 1065.98 1535.95 Q1062.87 1539.15 1057.23 1544.91 Z\" fill=\"#000000\" fill-rule=\"evenodd\" fill-opacity=\"1\" /><path clip-path=\"url(#clip350)\" d=\"M1093.36 1517.37 Q1089.75 1517.37 1087.92 1520.93 Q1086.11 1524.47 1086.11 1531.6 Q1086.11 1538.71 1087.92 1542.27 Q1089.75 1545.82 1093.36 1545.82 Q1096.99 1545.82 1098.8 1542.27 Q1100.63 1538.71 1100.63 1531.6 Q1100.63 1524.47 1098.8 1520.93 Q1096.99 1517.37 1093.36 1517.37 M1093.36 1513.66 Q1099.17 1513.66 1102.23 1518.27 Q1105.3 1522.85 1105.3 1531.6 Q1105.3 1540.33 1102.23 1544.94 Q1099.17 1549.52 1093.36 1549.52 Q1087.55 1549.52 1084.47 1544.94 Q1081.42 1540.33 1081.42 1531.6 Q1081.42 1522.85 1084.47 1518.27 Q1087.55 1513.66 1093.36 1513.66 Z\" fill=\"#000000\" fill-rule=\"evenodd\" fill-opacity=\"1\" /><path clip-path=\"url(#clip350)\" d=\"M1123.52 1517.37 Q1119.91 1517.37 1118.08 1520.93 Q1116.28 1524.47 1116.28 1531.6 Q1116.28 1538.71 1118.08 1542.27 Q1119.91 1545.82 1123.52 1545.82 Q1127.16 1545.82 1128.96 1542.27 Q1130.79 1538.71 1130.79 1531.6 Q1130.79 1524.47 1128.96 1520.93 Q1127.16 1517.37 1123.52 1517.37 M1123.52 1513.66 Q1129.33 1513.66 1132.39 1518.27 Q1135.47 1522.85 1135.47 1531.6 Q1135.47 1540.33 1132.39 1544.94 Q1129.33 1549.52 1123.52 1549.52 Q1117.71 1549.52 1114.63 1544.94 Q1111.58 1540.33 1111.58 1531.6 Q1111.58 1522.85 1114.63 1518.27 Q1117.71 1513.66 1123.52 1513.66 Z\" fill=\"#000000\" fill-rule=\"evenodd\" fill-opacity=\"1\" /><path clip-path=\"url(#clip350)\" d=\"M1527.71 1530.21 Q1531.06 1530.93 1532.94 1533.2 Q1534.84 1535.47 1534.84 1538.8 Q1534.84 1543.92 1531.32 1546.72 Q1527.8 1549.52 1521.32 1549.52 Q1519.14 1549.52 1516.83 1549.08 Q1514.53 1548.66 1512.08 1547.81 L1512.08 1543.29 Q1514.03 1544.43 1516.34 1545.01 Q1518.65 1545.58 1521.18 1545.58 Q1525.58 1545.58 1527.87 1543.85 Q1530.18 1542.11 1530.18 1538.8 Q1530.18 1535.75 1528.03 1534.03 Q1525.9 1532.3 1522.08 1532.3 L1518.05 1532.3 L1518.05 1528.45 L1522.27 1528.45 Q1525.71 1528.45 1527.54 1527.09 Q1529.37 1525.7 1529.37 1523.11 Q1529.37 1520.45 1527.47 1519.03 Q1525.6 1517.6 1522.08 1517.6 Q1520.16 1517.6 1517.96 1518.01 Q1515.76 1518.43 1513.12 1519.31 L1513.12 1515.14 Q1515.78 1514.4 1518.1 1514.03 Q1520.44 1513.66 1522.5 1513.66 Q1527.82 1513.66 1530.92 1516.09 Q1534.02 1518.5 1534.02 1522.62 Q1534.02 1525.49 1532.38 1527.48 Q1530.74 1529.45 1527.71 1530.21 Z\" fill=\"#000000\" fill-rule=\"evenodd\" fill-opacity=\"1\" /><path clip-path=\"url(#clip350)\" d=\"M1553.7 1517.37 Q1550.09 1517.37 1548.26 1520.93 Q1546.46 1524.47 1546.46 1531.6 Q1546.46 1538.71 1548.26 1542.27 Q1550.09 1545.82 1553.7 1545.82 Q1557.34 1545.82 1559.14 1542.27 Q1560.97 1538.71 1560.97 1531.6 Q1560.97 1524.47 1559.14 1520.93 Q1557.34 1517.37 1553.7 1517.37 M1553.7 1513.66 Q1559.51 1513.66 1562.57 1518.27 Q1565.65 1522.85 1565.65 1531.6 Q1565.65 1540.33 1562.57 1544.94 Q1559.51 1549.52 1553.7 1549.52 Q1547.89 1549.52 1544.81 1544.94 Q1541.76 1540.33 1541.76 1531.6 Q1541.76 1522.85 1544.81 1518.27 Q1547.89 1513.66 1553.7 1513.66 Z\" fill=\"#000000\" fill-rule=\"evenodd\" fill-opacity=\"1\" /><path clip-path=\"url(#clip350)\" d=\"M1583.86 1517.37 Q1580.25 1517.37 1578.42 1520.93 Q1576.62 1524.47 1576.62 1531.6 Q1576.62 1538.71 1578.42 1542.27 Q1580.25 1545.82 1583.86 1545.82 Q1587.5 1545.82 1589.3 1542.27 Q1591.13 1538.71 1591.13 1531.6 Q1591.13 1524.47 1589.3 1520.93 Q1587.5 1517.37 1583.86 1517.37 M1583.86 1513.66 Q1589.67 1513.66 1592.73 1518.27 Q1595.81 1522.85 1595.81 1531.6 Q1595.81 1540.33 1592.73 1544.94 Q1589.67 1549.52 1583.86 1549.52 Q1578.05 1549.52 1574.97 1544.94 Q1571.92 1540.33 1571.92 1531.6 Q1571.92 1522.85 1574.97 1518.27 Q1578.05 1513.66 1583.86 1513.66 Z\" fill=\"#000000\" fill-rule=\"evenodd\" fill-opacity=\"1\" /><path clip-path=\"url(#clip350)\" d=\"M1987.44 1518.36 L1975.64 1536.81 L1987.44 1536.81 L1987.44 1518.36 M1986.22 1514.29 L1992.1 1514.29 L1992.1 1536.81 L1997.03 1536.81 L1997.03 1540.7 L1992.1 1540.7 L1992.1 1548.85 L1987.44 1548.85 L1987.44 1540.7 L1971.84 1540.7 L1971.84 1536.19 L1986.22 1514.29 Z\" fill=\"#000000\" fill-rule=\"evenodd\" fill-opacity=\"1\" /><path clip-path=\"url(#clip350)\" d=\"M2014.76 1517.37 Q2011.15 1517.37 2009.32 1520.93 Q2007.51 1524.47 2007.51 1531.6 Q2007.51 1538.71 2009.32 1542.27 Q2011.15 1545.82 2014.76 1545.82 Q2018.39 1545.82 2020.2 1542.27 Q2022.03 1538.71 2022.03 1531.6 Q2022.03 1524.47 2020.2 1520.93 Q2018.39 1517.37 2014.76 1517.37 M2014.76 1513.66 Q2020.57 1513.66 2023.63 1518.27 Q2026.7 1522.85 2026.7 1531.6 Q2026.7 1540.33 2023.63 1544.94 Q2020.57 1549.52 2014.76 1549.52 Q2008.95 1549.52 2005.87 1544.94 Q2002.81 1540.33 2002.81 1531.6 Q2002.81 1522.85 2005.87 1518.27 Q2008.95 1513.66 2014.76 1513.66 Z\" fill=\"#000000\" fill-rule=\"evenodd\" fill-opacity=\"1\" /><path clip-path=\"url(#clip350)\" d=\"M2044.92 1517.37 Q2041.31 1517.37 2039.48 1520.93 Q2037.68 1524.47 2037.68 1531.6 Q2037.68 1538.71 2039.48 1542.27 Q2041.31 1545.82 2044.92 1545.82 Q2048.56 1545.82 2050.36 1542.27 Q2052.19 1538.71 2052.19 1531.6 Q2052.19 1524.47 2050.36 1520.93 Q2048.56 1517.37 2044.92 1517.37 M2044.92 1513.66 Q2050.73 1513.66 2053.79 1518.27 Q2056.87 1522.85 2056.87 1531.6 Q2056.87 1540.33 2053.79 1544.94 Q2050.73 1549.52 2044.92 1549.52 Q2039.11 1549.52 2036.03 1544.94 Q2032.98 1540.33 2032.98 1531.6 Q2032.98 1522.85 2036.03 1518.27 Q2039.11 1513.66 2044.92 1513.66 Z\" fill=\"#000000\" fill-rule=\"evenodd\" fill-opacity=\"1\" /><polyline clip-path=\"url(#clip352)\" style=\"stroke:#000000; stroke-linecap:butt; stroke-linejoin:round; stroke-width:2; stroke-opacity:0.1; fill:none\" points=\"\n",
       "  156.598,1440.07 2352.76,1440.07 \n",
       "  \"/>\n",
       "<polyline clip-path=\"url(#clip352)\" style=\"stroke:#000000; stroke-linecap:butt; stroke-linejoin:round; stroke-width:2; stroke-opacity:0.1; fill:none\" points=\"\n",
       "  156.598,1149.92 2352.76,1149.92 \n",
       "  \"/>\n",
       "<polyline clip-path=\"url(#clip352)\" style=\"stroke:#000000; stroke-linecap:butt; stroke-linejoin:round; stroke-width:2; stroke-opacity:0.1; fill:none\" points=\"\n",
       "  156.598,859.774 2352.76,859.774 \n",
       "  \"/>\n",
       "<polyline clip-path=\"url(#clip352)\" style=\"stroke:#000000; stroke-linecap:butt; stroke-linejoin:round; stroke-width:2; stroke-opacity:0.1; fill:none\" points=\"\n",
       "  156.598,569.625 2352.76,569.625 \n",
       "  \"/>\n",
       "<polyline clip-path=\"url(#clip352)\" style=\"stroke:#000000; stroke-linecap:butt; stroke-linejoin:round; stroke-width:2; stroke-opacity:0.1; fill:none\" points=\"\n",
       "  156.598,279.475 2352.76,279.475 \n",
       "  \"/>\n",
       "<polyline clip-path=\"url(#clip350)\" style=\"stroke:#000000; stroke-linecap:butt; stroke-linejoin:round; stroke-width:4; stroke-opacity:1; fill:none\" points=\"\n",
       "  156.598,1486.45 156.598,47.2441 \n",
       "  \"/>\n",
       "<polyline clip-path=\"url(#clip350)\" style=\"stroke:#000000; stroke-linecap:butt; stroke-linejoin:round; stroke-width:4; stroke-opacity:1; fill:none\" points=\"\n",
       "  156.598,1440.07 175.496,1440.07 \n",
       "  \"/>\n",
       "<polyline clip-path=\"url(#clip350)\" style=\"stroke:#000000; stroke-linecap:butt; stroke-linejoin:round; stroke-width:4; stroke-opacity:1; fill:none\" points=\"\n",
       "  156.598,1149.92 175.496,1149.92 \n",
       "  \"/>\n",
       "<polyline clip-path=\"url(#clip350)\" style=\"stroke:#000000; stroke-linecap:butt; stroke-linejoin:round; stroke-width:4; stroke-opacity:1; fill:none\" points=\"\n",
       "  156.598,859.774 175.496,859.774 \n",
       "  \"/>\n",
       "<polyline clip-path=\"url(#clip350)\" style=\"stroke:#000000; stroke-linecap:butt; stroke-linejoin:round; stroke-width:4; stroke-opacity:1; fill:none\" points=\"\n",
       "  156.598,569.625 175.496,569.625 \n",
       "  \"/>\n",
       "<polyline clip-path=\"url(#clip350)\" style=\"stroke:#000000; stroke-linecap:butt; stroke-linejoin:round; stroke-width:4; stroke-opacity:1; fill:none\" points=\"\n",
       "  156.598,279.475 175.496,279.475 \n",
       "  \"/>\n",
       "<path clip-path=\"url(#clip350)\" d=\"M63.4226 1425.87 Q59.8115 1425.87 57.9828 1429.44 Q56.1773 1432.98 56.1773 1440.11 Q56.1773 1447.22 57.9828 1450.78 Q59.8115 1454.32 63.4226 1454.32 Q67.0569 1454.32 68.8624 1450.78 Q70.6911 1447.22 70.6911 1440.11 Q70.6911 1432.98 68.8624 1429.44 Q67.0569 1425.87 63.4226 1425.87 M63.4226 1422.17 Q69.2328 1422.17 72.2883 1426.78 Q75.367 1431.36 75.367 1440.11 Q75.367 1448.84 72.2883 1453.44 Q69.2328 1458.03 63.4226 1458.03 Q57.6125 1458.03 54.5338 1453.44 Q51.4782 1448.84 51.4782 1440.11 Q51.4782 1431.36 54.5338 1426.78 Q57.6125 1422.17 63.4226 1422.17 Z\" fill=\"#000000\" fill-rule=\"evenodd\" fill-opacity=\"1\" /><path clip-path=\"url(#clip350)\" d=\"M83.5845 1451.47 L88.4688 1451.47 L88.4688 1457.35 L83.5845 1457.35 L83.5845 1451.47 Z\" fill=\"#000000\" fill-rule=\"evenodd\" fill-opacity=\"1\" /><path clip-path=\"url(#clip350)\" d=\"M108.654 1425.87 Q105.043 1425.87 103.214 1429.44 Q101.409 1432.98 101.409 1440.11 Q101.409 1447.22 103.214 1450.78 Q105.043 1454.32 108.654 1454.32 Q112.288 1454.32 114.094 1450.78 Q115.922 1447.22 115.922 1440.11 Q115.922 1432.98 114.094 1429.44 Q112.288 1425.87 108.654 1425.87 M108.654 1422.17 Q114.464 1422.17 117.52 1426.78 Q120.598 1431.36 120.598 1440.11 Q120.598 1448.84 117.52 1453.44 Q114.464 1458.03 108.654 1458.03 Q102.844 1458.03 99.765 1453.44 Q96.7095 1448.84 96.7095 1440.11 Q96.7095 1431.36 99.765 1426.78 Q102.844 1422.17 108.654 1422.17 Z\" fill=\"#000000\" fill-rule=\"evenodd\" fill-opacity=\"1\" /><path clip-path=\"url(#clip350)\" d=\"M65.0198 1135.72 Q61.4087 1135.72 59.58 1139.29 Q57.7745 1142.83 57.7745 1149.96 Q57.7745 1157.07 59.58 1160.63 Q61.4087 1164.17 65.0198 1164.17 Q68.6541 1164.17 70.4596 1160.63 Q72.2883 1157.07 72.2883 1149.96 Q72.2883 1142.83 70.4596 1139.29 Q68.6541 1135.72 65.0198 1135.72 M65.0198 1132.02 Q70.83 1132.02 73.8855 1136.63 Q76.9642 1141.21 76.9642 1149.96 Q76.9642 1158.69 73.8855 1163.29 Q70.83 1167.88 65.0198 1167.88 Q59.2097 1167.88 56.131 1163.29 Q53.0754 1158.69 53.0754 1149.96 Q53.0754 1141.21 56.131 1136.63 Q59.2097 1132.02 65.0198 1132.02 Z\" fill=\"#000000\" fill-rule=\"evenodd\" fill-opacity=\"1\" /><path clip-path=\"url(#clip350)\" d=\"M85.1818 1161.32 L90.066 1161.32 L90.066 1167.2 L85.1818 1167.2 L85.1818 1161.32 Z\" fill=\"#000000\" fill-rule=\"evenodd\" fill-opacity=\"1\" /><path clip-path=\"url(#clip350)\" d=\"M104.279 1163.27 L120.598 1163.27 L120.598 1167.2 L98.6539 1167.2 L98.6539 1163.27 Q101.316 1160.51 105.899 1155.88 Q110.506 1151.23 111.686 1149.89 Q113.932 1147.37 114.811 1145.63 Q115.714 1143.87 115.714 1142.18 Q115.714 1139.43 113.77 1137.69 Q111.848 1135.95 108.746 1135.95 Q106.547 1135.95 104.094 1136.72 Q101.663 1137.48 98.8854 1139.03 L98.8854 1134.31 Q101.709 1133.18 104.163 1132.6 Q106.617 1132.02 108.654 1132.02 Q114.024 1132.02 117.219 1134.7 Q120.413 1137.39 120.413 1141.88 Q120.413 1144.01 119.603 1145.93 Q118.816 1147.83 116.709 1150.42 Q116.131 1151.09 113.029 1154.31 Q109.927 1157.51 104.279 1163.27 Z\" fill=\"#000000\" fill-rule=\"evenodd\" fill-opacity=\"1\" /><path clip-path=\"url(#clip350)\" d=\"M62.9365 845.573 Q59.3254 845.573 57.4967 849.138 Q55.6912 852.68 55.6912 859.809 Q55.6912 866.916 57.4967 870.48 Q59.3254 874.022 62.9365 874.022 Q66.5707 874.022 68.3763 870.48 Q70.205 866.916 70.205 859.809 Q70.205 852.68 68.3763 849.138 Q66.5707 845.573 62.9365 845.573 M62.9365 841.869 Q68.7467 841.869 71.8022 846.476 Q74.8809 851.059 74.8809 859.809 Q74.8809 868.536 71.8022 873.142 Q68.7467 877.726 62.9365 877.726 Q57.1264 877.726 54.0477 873.142 Q50.9921 868.536 50.9921 859.809 Q50.9921 851.059 54.0477 846.476 Q57.1264 841.869 62.9365 841.869 Z\" fill=\"#000000\" fill-rule=\"evenodd\" fill-opacity=\"1\" /><path clip-path=\"url(#clip350)\" d=\"M83.0984 871.175 L87.9827 871.175 L87.9827 877.054 L83.0984 877.054 L83.0984 871.175 Z\" fill=\"#000000\" fill-rule=\"evenodd\" fill-opacity=\"1\" /><path clip-path=\"url(#clip350)\" d=\"M111.015 846.569 L99.2095 865.018 L111.015 865.018 L111.015 846.569 M109.788 842.494 L115.668 842.494 L115.668 865.018 L120.598 865.018 L120.598 868.906 L115.668 868.906 L115.668 877.054 L111.015 877.054 L111.015 868.906 L95.4132 868.906 L95.4132 864.393 L109.788 842.494 Z\" fill=\"#000000\" fill-rule=\"evenodd\" fill-opacity=\"1\" /><path clip-path=\"url(#clip350)\" d=\"M63.2606 555.423 Q59.6495 555.423 57.8208 558.988 Q56.0152 562.53 56.0152 569.66 Q56.0152 576.766 57.8208 580.331 Q59.6495 583.872 63.2606 583.872 Q66.8948 583.872 68.7004 580.331 Q70.5291 576.766 70.5291 569.66 Q70.5291 562.53 68.7004 558.988 Q66.8948 555.423 63.2606 555.423 M63.2606 551.72 Q69.0707 551.72 72.1263 556.326 Q75.205 560.91 75.205 569.66 Q75.205 578.386 72.1263 582.993 Q69.0707 587.576 63.2606 587.576 Q57.4504 587.576 54.3717 582.993 Q51.3162 578.386 51.3162 569.66 Q51.3162 560.91 54.3717 556.326 Q57.4504 551.72 63.2606 551.72 Z\" fill=\"#000000\" fill-rule=\"evenodd\" fill-opacity=\"1\" /><path clip-path=\"url(#clip350)\" d=\"M83.4225 581.025 L88.3067 581.025 L88.3067 586.905 L83.4225 586.905 L83.4225 581.025 Z\" fill=\"#000000\" fill-rule=\"evenodd\" fill-opacity=\"1\" /><path clip-path=\"url(#clip350)\" d=\"M109.071 567.761 Q105.922 567.761 104.071 569.914 Q102.242 572.067 102.242 575.817 Q102.242 579.544 104.071 581.72 Q105.922 583.872 109.071 583.872 Q112.219 583.872 114.047 581.72 Q115.899 579.544 115.899 575.817 Q115.899 572.067 114.047 569.914 Q112.219 567.761 109.071 567.761 M118.353 553.109 L118.353 557.368 Q116.594 556.535 114.788 556.095 Q113.006 555.655 111.246 555.655 Q106.617 555.655 104.163 558.78 Q101.733 561.905 101.385 568.224 Q102.751 566.21 104.811 565.146 Q106.871 564.058 109.348 564.058 Q114.557 564.058 117.566 567.229 Q120.598 570.377 120.598 575.817 Q120.598 581.141 117.45 584.359 Q114.302 587.576 109.071 587.576 Q103.075 587.576 99.9039 582.993 Q96.7326 578.386 96.7326 569.66 Q96.7326 561.465 100.621 556.604 Q104.51 551.72 111.061 551.72 Q112.82 551.72 114.603 552.067 Q116.408 552.414 118.353 553.109 Z\" fill=\"#000000\" fill-rule=\"evenodd\" fill-opacity=\"1\" /><path clip-path=\"url(#clip350)\" d=\"M63.5152 265.274 Q59.9041 265.274 58.0754 268.839 Q56.2699 272.38 56.2699 279.51 Q56.2699 286.616 58.0754 290.181 Q59.9041 293.723 63.5152 293.723 Q67.1494 293.723 68.955 290.181 Q70.7837 286.616 70.7837 279.51 Q70.7837 272.38 68.955 268.839 Q67.1494 265.274 63.5152 265.274 M63.5152 261.57 Q69.3254 261.57 72.3809 266.177 Q75.4596 270.76 75.4596 279.51 Q75.4596 288.237 72.3809 292.843 Q69.3254 297.426 63.5152 297.426 Q57.7051 297.426 54.6264 292.843 Q51.5708 288.237 51.5708 279.51 Q51.5708 270.76 54.6264 266.177 Q57.7051 261.57 63.5152 261.57 Z\" fill=\"#000000\" fill-rule=\"evenodd\" fill-opacity=\"1\" /><path clip-path=\"url(#clip350)\" d=\"M83.6771 290.875 L88.5614 290.875 L88.5614 296.755 L83.6771 296.755 L83.6771 290.875 Z\" fill=\"#000000\" fill-rule=\"evenodd\" fill-opacity=\"1\" /><path clip-path=\"url(#clip350)\" d=\"M108.746 280.343 Q105.413 280.343 103.492 282.126 Q101.594 283.908 101.594 287.033 Q101.594 290.158 103.492 291.94 Q105.413 293.723 108.746 293.723 Q112.08 293.723 114.001 291.94 Q115.922 290.135 115.922 287.033 Q115.922 283.908 114.001 282.126 Q112.103 280.343 108.746 280.343 M104.071 278.352 Q101.061 277.612 99.3715 275.551 Q97.7048 273.491 97.7048 270.528 Q97.7048 266.385 100.645 263.977 Q103.608 261.57 108.746 261.57 Q113.908 261.57 116.848 263.977 Q119.788 266.385 119.788 270.528 Q119.788 273.491 118.098 275.551 Q116.432 277.612 113.445 278.352 Q116.825 279.139 118.7 281.431 Q120.598 283.723 120.598 287.033 Q120.598 292.056 117.52 294.741 Q114.464 297.426 108.746 297.426 Q103.029 297.426 99.9502 294.741 Q96.8947 292.056 96.8947 287.033 Q96.8947 283.723 98.7928 281.431 Q100.691 279.139 104.071 278.352 M102.358 270.968 Q102.358 273.653 104.024 275.158 Q105.714 276.663 108.746 276.663 Q111.756 276.663 113.445 275.158 Q115.158 273.653 115.158 270.968 Q115.158 268.283 113.445 266.778 Q111.756 265.274 108.746 265.274 Q105.714 265.274 104.024 266.778 Q102.358 268.283 102.358 270.968 Z\" fill=\"#000000\" fill-rule=\"evenodd\" fill-opacity=\"1\" /><circle clip-path=\"url(#clip352)\" cx=\"218.754\" cy=\"1440.07\" r=\"14\" fill=\"#009af9\" fill-rule=\"evenodd\" fill-opacity=\"1\" stroke=\"#000000\" stroke-opacity=\"1\" stroke-width=\"3.2\"/>\n",
       "<circle clip-path=\"url(#clip352)\" cx=\"633.123\" cy=\"1431.37\" r=\"14\" fill=\"#009af9\" fill-rule=\"evenodd\" fill-opacity=\"1\" stroke=\"#000000\" stroke-opacity=\"1\" stroke-width=\"3.2\"/>\n",
       "<circle clip-path=\"url(#clip352)\" cx=\"1047.49\" cy=\"1367.54\" r=\"14\" fill=\"#009af9\" fill-rule=\"evenodd\" fill-opacity=\"1\" stroke=\"#000000\" stroke-opacity=\"1\" stroke-width=\"3.2\"/>\n",
       "<circle clip-path=\"url(#clip352)\" cx=\"1461.86\" cy=\"1197.8\" r=\"14\" fill=\"#009af9\" fill-rule=\"evenodd\" fill-opacity=\"1\" stroke=\"#000000\" stroke-opacity=\"1\" stroke-width=\"3.2\"/>\n",
       "<circle clip-path=\"url(#clip352)\" cx=\"1876.23\" cy=\"845.267\" r=\"14\" fill=\"#009af9\" fill-rule=\"evenodd\" fill-opacity=\"1\" stroke=\"#000000\" stroke-opacity=\"1\" stroke-width=\"3.2\"/>\n",
       "<circle clip-path=\"url(#clip352)\" cx=\"2290.6\" cy=\"87.9763\" r=\"14\" fill=\"#009af9\" fill-rule=\"evenodd\" fill-opacity=\"1\" stroke=\"#000000\" stroke-opacity=\"1\" stroke-width=\"3.2\"/>\n",
       "<polyline clip-path=\"url(#clip352)\" style=\"stroke:#e26f46; stroke-linecap:butt; stroke-linejoin:round; stroke-width:4; stroke-opacity:1; fill:none\" points=\"\n",
       "  218.754,1445.72 239.472,1442.74 260.191,1440 280.909,1437.48 301.628,1435.17 322.346,1433.06 343.064,1431.13 363.783,1429.36 384.501,1427.75 405.22,1426.28 \n",
       "  425.938,1424.93 446.657,1423.7 467.375,1422.56 488.094,1421.51 508.812,1420.54 529.531,1419.61 550.249,1418.74 570.968,1417.89 591.686,1417.06 612.405,1416.23 \n",
       "  633.123,1415.39 653.841,1414.52 674.56,1413.62 695.278,1412.66 715.997,1411.64 736.715,1410.54 757.434,1409.34 778.152,1408.03 798.871,1406.61 819.589,1405.05 \n",
       "  840.308,1403.34 861.026,1401.47 881.745,1399.42 902.463,1397.18 923.182,1394.74 943.9,1392.08 964.619,1389.19 985.337,1386.06 1006.06,1382.66 1026.77,1379 \n",
       "  1047.49,1375.04 1068.21,1370.79 1088.93,1366.23 1109.65,1361.33 1130.37,1356.1 1151.08,1350.51 1171.8,1344.55 1192.52,1338.21 1213.24,1331.48 1233.96,1324.33 \n",
       "  1254.68,1316.76 1275.4,1308.75 1296.11,1300.3 1316.83,1291.37 1337.55,1281.97 1358.27,1272.08 1378.99,1261.68 1399.71,1250.76 1420.42,1239.31 1441.14,1227.31 \n",
       "  1461.86,1214.75 1482.58,1201.61 1503.3,1187.89 1524.02,1173.56 1544.74,1158.62 1565.45,1143.05 1586.17,1126.83 1606.89,1109.96 1627.61,1092.42 1648.33,1074.19 \n",
       "  1669.05,1055.26 1689.76,1035.62 1710.48,1015.26 1731.2,994.156 1751.92,972.299 1772.64,949.674 1793.36,926.269 1814.08,902.069 1834.79,877.061 1855.51,851.231 \n",
       "  1876.23,824.565 1896.95,797.049 1917.67,768.671 1938.39,739.415 1959.11,709.268 1979.82,678.217 2000.54,646.247 2021.26,613.346 2041.98,579.499 2062.7,544.692 \n",
       "  2083.42,508.912 2104.13,472.145 2124.85,434.378 2145.57,395.596 2166.29,355.785 2187.01,314.933 2207.73,273.025 2228.45,230.048 2249.16,185.988 2269.88,140.83 \n",
       "  2290.6,94.5622 \n",
       "  \"/>\n",
       "<polyline clip-path=\"url(#clip352)\" style=\"stroke:#3da44d; stroke-linecap:butt; stroke-linejoin:round; stroke-width:20; stroke-opacity:1; fill:none\" points=\"\n",
       "  218.754,1445.72 239.472,1442.74 260.191,1440 280.909,1437.48 301.628,1435.17 322.346,1433.06 343.064,1431.13 363.783,1429.36 384.501,1427.75 405.22,1426.28 \n",
       "  425.938,1424.93 446.657,1423.7 467.375,1422.56 488.094,1421.51 508.812,1420.54 529.531,1419.61 550.249,1418.74 570.968,1417.89 591.686,1417.06 612.405,1416.23 \n",
       "  633.123,1415.39 653.841,1414.52 674.56,1413.62 695.278,1412.66 715.997,1411.64 736.715,1410.54 757.434,1409.34 778.152,1408.03 798.871,1406.61 819.589,1405.05 \n",
       "  840.308,1403.34 861.026,1401.47 881.745,1399.42 902.463,1397.18 923.182,1394.74 943.9,1392.08 964.619,1389.19 985.337,1386.06 1006.06,1382.66 1026.77,1379 \n",
       "  1047.49,1375.04 1068.21,1370.79 1088.93,1366.23 1109.65,1361.33 1130.37,1356.1 1151.08,1350.51 1171.8,1344.55 1192.52,1338.21 1213.24,1331.48 1233.96,1324.33 \n",
       "  1254.68,1316.76 1275.4,1308.75 1296.11,1300.3 1316.83,1291.37 1337.55,1281.97 1358.27,1272.08 1378.99,1261.68 1399.71,1250.76 1420.42,1239.31 1441.14,1227.31 \n",
       "  1461.86,1214.75 1482.58,1201.61 1503.3,1187.89 1524.02,1173.56 1544.74,1158.62 1565.45,1143.05 1586.17,1126.83 1606.89,1109.96 1627.61,1092.42 1648.33,1074.19 \n",
       "  1669.05,1055.26 1689.76,1035.62 1710.48,1015.26 1731.2,994.156 1751.92,972.299 1772.64,949.674 1793.36,926.269 1814.08,902.069 1834.79,877.061 1855.51,851.231 \n",
       "  1876.23,824.565 1896.95,797.049 1917.67,768.671 1938.39,739.415 1959.11,709.268 1979.82,678.217 2000.54,646.247 2021.26,613.346 2041.98,579.499 2062.7,544.692 \n",
       "  2083.42,508.912 2104.13,472.145 2124.85,434.378 2145.57,395.596 2166.29,355.785 2187.01,314.933 2207.73,273.025 2228.45,230.048 2249.16,185.988 2269.88,140.83 \n",
       "  2290.6,94.5622 \n",
       "  \"/>\n",
       "<path clip-path=\"url(#clip350)\" d=\"\n",
       "M1883.33 302.578 L2279.55 302.578 L2279.55 95.2176 L1883.33 95.2176  Z\n",
       "  \" fill=\"#ffffff\" fill-rule=\"evenodd\" fill-opacity=\"1\"/>\n",
       "<polyline clip-path=\"url(#clip350)\" style=\"stroke:#000000; stroke-linecap:butt; stroke-linejoin:round; stroke-width:4; stroke-opacity:1; fill:none\" points=\"\n",
       "  1883.33,302.578 2279.55,302.578 2279.55,95.2176 1883.33,95.2176 1883.33,302.578 \n",
       "  \"/>\n",
       "<circle clip-path=\"url(#clip350)\" cx=\"1980.94\" cy=\"147.058\" r=\"23\" fill=\"#009af9\" fill-rule=\"evenodd\" fill-opacity=\"1\" stroke=\"#000000\" stroke-opacity=\"1\" stroke-width=\"5.12\"/>\n",
       "<path clip-path=\"url(#clip350)\" d=\"M2091.74 164.338 L2078.55 129.778 L2083.43 129.778 L2094.38 158.875 L2105.35 129.778 L2110.22 129.778 L2097.04 164.338 L2091.74 164.338 Z\" fill=\"#000000\" fill-rule=\"evenodd\" fill-opacity=\"1\" /><path clip-path=\"url(#clip350)\" d=\"M2123.18 151.305 Q2118.02 151.305 2116.03 152.486 Q2114.03 153.666 2114.03 156.514 Q2114.03 158.782 2115.52 160.125 Q2117.02 161.444 2119.59 161.444 Q2123.13 161.444 2125.26 158.944 Q2127.41 156.421 2127.41 152.254 L2127.41 151.305 L2123.18 151.305 M2131.67 149.546 L2131.67 164.338 L2127.41 164.338 L2127.41 160.402 Q2125.96 162.763 2123.78 163.898 Q2121.6 165.009 2118.46 165.009 Q2114.47 165.009 2112.11 162.787 Q2109.78 160.541 2109.78 156.791 Q2109.78 152.416 2112.69 150.194 Q2115.63 147.972 2121.44 147.972 L2127.41 147.972 L2127.41 147.555 Q2127.41 144.615 2125.47 143.018 Q2123.55 141.398 2120.05 141.398 Q2117.83 141.398 2115.72 141.93 Q2113.62 142.463 2111.67 143.527 L2111.67 139.592 Q2114.01 138.69 2116.21 138.25 Q2118.41 137.787 2120.49 137.787 Q2126.12 137.787 2128.9 140.703 Q2131.67 143.62 2131.67 149.546 Z\" fill=\"#000000\" fill-rule=\"evenodd\" fill-opacity=\"1\" /><path clip-path=\"url(#clip350)\" d=\"M2140.45 128.319 L2144.71 128.319 L2144.71 164.338 L2140.45 164.338 L2140.45 128.319 Z\" fill=\"#000000\" fill-rule=\"evenodd\" fill-opacity=\"1\" /><path clip-path=\"url(#clip350)\" d=\"M2153.18 154.106 L2153.18 138.412 L2157.44 138.412 L2157.44 153.944 Q2157.44 157.625 2158.87 159.476 Q2160.31 161.305 2163.18 161.305 Q2166.63 161.305 2168.62 159.106 Q2170.63 156.907 2170.63 153.111 L2170.63 138.412 L2174.89 138.412 L2174.89 164.338 L2170.63 164.338 L2170.63 160.356 Q2169.08 162.717 2167.02 163.875 Q2164.98 165.009 2162.28 165.009 Q2157.81 165.009 2155.49 162.231 Q2153.18 159.453 2153.18 154.106 M2163.9 137.787 L2163.9 137.787 Z\" fill=\"#000000\" fill-rule=\"evenodd\" fill-opacity=\"1\" /><path clip-path=\"url(#clip350)\" d=\"M2205.84 150.31 L2205.84 152.393 L2186.26 152.393 Q2186.53 156.791 2188.9 159.106 Q2191.28 161.398 2195.52 161.398 Q2197.97 161.398 2200.26 160.796 Q2202.58 160.194 2204.84 158.99 L2204.84 163.018 Q2202.55 163.99 2200.15 164.5 Q2197.74 165.009 2195.26 165.009 Q2189.06 165.009 2185.42 161.398 Q2181.81 157.787 2181.81 151.629 Q2181.81 145.264 2185.24 141.537 Q2188.69 137.787 2194.52 137.787 Q2199.75 137.787 2202.78 141.166 Q2205.84 144.523 2205.84 150.31 M2201.58 149.06 Q2201.53 145.565 2199.61 143.481 Q2197.71 141.398 2194.57 141.398 Q2191 141.398 2188.85 143.412 Q2186.72 145.426 2186.4 149.083 L2201.58 149.06 Z\" fill=\"#000000\" fill-rule=\"evenodd\" fill-opacity=\"1\" /><path clip-path=\"url(#clip350)\" d=\"M2229.36 139.176 L2229.36 143.203 Q2227.55 142.277 2225.61 141.815 Q2223.66 141.352 2221.58 141.352 Q2218.41 141.352 2216.81 142.324 Q2215.24 143.296 2215.24 145.24 Q2215.24 146.722 2216.37 147.578 Q2217.51 148.412 2220.93 149.176 L2222.39 149.5 Q2226.93 150.472 2228.83 152.254 Q2230.75 154.014 2230.75 157.185 Q2230.75 160.796 2227.88 162.902 Q2225.03 165.009 2220.03 165.009 Q2217.95 165.009 2215.68 164.592 Q2213.43 164.199 2210.93 163.388 L2210.93 158.99 Q2213.29 160.217 2215.59 160.842 Q2217.88 161.444 2220.12 161.444 Q2223.13 161.444 2224.75 160.426 Q2226.37 159.384 2226.37 157.509 Q2226.37 155.773 2225.19 154.847 Q2224.03 153.921 2220.08 153.064 L2218.59 152.717 Q2214.64 151.884 2212.88 150.171 Q2211.12 148.435 2211.12 145.426 Q2211.12 141.768 2213.71 139.778 Q2216.3 137.787 2221.07 137.787 Q2223.43 137.787 2225.52 138.134 Q2227.6 138.481 2229.36 139.176 Z\" fill=\"#000000\" fill-rule=\"evenodd\" fill-opacity=\"1\" /><polyline clip-path=\"url(#clip350)\" style=\"stroke:#e26f46; stroke-linecap:butt; stroke-linejoin:round; stroke-width:4; stroke-opacity:1; fill:none\" points=\"\n",
       "  1907.74,198.898 2054.15,198.898 \n",
       "  \"/>\n",
       "<path clip-path=\"url(#clip350)\" d=\"M2078.55 181.618 L2098.41 181.618 L2098.41 185.553 L2083.22 185.553 L2083.22 195.738 L2096.93 195.738 L2096.93 199.673 L2083.22 199.673 L2083.22 216.178 L2078.55 216.178 L2078.55 181.618 Z\" fill=\"#000000\" fill-rule=\"evenodd\" fill-opacity=\"1\" /><path clip-path=\"url(#clip350)\" d=\"M2102.18 190.252 L2106.44 190.252 L2106.44 216.178 L2102.18 216.178 L2102.18 190.252 M2102.18 180.159 L2106.44 180.159 L2106.44 185.553 L2102.18 185.553 L2102.18 180.159 Z\" fill=\"#000000\" fill-rule=\"evenodd\" fill-opacity=\"1\" /><path clip-path=\"url(#clip350)\" d=\"M2119.57 182.891 L2119.57 190.252 L2128.34 190.252 L2128.34 193.562 L2119.57 193.562 L2119.57 207.636 Q2119.57 210.807 2120.42 211.71 Q2121.3 212.613 2123.97 212.613 L2128.34 212.613 L2128.34 216.178 L2123.97 216.178 Q2119.03 216.178 2117.16 214.349 Q2115.28 212.497 2115.28 207.636 L2115.28 193.562 L2112.16 193.562 L2112.16 190.252 L2115.28 190.252 L2115.28 182.891 L2119.57 182.891 Z\" fill=\"#000000\" fill-rule=\"evenodd\" fill-opacity=\"1\" /><polyline clip-path=\"url(#clip350)\" style=\"stroke:#3da44d; stroke-linecap:butt; stroke-linejoin:round; stroke-width:4; stroke-opacity:1; fill:none\" points=\"\n",
       "  1907.74,250.738 2054.15,250.738 \n",
       "  \"/>\n",
       "<path clip-path=\"url(#clip350)\" d=\"M2094.57 236.629 Q2089.47 236.629 2086.47 240.425 Q2083.48 244.221 2083.48 250.772 Q2083.48 257.3 2086.47 261.096 Q2089.47 264.893 2094.57 264.893 Q2099.66 264.893 2102.62 261.096 Q2105.61 257.3 2105.61 250.772 Q2105.61 244.221 2102.62 240.425 Q2099.66 236.629 2094.57 236.629 M2101.12 267.393 L2107.28 274.129 L2101.63 274.129 L2096.51 268.596 Q2095.75 268.643 2095.33 268.666 Q2094.94 268.689 2094.57 268.689 Q2087.28 268.689 2082.9 263.828 Q2078.55 258.944 2078.55 250.772 Q2078.55 242.578 2082.9 237.717 Q2087.28 232.833 2094.57 232.833 Q2101.84 232.833 2106.19 237.717 Q2110.54 242.578 2110.54 250.772 Q2110.54 256.791 2108.11 261.073 Q2105.7 265.356 2101.12 267.393 Z\" fill=\"#000000\" fill-rule=\"evenodd\" fill-opacity=\"1\" /><path clip-path=\"url(#clip350)\" d=\"M2134.24 251.814 Q2135.75 252.323 2137.16 253.99 Q2138.59 255.657 2140.03 258.573 L2144.78 268.018 L2139.75 268.018 L2135.33 259.152 Q2133.62 255.68 2132 254.545 Q2130.4 253.411 2127.62 253.411 L2122.53 253.411 L2122.53 268.018 L2117.85 268.018 L2117.85 233.458 L2128.41 233.458 Q2134.34 233.458 2137.25 235.934 Q2140.17 238.411 2140.17 243.411 Q2140.17 246.675 2138.64 248.828 Q2137.14 250.981 2134.24 251.814 M2122.53 237.3 L2122.53 249.569 L2128.41 249.569 Q2131.79 249.569 2133.5 248.018 Q2135.24 246.444 2135.24 243.411 Q2135.24 240.379 2133.5 238.851 Q2131.79 237.3 2128.41 237.3 L2122.53 237.3 Z\" fill=\"#000000\" fill-rule=\"evenodd\" fill-opacity=\"1\" /></svg>\n"
      ]
     },
     "execution_count": 11,
     "metadata": {},
     "output_type": "execute_result"
    }
   ],
   "source": [
    "approx_f = factorize(a)\n",
    "approx_res = approx_f \\ aggregated.Time_mean\n",
    "\n",
    "poly_approx = Polynomial(reverse(approx_res))\n",
    "\n",
    "plot!(poly_approx, extrema(aggregated.Size)..., \n",
    "    label=\"QR\", linewidth=5, lineaplha=0.4)"
   ]
  },
  {
   "cell_type": "markdown",
   "id": "8d77b829",
   "metadata": {
    "pycharm": {
     "name": "#%% md\n"
    }
   },
   "source": [
    "#### Zadanie 3 (2 pkt)\n",
    "\n",
    "Znajdź i zaprezentuj działanie innego zastosowania wybranej faktoryzacji. Przykładowe (ale nie jedyne!) tematy:\n",
    "\n",
    "-    tworzenie pseudoinversji macierzy (http://buzzard.ups.edu/courses/2014spring/420projects/math420-UPS-spring-2014-macausland-pseudo-inverse-present.pdf).\n",
    "\n",
    "- uzycie faktoryzacji QR do znajdowania wartości własnych (https://en.wikipedia.org/wiki/QR_algorithm)\n",
    "\n",
    "- zastosowanie faktoryzacji SVD - przykład zastosowania w uczeniu maszynowym https://blog.statsbot.co/singular-value-decomposition-tutorial-52c695315254\n",
    "\n",
    "- kompresji danych https://medium.com/balabit-unsupervised/image-compression-using-singular-value-decomposition-de20451c69a3"
   ]
  },
  {
   "cell_type": "markdown",
   "id": "ffb1cf42",
   "metadata": {
    "pycharm": {
     "name": "#%% md\n"
    }
   },
   "source": [
    "#### Znajdowanie wartości własnych - faktoryzacja QR"
   ]
  },
  {
   "cell_type": "markdown",
   "id": "2fe0cc7a",
   "metadata": {
    "pycharm": {
     "name": "#%% md\n"
    }
   },
   "source": [
    "**Algorytm**\n",
    "\n",
    "Krok 0-wy: $A_0 = A$\n",
    "\n",
    "Krok k-ty:\n",
    "- wykonaj faktoryzację QR macierzy $A_k = Q_kR_k$, gdzie:\n",
    "    - $Q_k$ - macierz ortogonalna, $R_k$ - macierz trójkątna górna\n",
    "- korzystając z własności mnożenia macierzy oraz ortogonalności $Q_k$: $A_{k+1} = R_k Q_k = Q_k^{-1} Q_k R_k Q_k = Q_k^{-1} A_k Q_k = Q_k^{T} A_k Q_k $\n",
    "\n",
    "Macierze $A_k$ są podobne, zatem mają te same wartości własne, które w kolejnych iteracjach algorytmu zbiegają do pewnej macierzy trójkątnej, której wartości własne znajdują się na przekątnej głownej macierzy."
   ]
  },
  {
   "cell_type": "code",
   "execution_count": 12,
   "id": "507dfc08",
   "metadata": {
    "pycharm": {
     "name": "#%%\n"
    }
   },
   "outputs": [
    {
     "data": {
      "text/plain": [
       "find_eigenvalues (generic function with 1 method)"
      ]
     },
     "execution_count": 12,
     "metadata": {},
     "output_type": "execute_result"
    }
   ],
   "source": [
    "function find_eigenvalues(A, steps)\n",
    "    \n",
    "    for k in 1:1:steps\n",
    "        A_k = qr(A)\n",
    "        A = Transpose(A_k.Q)*A*(A_k.Q)\n",
    "    end\n",
    "    ev = [A[i,i] for i in 1:1:size(A, 1)]\n",
    "end"
   ]
  },
  {
   "cell_type": "code",
   "execution_count": 13,
   "id": "fa1c7a9b",
   "metadata": {
    "pycharm": {
     "name": "#%%\n"
    }
   },
   "outputs": [
    {
     "data": {
      "text/plain": [
       "2-element Vector{Float64}:\n",
       " 5.000000000152788\n",
       " 3.999999999847228"
      ]
     },
     "execution_count": 13,
     "metadata": {},
     "output_type": "execute_result"
    }
   ],
   "source": [
    "A = [6.0 -1.0; \n",
    "     2.0 3.0]\n",
    "ev = find_eigenvalues(A, 100)"
   ]
  },
  {
   "cell_type": "markdown",
   "id": "a9ea5278",
   "metadata": {
    "pycharm": {
     "name": "#%% md\n"
    }
   },
   "source": [
    "Z kalkulatora wartości własnych: $\\lambda_0 = 5, \\lambda_1 = 4$"
   ]
  },
  {
   "cell_type": "code",
   "execution_count": 14,
   "id": "16993afe",
   "metadata": {
    "pycharm": {
     "name": "#%%\n"
    }
   },
   "outputs": [
    {
     "data": {
      "text/plain": [
       "3-element Vector{Float64}:\n",
       " 7.000000000000012\n",
       " 5.0000000000000036\n",
       " 6.018571660417214e-17"
      ]
     },
     "execution_count": 14,
     "metadata": {},
     "output_type": "execute_result"
    }
   ],
   "source": [
    "A = [6.0 -1.0 1.0;\n",
    "     2.0 3.0 2.0;\n",
    "     2.0 5.0 3.0]\n",
    "ev = find_eigenvalues(A, 100)"
   ]
  },
  {
   "cell_type": "markdown",
   "id": "dcef0131",
   "metadata": {
    "pycharm": {
     "name": "#%% md\n"
    }
   },
   "source": [
    "Z kalkulatora wartości własnych: $\\lambda_0 = 0, \\lambda_1 = 5, \\lambda_2 = 7$"
   ]
  },
  {
   "cell_type": "code",
   "execution_count": null,
   "id": "2aa7924c",
   "metadata": {
    "pycharm": {
     "name": "#%%\n"
    }
   },
   "outputs": [],
   "source": []
  }
 ],
 "metadata": {
  "@webio": {
   "lastCommId": null,
   "lastKernelId": null
  },
  "kernelspec": {
   "display_name": "Julia 1.7.2",
   "language": "julia",
   "name": "julia-1.7"
  },
  "language_info": {
   "file_extension": ".jl",
   "mimetype": "application/julia",
   "name": "julia",
   "version": "1.7.2"
  }
 },
 "nbformat": 4,
 "nbformat_minor": 5
}