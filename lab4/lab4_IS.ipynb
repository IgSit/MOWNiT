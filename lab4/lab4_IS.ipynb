{
 "cells": [
  {
   "cell_type": "markdown",
   "id": "54e1592f",
   "metadata": {},
   "source": [
    "### Zadanie 1\n",
    "\n",
    "Uruchomić:\n",
    "\n",
    "* naive_multiplication(A,B),\n",
    "* better_multiplication(A,B)\n",
    "* mnożenie BLAS w Julii (A*B)\n",
    "\n",
    "dla coraz większych macierzy kwadratowych i zmierzyć czasy. Narysować wykres zależyności czasu od rozmiaru macierzy wraz z słupkami błędów, tak jak na poprzednim laboratorium. Wszystkie trzy metody powinny być na jednym wykresie. (1pkt)\n"
   ]
  },
  {
   "cell_type": "code",
   "execution_count": 1,
   "id": "a0eda750",
   "metadata": {},
   "outputs": [
    {
     "data": {
      "text/plain": [
       "blas_time (generic function with 1 method)"
      ]
     },
     "execution_count": 1,
     "metadata": {},
     "output_type": "execute_result"
    }
   ],
   "source": [
    "function naive_multiplication(A,B)\n",
    "    C = zeros(Float64, size(A,1), size(B,2))\n",
    "    for i=1:size(A,1)\n",
    "        for j=1:size(B,2)\n",
    "            for k=1:size(A,2)\n",
    "                C[i,j] = C[i,j] + A[i,k]*B[k,j]\n",
    "            end\n",
    "        end\n",
    "    end\n",
    "end\n",
    "\n",
    "\n",
    "function better_multiplication(A, B)\n",
    "    C = zeros(Float64, size(A,1), size(B,2))\n",
    "    for j=1:size(B,2)\n",
    "        for k=1:size(A,2)\n",
    "            for i=1:size(A,1)\n",
    "                C[i,j] = C[i,j] + A[i,k]*B[k,j]\n",
    "            end\n",
    "        end\n",
    "    end\n",
    "end\n",
    "\n",
    "\n",
    "function naive_time(A, B)\n",
    "    @elapsed naive_multiplication(A, B)\n",
    "end\n",
    "\n",
    "function better_time(A, B)\n",
    "    @elapsed better_multiplication(A, B)\n",
    "end\n",
    "\n",
    "function blas_time(A, B)\n",
    "    @elapsed A*B\n",
    "end"
   ]
  },
  {
   "cell_type": "code",
   "execution_count": null,
   "id": "8924865f",
   "metadata": {
    "scrolled": true
   },
   "outputs": [],
   "source": [
    "using DataFrames\n",
    "\n",
    "dataframe= DataFrame(Size = 1, Operation=\"NaiveTime\", Time = 0.0)\n",
    "delete!(dataframe, 1)\n",
    "\n",
    "functions = [naive_time, better_time, blas_time]\n",
    "texts = [\"naive_multiplication\", \"better_multiplication\", \"BLAS_multiplication\"]\n",
    "\n",
    "for n = 10:100:1200\n",
    "    for i in 1:3\n",
    "        func = functions[i]\n",
    "        text = texts[i]\n",
    "        A = rand(n, n)\n",
    "        B = rand(n, n)\n",
    "        for a = 1:10\n",
    "            push!(dataframe, [n, text, func(A, B)])\n",
    "        end\n",
    "    end\n",
    "end\n",
    "\n",
    "dataframe"
   ]
  },
  {
   "cell_type": "code",
   "execution_count": null,
   "id": "b395a7bb",
   "metadata": {
    "scrolled": true
   },
   "outputs": [],
   "source": [
    "using Statistics\n",
    "\n",
    "grouped = groupby(dataframe, [:Operation, :Size])\n",
    "aggregated = combine(grouped, \"Time\" => mean, \"Time\" => std)"
   ]
  },
  {
   "cell_type": "code",
   "execution_count": null,
   "id": "ac69f796",
   "metadata": {},
   "outputs": [],
   "source": [
    "using Plots\n",
    "\n",
    "scatter(aggregated.Size, aggregated.Time_mean, yerror=aggregated.Time_std, group=aggregated.Operation, \n",
    "        legend=:topleft, markersize=[3 3 3], ylabel=\"Time [s]\", xlabel=\"Matrix size\", title=\"Julia matrix operations\")"
   ]
  },
  {
   "cell_type": "markdown",
   "id": "9769bad4",
   "metadata": {},
   "source": [
    "### Zadanie 2\n",
    "Napisać w języku C:\n",
    "\n",
    "* naiwną metodę mnożenia macierzy kwadratowych (wersja 1)\n",
    "\n",
    "* ulepszoną wersję za pomocą zamiany pętli metodę mnożenia macierzy(wersja 2), pamiętając, że w C macierz przechowywana jest wierszami (row major order tzn A11,A12, ..., A1m, A21, A22,...,A2m, ..Anm), inaczej niż w Julii !\n",
    "\n",
    "* skorzystać z możliwości BLAS poziom 3 dostępnego w GSL (przykład uzycia https://www.gnu.org/software/gsl/doc/html/blas.html#examples )\n",
    "\n",
    "Należy porównywać działanie tych trzech algorytmow bez włączonej opcji optymalizacji kompilatora. Przedstawić wyniki na jednym wykresie tak jak w p.1. (osobno niż p.1). (1 pkt)\n",
    "\n",
    "(Dla chętnych) sprawdzić, co się dzieje, jak włączymy optymalizację kompilatora i dodać do wykresu.\n"
   ]
  },
  {
   "cell_type": "markdown",
   "id": "d4cdca62",
   "metadata": {},
   "source": [
    "```c\n",
    "#include <stdio.h>\n",
    "#include <stdlib.h>\n",
    "#include <gsl/gsl_blas.h>\n",
    "#include <float.h>\n",
    "#include <sys/times.h>\n",
    "#include <unistd.h>\n",
    "\n",
    "clock_t start_time, end_time;\n",
    "struct tms start_tms, end_tms;\n",
    "\n",
    "void start_the_time() {\n",
    "    start_time = times(&start_tms);\n",
    "}\n",
    "\n",
    "void end_the_time() {\n",
    "    end_time = times(&end_tms);\n",
    "}\n",
    "\n",
    "double get_time() {\n",
    "    return (double) (end_time - start_time) / sysconf(_SC_CLK_TCK);\n",
    "}\n",
    "\n",
    "void naive_multiply(double** A, double** B, double** C, int n){\n",
    "    for (int i = 0; i < n; i++)\n",
    "        for (int j = 0; j < n; j++)\n",
    "            for (int k = 0; k < n; k++)\n",
    "                C[i][j] += A[i][k] * B[k][j];\n",
    "}\n",
    "\n",
    "void better_multiply(double** A, double** B, double** C, int n){\n",
    "    for (int i = 0; i < n; i++)\n",
    "        for (int k = 0; k < n; k++)\n",
    "            for (int j = 0; j < n; j++)\n",
    "                C[i][j] += A[i][k] * B[k][j];\n",
    "}\n",
    "\n",
    "void free_matrix(double** matrix, int n) {\n",
    "    for (int i = 0; i < n; i++) {\n",
    "        free(matrix[i]);\n",
    "    }\n",
    "    free(matrix);\n",
    "}\n",
    "\n",
    "double** random_matrix(int n) {\n",
    "    double** matrix = malloc(n * sizeof(double*));\n",
    "    for (int i = 0; i < n; i++) {\n",
    "        matrix[i] = malloc(n * sizeof(double));\n",
    "        for (int j = 0; j < n; j++) {\n",
    "            matrix[i][j]  = (double) rand() / (double) RAND_MAX;\n",
    "        }\n",
    "    }\n",
    "    return matrix;\n",
    "}\n",
    "\n",
    "gsl_matrix* random_gsl(int n) {\n",
    "    gsl_matrix* matrix = gsl_matrix_alloc(n, n);\n",
    "    for (int i = 0; i < n; i++) {\n",
    "        for (int j = 0; j < n; j++) {\n",
    "            gsl_matrix_set(matrix, i, j, (double) rand() / RAND_MAX);\n",
    "        }\n",
    "    }\n",
    "    return matrix;\n",
    "}\n",
    "\n",
    "int main() {\n",
    "    FILE* file = fopen(\"data.csv\", \"w\");\n",
    "\n",
    "    fprintf(file, \"Size,Operation,Time\");\n",
    "    double time;\n",
    "\n",
    "    for (int i = 10; i < 500; i += 90) {\n",
    "        for (int j = 0; j < 10; j++) {\n",
    "            double** A = random_matrix(i);\n",
    "            double** B = random_matrix(i);\n",
    "            double** C = random_matrix(i);\n",
    "\n",
    "            start_the_time();\n",
    "            naive_multiply(A, B, C, i);\n",
    "            end_the_time();\n",
    "            time = get_time();\n",
    "            fprintf(file, \"\\n%d,%s,%.*e\", i, \"naive_multiplication\", DECIMAL_DIG, time);\n",
    "\n",
    "            start_the_time();\n",
    "            better_multiply(A, B, C, i);\n",
    "            end_the_time();\n",
    "            time = get_time();\n",
    "            fprintf(file, \"\\n%d,%s,%.*e\", i, \"better_multiplication\", DECIMAL_DIG, time);\n",
    "\n",
    "            free_matrix(A, i);\n",
    "            free_matrix(B, i);\n",
    "            free_matrix(C, i);\n",
    "\n",
    "            gsl_matrix* a = random_gsl(i);\n",
    "            gsl_matrix* b = random_gsl(i);\n",
    "            gsl_matrix* c = random_gsl(i);\n",
    "            start_the_time();\n",
    "            gsl_blas_dgemm(CblasNoTrans, CblasNoTrans, 1.0, a, b, 0.0, c);\n",
    "            end_the_time();\n",
    "            time = get_time();\n",
    "            fprintf(file, \"\\n%d,%s,%.*e\", i, \"GSL_multiplication\", DECIMAL_DIG, time);\n",
    "\n",
    "            gsl_matrix_free(a);\n",
    "            gsl_matrix_free(b);\n",
    "            gsl_matrix_free(c);\n",
    "        }\n",
    "    }\n",
    "    fclose(file);\n",
    "    return 0;\n",
    "}\n",
    "```"
   ]
  },
  {
   "cell_type": "code",
   "execution_count": null,
   "id": "877d9ae7",
   "metadata": {
    "scrolled": true
   },
   "outputs": [],
   "source": [
    "using CSV\n",
    "\n",
    "c_dataframe = CSV.read(\"c_data.csv\", delim=\",\", DataFrame)"
   ]
  },
  {
   "cell_type": "code",
   "execution_count": null,
   "id": "e717e456",
   "metadata": {
    "scrolled": true
   },
   "outputs": [],
   "source": [
    "c_grouped = groupby(c_dataframe, [:Operation, :Size])\n",
    "c_aggregated = combine(c_grouped, \"Time\" => mean, \"Time\" => std)"
   ]
  },
  {
   "cell_type": "code",
   "execution_count": null,
   "id": "2b5ef438",
   "metadata": {},
   "outputs": [],
   "source": [
    "scatter(c_aggregated.Size, c_aggregated.Time_mean, yerror=c_aggregated.Time_std, group=c_aggregated.Operation, \n",
    "        legend=:topleft, markersize=[4 4 4], ylabel=\"Time [s]\", xlabel=\"Matrix size\", title=\"C matrix operations\")"
   ]
  },
  {
   "cell_type": "markdown",
   "id": "ba3a923a",
   "metadata": {},
   "source": [
    "### Zadanie 3\n",
    "Użyć funkcji polyfit z pakietu Polynomials do znalezienia odpowiednich wielomianów, które najlepiej pasują do zależności czasowych każdego z algorytmów. Stopień wielomianu powinien zgadzać się z teoretyczną złożonoscią. Dodać wykresy uzyskanych wielomianów do wcześniejszych wykresów. (1 pkt)"
   ]
  },
  {
   "cell_type": "code",
   "execution_count": null,
   "id": "5144e0d9",
   "metadata": {},
   "outputs": [],
   "source": [
    "using Polynomials\n",
    "\n",
    "values = groupby(c_aggregated, :Operation)\n",
    "args = values[1].Size\n",
    "\n",
    "for i = 1:1:3\n",
    "    tmp_values = values[i].Time_mean\n",
    "    fit_function = fit(args, tmp_values, 3)\n",
    "    plot!(fit_function, extrema(args)..., label=texts[i])\n",
    "end\n",
    "plot!()"
   ]
  },
  {
   "cell_type": "code",
   "execution_count": null,
   "id": "61ec95c1",
   "metadata": {},
   "outputs": [],
   "source": [
    "values = groupby(aggregated, :Operation)\n",
    "args = values[1].Size\n",
    "\n",
    "scatter(aggregated.Size, aggregated.Time_mean, yerror=aggregated.Time_std, group=aggregated.Operation, \n",
    "        legend=:topleft, markersize=[3 3 3], ylabel=\"Time [s]\", xlabel=\"Matrix size\", title=\"Julia matrix operations\")\n",
    "\n",
    "for i = 1:1:3\n",
    "    tmp_values = values[i].Time_mean\n",
    "    fit_function = fit(args, tmp_values, 3)\n",
    "    plot!(fit_function, extrema(args)..., label=texts[i])\n",
    "end\n",
    "plot!()"
   ]
  },
  {
   "cell_type": "markdown",
   "id": "4dd62697",
   "metadata": {},
   "source": [
    "### Zadanie 4\n",
    "Pokazać zniwelowanie efektu Rungego (przy interpolacji) poprzez użycie wsparcia dla wielomianów Czebyszewa w pakiecie Polynomials. Narysować wybraną funkcję z zaznaczonymi węzłami i wielomianem interpolacyjnym dla węzłów równoodległych oraz Czebyszewa (2 wykresy).(1 pkt)"
   ]
  },
  {
   "cell_type": "code",
   "execution_count": null,
   "id": "0e058c5c",
   "metadata": {},
   "outputs": [],
   "source": [
    "function runge(x)\n",
    "    return 1 / (1 + 25 * x * x)\n",
    "end\n",
    "\n",
    "xs = -1:0.005:1.0\n",
    "ys = [runge(x) for x in xs]\n",
    "\n",
    "scatter(xs, ys, label=\"Runge function\", title=\"Even distribution of nodes\")\n",
    "\n",
    "interX = -1:0.2:1\n",
    "interY = [runge(x) for x in interX]\n",
    "f = fit(interX, interY)\n",
    "plot!(f,  extrema(interX)..., label=\"polynomial interpolation with 11 nodes\", width=4)\n",
    "\n",
    "scatter!(interX, interY, label=\"Nodes\")"
   ]
  },
  {
   "cell_type": "code",
   "execution_count": null,
   "id": "cccd352e",
   "metadata": {},
   "outputs": [],
   "source": [
    "using ChebyshevApprox\n",
    "\n",
    "xs = -1:0.005:1.0\n",
    "ys = [runge(x) for x in xs]\n",
    "\n",
    "# scatter(xs, ys, label=\"Runge function\")\n",
    "\n",
    "# nodes = chebyshev_nodes(11)\n",
    "# values = [runge(x) for x in nodes]\n",
    "# f = fit(nodes, values)\n",
    "# plot!(f,  extrema(nodes)..., label=\"Chebyshev interpolation with 11 nodes\", width=4)\n",
    "\n",
    "# scatter!(nodes, values, label=\"Nodes\")\n",
    "\n",
    "chebyshev_base = [0, 0, 0, 0, 0, 0, 0, 0, 0, 0, 1]\n",
    "chebyshev_poly = ChebyshevT(chebyshev_base)\n",
    "args = Polynomials.roots(chebyshev_poly)\n",
    "values = [runge(x) for x in args]\n",
    "\n",
    "scatter(xs, ys, label=\"Runge function\", title=\"Chebyshev nodes\")\n",
    "poly_fit = fit(args, values)\n",
    "plot!(poly_fit, extrema(args)..., label=\"Chebyshev interpolation\", width=4)\n",
    "\n",
    "scatter!(args, values, label=\"nodes\")"
   ]
  },
  {
   "cell_type": "markdown",
   "id": "3876788b",
   "metadata": {},
   "source": [
    "### Zadanie 5\n",
    "Przybliżenie Pade jest często lepsze niż rozwinięcie w szereg Taylora przy aproksymowaniu funkcji, które posiadają osobliwości. Korzystając ze wsparcia dla aproksymacji Pade w pakiecie Polynomials pokazać dowolny przykład (wraz z wykresem), gdzie takie przybliżenie faktycznie jest lepsze. Można odtworzyć wykres z wykładu albo zainspirować się przykładowym artykułem https://www.hindawi.com/journals/ijcm/2014/587430/ (1 pkt)"
   ]
  },
  {
   "cell_type": "code",
   "execution_count": null,
   "id": "e5177806",
   "metadata": {},
   "outputs": [],
   "source": [
    "using TaylorSeries\n",
    "\n",
    "function example_Pade(x)\n",
    "    return log(1 + x) / x\n",
    "end\n",
    "\n",
    "taylor = Taylor1(Float64, 5)\n",
    "taylor_func = example_Pade(taylor)\n",
    "taylor_poly = Polynomial(taylor_func.coeffs)\n",
    "\n",
    "xs = 1:0.05:5.0\n",
    "ys = [example_Pade(x) for x in xs]\n",
    "\n",
    "scatter(xs, ys, label=\"Example function\", ylims=[0, 4])\n",
    "plot!(taylor_poly, extrema(xs)..., label=\"Taylor approximation\", width=3, color=:black)\n",
    "\n",
    "pade_object = Polynomials.PolyCompat.PadeApproximation.Pade(taylor_poly, 2, 2)\n",
    "pade_poly(x) = pade_object.p(x) / pade_object.q(x)\n",
    "\n",
    "plot!(pade_poly, extrema(xs)..., label=\"Pade approximation\", width=3, color=:red)"
   ]
  },
  {
   "cell_type": "code",
   "execution_count": null,
   "id": "9e6fd551",
   "metadata": {},
   "outputs": [],
   "source": []
  }
 ],
 "metadata": {
  "kernelspec": {
   "display_name": "Julia 1.7.2",
   "language": "julia",
   "name": "julia-1.7"
  },
  "language_info": {
   "file_extension": ".jl",
   "mimetype": "application/julia",
   "name": "julia",
   "version": "1.7.2"
  }
 },
 "nbformat": 4,
 "nbformat_minor": 5
}
