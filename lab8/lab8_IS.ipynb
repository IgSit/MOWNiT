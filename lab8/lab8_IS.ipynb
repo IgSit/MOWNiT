{
 "cells": [
  {
   "cell_type": "markdown",
   "id": "ad8bbc46",
   "metadata": {},
   "source": [
    "# Lab8:\n",
    "\n",
    "Wybrać trzy metody poszukiwania pierwiastków: \n",
    "\n",
    "* wykorzystującą przedział i zmianę znaku, \n",
    "* wykorzystującą pochodną, \n",
    "* wykorzystującą przybliżenie pochodnej\n",
    "\n",
    "#### 1. Każdą z trzech wybranych metod przetestować (ilość iteracji, ilość wywołań funkcji) na sześciu wybranych  funkcjach ze zbioru http://people.sc.fsu.edu/~jburkardt/py_src/test_zero/test_zero.html Wyniki przedstawić w formie tabelki. <b>Pamiętać o sprawdzeniu czy wynik jest poprawny poprzez obliczenie wartości funkcji dla znalezionego pierwiastka !</b> (3 pkt)"
   ]
  },
  {
   "cell_type": "code",
   "execution_count": 1,
   "id": "ba1450cf",
   "metadata": {},
   "outputs": [],
   "source": [
    "using Roots\n",
    "using Plots\n",
    "using ForwardDiff\n",
    "using Suppressor\n",
    "using DataFrames"
   ]
  },
  {
   "cell_type": "code",
   "execution_count": 2,
   "id": "eb183eab",
   "metadata": {},
   "outputs": [
    {
     "data": {
      "text/plain": [
       "derivativeApproxMethod (generic function with 1 method)"
      ]
     },
     "execution_count": 2,
     "metadata": {},
     "output_type": "execute_result"
    }
   ],
   "source": [
    "# falsi method\n",
    "function intervalMethod(f, a, b)\n",
    "    t = Roots.Tracks(Float64, Float64)\n",
    "    find_zero(f, (a, b), FalsePosition(), verbose=true)\n",
    "    return t\n",
    "end\n",
    "\n",
    "\n",
    "# Newton method\n",
    "function derivativeMethod(f, startX)\n",
    "    D(f) = x -> ForwardDiff.derivative(f, float(x))\n",
    "    t = Roots.Tracks(Float64, Float64)\n",
    "    find_zero((f, D(f)), startX, Roots.Newton(),verbose=true, tracks=t)\n",
    "    return t\n",
    "end\n",
    "\n",
    "\n",
    "# secants method\n",
    "function derivativeApproxMethod(f, startX)\n",
    "    t = Roots.Tracks(Float64, Float64)\n",
    "    find_zero(f, startX, verbose=true)\n",
    "    return t\n",
    "end"
   ]
  },
  {
   "cell_type": "code",
   "execution_count": 3,
   "id": "fefab184",
   "metadata": {},
   "outputs": [],
   "source": [
    "# function testMethod(dataframe, method, f, startX, method_name, f_name)\n",
    "#     io = open(\"log.txt\", \"w+\")\n",
    "#     out = @capture_out begin print(method(f, startX)) end\n",
    "#     write(io, out)\n",
    "#     close(io)\n",
    "#     lines = readlines(\"log.txt\")\n",
    "#     iter = parse(Int64, lines[5][15:end])\n",
    "#     eval = parse(Int64, lines[6][28:end])\n",
    "#     x = lines[end - 1][8:end]\n",
    "#     i = 1\n",
    "#     while x[i] != ','\n",
    "#         i += 1\n",
    "#     end\n",
    "#     zero = parse(Float64, x[1:(i-1)])\n",
    "#     zero_val = f(zero)\n",
    "#     push!(dataframe, [f_name method_name iter eval zero_val])\n",
    "# end"
   ]
  },
  {
   "cell_type": "code",
   "execution_count": 4,
   "id": "3f7f00a5",
   "metadata": {},
   "outputs": [
    {
     "data": {
      "text/html": [
       "<div class=\"data-frame\"><p>0 rows × 5 columns</p><table class=\"data-frame\"><thead><tr><th></th><th>func</th><th>method</th><th>iterations</th><th>evaluations</th><th>zero_value</th></tr><tr><th></th><th title=\"String\">String</th><th title=\"String\">String</th><th title=\"Int64\">Int64</th><th title=\"Int64\">Int64</th><th title=\"Bool\">Bool</th></tr></thead><tbody></tbody></table></div>"
      ],
      "text/latex": [
       "\\begin{tabular}{r|ccccc}\n",
       "\t& func & method & iterations & evaluations & zero\\_value\\\\\n",
       "\t\\hline\n",
       "\t& String & String & Int64 & Int64 & Bool\\\\\n",
       "\t\\hline\n",
       "\\end{tabular}\n"
      ],
      "text/plain": [
       "\u001b[1m0×5 DataFrame\u001b[0m"
      ]
     },
     "execution_count": 4,
     "metadata": {},
     "output_type": "execute_result"
    }
   ],
   "source": [
    "f1(x) = sin(x) - x / 2\n",
    "f2(x) = 2 * x - exp(-x)\n",
    "f3(x) = x * exp(-x)\n",
    "f4(x) = exp(x) - 1 / (10 * x) ^ 2\n",
    "f5(x) = (x + 3) * (x - 1) ^ 2\n",
    "f6(x) = x ^ 3\n",
    "\n",
    "function test(f, a, b)\n",
    "    intervalMethod(f, a, b)\n",
    "    derivativeMethod(f, (a + b) / 2)\n",
    "    derivativeApproxMethod(f, (a + b) / 2)\n",
    "end\n",
    "\n",
    "df = DataFrame(func = String[], method = String[], iterations = Int64[], evaluations = Int64[], zero_value = Bool[])"
   ]
  },
  {
   "cell_type": "code",
   "execution_count": 5,
   "id": "d8521938",
   "metadata": {
    "scrolled": true
   },
   "outputs": [
    {
     "data": {
      "text/plain": [
       "Results of univariate zero finding:\n",
       "\n",
       "* Converged to: 1.895494267033981\n",
       "* Algorithm: FalsePosition{:anderson_bjork}()\n",
       "* iterations: 10\n",
       "* function evaluations ≈ 12\n",
       "* stopped as f(x_n) = 0\n",
       "\n",
       "Trace:\n",
       "x₁ = 0,\t fx₁ = 0\n",
       "x₂ = 10,\t fx₂ = -5.5440211108893696\n",
       "x₃ = 5,\t fx₃ = -3.4589242746631386\n",
       "x₄ = 2.5,\t fx₄ = -0.65152785589604356\n",
       "x₅ = 1.25,\t fx₅ = 0.3239846193555862\n",
       "x₆ = 1.6651466890159652,\t fx₆ = 0.16297896098014875\n",
       "x₇ = 1.9446763851217526,\t fx₇ = -0.041420950418796343\n",
       "x₈ = 1.8880306380481127,\t fx₈ = 0.0060864607812989302\n",
       "x₉ = 1.8952878661159387,\t fx₉ = 0.00016902681276442788\n",
       "x₁₀ = 1.8954942966408586,\t fx₁₀ = -2.4248700047913019e-08\n",
       "x₁₁ = 1.8954942670304449,\t fx₁₁ = 2.8961277820371834e-12\n",
       "x₁₂ = 1.8954942670339809,\t fx₁₂ = 0\n",
       "\n"
      ]
     },
     "metadata": {},
     "output_type": "display_data"
    },
    {
     "data": {
      "text/plain": [
       "Results of univariate zero finding:\n",
       "\n",
       "* Converged to: 1.895494267033981\n",
       "* Algorithm: Roots.Newton()\n",
       "* iterations: 6\n",
       "* function evaluations ≈ 12\n",
       "* stopped as f(x_n) = 0\n",
       "\n",
       "Trace:\n",
       "x₁ = 5,\t fx₁ = -3.4589242746631386\n",
       "x₂ = -10.988532943579219,\t fx₂ = 6.4942416816294779\n",
       "x₃ = 1.8195792624869025,\t fx₃ = 0.059423179322815045\n",
       "x₄ = 1.899211029513324,\t fx₄ = -0.003050655692591997\n",
       "x₅ = 1.8955022189114259,\t fx₅ = -6.5127967007194698e-06\n",
       "x₆ = 1.8954942670705659,\t fx₆ = -2.9963920233910812e-11\n",
       "x₇ = 1.8954942670339809,\t fx₇ = 0\n",
       "\n"
      ]
     },
     "metadata": {},
     "output_type": "display_data"
    },
    {
     "data": {
      "text/plain": [
       "Results of univariate zero finding:\n",
       "\n",
       "* Converged to: 0.0\n",
       "* Algorithm: Secant(); finished with bracketing method AlefeldPotraShi()\n",
       "* iterations: 2\n",
       "* function evaluations ≈ 4\n",
       "* stopped as f(x_n) = 0\n",
       "* Note: Used bracketing method AlefeldPotraShi() on  [-10.988747528500655,5.0]\n",
       "\n",
       "Trace:\n",
       "x₁ = 5.0000060556377948,\t fx₁ = -3.4589255847090024\n",
       "x₂ = 5,\t fx₂ = -3.4589242746631386\n",
       "x₃ = -10.988747528500655,\t fx₃ = 6.4943504620211705\n",
       "(a₃, b₃) = ( -10.988747528500655, 5 )\n",
       "(a₄, b₄) = ( 0, 5 )\n",
       "\n"
      ]
     },
     "metadata": {},
     "output_type": "display_data"
    },
    {
     "data": {
      "text/plain": [
       "Algorithm has not been run"
      ]
     },
     "execution_count": 5,
     "metadata": {},
     "output_type": "execute_result"
    }
   ],
   "source": [
    "test(f1, 0, 10)"
   ]
  },
  {
   "cell_type": "code",
   "execution_count": 6,
   "id": "dfa681f2",
   "metadata": {},
   "outputs": [
    {
     "data": {
      "text/html": [
       "<div class=\"data-frame\"><p>3 rows × 5 columns</p><table class=\"data-frame\"><thead><tr><th></th><th>func</th><th>method</th><th>iterations</th><th>evaluations</th><th>zero_value</th></tr><tr><th></th><th title=\"String\">String</th><th title=\"String\">String</th><th title=\"Int64\">Int64</th><th title=\"Int64\">Int64</th><th title=\"Bool\">Bool</th></tr></thead><tbody><tr><th>1</th><td>sin(x) - x / 2</td><td>interval</td><td>10</td><td>12</td><td>1</td></tr><tr><th>2</th><td>sin(x) - x / 2</td><td>derivative</td><td>6</td><td>12</td><td>1</td></tr><tr><th>3</th><td>sin(x) - x / 2</td><td>derivativeApprox</td><td>2</td><td>4</td><td>1</td></tr></tbody></table></div>"
      ],
      "text/latex": [
       "\\begin{tabular}{r|ccccc}\n",
       "\t& func & method & iterations & evaluations & zero\\_value\\\\\n",
       "\t\\hline\n",
       "\t& String & String & Int64 & Int64 & Bool\\\\\n",
       "\t\\hline\n",
       "\t1 & sin(x) - x / 2 & interval & 10 & 12 & 1 \\\\\n",
       "\t2 & sin(x) - x / 2 & derivative & 6 & 12 & 1 \\\\\n",
       "\t3 & sin(x) - x / 2 & derivativeApprox & 2 & 4 & 1 \\\\\n",
       "\\end{tabular}\n"
      ],
      "text/plain": [
       "\u001b[1m3×5 DataFrame\u001b[0m\n",
       "\u001b[1m Row \u001b[0m│\u001b[1m func           \u001b[0m\u001b[1m method           \u001b[0m\u001b[1m iterations \u001b[0m\u001b[1m evaluations \u001b[0m\u001b[1m zero_value \u001b[0m\n",
       "\u001b[1m     \u001b[0m│\u001b[90m String         \u001b[0m\u001b[90m String           \u001b[0m\u001b[90m Int64      \u001b[0m\u001b[90m Int64       \u001b[0m\u001b[90m Bool       \u001b[0m\n",
       "─────┼───────────────────────────────────────────────────────────────────────\n",
       "   1 │ sin(x) - x / 2  interval                  10           12        true\n",
       "   2 │ sin(x) - x / 2  derivative                 6           12        true\n",
       "   3 │ sin(x) - x / 2  derivativeApprox           2            4        true"
      ]
     },
     "execution_count": 6,
     "metadata": {},
     "output_type": "execute_result"
    }
   ],
   "source": [
    "push!(df, [\"sin(x) - x / 2\" \"interval\" 10 12 iszero(f1(1.895494267033981))])\n",
    "push!(df, [\"sin(x) - x / 2\" \"derivative\" 6 12 iszero(f1(1.895494267033981))])\n",
    "push!(df, [\"sin(x) - x / 2\" \"derivativeApprox\" 2 4 iszero(f1(0.0))])"
   ]
  },
  {
   "cell_type": "code",
   "execution_count": 7,
   "id": "b7fa16d5",
   "metadata": {
    "scrolled": true
   },
   "outputs": [
    {
     "data": {
      "text/plain": [
       "Results of univariate zero finding:\n",
       "\n",
       "* Converged to: 0.35173371124919584\n",
       "* Algorithm: FalsePosition{:anderson_bjork}()\n",
       "* iterations: 6\n",
       "* function evaluations ≈ 8\n",
       "* stopped as f(x_n) = 0\n",
       "\n",
       "Trace:\n",
       "x₁ = 0,\t fx₁ = -1\n",
       "x₂ = 3,\t fx₂ = 5.9502129316321364\n",
       "x₃ = 0.43164145178146418,\t fx₃ = 0.21384071227717771\n",
       "x₄ = 0.35327968187736314,\t fx₄ = 0.0041786410100026483\n",
       "x₅ = 0.35172477734461571,\t fx₅ = -2.4152548061651125e-05\n",
       "x₆ = 0.35173371304558215,\t fx₆ = 4.8564718913013394e-09\n",
       "x₇ = 0.35173371124919794,\t fx₇ = 5.773159728050814e-15\n",
       "x₈ = 0.35173371124919584,\t fx₈ = 0\n",
       "\n"
      ]
     },
     "metadata": {},
     "output_type": "display_data"
    },
    {
     "data": {
      "text/plain": [
       "Results of univariate zero finding:\n",
       "\n",
       "* Converged to: 0.35173371124919584\n",
       "* Algorithm: Roots.Newton()\n",
       "* iterations: 5\n",
       "* function evaluations ≈ 10\n",
       "* stopped as f(x_n) = 0\n",
       "\n",
       "Trace:\n",
       "x₁ = 1.45,\t fx₁ = 2.665429711906202\n",
       "x₂ = 0.25718466270311424,\t fx₂ = -0.25885608927960191\n",
       "x₃ = 0.35052582707756769,\t fx₃ = -0.0032659888887462962\n",
       "x₄ = 0.35173352133535846,\t fx₄ = -5.1342588514025067e-07\n",
       "x₅ = 0.35173371124919117,\t fx₅ = -1.2545520178264269e-14\n",
       "x₆ = 0.35173371124919584,\t fx₆ = 0\n",
       "\n"
      ]
     },
     "metadata": {},
     "output_type": "display_data"
    },
    {
     "data": {
      "text/plain": [
       "Results of univariate zero finding:\n",
       "\n",
       "* Converged to: 0.35173371124919584\n",
       "* Algorithm: Secant(); finished with bracketing method AlefeldPotraShi()\n",
       "* iterations: 4\n",
       "* function evaluations ≈ 9\n",
       "* stopped as f(x_n) = 0\n",
       "* Note: Used bracketing method AlefeldPotraShi() on  [0.25718428360732837,1.45]\n",
       "\n",
       "Trace:\n",
       "x₁ = 1.4500060555076217,\t fx₁ = 2.6654432433593125\n",
       "x₂ = 1.45,\t fx₂ = 2.665429711906202\n",
       "x₃ = 0.25718428360732837,\t fx₃ = -0.25885714059772547\n",
       "(a₃, b₃) = ( 0.25718428360732837, 1.45 )\n",
       "(a₄, b₄) = ( 0.25718428360732837, 0.6196842836073283 )\n",
       "(a₅, b₅) = ( 0.35173278625731053, 0.35173466003497172 )\n",
       "(a₆, b₆) = ( 0.35173278625731053, 0.35173371124919584 )\n",
       "\n"
      ]
     },
     "metadata": {},
     "output_type": "display_data"
    },
    {
     "data": {
      "text/plain": [
       "Algorithm has not been run"
      ]
     },
     "execution_count": 7,
     "metadata": {},
     "output_type": "execute_result"
    }
   ],
   "source": [
    "test(f2, -0.1, 3)"
   ]
  },
  {
   "cell_type": "code",
   "execution_count": 8,
   "id": "15214608",
   "metadata": {},
   "outputs": [
    {
     "data": {
      "text/html": [
       "<div class=\"data-frame\"><p>6 rows × 5 columns</p><table class=\"data-frame\"><thead><tr><th></th><th>func</th><th>method</th><th>iterations</th><th>evaluations</th><th>zero_value</th></tr><tr><th></th><th title=\"String\">String</th><th title=\"String\">String</th><th title=\"Int64\">Int64</th><th title=\"Int64\">Int64</th><th title=\"Bool\">Bool</th></tr></thead><tbody><tr><th>1</th><td>sin(x) - x / 2</td><td>interval</td><td>10</td><td>12</td><td>1</td></tr><tr><th>2</th><td>sin(x) - x / 2</td><td>derivative</td><td>6</td><td>12</td><td>1</td></tr><tr><th>3</th><td>sin(x) - x / 2</td><td>derivativeApprox</td><td>2</td><td>4</td><td>1</td></tr><tr><th>4</th><td>2 * x - exp(-x)</td><td>interval</td><td>6</td><td>8</td><td>1</td></tr><tr><th>5</th><td>2 * x - exp(-x)</td><td>derivative</td><td>5</td><td>1</td><td>1</td></tr><tr><th>6</th><td>2 * x - exp(-x)</td><td>derivativeApprox</td><td>4</td><td>9</td><td>1</td></tr></tbody></table></div>"
      ],
      "text/latex": [
       "\\begin{tabular}{r|ccccc}\n",
       "\t& func & method & iterations & evaluations & zero\\_value\\\\\n",
       "\t\\hline\n",
       "\t& String & String & Int64 & Int64 & Bool\\\\\n",
       "\t\\hline\n",
       "\t1 & sin(x) - x / 2 & interval & 10 & 12 & 1 \\\\\n",
       "\t2 & sin(x) - x / 2 & derivative & 6 & 12 & 1 \\\\\n",
       "\t3 & sin(x) - x / 2 & derivativeApprox & 2 & 4 & 1 \\\\\n",
       "\t4 & 2 * x - exp(-x) & interval & 6 & 8 & 1 \\\\\n",
       "\t5 & 2 * x - exp(-x) & derivative & 5 & 1 & 1 \\\\\n",
       "\t6 & 2 * x - exp(-x) & derivativeApprox & 4 & 9 & 1 \\\\\n",
       "\\end{tabular}\n"
      ],
      "text/plain": [
       "\u001b[1m6×5 DataFrame\u001b[0m\n",
       "\u001b[1m Row \u001b[0m│\u001b[1m func            \u001b[0m\u001b[1m method           \u001b[0m\u001b[1m iterations \u001b[0m\u001b[1m evaluations \u001b[0m\u001b[1m zero_value \u001b[0m\n",
       "\u001b[1m     \u001b[0m│\u001b[90m String          \u001b[0m\u001b[90m String           \u001b[0m\u001b[90m Int64      \u001b[0m\u001b[90m Int64       \u001b[0m\u001b[90m Bool       \u001b[0m\n",
       "─────┼────────────────────────────────────────────────────────────────────────\n",
       "   1 │ sin(x) - x / 2   interval                  10           12        true\n",
       "   2 │ sin(x) - x / 2   derivative                 6           12        true\n",
       "   3 │ sin(x) - x / 2   derivativeApprox           2            4        true\n",
       "   4 │ 2 * x - exp(-x)  interval                   6            8        true\n",
       "   5 │ 2 * x - exp(-x)  derivative                 5            1        true\n",
       "   6 │ 2 * x - exp(-x)  derivativeApprox           4            9        true"
      ]
     },
     "execution_count": 8,
     "metadata": {},
     "output_type": "execute_result"
    }
   ],
   "source": [
    "push!(df, [\"2 * x - exp(-x)\" \"interval\" 6 8 iszero(f2(0.35173371124919584))])\n",
    "push!(df, [\"2 * x - exp(-x)\" \"derivative\" 5 1 iszero(f2(0.35173371124919584))])\n",
    "push!(df, [\"2 * x - exp(-x)\" \"derivativeApprox\" 4 9 iszero(f2(0.35173371124919584))])"
   ]
  },
  {
   "cell_type": "code",
   "execution_count": 9,
   "id": "6373f831",
   "metadata": {},
   "outputs": [
    {
     "data": {
      "text/plain": [
       "Results of univariate zero finding:\n",
       "\n",
       "* Converged to: 2.7284841053187847e-12\n",
       "* Algorithm: FalsePosition{:anderson_bjork}()\n",
       "* iterations: 40\n",
       "* function evaluations ≈ 42\n",
       "\n",
       "Trace:\n",
       "x₁ = 0,\t fx₁ = 0\n",
       "x₂ = 3,\t fx₂ = 0.14936120510359183\n",
       "x₃ = 1.5,\t fx₃ = 0.33469524022264474\n",
       "x₄ = 0.75,\t fx₄ = 0.35427491455576099\n",
       "x₅ = 0.375,\t fx₅ = 0.25773347954661457\n",
       "x₆ = 0.1875,\t fx₆ = 0.15544295965882507\n",
       "x₇ = 0.09375,\t fx₇ = 0.085360346379378199\n",
       "x₈ = 0.046875,\t fx₈ = 0.044728437467305704\n",
       "x₉ = 0.0234375,\t fx₉ = 0.02289457089726708\n",
       "x₁₀ = 0.01171875,\t fx₁₀ = 0.011582222427115372\n",
       "x₁₁ = 0.005859375,\t fx₁₁ = 0.0058251431112840112\n",
       "x₁₂ = 0.0029296875,\t fx₁₂ = 0.0029211169917379102\n",
       "x₁₃ = 0.00146484375,\t fx₁₃ = 0.0014626995536278255\n",
       "x₁₄ = 0.000732421875,\t fx₁₄ = 0.00073188562959992421\n",
       "x₁₅ = 0.0003662109375,\t fx₁₅ = 0.00036607685160261499\n",
       "x₁₆ = 0.00018310546875,\t fx₁₆ = 0.00018307194420667111\n",
       "x₁₇ = 9.1552734375e-05,\t fx₁₇ = 9.1544352855509829e-05\n",
       "x₁₈ = 4.57763671875e-05,\t fx₁₈ = 4.5774271759668018e-05\n",
       "x₁₉ = 2.288818359375e-05,\t fx₁₉ = 2.2887659730796936e-05\n",
       "x₂₀ = 1.1444091796875e-05,\t fx₂₀ = 1.1443960830387342e-05\n",
       "x₂₁ = 5.7220458984375e-06,\t fx₂₁ = 5.7220131567219112e-06\n",
       "x₂₂ = 2.86102294921875e-06,\t fx₂₂ = 2.8610147637781434e-06\n",
       "x₂₃ = 1.430511474609375e-06,\t fx₂₃ = 1.4305094282477597e-06\n",
       "x₂₄ = 7.152557373046875e-07,\t fx₂₄ = 7.1525522571410071e-07\n",
       "x₂₅ = 3.5762786865234375e-07,\t fx₂₅ = 3.5762774075467418e-07\n",
       "x₂₆ = 1.7881393432617188e-07,\t fx₂₆ = 1.7881390235175162e-07\n",
       "x₂₇ = 8.9406967163085938e-08,\t fx₂₇ = 8.9406959169480518e-08\n",
       "x₂₈ = 4.4703483581542969e-08,\t fx₂₈ = 4.4703481583141571e-08\n",
       "x₂₉ = 2.2351741790771484e-08,\t fx₂₉ = 2.235174129117113e-08\n",
       "x₃₀ = 1.1175870895385742e-08,\t fx₃₀ = 1.1175870770485654e-08\n",
       "x₃₁ = 5.5879354476928711e-09,\t fx₃₁ = 5.5879354164678485e-09\n",
       "x₃₂ = 2.7939677238464355e-09,\t fx₃₂ = 2.7939677160401799e-09\n",
       "x₃₃ = 1.3969838619232178e-09,\t fx₃₃ = 1.3969838599716539e-09\n",
       "x₃₄ = 6.9849193096160889e-10,\t fx₃₄ = 6.9849193047371791e-10\n",
       "x₃₅ = 3.4924596548080444e-10,\t fx₃₅ = 3.492459653588317e-10\n",
       "x₃₆ = 1.7462298274040222e-10,\t fx₃₆ = 1.7462298270990904e-10\n",
       "x₃₇ = 8.7311491370201111e-11,\t fx₃₇ = 8.7311491362577814e-11\n",
       "x₃₈ = 4.3655745685100555e-11,\t fx₃₈ = 4.3655745683194731e-11\n",
       "x₃₉ = 2.1827872842550278e-11,\t fx₃₉ = 2.1827872842073822e-11\n",
       "x₄₀ = 1.0913936421275139e-11,\t fx₄₀ = 1.0913936421156025e-11\n",
       "x₄₁ = 5.4569682106375694e-12,\t fx₄₁ = 5.4569682106077909e-12\n",
       "x₄₂ = 2.7284841053187847e-12,\t fx₄₂ = 2.7284841053113401e-12\n",
       "\n"
      ]
     },
     "metadata": {},
     "output_type": "display_data"
    },
    {
     "data": {
      "text/plain": [
       "Results of univariate zero finding:\n",
       "\n",
       "* Converged to: 34.79256836061439\n",
       "* Algorithm: Roots.Newton()\n",
       "* iterations: 29\n",
       "* function evaluations ≈ 58\n",
       "* stopped as |f(x_n)| ≤ max(δ, |x|⋅ϵ) using δ = atol, ϵ = rtol\n",
       "\n",
       "Trace:\n",
       "x₁ = 1.45,\t fx₁ = 0.34012691773600656\n",
       "x₂ = 4.6722222222222225,\t fx₂ = 0.043692124385243405\n",
       "x₃ = 5.9445368969574721,\t fx₃ = 0.015575372972062103\n",
       "x₄ = 7.1467803063686404,\t fx₄ = 0.0056273403348987448\n",
       "x₅ = 8.309467103383966,\t fx₅ = 0.0020455846790544577\n",
       "x₆ = 9.4462759823153792,\t fx₆ = 0.00074609666051108996\n",
       "x₇ = 10.564671355861517,\t fx₇ = 0.00027269521578226395\n",
       "x₈ = 11.669222778779689,\t fx₈ = 9.9807429389972473e-05\n",
       "x₉ = 12.762950318332891,\t fx₉ = 3.6565556094586889e-05\n",
       "x₁₀ = 13.847963004175954,\t fx₁₀ = 1.3405776552778735e-05\n",
       "x₁₁ = 14.925796354075466,\t fx₁₁ = 4.9175243294895016e-06\n",
       "x₁₂ = 15.997605532852329,\t fx₁₂ = 1.80460924206137e-06\n",
       "x₁₃ = 17.064282843294286,\t fx₁₃ = 6.624668707023485e-07\n",
       "x₁₄ = 18.126532743259006,\t fx₁₄ = 2.4325489787149943e-07\n",
       "x₁₅ = 19.184921677843189,\t fx₁₅ = 8.9341740753380078e-08\n",
       "x₁₆ = 20.239912291369912,\t fx₁₆ = 3.2819080097636108e-08\n",
       "x₁₇ = 21.291887580282665,\t fx₁₇ = 1.2057711238341491e-08\n",
       "x₁₈ = 22.341168357935487,\t fx₁₈ = 4.4305714454988686e-09\n",
       "x₁₉ = 23.388026148625666,\t fx₁₉ = 1.6281817097372294e-09\n",
       "x₂₀ = 24.432692882234132,\t fx₂₀ = 5.9839456339806869e-10\n",
       "x₂₁ = 25.475368301786879,\t fx₂₁ = 2.1994221450879648e-10\n",
       "x₂₂ = 26.516225705347463,\t fx₂₂ = 8.0846496113288011e-11\n",
       "x₂₃ = 27.555416454463248,\t fx₂₃ = 2.9719511478788305e-11\n",
       "x₂₄ = 28.593073555481219,\t fx₂₄ = 1.0925637214679821e-11\n",
       "x₂₅ = 29.629314534507689,\t fx₂₅ = 4.0167407238336545e-12\n",
       "x₂₆ = 30.664243767577332,\t fx₂₆ = 1.4767956305472552e-12\n",
       "x₂₇ = 31.697954385917551,\t fx₂₇ = 5.4298090706970579e-13\n",
       "x₂₈ = 32.730529846400309,\t fx₂₈ = 1.9964780222203031e-13\n",
       "x₂₉ = 33.762045235674954,\t fx₂₉ = 7.3410605094053713e-14\n",
       "x₃₀ = 34.792568360614389,\t fx₃₀ = 2.6993925127603708e-14\n",
       "\n"
      ]
     },
     "metadata": {},
     "output_type": "display_data"
    },
    {
     "data": {
      "text/plain": [
       "Results of univariate zero finding:\n",
       "\n",
       "* Converged to: 31.341791410696633\n",
       "* Algorithm: Secant()\n",
       "* iterations: 39\n",
       "* function evaluations ≈ 43\n",
       "\n",
       "Trace:\n",
       "x₁ = 1.4500060555076217,\t fx₁ = 0.34012627853466587\n",
       "x₂ = 1.45,\t fx₂ = 0.34012691773600656\n",
       "x₃ = 1.4506055507621782,\t fx₃ = 0.34006297419780562\n",
       "x₄ = 1.5111606269800058,\t fx₄ = 0.33344323291671391\n",
       "x₅ = 4.5613826109214148,\t fx₅ = 0.047655519127317109\n",
       "x₆ = 5.0700115865022255,\t fx₆ = 0.031851573854667269\n",
       "x₇ = 6.0951121611272594,\t fx₇ = 0.013737513229807253\n",
       "x₈ = 6.8725376648526701,\t fx₈ = 0.0071188844564845418\n",
       "x₉ = 7.7087233045206114,\t fx₉ = 0.0034604012784272865\n",
       "x₁₀ = 8.4996351976965201,\t fx₁₀ = 0.0017300379175748646\n",
       "x₁₁ = 9.2903983377465842,\t fx₁₁ = 0.0008575621463104867\n",
       "x₁₂ = 10.067644603991686,\t fx₁₂ = 0.00042717455818358242\n",
       "x₁₃ = 10.839088389877983,\t fx₁₃ = 0.00021263584690955938\n",
       "x₁₄ = 11.603689807407386,\t fx₁₄ = 0.0001059687124457269\n",
       "x₁₅ = 12.363284861282592,\t fx₁₅ = 5.2823537579962396e-05\n",
       "x₁₆ = 13.118282807479552,\t fx₁₆ = 2.6343844486145806e-05\n",
       "x₁₇ = 13.869407392326675,\t fx₁₇ = 1.3141677561256394e-05\n",
       "x₁₈ = 14.617090493029187,\t fx₁₈ = 6.5575134954029088e-06\n",
       "x₁₉ = 15.36174721392848,\t fx₁₉ = 3.2727932205979508e-06\n",
       "x₂₀ = 16.103700033024047,\t fx₂₀ = 1.6337199397446893e-06\n",
       "x₂₁ = 16.843229576373812,\t fx₂₁ = 8.1564974689301689e-07\n",
       "x₂₂ = 17.580571054065949,\t fx₂₂ = 4.0727521374780349e-07\n",
       "x₂₃ = 18.315927653360554,\t fx₂₃ = 2.0338672753425109e-07\n",
       "x₂₄ = 19.049474579323771,\t fx₂₄ = 1.015783861406631e-07\n",
       "x₂₅ = 19.781364637425444,\t fx₂₅ = 5.073629408241248e-08\n",
       "x₂₆ = 20.511731695911081,\t fx₂₆ = 2.5343724403454108e-08\n",
       "x₂₇ = 21.240693816627836,\t fx₂₇ = 1.2660550278973521e-08\n",
       "x₂₈ = 21.968355637732071,\t fx₂₈ = 6.325020255176255e-09\n",
       "x₂₉ = 22.694810368451535,\t fx₂₉ = 3.1600623193423765e-09\n",
       "x₃₀ = 23.420141405323516,\t fx₃₀ = 1.5788880407154968e-09\n",
       "x₃₁ = 24.144423677782104,\t fx₃₁ = 7.8890892871827383e-10\n",
       "x₃₂ = 24.867724766351834,\t fx₃₂ = 3.9420343878720688e-10\n",
       "x₃₃ = 25.590105842030599,\t fx₃₃ = 1.9698371495757632e-10\n",
       "x₃₄ = 26.311622458822832,\t fx₃₄ = 9.8436278224823524e-11\n",
       "x₃₅ = 27.032325226841035,\t fx₃₅ = 4.9191914452989507e-11\n",
       "x₃₆ = 27.752260386825007,\t fx₃₆ = 2.4583562323428281e-11\n",
       "x₃₇ = 28.471470303080739,\t fx₃₇ = 1.228591343322691e-11\n",
       "x₃₈ = 29.189993888387914,\t fx₃₈ = 6.1401747522537497e-12\n",
       "x₃₉ = 29.907866971905246,\t fx₃₉ = 3.0687665304197004e-12\n",
       "x₄₀ = 30.625122619046703,\t fx₄₀ = 1.5337552954082809e-12\n",
       "x₄₁ = 31.341791410696633,\t fx₄₁ = 7.6657870957660913e-13\n",
       "\n"
      ]
     },
     "metadata": {},
     "output_type": "display_data"
    },
    {
     "data": {
      "text/plain": [
       "Algorithm has not been run"
      ]
     },
     "execution_count": 9,
     "metadata": {},
     "output_type": "execute_result"
    }
   ],
   "source": [
    "test(f3, -0.1, 3)"
   ]
  },
  {
   "cell_type": "code",
   "execution_count": 10,
   "id": "dec7b5fe",
   "metadata": {},
   "outputs": [
    {
     "data": {
      "text/html": [
       "<div class=\"data-frame\"><p>9 rows × 5 columns</p><table class=\"data-frame\"><thead><tr><th></th><th>func</th><th>method</th><th>iterations</th><th>evaluations</th><th>zero_value</th></tr><tr><th></th><th title=\"String\">String</th><th title=\"String\">String</th><th title=\"Int64\">Int64</th><th title=\"Int64\">Int64</th><th title=\"Bool\">Bool</th></tr></thead><tbody><tr><th>1</th><td>sin(x) - x / 2</td><td>interval</td><td>10</td><td>12</td><td>1</td></tr><tr><th>2</th><td>sin(x) - x / 2</td><td>derivative</td><td>6</td><td>12</td><td>1</td></tr><tr><th>3</th><td>sin(x) - x / 2</td><td>derivativeApprox</td><td>2</td><td>4</td><td>1</td></tr><tr><th>4</th><td>2 * x - exp(-x)</td><td>interval</td><td>6</td><td>8</td><td>1</td></tr><tr><th>5</th><td>2 * x - exp(-x)</td><td>derivative</td><td>5</td><td>1</td><td>1</td></tr><tr><th>6</th><td>2 * x - exp(-x)</td><td>derivativeApprox</td><td>4</td><td>9</td><td>1</td></tr><tr><th>7</th><td>x * exp(-x)</td><td>interval</td><td>40</td><td>42</td><td>0</td></tr><tr><th>8</th><td>x * exp(-x)</td><td>derivative</td><td>29</td><td>58</td><td>0</td></tr><tr><th>9</th><td>x * exp(-x)</td><td>derivativeApprox</td><td>39</td><td>43</td><td>0</td></tr></tbody></table></div>"
      ],
      "text/latex": [
       "\\begin{tabular}{r|ccccc}\n",
       "\t& func & method & iterations & evaluations & zero\\_value\\\\\n",
       "\t\\hline\n",
       "\t& String & String & Int64 & Int64 & Bool\\\\\n",
       "\t\\hline\n",
       "\t1 & sin(x) - x / 2 & interval & 10 & 12 & 1 \\\\\n",
       "\t2 & sin(x) - x / 2 & derivative & 6 & 12 & 1 \\\\\n",
       "\t3 & sin(x) - x / 2 & derivativeApprox & 2 & 4 & 1 \\\\\n",
       "\t4 & 2 * x - exp(-x) & interval & 6 & 8 & 1 \\\\\n",
       "\t5 & 2 * x - exp(-x) & derivative & 5 & 1 & 1 \\\\\n",
       "\t6 & 2 * x - exp(-x) & derivativeApprox & 4 & 9 & 1 \\\\\n",
       "\t7 & x * exp(-x) & interval & 40 & 42 & 0 \\\\\n",
       "\t8 & x * exp(-x) & derivative & 29 & 58 & 0 \\\\\n",
       "\t9 & x * exp(-x) & derivativeApprox & 39 & 43 & 0 \\\\\n",
       "\\end{tabular}\n"
      ],
      "text/plain": [
       "\u001b[1m9×5 DataFrame\u001b[0m\n",
       "\u001b[1m Row \u001b[0m│\u001b[1m func            \u001b[0m\u001b[1m method           \u001b[0m\u001b[1m iterations \u001b[0m\u001b[1m evaluations \u001b[0m\u001b[1m zero_value \u001b[0m\n",
       "\u001b[1m     \u001b[0m│\u001b[90m String          \u001b[0m\u001b[90m String           \u001b[0m\u001b[90m Int64      \u001b[0m\u001b[90m Int64       \u001b[0m\u001b[90m Bool       \u001b[0m\n",
       "─────┼────────────────────────────────────────────────────────────────────────\n",
       "   1 │ sin(x) - x / 2   interval                  10           12        true\n",
       "   2 │ sin(x) - x / 2   derivative                 6           12        true\n",
       "   3 │ sin(x) - x / 2   derivativeApprox           2            4        true\n",
       "   4 │ 2 * x - exp(-x)  interval                   6            8        true\n",
       "   5 │ 2 * x - exp(-x)  derivative                 5            1        true\n",
       "   6 │ 2 * x - exp(-x)  derivativeApprox           4            9        true\n",
       "   7 │ x * exp(-x)      interval                  40           42       false\n",
       "   8 │ x * exp(-x)      derivative                29           58       false\n",
       "   9 │ x * exp(-x)      derivativeApprox          39           43       false"
      ]
     },
     "execution_count": 10,
     "metadata": {},
     "output_type": "execute_result"
    }
   ],
   "source": [
    "push!(df, [\"x * exp(-x)\" \"interval\" 40 42 iszero(f3(2.7284841053187847e-12))])\n",
    "push!(df, [\"x * exp(-x)\" \"derivative\" 29 58 iszero(f3(34.79256836061439))])\n",
    "push!(df, [\"x * exp(-x)\" \"derivativeApprox\" 39 43 iszero(f3(31.341791410696633))])"
   ]
  },
  {
   "cell_type": "code",
   "execution_count": 11,
   "id": "5f403a41",
   "metadata": {
    "scrolled": true
   },
   "outputs": [
    {
     "data": {
      "text/plain": [
       "Results of univariate zero finding:\n",
       "\n",
       "* Converged to: 0.09534461720025875\n",
       "* Algorithm: FalsePosition{:anderson_bjork}()\n",
       "* iterations: 10\n",
       "* function evaluations ≈ 12\n",
       "* stopped as f(x_n) = 0\n",
       "\n",
       "Trace:\n",
       "x₁ = 0,\t fx₁ = -Inf\n",
       "x₂ = 3,\t fx₂ = 20.084425812076557\n",
       "x₃ = 1.5,\t fx₃ = 4.4772446258936203\n",
       "x₄ = 0.75,\t fx₄ = 2.0992222388348969\n",
       "x₅ = 0.375,\t fx₅ = 1.3838803035070901\n",
       "x₆ = 0.1875,\t fx₆ = 0.92178580497653617\n",
       "x₇ = 0.09375,\t fx₇ = -0.039492637469952019\n",
       "x₈ = 0.097601573695323046,\t fx₈ = 0.052772271718954267\n",
       "x₉ = 0.09539860947651034,\t fx₉ = 0.0013042087236161404\n",
       "x₁₀ = 0.095344614346001763,\t fx₁₀ = -6.9001735436557965e-08\n",
       "x₁₁ = 0.095344617202569537,\t fx₁₁ = 5.5863313974668927e-11\n",
       "x₁₂ = 0.095344617200258747,\t fx₁₂ = 0\n",
       "\n"
      ]
     },
     "metadata": {},
     "output_type": "display_data"
    },
    {
     "data": {
      "text/plain": [
       "Results of univariate zero finding:\n",
       "\n",
       "* Converged to: -8.999510577046975\n",
       "* Algorithm: Roots.Newton()\n",
       "* iterations: 15\n",
       "* function evaluations ≈ 30\n",
       "* stopped as |f(x_n)| ≤ max(δ, |x|⋅ϵ) using δ = atol, ϵ = rtol\n",
       "\n",
       "Trace:\n",
       "x₁ = 1.45,\t fx₁ = 4.2583582726004456\n",
       "x₂ = 0.45265045408460269,\t fx₂ = 1.5236683413631751\n",
       "x₃ = -0.39945571970072391,\t fx₃ = 0.60801455195517051\n",
       "x₄ = -2.1030269847408563,\t fx₄ = 0.11982526421454857\n",
       "x₅ = -3.1021034212118881,\t fx₅ = 0.043915372489547751\n",
       "x₆ = -4.093766587404513,\t fx₆ = 0.016079605376222272\n",
       "x₇ = -5.0751406464580437,\t fx₇ = 0.0058619641283489416\n",
       "x₈ = -6.0365582114945839,\t fx₈ = 0.0021153464114492941\n",
       "x₉ = -6.9567343877058256,\t fx₉ = 0.0007455730298835567\n",
       "x₁₀ = -7.7918321618732067,\t fx₁₀ = 0.00024838500861563712\n",
       "x₁₁ = -8.4616627702322891,\t fx₁₁ = 7.1754917167090855e-05\n",
       "x₁₂ = -8.8638563273265714,\t fx₁₂ = 1.4130329273074981e-05\n",
       "x₁₃ = -8.9892472763235158,\t fx₁₃ = 9.9163671682652517e-07\n",
       "x₁₄ = -8.999448193500454,\t fx₁₄ = 5.9909705773500323e-09\n",
       "x₁₅ = -8.9995105747305377,\t fx₁₅ = 2.2244955443645464e-13\n",
       "x₁₆ = -8.9995105770469745,\t fx₁₆ = 5.4210108624275222e-20\n",
       "\n"
      ]
     },
     "metadata": {},
     "output_type": "display_data"
    },
    {
     "data": {
      "text/plain": [
       "Results of univariate zero finding:\n",
       "\n",
       "* Converged to: -0.1054119671030927\n",
       "* Algorithm: Secant(); finished with bracketing method AlefeldPotraShi()\n",
       "* iterations: 10\n",
       "* function evaluations ≈ 19\n",
       "* stopped as x_n ≈ x_{n-1} using atol=xatol, rtol=xrtol\n",
       "* Note: Used bracketing method AlefeldPotraShi() on  [-0.12566503725349248,-0.0601004196495252]\n",
       "\n",
       "Trace:\n",
       "x₁ = 1.4500060555076217,\t fx₁ = 4.2583841277269547\n",
       "x₂ = 1.45,\t fx₂ = 4.2583582726004456\n",
       "x₃ = 1.4493944492378217,\t fx₃ = 4.2557735467176316\n",
       "x₄ = 1.3888393730199942,\t fx₄ = 4.0050086431143113\n",
       "x₅ = 0.4217040197391061,\t fx₅ = 1.4683250911139574\n",
       "x₆ = -0.13810924691997906,\t fx₆ = 0.34673416146652281\n",
       "x₇ = -0.0601004196495252,\t fx₇ = -1.8268329862689709\n",
       "x₈ = -0.12566503725349248,\t fx₈ = 0.24866622213046985\n",
       "(a₈, b₈) = ( -0.12566503725349248, -0.0601004196495252 )\n",
       "(a₉, b₉) = ( -0.12566503725349248, -0.091516678962898321 )\n",
       "(a₁₀, b₁₀) = ( -0.10573290860416007, -0.10521560749665863 )\n",
       "(a₁₁, b₁₁) = ( -0.1054119671054241, -0.10541196710077502 )\n",
       "(a₁₂, b₁₂) = ( -0.10541196710309272, -0.1054119671030927 )\n",
       "\n"
      ]
     },
     "metadata": {},
     "output_type": "display_data"
    },
    {
     "data": {
      "text/plain": [
       "Algorithm has not been run"
      ]
     },
     "execution_count": 11,
     "metadata": {},
     "output_type": "execute_result"
    }
   ],
   "source": [
    "test(f4, -0.1, 3)"
   ]
  },
  {
   "cell_type": "code",
   "execution_count": 12,
   "id": "946f4317",
   "metadata": {},
   "outputs": [
    {
     "data": {
      "text/html": [
       "<div class=\"data-frame\"><p>12 rows × 5 columns</p><table class=\"data-frame\"><thead><tr><th></th><th>func</th><th>method</th><th>iterations</th><th>evaluations</th><th>zero_value</th></tr><tr><th></th><th title=\"String\">String</th><th title=\"String\">String</th><th title=\"Int64\">Int64</th><th title=\"Int64\">Int64</th><th title=\"Bool\">Bool</th></tr></thead><tbody><tr><th>1</th><td>sin(x) - x / 2</td><td>interval</td><td>10</td><td>12</td><td>1</td></tr><tr><th>2</th><td>sin(x) - x / 2</td><td>derivative</td><td>6</td><td>12</td><td>1</td></tr><tr><th>3</th><td>sin(x) - x / 2</td><td>derivativeApprox</td><td>2</td><td>4</td><td>1</td></tr><tr><th>4</th><td>2 * x - exp(-x)</td><td>interval</td><td>6</td><td>8</td><td>1</td></tr><tr><th>5</th><td>2 * x - exp(-x)</td><td>derivative</td><td>5</td><td>1</td><td>1</td></tr><tr><th>6</th><td>2 * x - exp(-x)</td><td>derivativeApprox</td><td>4</td><td>9</td><td>1</td></tr><tr><th>7</th><td>x * exp(-x)</td><td>interval</td><td>40</td><td>42</td><td>0</td></tr><tr><th>8</th><td>x * exp(-x)</td><td>derivative</td><td>29</td><td>58</td><td>0</td></tr><tr><th>9</th><td>x * exp(-x)</td><td>derivativeApprox</td><td>39</td><td>43</td><td>0</td></tr><tr><th>10</th><td>exp(x) - 1 / (10 * x) ^ 2</td><td>interval</td><td>10</td><td>12</td><td>1</td></tr><tr><th>11</th><td>exp(x) - 1 / (10 * x) ^ 2</td><td>derivative</td><td>15</td><td>30</td><td>0</td></tr><tr><th>12</th><td>exp(x) - 1 / (10 * x) ^ 2</td><td>derivativeApprox</td><td>10</td><td>19</td><td>0</td></tr></tbody></table></div>"
      ],
      "text/latex": [
       "\\begin{tabular}{r|ccccc}\n",
       "\t& func & method & iterations & evaluations & zero\\_value\\\\\n",
       "\t\\hline\n",
       "\t& String & String & Int64 & Int64 & Bool\\\\\n",
       "\t\\hline\n",
       "\t1 & sin(x) - x / 2 & interval & 10 & 12 & 1 \\\\\n",
       "\t2 & sin(x) - x / 2 & derivative & 6 & 12 & 1 \\\\\n",
       "\t3 & sin(x) - x / 2 & derivativeApprox & 2 & 4 & 1 \\\\\n",
       "\t4 & 2 * x - exp(-x) & interval & 6 & 8 & 1 \\\\\n",
       "\t5 & 2 * x - exp(-x) & derivative & 5 & 1 & 1 \\\\\n",
       "\t6 & 2 * x - exp(-x) & derivativeApprox & 4 & 9 & 1 \\\\\n",
       "\t7 & x * exp(-x) & interval & 40 & 42 & 0 \\\\\n",
       "\t8 & x * exp(-x) & derivative & 29 & 58 & 0 \\\\\n",
       "\t9 & x * exp(-x) & derivativeApprox & 39 & 43 & 0 \\\\\n",
       "\t10 & exp(x) - 1 / (10 * x) \\^ 2 & interval & 10 & 12 & 1 \\\\\n",
       "\t11 & exp(x) - 1 / (10 * x) \\^ 2 & derivative & 15 & 30 & 0 \\\\\n",
       "\t12 & exp(x) - 1 / (10 * x) \\^ 2 & derivativeApprox & 10 & 19 & 0 \\\\\n",
       "\\end{tabular}\n"
      ],
      "text/plain": [
       "\u001b[1m12×5 DataFrame\u001b[0m\n",
       "\u001b[1m Row \u001b[0m│\u001b[1m func                      \u001b[0m\u001b[1m method           \u001b[0m\u001b[1m iterations \u001b[0m\u001b[1m evaluations \u001b[0m\u001b[1m z\u001b[0m ⋯\n",
       "\u001b[1m     \u001b[0m│\u001b[90m String                    \u001b[0m\u001b[90m String           \u001b[0m\u001b[90m Int64      \u001b[0m\u001b[90m Int64       \u001b[0m\u001b[90m B\u001b[0m ⋯\n",
       "─────┼──────────────────────────────────────────────────────────────────────────\n",
       "   1 │ sin(x) - x / 2             interval                  10           12    ⋯\n",
       "   2 │ sin(x) - x / 2             derivative                 6           12\n",
       "   3 │ sin(x) - x / 2             derivativeApprox           2            4\n",
       "   4 │ 2 * x - exp(-x)            interval                   6            8\n",
       "   5 │ 2 * x - exp(-x)            derivative                 5            1    ⋯\n",
       "   6 │ 2 * x - exp(-x)            derivativeApprox           4            9\n",
       "   7 │ x * exp(-x)                interval                  40           42\n",
       "   8 │ x * exp(-x)                derivative                29           58\n",
       "   9 │ x * exp(-x)                derivativeApprox          39           43    ⋯\n",
       "  10 │ exp(x) - 1 / (10 * x) ^ 2  interval                  10           12\n",
       "  11 │ exp(x) - 1 / (10 * x) ^ 2  derivative                15           30\n",
       "  12 │ exp(x) - 1 / (10 * x) ^ 2  derivativeApprox          10           19\n",
       "\u001b[36m                                                                1 column omitted\u001b[0m"
      ]
     },
     "execution_count": 12,
     "metadata": {},
     "output_type": "execute_result"
    }
   ],
   "source": [
    "push!(df, [\"exp(x) - 1 / (10 * x) ^ 2\" \"interval\" 10 12 iszero(f4(0.09534461720025875))])\n",
    "push!(df, [\"exp(x) - 1 / (10 * x) ^ 2\" \"derivative\" 15 30 iszero(f4(-8.999510577046975))])\n",
    "push!(df, [\"exp(x) - 1 / (10 * x) ^ 2\" \"derivativeApprox\" 10 19 iszero(f4(-0.1054119671030927))])"
   ]
  },
  {
   "cell_type": "code",
   "execution_count": 13,
   "id": "4b953d48",
   "metadata": {
    "scrolled": true
   },
   "outputs": [
    {
     "data": {
      "text/plain": [
       "Results of univariate zero finding:\n",
       "\n",
       "* Converged to: -3.0\n",
       "* Algorithm: FalsePosition{:anderson_bjork}()\n",
       "* iterations: 11\n",
       "* function evaluations ≈ 13\n",
       "* stopped as f(x_n) = 0\n",
       "\n",
       "Trace:\n",
       "x₁ = -5,\t fx₁ = -72\n",
       "x₂ = 0,\t fx₂ = 3\n",
       "x₃ = -0.20000000000000001,\t fx₃ = 4.032\n",
       "x₄ = -0.68345323741007191,\t fx₄ = 6.5651278159709161\n",
       "x₅ = -1.837067475948414,\t fx₅ = 9.3603879061063484\n",
       "x₆ = -3.4495756373972446,\t fx₆ = -8.9010236710403134\n",
       "x₇ = -2.6636028086174672,\t fx₇ = 4.5151182382007846\n",
       "x₈ = -2.9281170242512058,\t fx₈ = 1.1091617453559861\n",
       "x₉ = -3.0020448415419576,\t fx₉ = -0.032750924237028724\n",
       "x₁₀ = -2.9999245354909165,\t fx₁₀ = 0.0012073865866281867\n",
       "x₁₁ = -2.999999922900463,\t fx₁₁ = 1.2335925440770963e-06\n",
       "x₁₂ = -3.0000000000000022,\t fx₁₂ = -3.5527136788005041e-14\n",
       "x₁₃ = -3,\t fx₁₃ = 0\n",
       "\n"
      ]
     },
     "metadata": {},
     "output_type": "display_data"
    },
    {
     "data": {
      "text/plain": [
       "Results of univariate zero finding:\n",
       "\n",
       "* Converged to: 1.0\n",
       "* Algorithm: Roots.Newton()\n",
       "* iterations: 1\n",
       "* function evaluations ≈ 2\n",
       "* stopped as f(x_n) = 0\n",
       "\n",
       "Trace:\n",
       "x₁ = -1,\t fx₁ = 8\n",
       "x₂ = 1,\t fx₂ = 0\n",
       "\n"
      ]
     },
     "metadata": {},
     "output_type": "display_data"
    },
    {
     "data": {
      "text/plain": [
       "Results of univariate zero finding:\n",
       "\n",
       "* Converged to: 0.9999999903057905\n",
       "* Algorithm: Secant()\n",
       "* iterations: 36\n",
       "* function evaluations ≈ 40\n",
       "* stopped as |f(x_n)| ≤ max(δ, |x|⋅ϵ) using δ = atol, ϵ = rtol\n",
       "\n",
       "Trace:\n",
       "x₁ = -0.99999394450887913,\t fx₁ = 7.9999757779621783\n",
       "x₂ = -1,\t fx₂ = 8\n",
       "x₃ = -0.9993944508879129,\t fx₃ = 7.9975770703942457\n",
       "x₄ = -0.93883953967920286,\t fx₄ = 7.7481057318379953\n",
       "x₅ = 0.9418809364381604,\t fx₅ = 0.013314986139419735\n",
       "x₆ = 0.94511848582959701,\t fx₆ = 0.01188262033469443\n",
       "x₇ = 0.97197654827869329,\t fx₇ = 0.00311924818084563\n",
       "x₈ = 0.98153644839072807,\t fx₈ = 0.0013573166768156661\n",
       "x₉ = 0.9889009865813887,\t fx₉ = 0.00049138512910372239\n",
       "x₁₀ = 0.99308009815108389,\t fx₁₀ = 0.00019120880660663657\n",
       "x₁₁ = 0.99574214334262345,\t fx₁₁ = 7.2440181113936475e-05\n",
       "x₁₂ = 0.99736579634869837,\t fx₁₂ = 2.7737836690920217e-05\n",
       "x₁₃ = 0.99837327420039779,\t fx₁₃ = 1.0580642606647353e-05\n",
       "x₁₄ = 0.99899457410704839,\t fx₁₄ = 4.0425085387105981e-06\n",
       "x₁₅ = 0.99937872196202315,\t fx₁₅ = 1.5437057970158699e-06\n",
       "x₁₆ = 0.99961604012273297,\t fx₁₆ = 5.896441440467977e-07\n",
       "x₁₇ = 0.99976271121395965,\t fx₁₇ = 2.2521051114721567e-07\n",
       "x₁₈ = 0.99985335013540844,\t fx₁₈ = 8.6021577260102618e-08\n",
       "x₁₉ = 0.99990936682270126,\t fx₁₉ = 3.2856746814348969e-08\n",
       "x₂₀ = 0.99994398606433765,\t fx₂₀ = 1.2550068206402767e-08\n",
       "x₂₁ = 0.99996538167768134,\t fx₂₁ = 4.7936714730588913e-09\n",
       "x₂₂ = 0.99997860476887435,\t fx₂₂ = 1.8310138658869786e-09\n",
       "x₂₃ = 0.99998677704746153,\t fx₂₃ = 6.993835833521015e-10\n",
       "x₂₄ = 0.99999182777610551,\t fx₂₄ = 2.671404277425365e-10\n",
       "x₂₅ = 0.99999494929183774,\t fx₂₅ = 1.0203848291936581e-10\n",
       "x₂₆ = 0.99999687849218766,\t fx₂₆ = 3.8975213674680057e-11\n",
       "x₂₇ = 0.99999807080265235,\t fx₂₇ = 1.4887202444625486e-11\n",
       "x₂₈ = 0.9999988076906875,\t fx₂₈ = 5.6864042917391683e-12\n",
       "x₂₉ = 0.99999926311240372,\t fx₂₉ = 2.1720129180459494e-12\n",
       "x₃₀ = 0.99999954457845164,\t fx₃₀ = 8.2963505239166083e-13\n",
       "x₃₁ = 0.99999971853401615,\t fx₃₁ = 3.1689237796782078e-13\n",
       "x₃₂ = 0.99999982604446003,\t fx₃₂ = 1.2104211428476139e-13\n",
       "x₃₃ = 0.99999989248956556,\t fx₃₃ = 4.6233972814608082e-14\n",
       "x₃₄ = 0.99999993355489802,\t fx₃₄ = 1.7659806013086692e-14\n",
       "x₃₅ = 0.99999995893466886,\t fx₃₅ = 6.7454456158451367e-15\n",
       "x₃₆ = 0.99999997462022971,\t fx₃₆ = 2.5765309426073138e-15\n",
       "x₃₇ = 0.99999998431443937,\t fx₃₇ = 9.8414724501731444e-16\n",
       "x₃₈ = 0.99999999030579045,\t fx₃₈ = 3.7591079399291644e-16\n",
       "\n"
      ]
     },
     "metadata": {},
     "output_type": "display_data"
    },
    {
     "data": {
      "text/plain": [
       "Algorithm has not been run"
      ]
     },
     "execution_count": 13,
     "metadata": {},
     "output_type": "execute_result"
    }
   ],
   "source": [
    "test(f5, -5, 3)"
   ]
  },
  {
   "cell_type": "code",
   "execution_count": 14,
   "id": "2750bbee",
   "metadata": {},
   "outputs": [
    {
     "data": {
      "text/html": [
       "<div class=\"data-frame\"><p>15 rows × 5 columns</p><table class=\"data-frame\"><thead><tr><th></th><th>func</th><th>method</th><th>iterations</th><th>evaluations</th><th>zero_value</th></tr><tr><th></th><th title=\"String\">String</th><th title=\"String\">String</th><th title=\"Int64\">Int64</th><th title=\"Int64\">Int64</th><th title=\"Bool\">Bool</th></tr></thead><tbody><tr><th>1</th><td>sin(x) - x / 2</td><td>interval</td><td>10</td><td>12</td><td>1</td></tr><tr><th>2</th><td>sin(x) - x / 2</td><td>derivative</td><td>6</td><td>12</td><td>1</td></tr><tr><th>3</th><td>sin(x) - x / 2</td><td>derivativeApprox</td><td>2</td><td>4</td><td>1</td></tr><tr><th>4</th><td>2 * x - exp(-x)</td><td>interval</td><td>6</td><td>8</td><td>1</td></tr><tr><th>5</th><td>2 * x - exp(-x)</td><td>derivative</td><td>5</td><td>1</td><td>1</td></tr><tr><th>6</th><td>2 * x - exp(-x)</td><td>derivativeApprox</td><td>4</td><td>9</td><td>1</td></tr><tr><th>7</th><td>x * exp(-x)</td><td>interval</td><td>40</td><td>42</td><td>0</td></tr><tr><th>8</th><td>x * exp(-x)</td><td>derivative</td><td>29</td><td>58</td><td>0</td></tr><tr><th>9</th><td>x * exp(-x)</td><td>derivativeApprox</td><td>39</td><td>43</td><td>0</td></tr><tr><th>10</th><td>exp(x) - 1 / (10 * x) ^ 2</td><td>interval</td><td>10</td><td>12</td><td>1</td></tr><tr><th>11</th><td>exp(x) - 1 / (10 * x) ^ 2</td><td>derivative</td><td>15</td><td>30</td><td>0</td></tr><tr><th>12</th><td>exp(x) - 1 / (10 * x) ^ 2</td><td>derivativeApprox</td><td>10</td><td>19</td><td>0</td></tr><tr><th>13</th><td>(x + 3) * (x - 1) ^ 2</td><td>interval</td><td>11</td><td>13</td><td>1</td></tr><tr><th>14</th><td>(x + 3) * (x - 1) ^ 2</td><td>derivative</td><td>1</td><td>2</td><td>1</td></tr><tr><th>15</th><td>(x + 3) * (x - 1) ^ 2</td><td>derivativeApprox</td><td>36</td><td>40</td><td>0</td></tr></tbody></table></div>"
      ],
      "text/latex": [
       "\\begin{tabular}{r|ccccc}\n",
       "\t& func & method & iterations & evaluations & zero\\_value\\\\\n",
       "\t\\hline\n",
       "\t& String & String & Int64 & Int64 & Bool\\\\\n",
       "\t\\hline\n",
       "\t1 & sin(x) - x / 2 & interval & 10 & 12 & 1 \\\\\n",
       "\t2 & sin(x) - x / 2 & derivative & 6 & 12 & 1 \\\\\n",
       "\t3 & sin(x) - x / 2 & derivativeApprox & 2 & 4 & 1 \\\\\n",
       "\t4 & 2 * x - exp(-x) & interval & 6 & 8 & 1 \\\\\n",
       "\t5 & 2 * x - exp(-x) & derivative & 5 & 1 & 1 \\\\\n",
       "\t6 & 2 * x - exp(-x) & derivativeApprox & 4 & 9 & 1 \\\\\n",
       "\t7 & x * exp(-x) & interval & 40 & 42 & 0 \\\\\n",
       "\t8 & x * exp(-x) & derivative & 29 & 58 & 0 \\\\\n",
       "\t9 & x * exp(-x) & derivativeApprox & 39 & 43 & 0 \\\\\n",
       "\t10 & exp(x) - 1 / (10 * x) \\^ 2 & interval & 10 & 12 & 1 \\\\\n",
       "\t11 & exp(x) - 1 / (10 * x) \\^ 2 & derivative & 15 & 30 & 0 \\\\\n",
       "\t12 & exp(x) - 1 / (10 * x) \\^ 2 & derivativeApprox & 10 & 19 & 0 \\\\\n",
       "\t13 & (x + 3) * (x - 1) \\^ 2 & interval & 11 & 13 & 1 \\\\\n",
       "\t14 & (x + 3) * (x - 1) \\^ 2 & derivative & 1 & 2 & 1 \\\\\n",
       "\t15 & (x + 3) * (x - 1) \\^ 2 & derivativeApprox & 36 & 40 & 0 \\\\\n",
       "\\end{tabular}\n"
      ],
      "text/plain": [
       "\u001b[1m15×5 DataFrame\u001b[0m\n",
       "\u001b[1m Row \u001b[0m│\u001b[1m func                      \u001b[0m\u001b[1m method           \u001b[0m\u001b[1m iterations \u001b[0m\u001b[1m evaluations \u001b[0m\u001b[1m z\u001b[0m ⋯\n",
       "\u001b[1m     \u001b[0m│\u001b[90m String                    \u001b[0m\u001b[90m String           \u001b[0m\u001b[90m Int64      \u001b[0m\u001b[90m Int64       \u001b[0m\u001b[90m B\u001b[0m ⋯\n",
       "─────┼──────────────────────────────────────────────────────────────────────────\n",
       "   1 │ sin(x) - x / 2             interval                  10           12    ⋯\n",
       "   2 │ sin(x) - x / 2             derivative                 6           12\n",
       "   3 │ sin(x) - x / 2             derivativeApprox           2            4\n",
       "   4 │ 2 * x - exp(-x)            interval                   6            8\n",
       "   5 │ 2 * x - exp(-x)            derivative                 5            1    ⋯\n",
       "   6 │ 2 * x - exp(-x)            derivativeApprox           4            9\n",
       "   7 │ x * exp(-x)                interval                  40           42\n",
       "   8 │ x * exp(-x)                derivative                29           58\n",
       "   9 │ x * exp(-x)                derivativeApprox          39           43    ⋯\n",
       "  10 │ exp(x) - 1 / (10 * x) ^ 2  interval                  10           12\n",
       "  11 │ exp(x) - 1 / (10 * x) ^ 2  derivative                15           30\n",
       "  12 │ exp(x) - 1 / (10 * x) ^ 2  derivativeApprox          10           19\n",
       "  13 │ (x + 3) * (x - 1) ^ 2      interval                  11           13    ⋯\n",
       "  14 │ (x + 3) * (x - 1) ^ 2      derivative                 1            2\n",
       "  15 │ (x + 3) * (x - 1) ^ 2      derivativeApprox          36           40\n",
       "\u001b[36m                                                                1 column omitted\u001b[0m"
      ]
     },
     "execution_count": 14,
     "metadata": {},
     "output_type": "execute_result"
    }
   ],
   "source": [
    "push!(df, [\"(x + 3) * (x - 1) ^ 2\" \"interval\" 11 13 iszero(f5(-3.0))])\n",
    "push!(df, [\"(x + 3) * (x - 1) ^ 2\" \"derivative\" 1 2 iszero(f5(1.0))])\n",
    "push!(df, [\"(x + 3) * (x - 1) ^ 2\" \"derivativeApprox\" 36 40 iszero(f5(0.9999999903057905))])"
   ]
  },
  {
   "cell_type": "code",
   "execution_count": 15,
   "id": "a9c604ce",
   "metadata": {},
   "outputs": [
    {
     "data": {
      "text/plain": [
       "Results of univariate zero finding:\n",
       "\n",
       "* Converged to: 5.7220458984375e-6\n",
       "* Algorithm: FalsePosition{:anderson_bjork}()\n",
       "* iterations: 19\n",
       "* function evaluations ≈ 21\n",
       "* stopped as |f(x_n)| ≤ max(δ, |x|⋅ϵ) using δ = atol, ϵ = rtol\n",
       "\n",
       "Trace:\n",
       "x₁ = 0,\t fx₁ = 0\n",
       "x₂ = 3,\t fx₂ = 27\n",
       "x₃ = 1.5,\t fx₃ = 3.375\n",
       "x₄ = 0.75,\t fx₄ = 0.421875\n",
       "x₅ = 0.375,\t fx₅ = 0.052734375\n",
       "x₆ = 0.1875,\t fx₆ = 0.006591796875\n",
       "x₇ = 0.09375,\t fx₇ = 0.000823974609375\n",
       "x₈ = 0.046875,\t fx₈ = 0.000102996826171875\n",
       "x₉ = 0.0234375,\t fx₉ = 1.2874603271484375e-05\n",
       "x₁₀ = 0.01171875,\t fx₁₀ = 1.6093254089355469e-06\n",
       "x₁₁ = 0.005859375,\t fx₁₁ = 2.0116567611694336e-07\n",
       "x₁₂ = 0.0029296875,\t fx₁₂ = 2.514570951461792e-08\n",
       "x₁₃ = 0.00146484375,\t fx₁₃ = 3.14321368932724e-09\n",
       "x₁₄ = 0.000732421875,\t fx₁₄ = 3.92901711165905e-10\n",
       "x₁₅ = 0.0003662109375,\t fx₁₅ = 4.9112713895738125e-11\n",
       "x₁₆ = 0.00018310546875,\t fx₁₆ = 6.1390892369672656e-12\n",
       "x₁₇ = 9.1552734375e-05,\t fx₁₇ = 7.673861546209082e-13\n",
       "x₁₈ = 4.57763671875e-05,\t fx₁₈ = 9.5923269327613525e-14\n",
       "x₁₉ = 2.288818359375e-05,\t fx₁₉ = 1.1990408665951691e-14\n",
       "x₂₀ = 1.1444091796875e-05,\t fx₂₀ = 1.4988010832439613e-15\n",
       "x₂₁ = 5.7220458984375e-06,\t fx₂₁ = 1.8735013540549517e-16\n",
       "\n"
      ]
     },
     "metadata": {},
     "output_type": "display_data"
    },
    {
     "data": {
      "text/plain": [
       "Results of univariate zero finding:\n",
       "\n",
       "* Converged to: 7.561887823727517e-6\n",
       "* Algorithm: Roots.Newton()\n",
       "* iterations: 30\n",
       "* function evaluations ≈ 60\n",
       "* stopped as |f(x_n)| ≤ max(δ, |x|⋅ϵ) using δ = atol, ϵ = rtol\n",
       "\n",
       "Trace:\n",
       "x₁ = 1.45,\t fx₁ = 3.0486249999999999\n",
       "x₂ = 0.96666666666666656,\t fx₂ = 0.90329629629629593\n",
       "x₃ = 0.64444444444444438,\t fx₃ = 0.26764334705075438\n",
       "x₄ = 0.42962962962962958,\t fx₄ = 0.079301732459482785\n",
       "x₅ = 0.28641975308641976,\t fx₅ = 0.023496809617624535\n",
       "x₆ = 0.19094650205761315,\t fx₆ = 0.0069620176644813424\n",
       "x₇ = 0.12729766803840875,\t fx₇ = 0.0020628200487352115\n",
       "x₈ = 0.084865112025605843,\t fx₈ = 0.00061120594036598883\n",
       "x₉ = 0.056576741350403893,\t fx₉ = 0.00018109805640473739\n",
       "x₁₀ = 0.037717827566935931,\t fx₁₀ = 5.3658683379181463e-05\n",
       "x₁₁ = 0.025145218377957287,\t fx₁₁ = 1.5898869149387098e-05\n",
       "x₁₂ = 0.016763478918638192,\t fx₁₂ = 4.7107760442628451e-06\n",
       "x₁₃ = 0.011175652612425462,\t fx₁₃ = 1.3957854945963988e-06\n",
       "x₁₄ = 0.0074504350749503082,\t fx₁₄ = 4.1356607247300703e-07\n",
       "x₁₅ = 0.0049669567166335388,\t fx₁₅ = 1.2253809554755763e-07\n",
       "x₁₆ = 0.0033113044777556928,\t fx₁₆ = 3.6307583865943017e-08\n",
       "x₁₇ = 0.0022075363185037949,\t fx₁₇ = 1.0757802626946075e-08\n",
       "x₁₈ = 0.0014716908790025299,\t fx₁₈ = 3.1874970746506886e-09\n",
       "x₁₉ = 0.00098112725266835329,\t fx₁₉ = 9.4444357767427802e-10\n",
       "x₂₀ = 0.00065408483511223553,\t fx₂₀ = 2.79835134125712e-10\n",
       "x₂₁ = 0.00043605655674149035,\t fx₂₁ = 8.2914113815025792e-11\n",
       "x₂₂ = 0.00029070437116099357,\t fx₂₂ = 2.4567144834081717e-11\n",
       "x₂₃ = 0.00019380291410732903,\t fx₂₃ = 7.2791540249130976e-12\n",
       "x₂₄ = 0.00012920194273821937,\t fx₂₄ = 2.15678637775203e-12\n",
       "x₂₅ = 8.6134628492146238e-05,\t fx₂₅ = 6.3904781563023101e-13\n",
       "x₂₆ = 5.7423085661430825e-05,\t fx₂₆ = 1.8934750092747582e-13\n",
       "x₂₇ = 3.828205710762055e-05,\t fx₂₇ = 5.6102963237770615e-14\n",
       "x₂₈ = 2.5521371405080368e-05,\t fx₂₈ = 1.6623100218598702e-14\n",
       "x₂₉ = 1.7014247603386914e-05,\t fx₂₉ = 4.9253630277329513e-15\n",
       "x₃₀ = 1.1342831735591276e-05,\t fx₃₀ = 1.4593668230319856e-15\n",
       "x₃₁ = 7.5618878237275174e-06,\t fx₃₁ = 4.3240498460206979e-16\n",
       "\n"
      ]
     },
     "metadata": {},
     "output_type": "display_data"
    },
    {
     "data": {
      "text/plain": [
       "Results of univariate zero finding:\n",
       "\n",
       "* Converged to: 3.898782395042023e-5\n",
       "* Algorithm: Secant()\n",
       "* iterations: 39\n",
       "* function evaluations ≈ 43\n",
       "\n",
       "Trace:\n",
       "x₁ = 1.4500060555076217,\t fx₁ = 3.0486631952738352\n",
       "x₂ = 1.45,\t fx₂ = 3.0486249999999999\n",
       "x₃ = 1.4493944492378217,\t fx₃ = 3.0448070834545162\n",
       "x₄ = 1.3888393730199942,\t fx₄ = 2.6788972734916583\n",
       "x₅ = 0.94550381830369923,\t fx₅ = 0.84525911176609236\n",
       "x₆ = 0.74113775251393832,\t fx₆ = 0.40709597505003486\n",
       "x₇ = 0.55126189156551697,\t fx₇ = 0.16752279601613848\n",
       "x₈ = 0.41849020464162057,\t fx₈ = 0.073291885002144688\n",
       "x₉ = 0.31522167943207596,\t fx₉ = 0.031321909874810157\n",
       "x₁₀ = 0.23815307432319938,\t fx₁₀ = 0.013507300959745089\n",
       "x₁₁ = 0.17971851374898304,\t fx₁₁ = 0.0058046823007328625\n",
       "x₁₂ = 0.13568231326547711,\t fx₁₂ = 0.0024978693437557116\n",
       "x₁₃ = 0.10241866133404737,\t fx₁₃ = 0.0010743289657977838\n",
       "x₁₄ = 0.077314979463488906,\t fx₁₄ = 0.00046215848895325831\n",
       "x₁₅ = 0.05836293894650206,\t fx₁₅ = 0.00019879774775024149\n",
       "x₁₆ = 0.044056998915964402,\t fx₁₆ = 8.5515478740791269e-05\n",
       "x₁₇ = 0.033257609733122195,\t fx₁₇ = 3.6785198008492192e-05\n",
       "x₁₈ = 0.025105436926157191,\t fx₁₈ = 1.5823529179586094e-05\n",
       "x₁₉ = 0.018951530701374477,\t fx₁₉ = 6.8066415442767758e-06\n",
       "x₂₀ = 0.01430608812037102,\t fx₂₀ = 2.9279434695271615e-06\n",
       "x₂₁ = 0.010799346165729317,\t fx₂₁ = 1.2594832241626988e-06\n",
       "x₂₂ = 0.0081521853025264025,\t fx₂₂ = 5.417789515437433e-07\n",
       "x₂₃ = 0.0061539025950816048,\t fx₂₃ = 2.3305147376494191e-07\n",
       "x₂₄ = 0.0046454436353557159,\t fx₂₄ = 1.0024935453024454e-07\n",
       "x₂₅ = 0.0035067416483743623,\t fx₂₅ = 4.3123233107303973e-08\n",
       "x₂₆ = 0.0026471609521671827,\t fx₂₆ = 1.8549877415429997e-08\n",
       "x₂₇ = 0.0019982826816025341,\t fx₂₇ = 7.9794098692605918e-09\n",
       "x₂₈ = 0.0015084589672325279,\t fx₂₈ = 3.4324206276634598e-09\n",
       "x₂₉ = 0.0011387019848008314,\t fx₂₉ = 1.4764890583191527e-09\n",
       "x₃₀ = 0.00085958069684057567,\t fx₃₀ = 6.3512610367920936e-10\n",
       "x₃₁ = 0.00064887827038066022,\t fx₃₁ = 2.7320565993685074e-10\n",
       "x₃₂ = 0.00048982371442345108,\t fx₃₂ = 1.1752206717634207e-10\n",
       "x₃₃ = 0.00036975698241617185,\t fx₃₃ = 5.0553258217845875e-11\n",
       "x₃₄ = 0.00027912128796476516,\t fx₃₄ = 2.1745974844094916e-11\n",
       "x₃₅ = 0.00021070242645860549,\t fx₃₅ = 9.3542422108985214e-12\n",
       "x₃₆ = 0.0001590545559575897,\t fx₃₆ = 4.0238181073739999e-12\n",
       "x₃₇ = 0.00012006673200716868,\t fx₃₇ = 1.7308844261447363e-12\n",
       "x₃₈ = 9.0635694451438766e-05,\t fx₃₈ = 7.4455674106642591e-13\n",
       "x₃₉ = 6.8418861506150362e-05,\t fx₃₉ = 3.2027831107257082e-13\n",
       "x₄₀ = 5.1647870501018479e-05,\t fx₄₀ = 1.3777082509061212e-13\n",
       "x₄₁ = 3.8987823950420233e-05,\t fx₄₁ = 5.9263458029935808e-14\n",
       "\n"
      ]
     },
     "metadata": {},
     "output_type": "display_data"
    },
    {
     "data": {
      "text/plain": [
       "Algorithm has not been run"
      ]
     },
     "execution_count": 15,
     "metadata": {},
     "output_type": "execute_result"
    }
   ],
   "source": [
    "test(f6, -0.1, 3)"
   ]
  },
  {
   "cell_type": "code",
   "execution_count": 16,
   "id": "53c42745",
   "metadata": {},
   "outputs": [
    {
     "data": {
      "text/html": [
       "<div class=\"data-frame\"><p>18 rows × 5 columns</p><table class=\"data-frame\"><thead><tr><th></th><th>func</th><th>method</th><th>iterations</th><th>evaluations</th><th>zero_value</th></tr><tr><th></th><th title=\"String\">String</th><th title=\"String\">String</th><th title=\"Int64\">Int64</th><th title=\"Int64\">Int64</th><th title=\"Bool\">Bool</th></tr></thead><tbody><tr><th>1</th><td>sin(x) - x / 2</td><td>interval</td><td>10</td><td>12</td><td>1</td></tr><tr><th>2</th><td>sin(x) - x / 2</td><td>derivative</td><td>6</td><td>12</td><td>1</td></tr><tr><th>3</th><td>sin(x) - x / 2</td><td>derivativeApprox</td><td>2</td><td>4</td><td>1</td></tr><tr><th>4</th><td>2 * x - exp(-x)</td><td>interval</td><td>6</td><td>8</td><td>1</td></tr><tr><th>5</th><td>2 * x - exp(-x)</td><td>derivative</td><td>5</td><td>1</td><td>1</td></tr><tr><th>6</th><td>2 * x - exp(-x)</td><td>derivativeApprox</td><td>4</td><td>9</td><td>1</td></tr><tr><th>7</th><td>x * exp(-x)</td><td>interval</td><td>40</td><td>42</td><td>0</td></tr><tr><th>8</th><td>x * exp(-x)</td><td>derivative</td><td>29</td><td>58</td><td>0</td></tr><tr><th>9</th><td>x * exp(-x)</td><td>derivativeApprox</td><td>39</td><td>43</td><td>0</td></tr><tr><th>10</th><td>exp(x) - 1 / (10 * x) ^ 2</td><td>interval</td><td>10</td><td>12</td><td>1</td></tr><tr><th>11</th><td>exp(x) - 1 / (10 * x) ^ 2</td><td>derivative</td><td>15</td><td>30</td><td>0</td></tr><tr><th>12</th><td>exp(x) - 1 / (10 * x) ^ 2</td><td>derivativeApprox</td><td>10</td><td>19</td><td>0</td></tr><tr><th>13</th><td>(x + 3) * (x - 1) ^ 2</td><td>interval</td><td>11</td><td>13</td><td>1</td></tr><tr><th>14</th><td>(x + 3) * (x - 1) ^ 2</td><td>derivative</td><td>1</td><td>2</td><td>1</td></tr><tr><th>15</th><td>(x + 3) * (x - 1) ^ 2</td><td>derivativeApprox</td><td>36</td><td>40</td><td>0</td></tr><tr><th>16</th><td>x^3</td><td>interval</td><td>19</td><td>21</td><td>0</td></tr><tr><th>17</th><td>x^3</td><td>derivative</td><td>30</td><td>60</td><td>0</td></tr><tr><th>18</th><td>x^3</td><td>derivativeApprox</td><td>39</td><td>43</td><td>0</td></tr></tbody></table></div>"
      ],
      "text/latex": [
       "\\begin{tabular}{r|ccccc}\n",
       "\t& func & method & iterations & evaluations & zero\\_value\\\\\n",
       "\t\\hline\n",
       "\t& String & String & Int64 & Int64 & Bool\\\\\n",
       "\t\\hline\n",
       "\t1 & sin(x) - x / 2 & interval & 10 & 12 & 1 \\\\\n",
       "\t2 & sin(x) - x / 2 & derivative & 6 & 12 & 1 \\\\\n",
       "\t3 & sin(x) - x / 2 & derivativeApprox & 2 & 4 & 1 \\\\\n",
       "\t4 & 2 * x - exp(-x) & interval & 6 & 8 & 1 \\\\\n",
       "\t5 & 2 * x - exp(-x) & derivative & 5 & 1 & 1 \\\\\n",
       "\t6 & 2 * x - exp(-x) & derivativeApprox & 4 & 9 & 1 \\\\\n",
       "\t7 & x * exp(-x) & interval & 40 & 42 & 0 \\\\\n",
       "\t8 & x * exp(-x) & derivative & 29 & 58 & 0 \\\\\n",
       "\t9 & x * exp(-x) & derivativeApprox & 39 & 43 & 0 \\\\\n",
       "\t10 & exp(x) - 1 / (10 * x) \\^ 2 & interval & 10 & 12 & 1 \\\\\n",
       "\t11 & exp(x) - 1 / (10 * x) \\^ 2 & derivative & 15 & 30 & 0 \\\\\n",
       "\t12 & exp(x) - 1 / (10 * x) \\^ 2 & derivativeApprox & 10 & 19 & 0 \\\\\n",
       "\t13 & (x + 3) * (x - 1) \\^ 2 & interval & 11 & 13 & 1 \\\\\n",
       "\t14 & (x + 3) * (x - 1) \\^ 2 & derivative & 1 & 2 & 1 \\\\\n",
       "\t15 & (x + 3) * (x - 1) \\^ 2 & derivativeApprox & 36 & 40 & 0 \\\\\n",
       "\t16 & x\\^3 & interval & 19 & 21 & 0 \\\\\n",
       "\t17 & x\\^3 & derivative & 30 & 60 & 0 \\\\\n",
       "\t18 & x\\^3 & derivativeApprox & 39 & 43 & 0 \\\\\n",
       "\\end{tabular}\n"
      ],
      "text/plain": [
       "\u001b[1m18×5 DataFrame\u001b[0m\n",
       "\u001b[1m Row \u001b[0m│\u001b[1m func                      \u001b[0m\u001b[1m method           \u001b[0m\u001b[1m iterations \u001b[0m\u001b[1m evaluations \u001b[0m\u001b[1m z\u001b[0m ⋯\n",
       "\u001b[1m     \u001b[0m│\u001b[90m String                    \u001b[0m\u001b[90m String           \u001b[0m\u001b[90m Int64      \u001b[0m\u001b[90m Int64       \u001b[0m\u001b[90m B\u001b[0m ⋯\n",
       "─────┼──────────────────────────────────────────────────────────────────────────\n",
       "   1 │ sin(x) - x / 2             interval                  10           12    ⋯\n",
       "   2 │ sin(x) - x / 2             derivative                 6           12\n",
       "   3 │ sin(x) - x / 2             derivativeApprox           2            4\n",
       "   4 │ 2 * x - exp(-x)            interval                   6            8\n",
       "   5 │ 2 * x - exp(-x)            derivative                 5            1    ⋯\n",
       "   6 │ 2 * x - exp(-x)            derivativeApprox           4            9\n",
       "   7 │ x * exp(-x)                interval                  40           42\n",
       "   8 │ x * exp(-x)                derivative                29           58\n",
       "   9 │ x * exp(-x)                derivativeApprox          39           43    ⋯\n",
       "  10 │ exp(x) - 1 / (10 * x) ^ 2  interval                  10           12\n",
       "  11 │ exp(x) - 1 / (10 * x) ^ 2  derivative                15           30\n",
       "  12 │ exp(x) - 1 / (10 * x) ^ 2  derivativeApprox          10           19\n",
       "  13 │ (x + 3) * (x - 1) ^ 2      interval                  11           13    ⋯\n",
       "  14 │ (x + 3) * (x - 1) ^ 2      derivative                 1            2\n",
       "  15 │ (x + 3) * (x - 1) ^ 2      derivativeApprox          36           40\n",
       "  16 │ x^3                        interval                  19           21\n",
       "  17 │ x^3                        derivative                30           60    ⋯\n",
       "  18 │ x^3                        derivativeApprox          39           43\n",
       "\u001b[36m                                                                1 column omitted\u001b[0m"
      ]
     },
     "execution_count": 16,
     "metadata": {},
     "output_type": "execute_result"
    }
   ],
   "source": [
    "push!(df, [\"x^3\" \"interval\" 19 21 iszero(f6(5.7220458984375e-6))])\n",
    "push!(df, [\"x^3\" \"derivative\" 30 60 iszero(f6(7.561887823727517e-6))])\n",
    "push!(df, [\"x^3\" \"derivativeApprox\" 39 43 iszero(f6(3.898782395042023e-5))])"
   ]
  },
  {
   "cell_type": "markdown",
   "id": "4c965910",
   "metadata": {},
   "source": [
    "#### 2. Zademonstrować wybrany, ciekawy przykład trudnej funkcji z p.1 i działania metod na niej. (1 pkt)"
   ]
  },
  {
   "cell_type": "markdown",
   "id": "b2f4e457",
   "metadata": {},
   "source": [
    "$$f(x) = e^x -2 - \\frac{1}{(10x)^2} + \\frac{2}{(100x)^3}$$"
   ]
  },
  {
   "cell_type": "code",
   "execution_count": 17,
   "id": "11b79cfe",
   "metadata": {},
   "outputs": [
    {
     "data": {
      "image/svg+xml": [
       "<?xml version=\"1.0\" encoding=\"utf-8\"?>\n",
       "<svg xmlns=\"http://www.w3.org/2000/svg\" xmlns:xlink=\"http://www.w3.org/1999/xlink\" width=\"600\" height=\"400\" viewBox=\"0 0 2400 1600\">\n",
       "<defs>\n",
       "  <clipPath id=\"clip410\">\n",
       "    <rect x=\"0\" y=\"0\" width=\"2400\" height=\"1600\"/>\n",
       "  </clipPath>\n",
       "</defs>\n",
       "<path clip-path=\"url(#clip410)\" d=\"\n",
       "M0 1600 L2400 1600 L2400 0 L0 0  Z\n",
       "  \" fill=\"#ffffff\" fill-rule=\"evenodd\" fill-opacity=\"1\"/>\n",
       "<defs>\n",
       "  <clipPath id=\"clip411\">\n",
       "    <rect x=\"480\" y=\"0\" width=\"1681\" height=\"1600\"/>\n",
       "  </clipPath>\n",
       "</defs>\n",
       "<path clip-path=\"url(#clip410)\" d=\"\n",
       "M178.867 1486.45 L2352.76 1486.45 L2352.76 123.472 L178.867 123.472  Z\n",
       "  \" fill=\"#ffffff\" fill-rule=\"evenodd\" fill-opacity=\"1\"/>\n",
       "<defs>\n",
       "  <clipPath id=\"clip412\">\n",
       "    <rect x=\"178\" y=\"123\" width=\"2175\" height=\"1364\"/>\n",
       "  </clipPath>\n",
       "</defs>\n",
       "<polyline clip-path=\"url(#clip412)\" style=\"stroke:#000000; stroke-linecap:butt; stroke-linejoin:round; stroke-width:2; stroke-opacity:0.1; fill:none\" points=\"\n",
       "  240.392,1486.45 240.392,123.472 \n",
       "  \"/>\n",
       "<polyline clip-path=\"url(#clip412)\" style=\"stroke:#000000; stroke-linecap:butt; stroke-linejoin:round; stroke-width:2; stroke-opacity:0.1; fill:none\" points=\"\n",
       "  743.048,1486.45 743.048,123.472 \n",
       "  \"/>\n",
       "<polyline clip-path=\"url(#clip412)\" style=\"stroke:#000000; stroke-linecap:butt; stroke-linejoin:round; stroke-width:2; stroke-opacity:0.1; fill:none\" points=\"\n",
       "  1245.71,1486.45 1245.71,123.472 \n",
       "  \"/>\n",
       "<polyline clip-path=\"url(#clip412)\" style=\"stroke:#000000; stroke-linecap:butt; stroke-linejoin:round; stroke-width:2; stroke-opacity:0.1; fill:none\" points=\"\n",
       "  1748.36,1486.45 1748.36,123.472 \n",
       "  \"/>\n",
       "<polyline clip-path=\"url(#clip412)\" style=\"stroke:#000000; stroke-linecap:butt; stroke-linejoin:round; stroke-width:2; stroke-opacity:0.1; fill:none\" points=\"\n",
       "  2251.02,1486.45 2251.02,123.472 \n",
       "  \"/>\n",
       "<polyline clip-path=\"url(#clip410)\" style=\"stroke:#000000; stroke-linecap:butt; stroke-linejoin:round; stroke-width:4; stroke-opacity:1; fill:none\" points=\"\n",
       "  178.867,1486.45 2352.76,1486.45 \n",
       "  \"/>\n",
       "<polyline clip-path=\"url(#clip410)\" style=\"stroke:#000000; stroke-linecap:butt; stroke-linejoin:round; stroke-width:4; stroke-opacity:1; fill:none\" points=\"\n",
       "  240.392,1486.45 240.392,1467.55 \n",
       "  \"/>\n",
       "<polyline clip-path=\"url(#clip410)\" style=\"stroke:#000000; stroke-linecap:butt; stroke-linejoin:round; stroke-width:4; stroke-opacity:1; fill:none\" points=\"\n",
       "  743.048,1486.45 743.048,1467.55 \n",
       "  \"/>\n",
       "<polyline clip-path=\"url(#clip410)\" style=\"stroke:#000000; stroke-linecap:butt; stroke-linejoin:round; stroke-width:4; stroke-opacity:1; fill:none\" points=\"\n",
       "  1245.71,1486.45 1245.71,1467.55 \n",
       "  \"/>\n",
       "<polyline clip-path=\"url(#clip410)\" style=\"stroke:#000000; stroke-linecap:butt; stroke-linejoin:round; stroke-width:4; stroke-opacity:1; fill:none\" points=\"\n",
       "  1748.36,1486.45 1748.36,1467.55 \n",
       "  \"/>\n",
       "<polyline clip-path=\"url(#clip410)\" style=\"stroke:#000000; stroke-linecap:butt; stroke-linejoin:round; stroke-width:4; stroke-opacity:1; fill:none\" points=\"\n",
       "  2251.02,1486.45 2251.02,1467.55 \n",
       "  \"/>\n",
       "<path clip-path=\"url(#clip410)\" d=\"M179.374 1532.02 L209.049 1532.02 L209.049 1535.95 L179.374 1535.95 L179.374 1532.02 Z\" fill=\"#000000\" fill-rule=\"evenodd\" fill-opacity=\"1\" /><path clip-path=\"url(#clip410)\" d=\"M219.952 1544.91 L227.591 1544.91 L227.591 1518.55 L219.281 1520.21 L219.281 1515.95 L227.545 1514.29 L232.221 1514.29 L232.221 1544.91 L239.859 1544.91 L239.859 1548.85 L219.952 1548.85 L219.952 1544.91 Z\" fill=\"#000000\" fill-rule=\"evenodd\" fill-opacity=\"1\" /><path clip-path=\"url(#clip410)\" d=\"M259.304 1517.37 Q255.693 1517.37 253.864 1520.93 Q252.058 1524.47 252.058 1531.6 Q252.058 1538.71 253.864 1542.27 Q255.693 1545.82 259.304 1545.82 Q262.938 1545.82 264.744 1542.27 Q266.572 1538.71 266.572 1531.6 Q266.572 1524.47 264.744 1520.93 Q262.938 1517.37 259.304 1517.37 M259.304 1513.66 Q265.114 1513.66 268.169 1518.27 Q271.248 1522.85 271.248 1531.6 Q271.248 1540.33 268.169 1544.94 Q265.114 1549.52 259.304 1549.52 Q253.494 1549.52 250.415 1544.94 Q247.359 1540.33 247.359 1531.6 Q247.359 1522.85 250.415 1518.27 Q253.494 1513.66 259.304 1513.66 Z\" fill=\"#000000\" fill-rule=\"evenodd\" fill-opacity=\"1\" /><path clip-path=\"url(#clip410)\" d=\"M289.466 1517.37 Q285.855 1517.37 284.026 1520.93 Q282.22 1524.47 282.22 1531.6 Q282.22 1538.71 284.026 1542.27 Q285.855 1545.82 289.466 1545.82 Q293.1 1545.82 294.905 1542.27 Q296.734 1538.71 296.734 1531.6 Q296.734 1524.47 294.905 1520.93 Q293.1 1517.37 289.466 1517.37 M289.466 1513.66 Q295.276 1513.66 298.331 1518.27 Q301.41 1522.85 301.41 1531.6 Q301.41 1540.33 298.331 1544.94 Q295.276 1549.52 289.466 1549.52 Q283.655 1549.52 280.577 1544.94 Q277.521 1540.33 277.521 1531.6 Q277.521 1522.85 280.577 1518.27 Q283.655 1513.66 289.466 1513.66 Z\" fill=\"#000000\" fill-rule=\"evenodd\" fill-opacity=\"1\" /><path clip-path=\"url(#clip410)\" d=\"M697.609 1532.02 L727.285 1532.02 L727.285 1535.95 L697.609 1535.95 L697.609 1532.02 Z\" fill=\"#000000\" fill-rule=\"evenodd\" fill-opacity=\"1\" /><path clip-path=\"url(#clip410)\" d=\"M736.197 1514.29 L758.419 1514.29 L758.419 1516.28 L745.872 1548.85 L740.988 1548.85 L752.794 1518.22 L736.197 1518.22 L736.197 1514.29 Z\" fill=\"#000000\" fill-rule=\"evenodd\" fill-opacity=\"1\" /><path clip-path=\"url(#clip410)\" d=\"M767.585 1514.29 L785.942 1514.29 L785.942 1518.22 L771.868 1518.22 L771.868 1526.7 Q772.886 1526.35 773.905 1526.19 Q774.923 1526 775.942 1526 Q781.729 1526 785.108 1529.17 Q788.488 1532.34 788.488 1537.76 Q788.488 1543.34 785.016 1546.44 Q781.544 1549.52 775.224 1549.52 Q773.048 1549.52 770.78 1549.15 Q768.534 1548.78 766.127 1548.04 L766.127 1543.34 Q768.21 1544.47 770.433 1545.03 Q772.655 1545.58 775.132 1545.58 Q779.136 1545.58 781.474 1543.48 Q783.812 1541.37 783.812 1537.76 Q783.812 1534.15 781.474 1532.04 Q779.136 1529.94 775.132 1529.94 Q773.257 1529.94 771.382 1530.35 Q769.53 1530.77 767.585 1531.65 L767.585 1514.29 Z\" fill=\"#000000\" fill-rule=\"evenodd\" fill-opacity=\"1\" /><path clip-path=\"url(#clip410)\" d=\"M1199.77 1532.02 L1229.44 1532.02 L1229.44 1535.95 L1199.77 1535.95 L1199.77 1532.02 Z\" fill=\"#000000\" fill-rule=\"evenodd\" fill-opacity=\"1\" /><path clip-path=\"url(#clip410)\" d=\"M1239.58 1514.29 L1257.94 1514.29 L1257.94 1518.22 L1243.86 1518.22 L1243.86 1526.7 Q1244.88 1526.35 1245.9 1526.19 Q1246.92 1526 1247.94 1526 Q1253.73 1526 1257.11 1529.17 Q1260.49 1532.34 1260.49 1537.76 Q1260.49 1543.34 1257.01 1546.44 Q1253.54 1549.52 1247.22 1549.52 Q1245.05 1549.52 1242.78 1549.15 Q1240.53 1548.78 1238.12 1548.04 L1238.12 1543.34 Q1240.21 1544.47 1242.43 1545.03 Q1244.65 1545.58 1247.13 1545.58 Q1251.13 1545.58 1253.47 1543.48 Q1255.81 1541.37 1255.81 1537.76 Q1255.81 1534.15 1253.47 1532.04 Q1251.13 1529.94 1247.13 1529.94 Q1245.25 1529.94 1243.38 1530.35 Q1241.53 1530.77 1239.58 1531.65 L1239.58 1514.29 Z\" fill=\"#000000\" fill-rule=\"evenodd\" fill-opacity=\"1\" /><path clip-path=\"url(#clip410)\" d=\"M1279.7 1517.37 Q1276.09 1517.37 1274.26 1520.93 Q1272.45 1524.47 1272.45 1531.6 Q1272.45 1538.71 1274.26 1542.27 Q1276.09 1545.82 1279.7 1545.82 Q1283.33 1545.82 1285.14 1542.27 Q1286.97 1538.71 1286.97 1531.6 Q1286.97 1524.47 1285.14 1520.93 Q1283.33 1517.37 1279.7 1517.37 M1279.7 1513.66 Q1285.51 1513.66 1288.56 1518.27 Q1291.64 1522.85 1291.64 1531.6 Q1291.64 1540.33 1288.56 1544.94 Q1285.51 1549.52 1279.7 1549.52 Q1273.89 1549.52 1270.81 1544.94 Q1267.75 1540.33 1267.75 1531.6 Q1267.75 1522.85 1270.81 1518.27 Q1273.89 1513.66 1279.7 1513.66 Z\" fill=\"#000000\" fill-rule=\"evenodd\" fill-opacity=\"1\" /><path clip-path=\"url(#clip410)\" d=\"M1702.92 1532.02 L1732.6 1532.02 L1732.6 1535.95 L1702.92 1535.95 L1702.92 1532.02 Z\" fill=\"#000000\" fill-rule=\"evenodd\" fill-opacity=\"1\" /><path clip-path=\"url(#clip410)\" d=\"M1746.72 1544.91 L1763.04 1544.91 L1763.04 1548.85 L1741.09 1548.85 L1741.09 1544.91 Q1743.76 1542.16 1748.34 1537.53 Q1752.94 1532.88 1754.13 1531.53 Q1756.37 1529.01 1757.25 1527.27 Q1758.15 1525.51 1758.15 1523.82 Q1758.15 1521.07 1756.21 1519.33 Q1754.29 1517.6 1751.19 1517.6 Q1748.99 1517.6 1746.53 1518.36 Q1744.1 1519.13 1741.32 1520.68 L1741.32 1515.95 Q1744.15 1514.82 1746.6 1514.24 Q1749.06 1513.66 1751.09 1513.66 Q1756.46 1513.66 1759.66 1516.35 Q1762.85 1519.03 1762.85 1523.52 Q1762.85 1525.65 1762.04 1527.57 Q1761.26 1529.47 1759.15 1532.07 Q1758.57 1532.74 1755.47 1535.95 Q1752.37 1539.15 1746.72 1544.91 Z\" fill=\"#000000\" fill-rule=\"evenodd\" fill-opacity=\"1\" /><path clip-path=\"url(#clip410)\" d=\"M1772.9 1514.29 L1791.25 1514.29 L1791.25 1518.22 L1777.18 1518.22 L1777.18 1526.7 Q1778.2 1526.35 1779.22 1526.19 Q1780.24 1526 1781.25 1526 Q1787.04 1526 1790.42 1529.17 Q1793.8 1532.34 1793.8 1537.76 Q1793.8 1543.34 1790.33 1546.44 Q1786.86 1549.52 1780.54 1549.52 Q1778.36 1549.52 1776.09 1549.15 Q1773.85 1548.78 1771.44 1548.04 L1771.44 1543.34 Q1773.52 1544.47 1775.75 1545.03 Q1777.97 1545.58 1780.44 1545.58 Q1784.45 1545.58 1786.79 1543.48 Q1789.13 1541.37 1789.13 1537.76 Q1789.13 1534.15 1786.79 1532.04 Q1784.45 1529.94 1780.44 1529.94 Q1778.57 1529.94 1776.69 1530.35 Q1774.84 1530.77 1772.9 1531.65 L1772.9 1514.29 Z\" fill=\"#000000\" fill-rule=\"evenodd\" fill-opacity=\"1\" /><path clip-path=\"url(#clip410)\" d=\"M2251.02 1517.37 Q2247.41 1517.37 2245.58 1520.93 Q2243.77 1524.47 2243.77 1531.6 Q2243.77 1538.71 2245.58 1542.27 Q2247.41 1545.82 2251.02 1545.82 Q2254.65 1545.82 2256.46 1542.27 Q2258.29 1538.71 2258.29 1531.6 Q2258.29 1524.47 2256.46 1520.93 Q2254.65 1517.37 2251.02 1517.37 M2251.02 1513.66 Q2256.83 1513.66 2259.88 1518.27 Q2262.96 1522.85 2262.96 1531.6 Q2262.96 1540.33 2259.88 1544.94 Q2256.83 1549.52 2251.02 1549.52 Q2245.21 1549.52 2242.13 1544.94 Q2239.07 1540.33 2239.07 1531.6 Q2239.07 1522.85 2242.13 1518.27 Q2245.21 1513.66 2251.02 1513.66 Z\" fill=\"#000000\" fill-rule=\"evenodd\" fill-opacity=\"1\" /><polyline clip-path=\"url(#clip412)\" style=\"stroke:#000000; stroke-linecap:butt; stroke-linejoin:round; stroke-width:2; stroke-opacity:0.1; fill:none\" points=\"\n",
       "  178.867,1418.3 2352.76,1418.3 \n",
       "  \"/>\n",
       "<polyline clip-path=\"url(#clip412)\" style=\"stroke:#000000; stroke-linecap:butt; stroke-linejoin:round; stroke-width:2; stroke-opacity:0.1; fill:none\" points=\"\n",
       "  178.867,1211.59 2352.76,1211.59 \n",
       "  \"/>\n",
       "<polyline clip-path=\"url(#clip412)\" style=\"stroke:#000000; stroke-linecap:butt; stroke-linejoin:round; stroke-width:2; stroke-opacity:0.1; fill:none\" points=\"\n",
       "  178.867,1004.88 2352.76,1004.88 \n",
       "  \"/>\n",
       "<polyline clip-path=\"url(#clip412)\" style=\"stroke:#000000; stroke-linecap:butt; stroke-linejoin:round; stroke-width:2; stroke-opacity:0.1; fill:none\" points=\"\n",
       "  178.867,798.164 2352.76,798.164 \n",
       "  \"/>\n",
       "<polyline clip-path=\"url(#clip412)\" style=\"stroke:#000000; stroke-linecap:butt; stroke-linejoin:round; stroke-width:2; stroke-opacity:0.1; fill:none\" points=\"\n",
       "  178.867,591.452 2352.76,591.452 \n",
       "  \"/>\n",
       "<polyline clip-path=\"url(#clip412)\" style=\"stroke:#000000; stroke-linecap:butt; stroke-linejoin:round; stroke-width:2; stroke-opacity:0.1; fill:none\" points=\"\n",
       "  178.867,384.74 2352.76,384.74 \n",
       "  \"/>\n",
       "<polyline clip-path=\"url(#clip412)\" style=\"stroke:#000000; stroke-linecap:butt; stroke-linejoin:round; stroke-width:2; stroke-opacity:0.1; fill:none\" points=\"\n",
       "  178.867,178.028 2352.76,178.028 \n",
       "  \"/>\n",
       "<polyline clip-path=\"url(#clip410)\" style=\"stroke:#000000; stroke-linecap:butt; stroke-linejoin:round; stroke-width:4; stroke-opacity:1; fill:none\" points=\"\n",
       "  178.867,1486.45 178.867,123.472 \n",
       "  \"/>\n",
       "<polyline clip-path=\"url(#clip410)\" style=\"stroke:#000000; stroke-linecap:butt; stroke-linejoin:round; stroke-width:4; stroke-opacity:1; fill:none\" points=\"\n",
       "  178.867,1418.3 197.764,1418.3 \n",
       "  \"/>\n",
       "<polyline clip-path=\"url(#clip410)\" style=\"stroke:#000000; stroke-linecap:butt; stroke-linejoin:round; stroke-width:4; stroke-opacity:1; fill:none\" points=\"\n",
       "  178.867,1211.59 197.764,1211.59 \n",
       "  \"/>\n",
       "<polyline clip-path=\"url(#clip410)\" style=\"stroke:#000000; stroke-linecap:butt; stroke-linejoin:round; stroke-width:4; stroke-opacity:1; fill:none\" points=\"\n",
       "  178.867,1004.88 197.764,1004.88 \n",
       "  \"/>\n",
       "<polyline clip-path=\"url(#clip410)\" style=\"stroke:#000000; stroke-linecap:butt; stroke-linejoin:round; stroke-width:4; stroke-opacity:1; fill:none\" points=\"\n",
       "  178.867,798.164 197.764,798.164 \n",
       "  \"/>\n",
       "<polyline clip-path=\"url(#clip410)\" style=\"stroke:#000000; stroke-linecap:butt; stroke-linejoin:round; stroke-width:4; stroke-opacity:1; fill:none\" points=\"\n",
       "  178.867,591.452 197.764,591.452 \n",
       "  \"/>\n",
       "<polyline clip-path=\"url(#clip410)\" style=\"stroke:#000000; stroke-linecap:butt; stroke-linejoin:round; stroke-width:4; stroke-opacity:1; fill:none\" points=\"\n",
       "  178.867,384.74 197.764,384.74 \n",
       "  \"/>\n",
       "<polyline clip-path=\"url(#clip410)\" style=\"stroke:#000000; stroke-linecap:butt; stroke-linejoin:round; stroke-width:4; stroke-opacity:1; fill:none\" points=\"\n",
       "  178.867,178.028 197.764,178.028 \n",
       "  \"/>\n",
       "<path clip-path=\"url(#clip410)\" d=\"M51.9875 1418.75 L81.6633 1418.75 L81.6633 1422.69 L51.9875 1422.69 L51.9875 1418.75 Z\" fill=\"#000000\" fill-rule=\"evenodd\" fill-opacity=\"1\" /><path clip-path=\"url(#clip410)\" d=\"M95.7836 1431.64 L112.103 1431.64 L112.103 1435.58 L90.1586 1435.58 L90.1586 1431.64 Q92.8206 1428.89 97.4039 1424.26 Q102.01 1419.61 103.191 1418.27 Q105.436 1415.74 106.316 1414.01 Q107.219 1412.25 107.219 1410.56 Q107.219 1407.8 105.274 1406.07 Q103.353 1404.33 100.251 1404.33 Q98.0521 1404.33 95.5984 1405.09 Q93.1678 1405.86 90.3901 1407.41 L90.3901 1402.69 Q93.2141 1401.55 95.6678 1400.97 Q98.1215 1400.4 100.159 1400.4 Q105.529 1400.4 108.723 1403.08 Q111.918 1405.77 111.918 1410.26 Q111.918 1412.39 111.108 1414.31 Q110.321 1416.21 108.214 1418.8 Q107.635 1419.47 104.534 1422.69 Q101.432 1425.88 95.7836 1431.64 Z\" fill=\"#000000\" fill-rule=\"evenodd\" fill-opacity=\"1\" /><path clip-path=\"url(#clip410)\" d=\"M121.964 1401.02 L140.32 1401.02 L140.32 1404.96 L126.246 1404.96 L126.246 1413.43 Q127.265 1413.08 128.283 1412.92 Q129.302 1412.73 130.32 1412.73 Q136.107 1412.73 139.487 1415.9 Q142.867 1419.08 142.867 1424.49 Q142.867 1430.07 139.394 1433.17 Q135.922 1436.25 129.603 1436.25 Q127.427 1436.25 125.158 1435.88 Q122.913 1435.51 120.506 1434.77 L120.506 1430.07 Q122.589 1431.21 124.811 1431.76 Q127.033 1432.32 129.51 1432.32 Q133.515 1432.32 135.853 1430.21 Q138.191 1428.1 138.191 1424.49 Q138.191 1420.88 135.853 1418.77 Q133.515 1416.67 129.51 1416.67 Q127.635 1416.67 125.76 1417.08 Q123.908 1417.5 121.964 1418.38 L121.964 1401.02 Z\" fill=\"#000000\" fill-rule=\"evenodd\" fill-opacity=\"1\" /><path clip-path=\"url(#clip410)\" d=\"M50.9921 1212.04 L80.6679 1212.04 L80.6679 1215.97 L50.9921 1215.97 L50.9921 1212.04 Z\" fill=\"#000000\" fill-rule=\"evenodd\" fill-opacity=\"1\" /><path clip-path=\"url(#clip410)\" d=\"M94.7882 1224.93 L111.108 1224.93 L111.108 1228.87 L89.1632 1228.87 L89.1632 1224.93 Q91.8252 1222.18 96.4085 1217.55 Q101.015 1212.9 102.196 1211.55 Q104.441 1209.03 105.321 1207.29 Q106.223 1205.53 106.223 1203.85 Q106.223 1201.09 104.279 1199.35 Q102.358 1197.62 99.2558 1197.62 Q97.0567 1197.62 94.603 1198.38 Q92.1725 1199.15 89.3947 1200.7 L89.3947 1195.97 Q92.2188 1194.84 94.6724 1194.26 Q97.1261 1193.68 99.1632 1193.68 Q104.534 1193.68 107.728 1196.37 Q110.922 1199.05 110.922 1203.54 Q110.922 1205.67 110.112 1207.59 Q109.325 1209.49 107.219 1212.09 Q106.64 1212.76 103.538 1215.97 Q100.436 1219.17 94.7882 1224.93 Z\" fill=\"#000000\" fill-rule=\"evenodd\" fill-opacity=\"1\" /><path clip-path=\"url(#clip410)\" d=\"M130.922 1197.39 Q127.311 1197.39 125.482 1200.95 Q123.677 1204.49 123.677 1211.62 Q123.677 1218.73 125.482 1222.29 Q127.311 1225.84 130.922 1225.84 Q134.556 1225.84 136.362 1222.29 Q138.191 1218.73 138.191 1211.62 Q138.191 1204.49 136.362 1200.95 Q134.556 1197.39 130.922 1197.39 M130.922 1193.68 Q136.732 1193.68 139.788 1198.29 Q142.867 1202.87 142.867 1211.62 Q142.867 1220.35 139.788 1224.96 Q136.732 1229.54 130.922 1229.54 Q125.112 1229.54 122.033 1224.96 Q118.978 1220.35 118.978 1211.62 Q118.978 1202.87 122.033 1198.29 Q125.112 1193.68 130.922 1193.68 Z\" fill=\"#000000\" fill-rule=\"evenodd\" fill-opacity=\"1\" /><path clip-path=\"url(#clip410)\" d=\"M51.9875 1005.33 L81.6633 1005.33 L81.6633 1009.26 L51.9875 1009.26 L51.9875 1005.33 Z\" fill=\"#000000\" fill-rule=\"evenodd\" fill-opacity=\"1\" /><path clip-path=\"url(#clip410)\" d=\"M92.566 1018.22 L100.205 1018.22 L100.205 991.855 L91.8947 993.522 L91.8947 989.263 L100.159 987.596 L104.834 987.596 L104.834 1018.22 L112.473 1018.22 L112.473 1022.16 L92.566 1022.16 L92.566 1018.22 Z\" fill=\"#000000\" fill-rule=\"evenodd\" fill-opacity=\"1\" /><path clip-path=\"url(#clip410)\" d=\"M121.964 987.596 L140.32 987.596 L140.32 991.531 L126.246 991.531 L126.246 1000 Q127.265 999.656 128.283 999.494 Q129.302 999.309 130.32 999.309 Q136.107 999.309 139.487 1002.48 Q142.867 1005.65 142.867 1011.07 Q142.867 1016.65 139.394 1019.75 Q135.922 1022.83 129.603 1022.83 Q127.427 1022.83 125.158 1022.46 Q122.913 1022.09 120.506 1021.35 L120.506 1016.65 Q122.589 1017.78 124.811 1018.34 Q127.033 1018.89 129.51 1018.89 Q133.515 1018.89 135.853 1016.79 Q138.191 1014.68 138.191 1011.07 Q138.191 1007.46 135.853 1005.35 Q133.515 1003.24 129.51 1003.24 Q127.635 1003.24 125.76 1003.66 Q123.908 1004.08 121.964 1004.96 L121.964 987.596 Z\" fill=\"#000000\" fill-rule=\"evenodd\" fill-opacity=\"1\" /><path clip-path=\"url(#clip410)\" d=\"M50.9921 798.615 L80.6679 798.615 L80.6679 802.551 L50.9921 802.551 L50.9921 798.615 Z\" fill=\"#000000\" fill-rule=\"evenodd\" fill-opacity=\"1\" /><path clip-path=\"url(#clip410)\" d=\"M91.5706 811.509 L99.2095 811.509 L99.2095 785.143 L90.8993 786.81 L90.8993 782.551 L99.1632 780.884 L103.839 780.884 L103.839 811.509 L111.478 811.509 L111.478 815.444 L91.5706 815.444 L91.5706 811.509 Z\" fill=\"#000000\" fill-rule=\"evenodd\" fill-opacity=\"1\" /><path clip-path=\"url(#clip410)\" d=\"M130.922 783.963 Q127.311 783.963 125.482 787.528 Q123.677 791.069 123.677 798.199 Q123.677 805.305 125.482 808.87 Q127.311 812.412 130.922 812.412 Q134.556 812.412 136.362 808.87 Q138.191 805.305 138.191 798.199 Q138.191 791.069 136.362 787.528 Q134.556 783.963 130.922 783.963 M130.922 780.259 Q136.732 780.259 139.788 784.866 Q142.867 789.449 142.867 798.199 Q142.867 806.926 139.788 811.532 Q136.732 816.115 130.922 816.115 Q125.112 816.115 122.033 811.532 Q118.978 806.926 118.978 798.199 Q118.978 789.449 122.033 784.866 Q125.112 780.259 130.922 780.259 Z\" fill=\"#000000\" fill-rule=\"evenodd\" fill-opacity=\"1\" /><path clip-path=\"url(#clip410)\" d=\"M82.1494 591.903 L111.825 591.903 L111.825 595.839 L82.1494 595.839 L82.1494 591.903 Z\" fill=\"#000000\" fill-rule=\"evenodd\" fill-opacity=\"1\" /><path clip-path=\"url(#clip410)\" d=\"M121.964 574.172 L140.32 574.172 L140.32 578.107 L126.246 578.107 L126.246 586.579 Q127.265 586.232 128.283 586.07 Q129.302 585.885 130.32 585.885 Q136.107 585.885 139.487 589.056 Q142.867 592.228 142.867 597.644 Q142.867 603.223 139.394 606.325 Q135.922 609.403 129.603 609.403 Q127.427 609.403 125.158 609.033 Q122.913 608.663 120.506 607.922 L120.506 603.223 Q122.589 604.357 124.811 604.913 Q127.033 605.468 129.51 605.468 Q133.515 605.468 135.853 603.362 Q138.191 601.255 138.191 597.644 Q138.191 594.033 135.853 591.927 Q133.515 589.82 129.51 589.82 Q127.635 589.82 125.76 590.237 Q123.908 590.653 121.964 591.533 L121.964 574.172 Z\" fill=\"#000000\" fill-rule=\"evenodd\" fill-opacity=\"1\" /><path clip-path=\"url(#clip410)\" d=\"M130.922 370.539 Q127.311 370.539 125.482 374.104 Q123.677 377.645 123.677 384.775 Q123.677 391.881 125.482 395.446 Q127.311 398.988 130.922 398.988 Q134.556 398.988 136.362 395.446 Q138.191 391.881 138.191 384.775 Q138.191 377.645 136.362 374.104 Q134.556 370.539 130.922 370.539 M130.922 366.835 Q136.732 366.835 139.788 371.442 Q142.867 376.025 142.867 384.775 Q142.867 393.502 139.788 398.108 Q136.732 402.691 130.922 402.691 Q125.112 402.691 122.033 398.108 Q118.978 393.502 118.978 384.775 Q118.978 376.025 122.033 371.442 Q125.112 366.835 130.922 366.835 Z\" fill=\"#000000\" fill-rule=\"evenodd\" fill-opacity=\"1\" /><path clip-path=\"url(#clip410)\" d=\"M121.964 160.748 L140.32 160.748 L140.32 164.683 L126.246 164.683 L126.246 173.155 Q127.265 172.808 128.283 172.646 Q129.302 172.461 130.32 172.461 Q136.107 172.461 139.487 175.632 Q142.867 178.804 142.867 184.22 Q142.867 189.799 139.394 192.901 Q135.922 195.979 129.603 195.979 Q127.427 195.979 125.158 195.609 Q122.913 195.239 120.506 194.498 L120.506 189.799 Q122.589 190.933 124.811 191.489 Q127.033 192.044 129.51 192.044 Q133.515 192.044 135.853 189.938 Q138.191 187.831 138.191 184.22 Q138.191 180.609 135.853 178.503 Q133.515 176.396 129.51 176.396 Q127.635 176.396 125.76 176.813 Q123.908 177.229 121.964 178.109 L121.964 160.748 Z\" fill=\"#000000\" fill-rule=\"evenodd\" fill-opacity=\"1\" /><path clip-path=\"url(#clip410)\" d=\"M1001.75 12.096 L1036.51 12.096 L1036.51 18.9825 L1009.94 18.9825 L1009.94 36.8065 L1033.92 36.8065 L1033.92 43.6931 L1009.94 43.6931 L1009.94 72.576 L1001.75 72.576 L1001.75 12.096 Z\" fill=\"#000000\" fill-rule=\"evenodd\" fill-opacity=\"1\" /><path clip-path=\"url(#clip410)\" d=\"M1043.84 54.671 L1043.84 27.2059 L1051.3 27.2059 L1051.3 54.3874 Q1051.3 60.8284 1053.81 64.0691 Q1056.32 67.2693 1061.34 67.2693 Q1067.38 67.2693 1070.86 63.421 Q1074.39 59.5726 1074.39 52.9291 L1074.39 27.2059 L1081.84 27.2059 L1081.84 72.576 L1074.39 72.576 L1074.39 65.6084 Q1071.67 69.7404 1068.07 71.7658 Q1064.5 73.7508 1059.76 73.7508 Q1051.94 73.7508 1047.89 68.8897 Q1043.84 64.0286 1043.84 54.671 M1062.6 26.1121 L1062.6 26.1121 Z\" fill=\"#000000\" fill-rule=\"evenodd\" fill-opacity=\"1\" /><path clip-path=\"url(#clip410)\" d=\"M1134.91 45.1919 L1134.91 72.576 L1127.45 72.576 L1127.45 45.4349 Q1127.45 38.994 1124.94 35.7938 Q1122.43 32.5936 1117.41 32.5936 Q1111.37 32.5936 1107.89 36.4419 Q1104.4 40.2903 1104.4 46.9338 L1104.4 72.576 L1096.91 72.576 L1096.91 27.2059 L1104.4 27.2059 L1104.4 34.2544 Q1107.08 30.163 1110.68 28.1376 Q1114.33 26.1121 1119.07 26.1121 Q1126.89 26.1121 1130.9 30.9732 Q1134.91 35.7938 1134.91 45.1919 Z\" fill=\"#000000\" fill-rule=\"evenodd\" fill-opacity=\"1\" /><path clip-path=\"url(#clip410)\" d=\"M1182.42 28.9478 L1182.42 35.9153 Q1179.26 34.1734 1176.06 33.3227 Q1172.9 32.4315 1169.66 32.4315 Q1162.41 32.4315 1158.4 37.0496 Q1154.39 41.6271 1154.39 49.9314 Q1154.39 58.2358 1158.4 62.8538 Q1162.41 67.4314 1169.66 67.4314 Q1172.9 67.4314 1176.06 66.5807 Q1179.26 65.6895 1182.42 63.9476 L1182.42 70.8341 Q1179.3 72.2924 1175.94 73.0216 Q1172.62 73.7508 1168.85 73.7508 Q1158.6 73.7508 1152.57 67.3098 Q1146.53 60.8689 1146.53 49.9314 Q1146.53 38.832 1152.61 32.472 Q1158.73 26.1121 1169.34 26.1121 Q1172.78 26.1121 1176.06 26.8413 Q1179.34 27.5299 1182.42 28.9478 Z\" fill=\"#000000\" fill-rule=\"evenodd\" fill-opacity=\"1\" /><path clip-path=\"url(#clip410)\" d=\"M1202.76 14.324 L1202.76 27.2059 L1218.11 27.2059 L1218.11 32.9987 L1202.76 32.9987 L1202.76 57.6282 Q1202.76 63.1779 1204.26 64.7578 Q1205.8 66.3376 1210.46 66.3376 L1218.11 66.3376 L1218.11 72.576 L1210.46 72.576 Q1201.83 72.576 1198.55 69.3758 Q1195.26 66.1351 1195.26 57.6282 L1195.26 32.9987 L1189.8 32.9987 L1189.8 27.2059 L1195.26 27.2059 L1195.26 14.324 L1202.76 14.324 Z\" fill=\"#000000\" fill-rule=\"evenodd\" fill-opacity=\"1\" /><path clip-path=\"url(#clip410)\" d=\"M1227.92 27.2059 L1235.37 27.2059 L1235.37 72.576 L1227.92 72.576 L1227.92 27.2059 M1227.92 9.54393 L1235.37 9.54393 L1235.37 18.9825 L1227.92 18.9825 L1227.92 9.54393 Z\" fill=\"#000000\" fill-rule=\"evenodd\" fill-opacity=\"1\" /><path clip-path=\"url(#clip410)\" d=\"M1268.55 32.4315 Q1262.55 32.4315 1259.07 37.1306 Q1255.58 41.7891 1255.58 49.9314 Q1255.58 58.0738 1259.03 62.7728 Q1262.51 67.4314 1268.55 67.4314 Q1274.5 67.4314 1277.98 62.7323 Q1281.47 58.0333 1281.47 49.9314 Q1281.47 41.8701 1277.98 37.1711 Q1274.5 32.4315 1268.55 32.4315 M1268.55 26.1121 Q1278.27 26.1121 1283.82 32.4315 Q1289.37 38.7509 1289.37 49.9314 Q1289.37 61.0714 1283.82 67.4314 Q1278.27 73.7508 1268.55 73.7508 Q1258.78 73.7508 1253.23 67.4314 Q1247.72 61.0714 1247.72 49.9314 Q1247.72 38.7509 1253.23 32.4315 Q1258.78 26.1121 1268.55 26.1121 Z\" fill=\"#000000\" fill-rule=\"evenodd\" fill-opacity=\"1\" /><path clip-path=\"url(#clip410)\" d=\"M1339.44 45.1919 L1339.44 72.576 L1331.98 72.576 L1331.98 45.4349 Q1331.98 38.994 1329.47 35.7938 Q1326.96 32.5936 1321.94 32.5936 Q1315.9 32.5936 1312.42 36.4419 Q1308.93 40.2903 1308.93 46.9338 L1308.93 72.576 L1301.44 72.576 L1301.44 27.2059 L1308.93 27.2059 L1308.93 34.2544 Q1311.61 30.163 1315.21 28.1376 Q1318.86 26.1121 1323.6 26.1121 Q1331.42 26.1121 1335.43 30.9732 Q1339.44 35.7938 1339.44 45.1919 Z\" fill=\"#000000\" fill-rule=\"evenodd\" fill-opacity=\"1\" /><path clip-path=\"url(#clip410)\" d=\"M1387.89 65.7705 L1387.89 89.8329 L1380.39 89.8329 L1380.39 27.2059 L1387.89 27.2059 L1387.89 34.0924 Q1390.23 30.0415 1393.8 28.0971 Q1397.4 26.1121 1402.39 26.1121 Q1410.65 26.1121 1415.8 32.6746 Q1420.98 39.2371 1420.98 49.9314 Q1420.98 60.6258 1415.8 67.1883 Q1410.65 73.7508 1402.39 73.7508 Q1397.4 73.7508 1393.8 71.8063 Q1390.23 69.8214 1387.89 65.7705 M1413.24 49.9314 Q1413.24 41.7081 1409.84 37.0496 Q1406.48 32.3505 1400.56 32.3505 Q1394.65 32.3505 1391.25 37.0496 Q1387.89 41.7081 1387.89 49.9314 Q1387.89 58.1548 1391.25 62.8538 Q1394.65 67.5124 1400.56 67.5124 Q1406.48 67.5124 1409.84 62.8538 Q1413.24 58.1548 1413.24 49.9314 Z\" fill=\"#000000\" fill-rule=\"evenodd\" fill-opacity=\"1\" /><path clip-path=\"url(#clip410)\" d=\"M1433.34 9.54393 L1440.79 9.54393 L1440.79 72.576 L1433.34 72.576 L1433.34 9.54393 Z\" fill=\"#000000\" fill-rule=\"evenodd\" fill-opacity=\"1\" /><path clip-path=\"url(#clip410)\" d=\"M1473.97 32.4315 Q1467.97 32.4315 1464.49 37.1306 Q1461 41.7891 1461 49.9314 Q1461 58.0738 1464.45 62.7728 Q1467.93 67.4314 1473.97 67.4314 Q1479.92 67.4314 1483.41 62.7323 Q1486.89 58.0333 1486.89 49.9314 Q1486.89 41.8701 1483.41 37.1711 Q1479.92 32.4315 1473.97 32.4315 M1473.97 26.1121 Q1483.69 26.1121 1489.24 32.4315 Q1494.79 38.7509 1494.79 49.9314 Q1494.79 61.0714 1489.24 67.4314 Q1483.69 73.7508 1473.97 73.7508 Q1464.2 73.7508 1458.65 67.4314 Q1453.15 61.0714 1453.15 49.9314 Q1453.15 38.7509 1458.65 32.4315 Q1464.2 26.1121 1473.97 26.1121 Z\" fill=\"#000000\" fill-rule=\"evenodd\" fill-opacity=\"1\" /><path clip-path=\"url(#clip410)\" d=\"M1514.52 14.324 L1514.52 27.2059 L1529.87 27.2059 L1529.87 32.9987 L1514.52 32.9987 L1514.52 57.6282 Q1514.52 63.1779 1516.02 64.7578 Q1517.55 66.3376 1522.21 66.3376 L1529.87 66.3376 L1529.87 72.576 L1522.21 72.576 Q1513.58 72.576 1510.3 69.3758 Q1507.02 66.1351 1507.02 57.6282 L1507.02 32.9987 L1501.55 32.9987 L1501.55 27.2059 L1507.02 27.2059 L1507.02 14.324 L1514.52 14.324 Z\" fill=\"#000000\" fill-rule=\"evenodd\" fill-opacity=\"1\" /><polyline clip-path=\"url(#clip412)\" style=\"stroke:#009af9; stroke-linecap:butt; stroke-linejoin:round; stroke-width:4; stroke-opacity:1; fill:none\" points=\"\n",
       "  240.392,467.425 260.42,467.425 445.609,467.425 556.9,467.425 650.995,467.425 753.208,467.425 847.44,467.425 948.466,467.425 1065.52,467.425 1169.53,467.425 \n",
       "  1260.75,467.425 1360.2,467.425 1460.24,467.425 1570.85,467.425 1676.09,467.425 1785.51,467.426 1877.63,467.426 1933.86,467.427 1990.09,467.427 2042.94,467.427 \n",
       "  2095.8,467.413 2138.14,467.287 2180.48,466.22 2191.07,465.375 2201.65,463.944 2212.24,461.527 2222.83,457.463 2228.12,454.508 2233.41,450.743 2238.7,446.12 \n",
       "  2244,441.661 2245.32,441.436 2246.64,442.904 2247.97,449.862 2249.29,485.479 2250.61,1447.87 2251.93,622.227 2253.26,454.468 2254.58,431.219 2255.9,421.705 \n",
       "  2257.23,415.456 2258.55,410.239 2259.87,405.335 2262.52,395.433 2265.17,384.7 2266.8,377.485 2268.42,369.718 2270.05,361.336 2271.68,352.274 2274.94,331.849 \n",
       "  2278.2,307.883 2279.83,294.375 2281.46,279.733 2283.09,263.86 2284.71,246.651 2286.34,227.993 2287.97,207.764 2289.6,185.83 2291.23,162.047 \n",
       "  \"/>\n",
       "<path clip-path=\"url(#clip410)\" d=\"\n",
       "M251.33 1441.02 L569.447 1441.02 L569.447 1337.34 L251.33 1337.34  Z\n",
       "  \" fill=\"#ffffff\" fill-rule=\"evenodd\" fill-opacity=\"1\"/>\n",
       "<polyline clip-path=\"url(#clip410)\" style=\"stroke:#000000; stroke-linecap:butt; stroke-linejoin:round; stroke-width:4; stroke-opacity:1; fill:none\" points=\"\n",
       "  251.33,1441.02 569.447,1441.02 569.447,1337.34 251.33,1337.34 251.33,1441.02 \n",
       "  \"/>\n",
       "<polyline clip-path=\"url(#clip410)\" style=\"stroke:#009af9; stroke-linecap:butt; stroke-linejoin:round; stroke-width:4; stroke-opacity:1; fill:none\" points=\"\n",
       "  275.484,1389.18 420.41,1389.18 \n",
       "  \"/>\n",
       "<path clip-path=\"url(#clip410)\" d=\"M461.069 1370.44 L461.069 1373.98 L456.995 1373.98 Q454.703 1373.98 453.8 1374.9 Q452.921 1375.83 452.921 1378.24 L452.921 1380.53 L459.934 1380.53 L459.934 1383.84 L452.921 1383.84 L452.921 1406.46 L448.638 1406.46 L448.638 1383.84 L444.564 1383.84 L444.564 1380.53 L448.638 1380.53 L448.638 1378.72 Q448.638 1374.4 450.652 1372.43 Q452.666 1370.44 457.041 1370.44 L461.069 1370.44 Z\" fill=\"#000000\" fill-rule=\"evenodd\" fill-opacity=\"1\" /><path clip-path=\"url(#clip410)\" d=\"M474.865 1370.48 Q471.763 1375.81 470.259 1381.02 Q468.754 1386.22 468.754 1391.57 Q468.754 1396.92 470.259 1402.17 Q471.786 1407.4 474.865 1412.71 L471.161 1412.71 Q467.689 1407.27 465.953 1402.01 Q464.24 1396.76 464.24 1391.57 Q464.24 1386.41 465.953 1381.18 Q467.666 1375.95 471.161 1370.48 L474.865 1370.48 Z\" fill=\"#000000\" fill-rule=\"evenodd\" fill-opacity=\"1\" /><path clip-path=\"url(#clip410)\" d=\"M504.68 1380.53 L495.305 1393.15 L505.166 1406.46 L500.143 1406.46 L492.596 1396.27 L485.05 1406.46 L480.027 1406.46 L490.096 1392.89 L480.883 1380.53 L485.907 1380.53 L492.782 1389.77 L499.657 1380.53 L504.68 1380.53 Z\" fill=\"#000000\" fill-rule=\"evenodd\" fill-opacity=\"1\" /><path clip-path=\"url(#clip410)\" d=\"M510.513 1370.48 L514.217 1370.48 Q517.689 1375.95 519.402 1381.18 Q521.138 1386.41 521.138 1391.57 Q521.138 1396.76 519.402 1402.01 Q517.689 1407.27 514.217 1412.71 L510.513 1412.71 Q513.592 1407.4 515.096 1402.17 Q516.624 1396.92 516.624 1391.57 Q516.624 1386.22 515.096 1381.02 Q513.592 1375.81 510.513 1370.48 Z\" fill=\"#000000\" fill-rule=\"evenodd\" fill-opacity=\"1\" /></svg>\n"
      ]
     },
     "execution_count": 17,
     "metadata": {},
     "output_type": "execute_result"
    }
   ],
   "source": [
    "f(x) = exp(x) -2 -1 / (10*x)^2 + 2 / (100*x)^3\n",
    "D(f) = x -> ForwardDiff.derivative(f, float(x))\n",
    "\n",
    "plot(f, -100, 2, label=\"f(x)\", legend=:bottomleft, title=\"Function plot\")"
   ]
  },
  {
   "cell_type": "code",
   "execution_count": 18,
   "id": "8807b2cc",
   "metadata": {},
   "outputs": [
    {
     "data": {
      "image/svg+xml": [
       "<?xml version=\"1.0\" encoding=\"utf-8\"?>\n",
       "<svg xmlns=\"http://www.w3.org/2000/svg\" xmlns:xlink=\"http://www.w3.org/1999/xlink\" width=\"600\" height=\"400\" viewBox=\"0 0 2400 1600\">\n",
       "<defs>\n",
       "  <clipPath id=\"clip450\">\n",
       "    <rect x=\"0\" y=\"0\" width=\"2400\" height=\"1600\"/>\n",
       "  </clipPath>\n",
       "</defs>\n",
       "<path clip-path=\"url(#clip450)\" d=\"\n",
       "M0 1600 L2400 1600 L2400 0 L0 0  Z\n",
       "  \" fill=\"#ffffff\" fill-rule=\"evenodd\" fill-opacity=\"1\"/>\n",
       "<defs>\n",
       "  <clipPath id=\"clip451\">\n",
       "    <rect x=\"480\" y=\"0\" width=\"1681\" height=\"1600\"/>\n",
       "  </clipPath>\n",
       "</defs>\n",
       "<path clip-path=\"url(#clip450)\" d=\"\n",
       "M239.19 1486.45 L2352.76 1486.45 L2352.76 123.472 L239.19 123.472  Z\n",
       "  \" fill=\"#ffffff\" fill-rule=\"evenodd\" fill-opacity=\"1\"/>\n",
       "<defs>\n",
       "  <clipPath id=\"clip452\">\n",
       "    <rect x=\"239\" y=\"123\" width=\"2115\" height=\"1364\"/>\n",
       "  </clipPath>\n",
       "</defs>\n",
       "<polyline clip-path=\"url(#clip452)\" style=\"stroke:#000000; stroke-linecap:butt; stroke-linejoin:round; stroke-width:2; stroke-opacity:0.1; fill:none\" points=\"\n",
       "  299.008,1486.45 299.008,123.472 \n",
       "  \"/>\n",
       "<polyline clip-path=\"url(#clip452)\" style=\"stroke:#000000; stroke-linecap:butt; stroke-linejoin:round; stroke-width:2; stroke-opacity:0.1; fill:none\" points=\"\n",
       "  787.717,1486.45 787.717,123.472 \n",
       "  \"/>\n",
       "<polyline clip-path=\"url(#clip452)\" style=\"stroke:#000000; stroke-linecap:butt; stroke-linejoin:round; stroke-width:2; stroke-opacity:0.1; fill:none\" points=\"\n",
       "  1276.42,1486.45 1276.42,123.472 \n",
       "  \"/>\n",
       "<polyline clip-path=\"url(#clip452)\" style=\"stroke:#000000; stroke-linecap:butt; stroke-linejoin:round; stroke-width:2; stroke-opacity:0.1; fill:none\" points=\"\n",
       "  1765.13,1486.45 1765.13,123.472 \n",
       "  \"/>\n",
       "<polyline clip-path=\"url(#clip452)\" style=\"stroke:#000000; stroke-linecap:butt; stroke-linejoin:round; stroke-width:2; stroke-opacity:0.1; fill:none\" points=\"\n",
       "  2253.84,1486.45 2253.84,123.472 \n",
       "  \"/>\n",
       "<polyline clip-path=\"url(#clip450)\" style=\"stroke:#000000; stroke-linecap:butt; stroke-linejoin:round; stroke-width:4; stroke-opacity:1; fill:none\" points=\"\n",
       "  239.19,1486.45 2352.76,1486.45 \n",
       "  \"/>\n",
       "<polyline clip-path=\"url(#clip450)\" style=\"stroke:#000000; stroke-linecap:butt; stroke-linejoin:round; stroke-width:4; stroke-opacity:1; fill:none\" points=\"\n",
       "  299.008,1486.45 299.008,1467.55 \n",
       "  \"/>\n",
       "<polyline clip-path=\"url(#clip450)\" style=\"stroke:#000000; stroke-linecap:butt; stroke-linejoin:round; stroke-width:4; stroke-opacity:1; fill:none\" points=\"\n",
       "  787.717,1486.45 787.717,1467.55 \n",
       "  \"/>\n",
       "<polyline clip-path=\"url(#clip450)\" style=\"stroke:#000000; stroke-linecap:butt; stroke-linejoin:round; stroke-width:4; stroke-opacity:1; fill:none\" points=\"\n",
       "  1276.42,1486.45 1276.42,1467.55 \n",
       "  \"/>\n",
       "<polyline clip-path=\"url(#clip450)\" style=\"stroke:#000000; stroke-linecap:butt; stroke-linejoin:round; stroke-width:4; stroke-opacity:1; fill:none\" points=\"\n",
       "  1765.13,1486.45 1765.13,1467.55 \n",
       "  \"/>\n",
       "<polyline clip-path=\"url(#clip450)\" style=\"stroke:#000000; stroke-linecap:butt; stroke-linejoin:round; stroke-width:4; stroke-opacity:1; fill:none\" points=\"\n",
       "  2253.84,1486.45 2253.84,1467.55 \n",
       "  \"/>\n",
       "<path clip-path=\"url(#clip450)\" d=\"M237.99 1532.02 L267.666 1532.02 L267.666 1535.95 L237.99 1535.95 L237.99 1532.02 Z\" fill=\"#000000\" fill-rule=\"evenodd\" fill-opacity=\"1\" /><path clip-path=\"url(#clip450)\" d=\"M278.569 1544.91 L286.207 1544.91 L286.207 1518.55 L277.897 1520.21 L277.897 1515.95 L286.161 1514.29 L290.837 1514.29 L290.837 1544.91 L298.476 1544.91 L298.476 1548.85 L278.569 1548.85 L278.569 1544.91 Z\" fill=\"#000000\" fill-rule=\"evenodd\" fill-opacity=\"1\" /><path clip-path=\"url(#clip450)\" d=\"M317.92 1517.37 Q314.309 1517.37 312.48 1520.93 Q310.675 1524.47 310.675 1531.6 Q310.675 1538.71 312.48 1542.27 Q314.309 1545.82 317.92 1545.82 Q321.554 1545.82 323.36 1542.27 Q325.189 1538.71 325.189 1531.6 Q325.189 1524.47 323.36 1520.93 Q321.554 1517.37 317.92 1517.37 M317.92 1513.66 Q323.73 1513.66 326.786 1518.27 Q329.865 1522.85 329.865 1531.6 Q329.865 1540.33 326.786 1544.94 Q323.73 1549.52 317.92 1549.52 Q312.11 1549.52 309.031 1544.94 Q305.976 1540.33 305.976 1531.6 Q305.976 1522.85 309.031 1518.27 Q312.11 1513.66 317.92 1513.66 Z\" fill=\"#000000\" fill-rule=\"evenodd\" fill-opacity=\"1\" /><path clip-path=\"url(#clip450)\" d=\"M348.082 1517.37 Q344.471 1517.37 342.642 1520.93 Q340.837 1524.47 340.837 1531.6 Q340.837 1538.71 342.642 1542.27 Q344.471 1545.82 348.082 1545.82 Q351.716 1545.82 353.522 1542.27 Q355.351 1538.71 355.351 1531.6 Q355.351 1524.47 353.522 1520.93 Q351.716 1517.37 348.082 1517.37 M348.082 1513.66 Q353.892 1513.66 356.948 1518.27 Q360.026 1522.85 360.026 1531.6 Q360.026 1540.33 356.948 1544.94 Q353.892 1549.52 348.082 1549.52 Q342.272 1549.52 339.193 1544.94 Q336.138 1540.33 336.138 1531.6 Q336.138 1522.85 339.193 1518.27 Q342.272 1513.66 348.082 1513.66 Z\" fill=\"#000000\" fill-rule=\"evenodd\" fill-opacity=\"1\" /><path clip-path=\"url(#clip450)\" d=\"M742.277 1532.02 L771.953 1532.02 L771.953 1535.95 L742.277 1535.95 L742.277 1532.02 Z\" fill=\"#000000\" fill-rule=\"evenodd\" fill-opacity=\"1\" /><path clip-path=\"url(#clip450)\" d=\"M780.865 1514.29 L803.087 1514.29 L803.087 1516.28 L790.541 1548.85 L785.656 1548.85 L797.462 1518.22 L780.865 1518.22 L780.865 1514.29 Z\" fill=\"#000000\" fill-rule=\"evenodd\" fill-opacity=\"1\" /><path clip-path=\"url(#clip450)\" d=\"M812.253 1514.29 L830.61 1514.29 L830.61 1518.22 L816.536 1518.22 L816.536 1526.7 Q817.554 1526.35 818.573 1526.19 Q819.591 1526 820.61 1526 Q826.397 1526 829.777 1529.17 Q833.156 1532.34 833.156 1537.76 Q833.156 1543.34 829.684 1546.44 Q826.212 1549.52 819.892 1549.52 Q817.716 1549.52 815.448 1549.15 Q813.203 1548.78 810.795 1548.04 L810.795 1543.34 Q812.878 1544.47 815.101 1545.03 Q817.323 1545.58 819.8 1545.58 Q823.804 1545.58 826.142 1543.48 Q828.48 1541.37 828.48 1537.76 Q828.48 1534.15 826.142 1532.04 Q823.804 1529.94 819.8 1529.94 Q817.925 1529.94 816.05 1530.35 Q814.198 1530.77 812.253 1531.65 L812.253 1514.29 Z\" fill=\"#000000\" fill-rule=\"evenodd\" fill-opacity=\"1\" /><path clip-path=\"url(#clip450)\" d=\"M1230.49 1532.02 L1260.16 1532.02 L1260.16 1535.95 L1230.49 1535.95 L1230.49 1532.02 Z\" fill=\"#000000\" fill-rule=\"evenodd\" fill-opacity=\"1\" /><path clip-path=\"url(#clip450)\" d=\"M1270.3 1514.29 L1288.66 1514.29 L1288.66 1518.22 L1274.58 1518.22 L1274.58 1526.7 Q1275.6 1526.35 1276.62 1526.19 Q1277.64 1526 1278.66 1526 Q1284.45 1526 1287.83 1529.17 Q1291.2 1532.34 1291.2 1537.76 Q1291.2 1543.34 1287.73 1546.44 Q1284.26 1549.52 1277.94 1549.52 Q1275.77 1549.52 1273.5 1549.15 Q1271.25 1548.78 1268.84 1548.04 L1268.84 1543.34 Q1270.93 1544.47 1273.15 1545.03 Q1275.37 1545.58 1277.85 1545.58 Q1281.85 1545.58 1284.19 1543.48 Q1286.53 1541.37 1286.53 1537.76 Q1286.53 1534.15 1284.19 1532.04 Q1281.85 1529.94 1277.85 1529.94 Q1275.97 1529.94 1274.1 1530.35 Q1272.25 1530.77 1270.3 1531.65 L1270.3 1514.29 Z\" fill=\"#000000\" fill-rule=\"evenodd\" fill-opacity=\"1\" /><path clip-path=\"url(#clip450)\" d=\"M1310.42 1517.37 Q1306.81 1517.37 1304.98 1520.93 Q1303.17 1524.47 1303.17 1531.6 Q1303.17 1538.71 1304.98 1542.27 Q1306.81 1545.82 1310.42 1545.82 Q1314.05 1545.82 1315.86 1542.27 Q1317.69 1538.71 1317.69 1531.6 Q1317.69 1524.47 1315.86 1520.93 Q1314.05 1517.37 1310.42 1517.37 M1310.42 1513.66 Q1316.23 1513.66 1319.28 1518.27 Q1322.36 1522.85 1322.36 1531.6 Q1322.36 1540.33 1319.28 1544.94 Q1316.23 1549.52 1310.42 1549.52 Q1304.61 1549.52 1301.53 1544.94 Q1298.47 1540.33 1298.47 1531.6 Q1298.47 1522.85 1301.53 1518.27 Q1304.61 1513.66 1310.42 1513.66 Z\" fill=\"#000000\" fill-rule=\"evenodd\" fill-opacity=\"1\" /><path clip-path=\"url(#clip450)\" d=\"M1719.69 1532.02 L1749.37 1532.02 L1749.37 1535.95 L1719.69 1535.95 L1719.69 1532.02 Z\" fill=\"#000000\" fill-rule=\"evenodd\" fill-opacity=\"1\" /><path clip-path=\"url(#clip450)\" d=\"M1763.49 1544.91 L1779.81 1544.91 L1779.81 1548.85 L1757.86 1548.85 L1757.86 1544.91 Q1760.53 1542.16 1765.11 1537.53 Q1769.72 1532.88 1770.9 1531.53 Q1773.14 1529.01 1774.02 1527.27 Q1774.92 1525.51 1774.92 1523.82 Q1774.92 1521.07 1772.98 1519.33 Q1771.06 1517.6 1767.96 1517.6 Q1765.76 1517.6 1763.3 1518.36 Q1760.87 1519.13 1758.1 1520.68 L1758.1 1515.95 Q1760.92 1514.82 1763.37 1514.24 Q1765.83 1513.66 1767.86 1513.66 Q1773.23 1513.66 1776.43 1516.35 Q1779.62 1519.03 1779.62 1523.52 Q1779.62 1525.65 1778.81 1527.57 Q1778.03 1529.47 1775.92 1532.07 Q1775.34 1532.74 1772.24 1535.95 Q1769.14 1539.15 1763.49 1544.91 Z\" fill=\"#000000\" fill-rule=\"evenodd\" fill-opacity=\"1\" /><path clip-path=\"url(#clip450)\" d=\"M1789.67 1514.29 L1808.03 1514.29 L1808.03 1518.22 L1793.95 1518.22 L1793.95 1526.7 Q1794.97 1526.35 1795.99 1526.19 Q1797.01 1526 1798.03 1526 Q1803.81 1526 1807.19 1529.17 Q1810.57 1532.34 1810.57 1537.76 Q1810.57 1543.34 1807.1 1546.44 Q1803.63 1549.52 1797.31 1549.52 Q1795.13 1549.52 1792.86 1549.15 Q1790.62 1548.78 1788.21 1548.04 L1788.21 1543.34 Q1790.29 1544.47 1792.52 1545.03 Q1794.74 1545.58 1797.22 1545.58 Q1801.22 1545.58 1803.56 1543.48 Q1805.9 1541.37 1805.9 1537.76 Q1805.9 1534.15 1803.56 1532.04 Q1801.22 1529.94 1797.22 1529.94 Q1795.34 1529.94 1793.47 1530.35 Q1791.61 1530.77 1789.67 1531.65 L1789.67 1514.29 Z\" fill=\"#000000\" fill-rule=\"evenodd\" fill-opacity=\"1\" /><path clip-path=\"url(#clip450)\" d=\"M2253.84 1517.37 Q2250.23 1517.37 2248.4 1520.93 Q2246.6 1524.47 2246.6 1531.6 Q2246.6 1538.71 2248.4 1542.27 Q2250.23 1545.82 2253.84 1545.82 Q2257.48 1545.82 2259.28 1542.27 Q2261.11 1538.71 2261.11 1531.6 Q2261.11 1524.47 2259.28 1520.93 Q2257.48 1517.37 2253.84 1517.37 M2253.84 1513.66 Q2259.65 1513.66 2262.71 1518.27 Q2265.79 1522.85 2265.79 1531.6 Q2265.79 1540.33 2262.71 1544.94 Q2259.65 1549.52 2253.84 1549.52 Q2248.03 1549.52 2244.95 1544.94 Q2241.9 1540.33 2241.9 1531.6 Q2241.9 1522.85 2244.95 1518.27 Q2248.03 1513.66 2253.84 1513.66 Z\" fill=\"#000000\" fill-rule=\"evenodd\" fill-opacity=\"1\" /><polyline clip-path=\"url(#clip452)\" style=\"stroke:#000000; stroke-linecap:butt; stroke-linejoin:round; stroke-width:2; stroke-opacity:0.1; fill:none\" points=\"\n",
       "  239.19,1470.38 2352.76,1470.38 \n",
       "  \"/>\n",
       "<polyline clip-path=\"url(#clip452)\" style=\"stroke:#000000; stroke-linecap:butt; stroke-linejoin:round; stroke-width:2; stroke-opacity:0.1; fill:none\" points=\"\n",
       "  239.19,1229.06 2352.76,1229.06 \n",
       "  \"/>\n",
       "<polyline clip-path=\"url(#clip452)\" style=\"stroke:#000000; stroke-linecap:butt; stroke-linejoin:round; stroke-width:2; stroke-opacity:0.1; fill:none\" points=\"\n",
       "  239.19,987.74 2352.76,987.74 \n",
       "  \"/>\n",
       "<polyline clip-path=\"url(#clip452)\" style=\"stroke:#000000; stroke-linecap:butt; stroke-linejoin:round; stroke-width:2; stroke-opacity:0.1; fill:none\" points=\"\n",
       "  239.19,746.419 2352.76,746.419 \n",
       "  \"/>\n",
       "<polyline clip-path=\"url(#clip452)\" style=\"stroke:#000000; stroke-linecap:butt; stroke-linejoin:round; stroke-width:2; stroke-opacity:0.1; fill:none\" points=\"\n",
       "  239.19,505.099 2352.76,505.099 \n",
       "  \"/>\n",
       "<polyline clip-path=\"url(#clip452)\" style=\"stroke:#000000; stroke-linecap:butt; stroke-linejoin:round; stroke-width:2; stroke-opacity:0.1; fill:none\" points=\"\n",
       "  239.19,263.778 2352.76,263.778 \n",
       "  \"/>\n",
       "<polyline clip-path=\"url(#clip450)\" style=\"stroke:#000000; stroke-linecap:butt; stroke-linejoin:round; stroke-width:4; stroke-opacity:1; fill:none\" points=\"\n",
       "  239.19,1486.45 239.19,123.472 \n",
       "  \"/>\n",
       "<polyline clip-path=\"url(#clip450)\" style=\"stroke:#000000; stroke-linecap:butt; stroke-linejoin:round; stroke-width:4; stroke-opacity:1; fill:none\" points=\"\n",
       "  239.19,1470.38 258.088,1470.38 \n",
       "  \"/>\n",
       "<polyline clip-path=\"url(#clip450)\" style=\"stroke:#000000; stroke-linecap:butt; stroke-linejoin:round; stroke-width:4; stroke-opacity:1; fill:none\" points=\"\n",
       "  239.19,1229.06 258.088,1229.06 \n",
       "  \"/>\n",
       "<polyline clip-path=\"url(#clip450)\" style=\"stroke:#000000; stroke-linecap:butt; stroke-linejoin:round; stroke-width:4; stroke-opacity:1; fill:none\" points=\"\n",
       "  239.19,987.74 258.088,987.74 \n",
       "  \"/>\n",
       "<polyline clip-path=\"url(#clip450)\" style=\"stroke:#000000; stroke-linecap:butt; stroke-linejoin:round; stroke-width:4; stroke-opacity:1; fill:none\" points=\"\n",
       "  239.19,746.419 258.088,746.419 \n",
       "  \"/>\n",
       "<polyline clip-path=\"url(#clip450)\" style=\"stroke:#000000; stroke-linecap:butt; stroke-linejoin:round; stroke-width:4; stroke-opacity:1; fill:none\" points=\"\n",
       "  239.19,505.099 258.088,505.099 \n",
       "  \"/>\n",
       "<polyline clip-path=\"url(#clip450)\" style=\"stroke:#000000; stroke-linecap:butt; stroke-linejoin:round; stroke-width:4; stroke-opacity:1; fill:none\" points=\"\n",
       "  239.19,263.778 258.088,263.778 \n",
       "  \"/>\n",
       "<path clip-path=\"url(#clip450)\" d=\"M50.9921 1470.83 L80.6679 1470.83 L80.6679 1474.77 L50.9921 1474.77 L50.9921 1470.83 Z\" fill=\"#000000\" fill-rule=\"evenodd\" fill-opacity=\"1\" /><path clip-path=\"url(#clip450)\" d=\"M94.7882 1483.73 L111.108 1483.73 L111.108 1487.66 L89.1632 1487.66 L89.1632 1483.73 Q91.8252 1480.97 96.4085 1476.34 Q101.015 1471.69 102.196 1470.35 Q104.441 1467.82 105.321 1466.09 Q106.223 1464.33 106.223 1462.64 Q106.223 1459.88 104.279 1458.15 Q102.358 1456.41 99.2558 1456.41 Q97.0567 1456.41 94.603 1457.17 Q92.1725 1457.94 89.3947 1459.49 L89.3947 1454.77 Q92.2188 1453.63 94.6724 1453.05 Q97.1261 1452.48 99.1632 1452.48 Q104.534 1452.48 107.728 1455.16 Q110.922 1457.85 110.922 1462.34 Q110.922 1464.47 110.112 1466.39 Q109.325 1468.29 107.219 1470.88 Q106.64 1471.55 103.538 1474.77 Q100.436 1477.96 94.7882 1483.73 Z\" fill=\"#000000\" fill-rule=\"evenodd\" fill-opacity=\"1\" /><path clip-path=\"url(#clip450)\" d=\"M120.969 1453.1 L139.325 1453.1 L139.325 1457.04 L125.251 1457.04 L125.251 1465.51 Q126.27 1465.16 127.288 1465 Q128.307 1464.81 129.325 1464.81 Q135.112 1464.81 138.492 1467.98 Q141.871 1471.16 141.871 1476.57 Q141.871 1482.15 138.399 1485.25 Q134.927 1488.33 128.607 1488.33 Q126.432 1488.33 124.163 1487.96 Q121.918 1487.59 119.51 1486.85 L119.51 1482.15 Q121.594 1483.29 123.816 1483.84 Q126.038 1484.4 128.515 1484.4 Q132.519 1484.4 134.857 1482.29 Q137.195 1480.18 137.195 1476.57 Q137.195 1472.96 134.857 1470.85 Q132.519 1468.75 128.515 1468.75 Q126.64 1468.75 124.765 1469.17 Q122.913 1469.58 120.969 1470.46 L120.969 1453.1 Z\" fill=\"#000000\" fill-rule=\"evenodd\" fill-opacity=\"1\" /><path clip-path=\"url(#clip450)\" d=\"M161.084 1456.18 Q157.473 1456.18 155.644 1459.74 Q153.839 1463.29 153.839 1470.42 Q153.839 1477.52 155.644 1481.09 Q157.473 1484.63 161.084 1484.63 Q164.718 1484.63 166.524 1481.09 Q168.353 1477.52 168.353 1470.42 Q168.353 1463.29 166.524 1459.74 Q164.718 1456.18 161.084 1456.18 M161.084 1452.48 Q166.894 1452.48 169.95 1457.08 Q173.029 1461.67 173.029 1470.42 Q173.029 1479.14 169.95 1483.75 Q166.894 1488.33 161.084 1488.33 Q155.274 1488.33 152.195 1483.75 Q149.14 1479.14 149.14 1470.42 Q149.14 1461.67 152.195 1457.08 Q155.274 1452.48 161.084 1452.48 Z\" fill=\"#000000\" fill-rule=\"evenodd\" fill-opacity=\"1\" /><path clip-path=\"url(#clip450)\" d=\"M191.246 1456.18 Q187.635 1456.18 185.806 1459.74 Q184.001 1463.29 184.001 1470.42 Q184.001 1477.52 185.806 1481.09 Q187.635 1484.63 191.246 1484.63 Q194.88 1484.63 196.686 1481.09 Q198.514 1477.52 198.514 1470.42 Q198.514 1463.29 196.686 1459.74 Q194.88 1456.18 191.246 1456.18 M191.246 1452.48 Q197.056 1452.48 200.112 1457.08 Q203.19 1461.67 203.19 1470.42 Q203.19 1479.14 200.112 1483.75 Q197.056 1488.33 191.246 1488.33 Q185.436 1488.33 182.357 1483.75 Q179.302 1479.14 179.302 1470.42 Q179.302 1461.67 182.357 1457.08 Q185.436 1452.48 191.246 1452.48 Z\" fill=\"#000000\" fill-rule=\"evenodd\" fill-opacity=\"1\" /><path clip-path=\"url(#clip450)\" d=\"M50.9921 1229.51 L80.6679 1229.51 L80.6679 1233.45 L50.9921 1233.45 L50.9921 1229.51 Z\" fill=\"#000000\" fill-rule=\"evenodd\" fill-opacity=\"1\" /><path clip-path=\"url(#clip450)\" d=\"M94.7882 1242.4 L111.108 1242.4 L111.108 1246.34 L89.1632 1246.34 L89.1632 1242.4 Q91.8252 1239.65 96.4085 1235.02 Q101.015 1230.37 102.196 1229.03 Q104.441 1226.5 105.321 1224.77 Q106.223 1223.01 106.223 1221.32 Q106.223 1218.56 104.279 1216.83 Q102.358 1215.09 99.2558 1215.09 Q97.0567 1215.09 94.603 1215.85 Q92.1725 1216.62 89.3947 1218.17 L89.3947 1213.45 Q92.2188 1212.31 94.6724 1211.73 Q97.1261 1211.16 99.1632 1211.16 Q104.534 1211.16 107.728 1213.84 Q110.922 1216.53 110.922 1221.02 Q110.922 1223.15 110.112 1225.07 Q109.325 1226.97 107.219 1229.56 Q106.64 1230.23 103.538 1233.45 Q100.436 1236.64 94.7882 1242.4 Z\" fill=\"#000000\" fill-rule=\"evenodd\" fill-opacity=\"1\" /><path clip-path=\"url(#clip450)\" d=\"M130.922 1214.86 Q127.311 1214.86 125.482 1218.42 Q123.677 1221.97 123.677 1229.09 Q123.677 1236.2 125.482 1239.77 Q127.311 1243.31 130.922 1243.31 Q134.556 1243.31 136.362 1239.77 Q138.191 1236.2 138.191 1229.09 Q138.191 1221.97 136.362 1218.42 Q134.556 1214.86 130.922 1214.86 M130.922 1211.16 Q136.732 1211.16 139.788 1215.76 Q142.867 1220.34 142.867 1229.09 Q142.867 1237.82 139.788 1242.43 Q136.732 1247.01 130.922 1247.01 Q125.112 1247.01 122.033 1242.43 Q118.978 1237.82 118.978 1229.09 Q118.978 1220.34 122.033 1215.76 Q125.112 1211.16 130.922 1211.16 Z\" fill=\"#000000\" fill-rule=\"evenodd\" fill-opacity=\"1\" /><path clip-path=\"url(#clip450)\" d=\"M161.084 1214.86 Q157.473 1214.86 155.644 1218.42 Q153.839 1221.97 153.839 1229.09 Q153.839 1236.2 155.644 1239.77 Q157.473 1243.31 161.084 1243.31 Q164.718 1243.31 166.524 1239.77 Q168.353 1236.2 168.353 1229.09 Q168.353 1221.97 166.524 1218.42 Q164.718 1214.86 161.084 1214.86 M161.084 1211.16 Q166.894 1211.16 169.95 1215.76 Q173.029 1220.34 173.029 1229.09 Q173.029 1237.82 169.95 1242.43 Q166.894 1247.01 161.084 1247.01 Q155.274 1247.01 152.195 1242.43 Q149.14 1237.82 149.14 1229.09 Q149.14 1220.34 152.195 1215.76 Q155.274 1211.16 161.084 1211.16 Z\" fill=\"#000000\" fill-rule=\"evenodd\" fill-opacity=\"1\" /><path clip-path=\"url(#clip450)\" d=\"M191.246 1214.86 Q187.635 1214.86 185.806 1218.42 Q184.001 1221.97 184.001 1229.09 Q184.001 1236.2 185.806 1239.77 Q187.635 1243.31 191.246 1243.31 Q194.88 1243.31 196.686 1239.77 Q198.514 1236.2 198.514 1229.09 Q198.514 1221.97 196.686 1218.42 Q194.88 1214.86 191.246 1214.86 M191.246 1211.16 Q197.056 1211.16 200.112 1215.76 Q203.19 1220.34 203.19 1229.09 Q203.19 1237.82 200.112 1242.43 Q197.056 1247.01 191.246 1247.01 Q185.436 1247.01 182.357 1242.43 Q179.302 1237.82 179.302 1229.09 Q179.302 1220.34 182.357 1215.76 Q185.436 1211.16 191.246 1211.16 Z\" fill=\"#000000\" fill-rule=\"evenodd\" fill-opacity=\"1\" /><path clip-path=\"url(#clip450)\" d=\"M50.9921 988.191 L80.6679 988.191 L80.6679 992.126 L50.9921 992.126 L50.9921 988.191 Z\" fill=\"#000000\" fill-rule=\"evenodd\" fill-opacity=\"1\" /><path clip-path=\"url(#clip450)\" d=\"M91.5706 1001.08 L99.2095 1001.08 L99.2095 974.719 L90.8993 976.386 L90.8993 972.126 L99.1632 970.46 L103.839 970.46 L103.839 1001.08 L111.478 1001.08 L111.478 1005.02 L91.5706 1005.02 L91.5706 1001.08 Z\" fill=\"#000000\" fill-rule=\"evenodd\" fill-opacity=\"1\" /><path clip-path=\"url(#clip450)\" d=\"M120.969 970.46 L139.325 970.46 L139.325 974.395 L125.251 974.395 L125.251 982.867 Q126.27 982.52 127.288 982.358 Q128.307 982.173 129.325 982.173 Q135.112 982.173 138.492 985.344 Q141.871 988.515 141.871 993.932 Q141.871 999.51 138.399 1002.61 Q134.927 1005.69 128.607 1005.69 Q126.432 1005.69 124.163 1005.32 Q121.918 1004.95 119.51 1004.21 L119.51 999.51 Q121.594 1000.64 123.816 1001.2 Q126.038 1001.76 128.515 1001.76 Q132.519 1001.76 134.857 999.649 Q137.195 997.543 137.195 993.932 Q137.195 990.321 134.857 988.214 Q132.519 986.108 128.515 986.108 Q126.64 986.108 124.765 986.524 Q122.913 986.941 120.969 987.821 L120.969 970.46 Z\" fill=\"#000000\" fill-rule=\"evenodd\" fill-opacity=\"1\" /><path clip-path=\"url(#clip450)\" d=\"M161.084 973.538 Q157.473 973.538 155.644 977.103 Q153.839 980.645 153.839 987.774 Q153.839 994.881 155.644 998.446 Q157.473 1001.99 161.084 1001.99 Q164.718 1001.99 166.524 998.446 Q168.353 994.881 168.353 987.774 Q168.353 980.645 166.524 977.103 Q164.718 973.538 161.084 973.538 M161.084 969.835 Q166.894 969.835 169.95 974.441 Q173.029 979.024 173.029 987.774 Q173.029 996.501 169.95 1001.11 Q166.894 1005.69 161.084 1005.69 Q155.274 1005.69 152.195 1001.11 Q149.14 996.501 149.14 987.774 Q149.14 979.024 152.195 974.441 Q155.274 969.835 161.084 969.835 Z\" fill=\"#000000\" fill-rule=\"evenodd\" fill-opacity=\"1\" /><path clip-path=\"url(#clip450)\" d=\"M191.246 973.538 Q187.635 973.538 185.806 977.103 Q184.001 980.645 184.001 987.774 Q184.001 994.881 185.806 998.446 Q187.635 1001.99 191.246 1001.99 Q194.88 1001.99 196.686 998.446 Q198.514 994.881 198.514 987.774 Q198.514 980.645 196.686 977.103 Q194.88 973.538 191.246 973.538 M191.246 969.835 Q197.056 969.835 200.112 974.441 Q203.19 979.024 203.19 987.774 Q203.19 996.501 200.112 1001.11 Q197.056 1005.69 191.246 1005.69 Q185.436 1005.69 182.357 1001.11 Q179.302 996.501 179.302 987.774 Q179.302 979.024 182.357 974.441 Q185.436 969.835 191.246 969.835 Z\" fill=\"#000000\" fill-rule=\"evenodd\" fill-opacity=\"1\" /><path clip-path=\"url(#clip450)\" d=\"M50.9921 746.871 L80.6679 746.871 L80.6679 750.806 L50.9921 750.806 L50.9921 746.871 Z\" fill=\"#000000\" fill-rule=\"evenodd\" fill-opacity=\"1\" /><path clip-path=\"url(#clip450)\" d=\"M91.5706 759.764 L99.2095 759.764 L99.2095 733.398 L90.8993 735.065 L90.8993 730.806 L99.1632 729.139 L103.839 729.139 L103.839 759.764 L111.478 759.764 L111.478 763.699 L91.5706 763.699 L91.5706 759.764 Z\" fill=\"#000000\" fill-rule=\"evenodd\" fill-opacity=\"1\" /><path clip-path=\"url(#clip450)\" d=\"M130.922 732.218 Q127.311 732.218 125.482 735.783 Q123.677 739.324 123.677 746.454 Q123.677 753.56 125.482 757.125 Q127.311 760.667 130.922 760.667 Q134.556 760.667 136.362 757.125 Q138.191 753.56 138.191 746.454 Q138.191 739.324 136.362 735.783 Q134.556 732.218 130.922 732.218 M130.922 728.514 Q136.732 728.514 139.788 733.121 Q142.867 737.704 142.867 746.454 Q142.867 755.181 139.788 759.787 Q136.732 764.371 130.922 764.371 Q125.112 764.371 122.033 759.787 Q118.978 755.181 118.978 746.454 Q118.978 737.704 122.033 733.121 Q125.112 728.514 130.922 728.514 Z\" fill=\"#000000\" fill-rule=\"evenodd\" fill-opacity=\"1\" /><path clip-path=\"url(#clip450)\" d=\"M161.084 732.218 Q157.473 732.218 155.644 735.783 Q153.839 739.324 153.839 746.454 Q153.839 753.56 155.644 757.125 Q157.473 760.667 161.084 760.667 Q164.718 760.667 166.524 757.125 Q168.353 753.56 168.353 746.454 Q168.353 739.324 166.524 735.783 Q164.718 732.218 161.084 732.218 M161.084 728.514 Q166.894 728.514 169.95 733.121 Q173.029 737.704 173.029 746.454 Q173.029 755.181 169.95 759.787 Q166.894 764.371 161.084 764.371 Q155.274 764.371 152.195 759.787 Q149.14 755.181 149.14 746.454 Q149.14 737.704 152.195 733.121 Q155.274 728.514 161.084 728.514 Z\" fill=\"#000000\" fill-rule=\"evenodd\" fill-opacity=\"1\" /><path clip-path=\"url(#clip450)\" d=\"M191.246 732.218 Q187.635 732.218 185.806 735.783 Q184.001 739.324 184.001 746.454 Q184.001 753.56 185.806 757.125 Q187.635 760.667 191.246 760.667 Q194.88 760.667 196.686 757.125 Q198.514 753.56 198.514 746.454 Q198.514 739.324 196.686 735.783 Q194.88 732.218 191.246 732.218 M191.246 728.514 Q197.056 728.514 200.112 733.121 Q203.19 737.704 203.19 746.454 Q203.19 755.181 200.112 759.787 Q197.056 764.371 191.246 764.371 Q185.436 764.371 182.357 759.787 Q179.302 755.181 179.302 746.454 Q179.302 737.704 182.357 733.121 Q185.436 728.514 191.246 728.514 Z\" fill=\"#000000\" fill-rule=\"evenodd\" fill-opacity=\"1\" /><path clip-path=\"url(#clip450)\" d=\"M81.154 505.55 L110.83 505.55 L110.83 509.485 L81.154 509.485 L81.154 505.55 Z\" fill=\"#000000\" fill-rule=\"evenodd\" fill-opacity=\"1\" /><path clip-path=\"url(#clip450)\" d=\"M120.969 487.819 L139.325 487.819 L139.325 491.754 L125.251 491.754 L125.251 500.226 Q126.27 499.879 127.288 499.717 Q128.307 499.532 129.325 499.532 Q135.112 499.532 138.492 502.703 Q141.871 505.874 141.871 511.291 Q141.871 516.87 138.399 519.971 Q134.927 523.05 128.607 523.05 Q126.432 523.05 124.163 522.68 Q121.918 522.309 119.51 521.569 L119.51 516.87 Q121.594 518.004 123.816 518.559 Q126.038 519.115 128.515 519.115 Q132.519 519.115 134.857 517.008 Q137.195 514.902 137.195 511.291 Q137.195 507.68 134.857 505.573 Q132.519 503.467 128.515 503.467 Q126.64 503.467 124.765 503.884 Q122.913 504.3 120.969 505.18 L120.969 487.819 Z\" fill=\"#000000\" fill-rule=\"evenodd\" fill-opacity=\"1\" /><path clip-path=\"url(#clip450)\" d=\"M161.084 490.897 Q157.473 490.897 155.644 494.462 Q153.839 498.004 153.839 505.134 Q153.839 512.24 155.644 515.805 Q157.473 519.346 161.084 519.346 Q164.718 519.346 166.524 515.805 Q168.353 512.24 168.353 505.134 Q168.353 498.004 166.524 494.462 Q164.718 490.897 161.084 490.897 M161.084 487.194 Q166.894 487.194 169.95 491.8 Q173.029 496.384 173.029 505.134 Q173.029 513.86 169.95 518.467 Q166.894 523.05 161.084 523.05 Q155.274 523.05 152.195 518.467 Q149.14 513.86 149.14 505.134 Q149.14 496.384 152.195 491.8 Q155.274 487.194 161.084 487.194 Z\" fill=\"#000000\" fill-rule=\"evenodd\" fill-opacity=\"1\" /><path clip-path=\"url(#clip450)\" d=\"M191.246 490.897 Q187.635 490.897 185.806 494.462 Q184.001 498.004 184.001 505.134 Q184.001 512.24 185.806 515.805 Q187.635 519.346 191.246 519.346 Q194.88 519.346 196.686 515.805 Q198.514 512.24 198.514 505.134 Q198.514 498.004 196.686 494.462 Q194.88 490.897 191.246 490.897 M191.246 487.194 Q197.056 487.194 200.112 491.8 Q203.19 496.384 203.19 505.134 Q203.19 513.86 200.112 518.467 Q197.056 523.05 191.246 523.05 Q185.436 523.05 182.357 518.467 Q179.302 513.86 179.302 505.134 Q179.302 496.384 182.357 491.8 Q185.436 487.194 191.246 487.194 Z\" fill=\"#000000\" fill-rule=\"evenodd\" fill-opacity=\"1\" /><path clip-path=\"url(#clip450)\" d=\"M191.246 249.577 Q187.635 249.577 185.806 253.142 Q184.001 256.684 184.001 263.813 Q184.001 270.92 185.806 274.484 Q187.635 278.026 191.246 278.026 Q194.88 278.026 196.686 274.484 Q198.514 270.92 198.514 263.813 Q198.514 256.684 196.686 253.142 Q194.88 249.577 191.246 249.577 M191.246 245.873 Q197.056 245.873 200.112 250.48 Q203.19 255.063 203.19 263.813 Q203.19 272.54 200.112 277.146 Q197.056 281.73 191.246 281.73 Q185.436 281.73 182.357 277.146 Q179.302 272.54 179.302 263.813 Q179.302 255.063 182.357 250.48 Q185.436 245.873 191.246 245.873 Z\" fill=\"#000000\" fill-rule=\"evenodd\" fill-opacity=\"1\" /><path clip-path=\"url(#clip450)\" d=\"M810.472 12.096 L845.229 12.096 L845.229 18.9825 L818.655 18.9825 L818.655 36.8065 L842.636 36.8065 L842.636 43.6931 L818.655 43.6931 L818.655 72.576 L810.472 72.576 L810.472 12.096 Z\" fill=\"#000000\" fill-rule=\"evenodd\" fill-opacity=\"1\" /><path clip-path=\"url(#clip450)\" d=\"M852.561 54.671 L852.561 27.2059 L860.015 27.2059 L860.015 54.3874 Q860.015 60.8284 862.526 64.0691 Q865.038 67.2693 870.061 67.2693 Q876.097 67.2693 879.581 63.421 Q883.105 59.5726 883.105 52.9291 L883.105 27.2059 L890.559 27.2059 L890.559 72.576 L883.105 72.576 L883.105 65.6084 Q880.391 69.7404 876.786 71.7658 Q873.221 73.7508 868.481 73.7508 Q860.663 73.7508 856.612 68.8897 Q852.561 64.0286 852.561 54.671 M871.317 26.1121 L871.317 26.1121 Z\" fill=\"#000000\" fill-rule=\"evenodd\" fill-opacity=\"1\" /><path clip-path=\"url(#clip450)\" d=\"M943.625 45.1919 L943.625 72.576 L936.172 72.576 L936.172 45.4349 Q936.172 38.994 933.66 35.7938 Q931.149 32.5936 926.126 32.5936 Q920.09 32.5936 916.606 36.4419 Q913.122 40.2903 913.122 46.9338 L913.122 72.576 L905.628 72.576 L905.628 27.2059 L913.122 27.2059 L913.122 34.2544 Q915.796 30.163 919.401 28.1376 Q923.047 26.1121 927.786 26.1121 Q935.605 26.1121 939.615 30.9732 Q943.625 35.7938 943.625 45.1919 Z\" fill=\"#000000\" fill-rule=\"evenodd\" fill-opacity=\"1\" /><path clip-path=\"url(#clip450)\" d=\"M991.143 28.9478 L991.143 35.9153 Q987.983 34.1734 984.783 33.3227 Q981.623 32.4315 978.382 32.4315 Q971.131 32.4315 967.121 37.0496 Q963.11 41.6271 963.11 49.9314 Q963.11 58.2358 967.121 62.8538 Q971.131 67.4314 978.382 67.4314 Q981.623 67.4314 984.783 66.5807 Q987.983 65.6895 991.143 63.9476 L991.143 70.8341 Q988.023 72.2924 984.661 73.0216 Q981.339 73.7508 977.572 73.7508 Q967.323 73.7508 961.287 67.3098 Q955.252 60.8689 955.252 49.9314 Q955.252 38.832 961.328 32.472 Q967.445 26.1121 978.058 26.1121 Q981.501 26.1121 984.783 26.8413 Q988.064 27.5299 991.143 28.9478 Z\" fill=\"#000000\" fill-rule=\"evenodd\" fill-opacity=\"1\" /><path clip-path=\"url(#clip450)\" d=\"M1011.48 14.324 L1011.48 27.2059 L1026.83 27.2059 L1026.83 32.9987 L1011.48 32.9987 L1011.48 57.6282 Q1011.48 63.1779 1012.98 64.7578 Q1014.52 66.3376 1019.17 66.3376 L1026.83 66.3376 L1026.83 72.576 L1019.17 72.576 Q1010.55 72.576 1007.27 69.3758 Q1003.98 66.1351 1003.98 57.6282 L1003.98 32.9987 L998.515 32.9987 L998.515 27.2059 L1003.98 27.2059 L1003.98 14.324 L1011.48 14.324 Z\" fill=\"#000000\" fill-rule=\"evenodd\" fill-opacity=\"1\" /><path clip-path=\"url(#clip450)\" d=\"M1036.63 27.2059 L1044.09 27.2059 L1044.09 72.576 L1036.63 72.576 L1036.63 27.2059 M1036.63 9.54393 L1044.09 9.54393 L1044.09 18.9825 L1036.63 18.9825 L1036.63 9.54393 Z\" fill=\"#000000\" fill-rule=\"evenodd\" fill-opacity=\"1\" /><path clip-path=\"url(#clip450)\" d=\"M1077.26 32.4315 Q1071.27 32.4315 1067.79 37.1306 Q1064.3 41.7891 1064.3 49.9314 Q1064.3 58.0738 1067.75 62.7728 Q1071.23 67.4314 1077.26 67.4314 Q1083.22 67.4314 1086.7 62.7323 Q1090.19 58.0333 1090.19 49.9314 Q1090.19 41.8701 1086.7 37.1711 Q1083.22 32.4315 1077.26 32.4315 M1077.26 26.1121 Q1086.99 26.1121 1092.54 32.4315 Q1098.09 38.7509 1098.09 49.9314 Q1098.09 61.0714 1092.54 67.4314 Q1086.99 73.7508 1077.26 73.7508 Q1067.5 73.7508 1061.95 67.4314 Q1056.44 61.0714 1056.44 49.9314 Q1056.44 38.7509 1061.95 32.4315 Q1067.5 26.1121 1077.26 26.1121 Z\" fill=\"#000000\" fill-rule=\"evenodd\" fill-opacity=\"1\" /><path clip-path=\"url(#clip450)\" d=\"M1148.16 45.1919 L1148.16 72.576 L1140.7 72.576 L1140.7 45.4349 Q1140.7 38.994 1138.19 35.7938 Q1135.68 32.5936 1130.66 32.5936 Q1124.62 32.5936 1121.14 36.4419 Q1117.65 40.2903 1117.65 46.9338 L1117.65 72.576 L1110.16 72.576 L1110.16 27.2059 L1117.65 27.2059 L1117.65 34.2544 Q1120.33 30.163 1123.93 28.1376 Q1127.58 26.1121 1132.32 26.1121 Q1140.13 26.1121 1144.15 30.9732 Q1148.16 35.7938 1148.16 45.1919 Z\" fill=\"#000000\" fill-rule=\"evenodd\" fill-opacity=\"1\" /><path clip-path=\"url(#clip450)\" d=\"M1219.25 34.0924 L1219.25 9.54393 L1226.7 9.54393 L1226.7 72.576 L1219.25 72.576 L1219.25 65.7705 Q1216.9 69.8214 1213.29 71.8063 Q1209.73 73.7508 1204.71 73.7508 Q1196.48 73.7508 1191.3 67.1883 Q1186.15 60.6258 1186.15 49.9314 Q1186.15 39.2371 1191.3 32.6746 Q1196.48 26.1121 1204.71 26.1121 Q1209.73 26.1121 1213.29 28.0971 Q1216.9 30.0415 1219.25 34.0924 M1193.85 49.9314 Q1193.85 58.1548 1197.21 62.8538 Q1200.61 67.5124 1206.53 67.5124 Q1212.44 67.5124 1215.85 62.8538 Q1219.25 58.1548 1219.25 49.9314 Q1219.25 41.7081 1215.85 37.0496 Q1212.44 32.3505 1206.53 32.3505 Q1200.61 32.3505 1197.21 37.0496 Q1193.85 41.7081 1193.85 49.9314 Z\" fill=\"#000000\" fill-rule=\"evenodd\" fill-opacity=\"1\" /><path clip-path=\"url(#clip450)\" d=\"M1280.86 48.0275 L1280.86 51.6733 L1246.59 51.6733 Q1247.08 59.3701 1251.21 63.421 Q1255.38 67.4314 1262.8 67.4314 Q1267.09 67.4314 1271.1 66.3781 Q1275.15 65.3249 1279.12 63.2184 L1279.12 70.267 Q1275.11 71.9684 1270.9 72.8596 Q1266.69 73.7508 1262.35 73.7508 Q1251.49 73.7508 1245.13 67.4314 Q1238.81 61.1119 1238.81 50.3365 Q1238.81 39.1965 1244.81 32.6746 Q1250.85 26.1121 1261.05 26.1121 Q1270.21 26.1121 1275.52 32.0264 Q1280.86 37.9003 1280.86 48.0275 M1273.41 45.84 Q1273.33 39.7232 1269.97 36.0774 Q1266.64 32.4315 1261.14 32.4315 Q1254.9 32.4315 1251.13 35.9558 Q1247.4 39.4801 1246.84 45.8805 L1273.41 45.84 Z\" fill=\"#000000\" fill-rule=\"evenodd\" fill-opacity=\"1\" /><path clip-path=\"url(#clip450)\" d=\"M1319.39 34.1734 Q1318.13 33.4443 1316.63 33.1202 Q1315.17 32.7556 1313.39 32.7556 Q1307.07 32.7556 1303.67 36.8875 Q1300.31 40.9789 1300.31 48.6757 L1300.31 72.576 L1292.81 72.576 L1292.81 27.2059 L1300.31 27.2059 L1300.31 34.2544 Q1302.66 30.1225 1306.42 28.1376 Q1310.19 26.1121 1315.58 26.1121 Q1316.35 26.1121 1317.28 26.2337 Q1318.21 26.3147 1319.35 26.5172 L1319.39 34.1734 Z\" fill=\"#000000\" fill-rule=\"evenodd\" fill-opacity=\"1\" /><path clip-path=\"url(#clip450)\" d=\"M1327.21 27.2059 L1334.66 27.2059 L1334.66 72.576 L1327.21 72.576 L1327.21 27.2059 M1327.21 9.54393 L1334.66 9.54393 L1334.66 18.9825 L1327.21 18.9825 L1327.21 9.54393 Z\" fill=\"#000000\" fill-rule=\"evenodd\" fill-opacity=\"1\" /><path clip-path=\"url(#clip450)\" d=\"M1344.91 27.2059 L1352.81 27.2059 L1366.99 65.2844 L1381.16 27.2059 L1389.06 27.2059 L1372.05 72.576 L1361.92 72.576 L1344.91 27.2059 Z\" fill=\"#000000\" fill-rule=\"evenodd\" fill-opacity=\"1\" /><path clip-path=\"url(#clip450)\" d=\"M1419.97 49.7694 Q1410.94 49.7694 1407.45 51.8354 Q1403.97 53.9013 1403.97 58.8839 Q1403.97 62.8538 1406.56 65.2034 Q1409.2 67.5124 1413.69 67.5124 Q1419.89 67.5124 1423.62 63.1374 Q1427.38 58.7219 1427.38 51.4303 L1427.38 49.7694 L1419.97 49.7694 M1434.84 46.6907 L1434.84 72.576 L1427.38 72.576 L1427.38 65.6895 Q1424.83 69.8214 1421.02 71.8063 Q1417.22 73.7508 1411.71 73.7508 Q1404.74 73.7508 1400.61 69.8619 Q1396.52 65.9325 1396.52 59.3701 Q1396.52 51.7138 1401.62 47.825 Q1406.77 43.9361 1416.93 43.9361 L1427.38 43.9361 L1427.38 43.2069 Q1427.38 38.0623 1423.98 35.2672 Q1420.62 32.4315 1414.5 32.4315 Q1410.61 32.4315 1406.93 33.3632 Q1403.24 34.295 1399.84 36.1584 L1399.84 29.2718 Q1403.93 27.692 1407.78 26.9223 Q1411.63 26.1121 1415.27 26.1121 Q1425.12 26.1121 1429.98 31.2163 Q1434.84 36.3204 1434.84 46.6907 Z\" fill=\"#000000\" fill-rule=\"evenodd\" fill-opacity=\"1\" /><path clip-path=\"url(#clip450)\" d=\"M1457.56 14.324 L1457.56 27.2059 L1472.92 27.2059 L1472.92 32.9987 L1457.56 32.9987 L1457.56 57.6282 Q1457.56 63.1779 1459.06 64.7578 Q1460.6 66.3376 1465.26 66.3376 L1472.92 66.3376 L1472.92 72.576 L1465.26 72.576 Q1456.63 72.576 1453.35 69.3758 Q1450.07 66.1351 1450.07 57.6282 L1450.07 32.9987 L1444.6 32.9987 L1444.6 27.2059 L1450.07 27.2059 L1450.07 14.324 L1457.56 14.324 Z\" fill=\"#000000\" fill-rule=\"evenodd\" fill-opacity=\"1\" /><path clip-path=\"url(#clip450)\" d=\"M1482.72 27.2059 L1490.17 27.2059 L1490.17 72.576 L1482.72 72.576 L1482.72 27.2059 M1482.72 9.54393 L1490.17 9.54393 L1490.17 18.9825 L1482.72 18.9825 L1482.72 9.54393 Z\" fill=\"#000000\" fill-rule=\"evenodd\" fill-opacity=\"1\" /><path clip-path=\"url(#clip450)\" d=\"M1500.42 27.2059 L1508.32 27.2059 L1522.5 65.2844 L1536.68 27.2059 L1544.58 27.2059 L1527.56 72.576 L1517.44 72.576 L1500.42 27.2059 Z\" fill=\"#000000\" fill-rule=\"evenodd\" fill-opacity=\"1\" /><path clip-path=\"url(#clip450)\" d=\"M1593.67 48.0275 L1593.67 51.6733 L1559.4 51.6733 Q1559.89 59.3701 1564.02 63.421 Q1568.19 67.4314 1575.61 67.4314 Q1579.9 67.4314 1583.91 66.3781 Q1587.96 65.3249 1591.93 63.2184 L1591.93 70.267 Q1587.92 71.9684 1583.71 72.8596 Q1579.5 73.7508 1575.16 73.7508 Q1564.31 73.7508 1557.95 67.4314 Q1551.63 61.1119 1551.63 50.3365 Q1551.63 39.1965 1557.62 32.6746 Q1563.66 26.1121 1573.87 26.1121 Q1583.02 26.1121 1588.33 32.0264 Q1593.67 37.9003 1593.67 48.0275 M1586.22 45.84 Q1586.14 39.7232 1582.78 36.0774 Q1579.46 32.4315 1573.95 32.4315 Q1567.71 32.4315 1563.94 35.9558 Q1560.21 39.4801 1559.65 45.8805 L1586.22 45.84 Z\" fill=\"#000000\" fill-rule=\"evenodd\" fill-opacity=\"1\" /><path clip-path=\"url(#clip450)\" d=\"M1639.49 65.7705 L1639.49 89.8329 L1632 89.8329 L1632 27.2059 L1639.49 27.2059 L1639.49 34.0924 Q1641.84 30.0415 1645.4 28.0971 Q1649.01 26.1121 1653.99 26.1121 Q1662.26 26.1121 1667.4 32.6746 Q1672.59 39.2371 1672.59 49.9314 Q1672.59 60.6258 1667.4 67.1883 Q1662.26 73.7508 1653.99 73.7508 Q1649.01 73.7508 1645.4 71.8063 Q1641.84 69.8214 1639.49 65.7705 M1664.85 49.9314 Q1664.85 41.7081 1661.45 37.0496 Q1658.08 32.3505 1652.17 32.3505 Q1646.25 32.3505 1642.85 37.0496 Q1639.49 41.7081 1639.49 49.9314 Q1639.49 58.1548 1642.85 62.8538 Q1646.25 67.5124 1652.17 67.5124 Q1658.08 67.5124 1661.45 62.8538 Q1664.85 58.1548 1664.85 49.9314 Z\" fill=\"#000000\" fill-rule=\"evenodd\" fill-opacity=\"1\" /><path clip-path=\"url(#clip450)\" d=\"M1684.94 9.54393 L1692.39 9.54393 L1692.39 72.576 L1684.94 72.576 L1684.94 9.54393 Z\" fill=\"#000000\" fill-rule=\"evenodd\" fill-opacity=\"1\" /><path clip-path=\"url(#clip450)\" d=\"M1725.57 32.4315 Q1719.58 32.4315 1716.09 37.1306 Q1712.61 41.7891 1712.61 49.9314 Q1712.61 58.0738 1716.05 62.7728 Q1719.54 67.4314 1725.57 67.4314 Q1731.53 67.4314 1735.01 62.7323 Q1738.49 58.0333 1738.49 49.9314 Q1738.49 41.8701 1735.01 37.1711 Q1731.53 32.4315 1725.57 32.4315 M1725.57 26.1121 Q1735.29 26.1121 1740.84 32.4315 Q1746.39 38.7509 1746.39 49.9314 Q1746.39 61.0714 1740.84 67.4314 Q1735.29 73.7508 1725.57 73.7508 Q1715.81 73.7508 1710.26 67.4314 Q1704.75 61.0714 1704.75 49.9314 Q1704.75 38.7509 1710.26 32.4315 Q1715.81 26.1121 1725.57 26.1121 Z\" fill=\"#000000\" fill-rule=\"evenodd\" fill-opacity=\"1\" /><path clip-path=\"url(#clip450)\" d=\"M1766.12 14.324 L1766.12 27.2059 L1781.47 27.2059 L1781.47 32.9987 L1766.12 32.9987 L1766.12 57.6282 Q1766.12 63.1779 1767.62 64.7578 Q1769.16 66.3376 1773.82 66.3376 L1781.47 66.3376 L1781.47 72.576 L1773.82 72.576 Q1765.19 72.576 1761.91 69.3758 Q1758.63 66.1351 1758.63 57.6282 L1758.63 32.9987 L1753.16 32.9987 L1753.16 27.2059 L1758.63 27.2059 L1758.63 14.324 L1766.12 14.324 Z\" fill=\"#000000\" fill-rule=\"evenodd\" fill-opacity=\"1\" /><polyline clip-path=\"url(#clip452)\" style=\"stroke:#009af9; stroke-linecap:butt; stroke-linejoin:round; stroke-width:4; stroke-opacity:1; fill:none\" points=\"\n",
       "  299.008,264.744 318.481,264.744 498.531,264.744 606.733,264.744 698.217,264.744 797.594,264.744 889.211,264.744 987.434,264.744 1101.24,264.744 1202.37,264.744 \n",
       "  1291.05,264.744 1387.74,264.744 1485.01,264.744 1592.55,264.744 1694.87,264.744 1801.25,264.744 1890.81,264.744 1945.48,264.744 2000.15,264.744 2051.54,264.744 \n",
       "  2102.93,264.744 2144.1,264.742 2185.26,264.73 2195.56,264.72 2205.85,264.703 2216.14,264.675 2226.43,264.627 2231.58,264.593 2236.72,264.549 2241.87,264.495 \n",
       "  2247.01,264.443 2248.3,264.44 2249.59,264.457 2250.87,264.539 2252.16,264.954 2253.45,276.19 2254.73,266.551 2256.02,264.592 2257.31,264.321 2258.59,264.21 \n",
       "  2259.88,264.137 2261.16,264.076 2262.45,264.019 2265.02,263.903 2267.6,263.778 2269.18,263.694 2270.76,263.603 2272.35,263.505 2273.93,263.399 2277.1,263.161 \n",
       "  2280.27,262.881 2281.85,262.723 2283.44,262.553 2285.02,262.367 2286.6,262.166 2288.19,261.949 2289.77,261.712 2291.35,261.456 2292.94,261.179 \n",
       "  \"/>\n",
       "<polyline clip-path=\"url(#clip452)\" style=\"stroke:#e26f46; stroke-linecap:butt; stroke-linejoin:round; stroke-width:4; stroke-opacity:1; fill:none\" points=\"\n",
       "  299.008,263.778 318.481,263.778 498.531,263.778 606.733,263.778 698.217,263.778 797.594,263.778 889.211,263.778 987.434,263.778 1101.24,263.778 1202.37,263.778 \n",
       "  1291.05,263.778 1387.74,263.778 1485.01,263.778 1592.55,263.778 1694.87,263.778 1801.25,263.778 1890.81,263.778 1945.48,263.778 2000.15,263.778 2051.54,263.778 \n",
       "  2102.93,263.778 2144.1,263.777 2185.26,263.764 2195.56,263.754 2205.85,263.738 2216.14,263.71 2226.43,263.663 2231.58,263.63 2236.72,263.592 2239.3,263.573 \n",
       "  2241.87,263.559 2244.44,263.567 2247.01,263.665 2248.3,263.839 2249.59,264.328 2250.87,266.127 2252.16,278.548 2253.45,1447.87 2254.73,162.047 2256.02,256.274 \n",
       "  2257.31,261.47 2258.59,262.491 2259.88,262.794 2261.16,262.893 2262.45,262.916 2265.02,262.872 2267.6,262.775 2268.39,262.739 2269.18,262.701 2269.97,262.66 \n",
       "  2270.76,262.616 2272.35,262.523 2273.93,262.421 2277.1,262.187 2280.27,261.909 2281.85,261.753 2283.44,261.582 2285.02,261.398 2286.6,261.197 2288.19,260.98 \n",
       "  2289.77,260.744 2291.35,260.488 2292.94,260.211 \n",
       "  \"/>\n",
       "<path clip-path=\"url(#clip450)\" d=\"\n",
       "M309.643 1441.02 L634.089 1441.02 L634.089 1285.5 L309.643 1285.5  Z\n",
       "  \" fill=\"#ffffff\" fill-rule=\"evenodd\" fill-opacity=\"1\"/>\n",
       "<polyline clip-path=\"url(#clip450)\" style=\"stroke:#000000; stroke-linecap:butt; stroke-linejoin:round; stroke-width:4; stroke-opacity:1; fill:none\" points=\"\n",
       "  309.643,1441.02 634.089,1441.02 634.089,1285.5 309.643,1285.5 309.643,1441.02 \n",
       "  \"/>\n",
       "<polyline clip-path=\"url(#clip450)\" style=\"stroke:#009af9; stroke-linecap:butt; stroke-linejoin:round; stroke-width:4; stroke-opacity:1; fill:none\" points=\"\n",
       "  333.127,1337.34 474.031,1337.34 \n",
       "  \"/>\n",
       "<path clip-path=\"url(#clip450)\" d=\"M514.02 1318.6 L514.02 1322.14 L509.946 1322.14 Q507.654 1322.14 506.751 1323.06 Q505.871 1323.99 505.871 1326.4 L505.871 1328.69 L512.885 1328.69 L512.885 1332 L505.871 1332 L505.871 1354.62 L501.589 1354.62 L501.589 1332 L497.515 1332 L497.515 1328.69 L501.589 1328.69 L501.589 1326.88 Q501.589 1322.56 503.603 1320.59 Q505.617 1318.6 509.992 1318.6 L514.02 1318.6 Z\" fill=\"#000000\" fill-rule=\"evenodd\" fill-opacity=\"1\" /><path clip-path=\"url(#clip450)\" d=\"M527.816 1318.64 Q524.714 1323.97 523.209 1329.18 Q521.705 1334.38 521.705 1339.73 Q521.705 1345.08 523.209 1350.33 Q524.737 1355.56 527.816 1360.87 L524.112 1360.87 Q520.64 1355.43 518.904 1350.17 Q517.191 1344.92 517.191 1339.73 Q517.191 1334.57 518.904 1329.34 Q520.617 1324.11 524.112 1318.64 L527.816 1318.64 Z\" fill=\"#000000\" fill-rule=\"evenodd\" fill-opacity=\"1\" /><path clip-path=\"url(#clip450)\" d=\"M557.63 1328.69 L548.256 1341.31 L558.117 1354.62 L553.093 1354.62 L545.547 1344.43 L538.001 1354.62 L532.978 1354.62 L543.047 1341.05 L533.834 1328.69 L538.857 1328.69 L545.732 1337.93 L552.607 1328.69 L557.63 1328.69 Z\" fill=\"#000000\" fill-rule=\"evenodd\" fill-opacity=\"1\" /><path clip-path=\"url(#clip450)\" d=\"M563.464 1318.64 L567.167 1318.64 Q570.64 1324.11 572.353 1329.34 Q574.089 1334.57 574.089 1339.73 Q574.089 1344.92 572.353 1350.17 Q570.64 1355.43 567.167 1360.87 L563.464 1360.87 Q566.542 1355.56 568.047 1350.33 Q569.575 1345.08 569.575 1339.73 Q569.575 1334.38 568.047 1329.18 Q566.542 1323.97 563.464 1318.64 Z\" fill=\"#000000\" fill-rule=\"evenodd\" fill-opacity=\"1\" /><polyline clip-path=\"url(#clip450)\" style=\"stroke:#e26f46; stroke-linecap:butt; stroke-linejoin:round; stroke-width:4; stroke-opacity:1; fill:none\" points=\"\n",
       "  333.127,1389.18 474.031,1389.18 \n",
       "  \"/>\n",
       "<path clip-path=\"url(#clip450)\" d=\"M514.02 1370.44 L514.02 1373.98 L509.946 1373.98 Q507.654 1373.98 506.751 1374.9 Q505.871 1375.83 505.871 1378.24 L505.871 1380.53 L512.885 1380.53 L512.885 1383.84 L505.871 1383.84 L505.871 1406.46 L501.589 1406.46 L501.589 1383.84 L497.515 1383.84 L497.515 1380.53 L501.589 1380.53 L501.589 1378.72 Q501.589 1374.4 503.603 1372.43 Q505.617 1370.44 509.992 1370.44 L514.02 1370.44 Z\" fill=\"#000000\" fill-rule=\"evenodd\" fill-opacity=\"1\" /><path clip-path=\"url(#clip450)\" d=\"M521.612 1371.9 L521.612 1384.74 L517.677 1384.74 L517.677 1371.9 L521.612 1371.9 Z\" fill=\"#000000\" fill-rule=\"evenodd\" fill-opacity=\"1\" /><path clip-path=\"url(#clip450)\" d=\"M540.848 1370.48 Q537.746 1375.81 536.242 1381.02 Q534.737 1386.22 534.737 1391.57 Q534.737 1396.92 536.242 1402.17 Q537.769 1407.4 540.848 1412.71 L537.144 1412.71 Q533.672 1407.27 531.936 1402.01 Q530.223 1396.76 530.223 1391.57 Q530.223 1386.41 531.936 1381.18 Q533.649 1375.95 537.144 1370.48 L540.848 1370.48 Z\" fill=\"#000000\" fill-rule=\"evenodd\" fill-opacity=\"1\" /><path clip-path=\"url(#clip450)\" d=\"M570.663 1380.53 L561.288 1393.15 L571.149 1406.46 L566.126 1406.46 L558.58 1396.27 L551.033 1406.46 L546.01 1406.46 L556.08 1392.89 L546.867 1380.53 L551.89 1380.53 L558.765 1389.77 L565.64 1380.53 L570.663 1380.53 Z\" fill=\"#000000\" fill-rule=\"evenodd\" fill-opacity=\"1\" /><path clip-path=\"url(#clip450)\" d=\"M576.496 1370.48 L580.2 1370.48 Q583.672 1375.95 585.385 1381.18 Q587.121 1386.41 587.121 1391.57 Q587.121 1396.76 585.385 1402.01 Q583.672 1407.27 580.2 1412.71 L576.496 1412.71 Q579.575 1407.4 581.079 1402.17 Q582.607 1396.92 582.607 1391.57 Q582.607 1386.22 581.079 1381.02 Q579.575 1375.81 576.496 1370.48 Z\" fill=\"#000000\" fill-rule=\"evenodd\" fill-opacity=\"1\" /></svg>\n"
      ]
     },
     "execution_count": 18,
     "metadata": {},
     "output_type": "execute_result"
    }
   ],
   "source": [
    "plot!(D(f), -100, 2, label=\"f'(x)\", legend=:bottomleft, title=\"Function derivative plot\")"
   ]
  },
  {
   "cell_type": "markdown",
   "id": "c3b7fc90",
   "metadata": {},
   "source": [
    "### metoda falsi"
   ]
  },
  {
   "cell_type": "code",
   "execution_count": 19,
   "id": "cce4097b",
   "metadata": {
    "scrolled": true
   },
   "outputs": [
    {
     "data": {
      "text/plain": [
       "Results of univariate zero finding:\n",
       "\n",
       "* Converged to: 0.7032048403631358\n",
       "* Algorithm: FalsePosition{:anderson_bjork}()\n",
       "* iterations: 7\n",
       "* function evaluations ≈ 9\n",
       "* stopped as |f(x_n)| ≤ max(δ, |x|⋅ϵ) using δ = atol, ϵ = rtol\n",
       "\n",
       "Trace:\n",
       "x₁ = 0,\t fx₁ = NaN\n",
       "x₂ = 2,\t fx₂ = 5.3865563489306503\n",
       "x₃ = 1,\t fx₃ = 0.70828382845904503\n",
       "x₄ = 0.5,\t fx₄ = -0.39126272929987177\n",
       "x₅ = 0.67792003737310536,\t fx₅ = -0.051976380253083806\n",
       "x₆ = 0.70304958843804088,\t fx₆ = -0.00032254673380420669\n",
       "x₇ = 0.70320642430343672,\t fx₇ = 3.2909672150031964e-06\n",
       "x₈ = 0.70320484025809904,\t fx₈ = -2.1823585653897419e-10\n",
       "x₉ = 0.7032048403631358,\t fx₉ = 1.7390094626899139e-16\n",
       "\n"
      ]
     },
     "metadata": {},
     "output_type": "display_data"
    },
    {
     "data": {
      "text/plain": [
       "Algorithm has not been run"
      ]
     },
     "execution_count": 19,
     "metadata": {},
     "output_type": "execute_result"
    }
   ],
   "source": [
    "intervalMethod(f, -100, 2)"
   ]
  },
  {
   "cell_type": "code",
   "execution_count": 20,
   "id": "53be3418",
   "metadata": {},
   "outputs": [
    {
     "data": {
      "text/plain": [
       "false"
      ]
     },
     "execution_count": 20,
     "metadata": {},
     "output_type": "execute_result"
    }
   ],
   "source": [
    "iszero(f(0.7032048403631358))"
   ]
  },
  {
   "cell_type": "markdown",
   "id": "43cbeae4",
   "metadata": {},
   "source": [
    "### metoda Newtona"
   ]
  },
  {
   "cell_type": "code",
   "execution_count": 21,
   "id": "2d40e76e",
   "metadata": {
    "scrolled": true
   },
   "outputs": [
    {
     "data": {
      "text/plain": [
       "Results of univariate zero finding:\n",
       "\n",
       "* Converged to: 0.7032048403631358\n",
       "* Algorithm: Roots.Newton()\n",
       "* iterations: 17\n",
       "* function evaluations ≈ 34\n",
       "* stopped as |f(x_n)| ≤ max(δ, |x|⋅ϵ) using δ = atol, ϵ = rtol\n",
       "\n",
       "Trace:\n",
       "x₁ = -2,\t fx₁ = -1.8671649667633872\n",
       "x₂ = 12.056282279636104,\t fx₂ = 172175.68574840715\n",
       "x₃ = 11.056293896009034,\t fx₃ = 63339.366551484411\n",
       "x₄ = 10.05632547247647,\t fx₄ = 23300.722267245321\n",
       "x₅ = 9.0564113044455024,\t fx₅ = 8571.3281939739372\n",
       "x₆ = 8.0566446034357408,\t fx₆ = 3152.6869752500625\n",
       "x₇ = 7.0572786416758193,\t fx₇ = 1159.2804003614101\n",
       "x₈ = 6.0590011001195618,\t fx₈ = 425.94747394693667\n",
       "x₉ = 5.0636754134945026,\t fx₉ = 156.17040236972571\n",
       "x₁₀ = 4.0763234001448048,\t fx₁₀ = 56.927813095536692\n",
       "x₁₁ = 3.1102779366029183,\t fx₁₁ = 20.426243245348601\n",
       "x₁₂ = 2.1995281378672287,\t fx₁₂ = 7.0186891275544747\n",
       "x₁₃ = 1.4216302193257353,\t fx₁₃ = 2.1389230844680029\n",
       "x₁₄ = 0.90633010909741363,\t fx₁₄ = 0.46305090758737866\n",
       "x₁₅ = 0.7212635114925281,\t fx₁₅ = 0.037813383807990028\n",
       "x₁₆ = 0.70334511795458132,\t fx₁₆ = 0.00029147329992273443\n",
       "x₁₇ = 0.70320484876901068,\t fx₁₇ = 1.746495132840215e-08\n",
       "x₁₈ = 0.7032048403631358,\t fx₁₈ = 1.7390094626899139e-16\n",
       "\n"
      ]
     },
     "metadata": {},
     "output_type": "display_data"
    },
    {
     "data": {
      "text/plain": [
       "Results of univariate zero finding:\n",
       "\n",
       "* Converged to: 0.7032048403631358\n",
       "* Algorithm: Roots.Newton()\n",
       "* iterations: 17\n",
       "* function evaluations ≈ 34\n",
       "* stopped as |f(x_n)| ≤ max(δ, |x|⋅ϵ) using δ = atol, ϵ = rtol\n",
       "\n",
       "Trace:\n",
       "x₁ = -2,\t fx₁ = -1.8671649667633872\n",
       "x₂ = 12.056282279636104,\t fx₂ = 172175.68574840715\n",
       "x₃ = 11.056293896009034,\t fx₃ = 63339.366551484411\n",
       "x₄ = 10.05632547247647,\t fx₄ = 23300.722267245321\n",
       "x₅ = 9.0564113044455024,\t fx₅ = 8571.3281939739372\n",
       "x₆ = 8.0566446034357408,\t fx₆ = 3152.6869752500625\n",
       "x₇ = 7.0572786416758193,\t fx₇ = 1159.2804003614101\n",
       "x₈ = 6.0590011001195618,\t fx₈ = 425.94747394693667\n",
       "x₉ = 5.0636754134945026,\t fx₉ = 156.17040236972571\n",
       "x₁₀ = 4.0763234001448048,\t fx₁₀ = 56.927813095536692\n",
       "x₁₁ = 3.1102779366029183,\t fx₁₁ = 20.426243245348601\n",
       "x₁₂ = 2.1995281378672287,\t fx₁₂ = 7.0186891275544747\n",
       "x₁₃ = 1.4216302193257353,\t fx₁₃ = 2.1389230844680029\n",
       "x₁₄ = 0.90633010909741363,\t fx₁₄ = 0.46305090758737866\n",
       "x₁₅ = 0.7212635114925281,\t fx₁₅ = 0.037813383807990028\n",
       "x₁₆ = 0.70334511795458132,\t fx₁₆ = 0.00029147329992273443\n",
       "x₁₇ = 0.70320484876901068,\t fx₁₇ = 1.746495132840215e-08\n",
       "x₁₈ = 0.7032048403631358,\t fx₁₈ = 1.7390094626899139e-16\n",
       "\n"
      ]
     },
     "execution_count": 21,
     "metadata": {},
     "output_type": "execute_result"
    }
   ],
   "source": [
    "derivativeMethod(f, -2)"
   ]
  },
  {
   "cell_type": "code",
   "execution_count": 22,
   "id": "1c322521",
   "metadata": {},
   "outputs": [
    {
     "data": {
      "text/plain": [
       "false"
      ]
     },
     "execution_count": 22,
     "metadata": {},
     "output_type": "execute_result"
    }
   ],
   "source": [
    "iszero(f(0.7032048403631358))"
   ]
  },
  {
   "cell_type": "code",
   "execution_count": 23,
   "id": "4f9684e5",
   "metadata": {
    "scrolled": true
   },
   "outputs": [
    {
     "data": {
      "text/plain": [
       "Results of univariate zero finding:\n",
       "\n",
       "* Converged to: 0.7032048403631357\n",
       "* Algorithm: Roots.Newton()\n",
       "* iterations: 11\n",
       "* function evaluations ≈ 22\n",
       "* stopped as |f(x_n)| ≤ max(δ, |x|⋅ϵ) using δ = atol, ϵ = rtol\n",
       "\n",
       "Trace:\n",
       "x₁ = 0.01,\t fx₁ = -98.989949832915812\n",
       "x₂ = 0.015102309084782075,\t fx₂ = -44.248467667422744\n",
       "x₃ = 0.022876133399301266,\t fx₃ = -19.918655631008562\n",
       "x₄ = 0.034949865163729069,\t fx₄ = -9.1042861126420238\n",
       "x₅ = 0.054508076811668665,\t fx₅ = -4.2973518599366658\n",
       "x₆ = 0.089200292999004449,\t fx₆ = -2.160686113208873\n",
       "x₇ = 0.16325246934381243,\t fx₇ = -1.1974216827717397\n",
       "x₈ = 0.3709350046853207,\t fx₈ = -0.62355016047019196\n",
       "x₉ = 0.7097036783745303,\t fx₉ = 0.013540324693123695\n",
       "x₁₀ = 0.70322292948465492,\t fx₁₀ = 3.7584197802527644e-05\n",
       "x₁₁ = 0.70320484050290732,\t fx₁₁ = 2.9040456015828783e-10\n",
       "x₁₂ = 0.70320484036313569,\t fx₁₂ = -2.7365771053302484e-16\n",
       "\n"
      ]
     },
     "metadata": {},
     "output_type": "display_data"
    },
    {
     "data": {
      "text/plain": [
       "Results of univariate zero finding:\n",
       "\n",
       "* Converged to: 0.7032048403631357\n",
       "* Algorithm: Roots.Newton()\n",
       "* iterations: 11\n",
       "* function evaluations ≈ 22\n",
       "* stopped as |f(x_n)| ≤ max(δ, |x|⋅ϵ) using δ = atol, ϵ = rtol\n",
       "\n",
       "Trace:\n",
       "x₁ = 0.01,\t fx₁ = -98.989949832915812\n",
       "x₂ = 0.015102309084782075,\t fx₂ = -44.248467667422744\n",
       "x₃ = 0.022876133399301266,\t fx₃ = -19.918655631008562\n",
       "x₄ = 0.034949865163729069,\t fx₄ = -9.1042861126420238\n",
       "x₅ = 0.054508076811668665,\t fx₅ = -4.2973518599366658\n",
       "x₆ = 0.089200292999004449,\t fx₆ = -2.160686113208873\n",
       "x₇ = 0.16325246934381243,\t fx₇ = -1.1974216827717397\n",
       "x₈ = 0.3709350046853207,\t fx₈ = -0.62355016047019196\n",
       "x₉ = 0.7097036783745303,\t fx₉ = 0.013540324693123695\n",
       "x₁₀ = 0.70322292948465492,\t fx₁₀ = 3.7584197802527644e-05\n",
       "x₁₁ = 0.70320484050290732,\t fx₁₁ = 2.9040456015828783e-10\n",
       "x₁₂ = 0.70320484036313569,\t fx₁₂ = -2.7365771053302484e-16\n",
       "\n"
      ]
     },
     "execution_count": 23,
     "metadata": {},
     "output_type": "execute_result"
    }
   ],
   "source": [
    "derivativeMethod(f, 0.01)"
   ]
  },
  {
   "cell_type": "code",
   "execution_count": 24,
   "id": "0c7391f7",
   "metadata": {},
   "outputs": [
    {
     "data": {
      "text/plain": [
       "false"
      ]
     },
     "execution_count": 24,
     "metadata": {},
     "output_type": "execute_result"
    }
   ],
   "source": [
    "iszero(f(0.7032048403631357))"
   ]
  },
  {
   "cell_type": "code",
   "execution_count": 25,
   "id": "78e00a70",
   "metadata": {
    "scrolled": true
   },
   "outputs": [
    {
     "data": {
      "text/plain": [
       "Results of univariate zero finding:\n",
       "\n",
       "* Convergence failed: \n",
       "* Algorithm Roots.Newton()\n",
       "\n",
       "Trace:\n",
       "x₁ = 1.0000000000000001e-09,\t fx₁ = 1.9999899999999995e+21\n",
       "x₂ = 1.3333327777759259e-09,\t fx₂ = 8.4374542968720694e+20\n",
       "x₃ = 1.7777760493766803e-09,\t fx₃ = 3.5595490539499972e+20\n",
       "x₄ = 2.3703663099986788e-09,\t fx₄ = 1.5016836447656218e+20\n",
       "x₅ = 3.1604852918422173e-09,\t fx₅ = 6.3352216192639828e+19\n",
       "x₆ = 4.2139748398048947e-09,\t fx₆ = 2.6726681010040422e+19\n",
       "x₇ = 5.6186232542768666e-09,\t fx₇ = 1.1275298753162193e+19\n",
       "x₈ = 7.4914801337477496e-09,\t fx₈ = 4.7567555250920591e+18\n",
       "x₉ = 9.9886089985102812e-09,\t fx₉ = 2.0067499728850952e+18\n",
       "x₁₀ = 1.3318089900440491e-08,\t fx₁₀ = 8.4659412113356506e+17\n",
       "x₁₁ = 1.7757354656480036e-08,\t fx₁₁ = 3.5715491276272352e+17\n",
       "x₁₂ = 2.3676297685134562e-08,\t fx₁₂ = 1.506736138793689e+17\n",
       "x₁₃ = 3.1568085462781598e-08,\t fx₁₃ = 63564803687881120\n",
       "x₁₄ = 4.2090226923212067e-08,\t fx₁₄ = 26816048764837364\n",
       "x₁₅ = 5.6119318211064785e-08,\t fx₁₅ = 11312822120773984\n",
       "x₁₆ = 7.4824007633017958e-08,\t fx₁₆ = 4772485197791126\n",
       "x₁₇ = 9.9762232383557123e-08,\t fx₁₇ = 2013329394546031.8\n",
       "x₁₈ = 1.3301077883711828e-07,\t fx₁₈ = 849338011358568.5\n",
       "x₁₉ = 1.7733787194127079e-07,\t fx₁₉ = 358294599920373.69\n",
       "x₂₀ = 2.3643301407614734e-07,\t fx₂₀ = 151144353776451.44\n",
       "x₂₁ = 3.1521293840114357e-07,\t fx₂₁ = 63757733941720.227\n",
       "x₂₂ = 4.2022866025484342e-07,\t fx₂₂ = 26894254778326.379\n",
       "x₂₃ = 5.6020663598564193e-07,\t fx₂₃ = 11344022220688.824\n",
       "x₂₄ = 7.4676750431067195e-07,\t fx₂₄ = 4784638623995.7197\n",
       "x₂₅ = 9.9537942057251605e-07,\t fx₂₅ = 2017888604292.8977\n",
       "x₂₆ = 1.3266202949436975e-06,\t fx₂₆ = 850941626240.72864\n",
       "x₂₇ = 1.7678449829988335e-06,\t fx₂₇ = 358791017026.77704\n",
       "x₂₈ = 2.3553800874796e-06,\t fx₂₈ = 151252304154.69592\n",
       "x₂₉ = 3.1374002736216649e-06,\t fx₂₉ = 63746071531.162086\n",
       "x₃₀ = 4.1776740817857875e-06,\t fx₃₀ = 26857064197.201881\n",
       "x₃₁ = 5.5603990891931842e-06,\t fx₃₁ = 11310110041.089149\n",
       "x₃₂ = 7.3963643879633311e-06,\t fx₃₂ = 4760028838.73137\n",
       "x₃₃ = 9.8306585964992318e-06,\t fx₃₃ = 2001670829.6694288\n",
       "x₃₄ = 1.3052035915141095e-05,\t fx₃₄ = 840786943.4513402\n",
       "x₃₅ = 1.7303767664446059e-05,\t fx₃₅ = 352620505.91456884\n",
       "x₃₆ = 2.2895163634638195e-05,\t fx₃₆ = 147570368.78167611\n",
       "x₃₇ = 3.0211607899522752e-05,\t fx₃₇ = 61572454.966241419\n",
       "x₃₈ = 3.9718281268207362e-05,\t fx₃₈ = 25580712.27505856\n",
       "x₃₉ = 5.1947557624819443e-05,\t fx₃₉ = 10561367.006013975\n",
       "x₄₀ = 6.7450251289048556e-05,\t fx₄₀ = 4319446.4297624594\n",
       "x₄₁ = 8.6673045204680387e-05,\t fx₄₁ = 1740527.1535687256\n",
       "x₄₂ = 0.0001096949522172911,\t fx₄₂ = 684150.20609562506\n",
       "\n"
      ]
     },
     "metadata": {},
     "output_type": "display_data"
    },
    {
     "ename": "LoadError",
     "evalue": "Roots.ConvergenceFailed(\"Algorithm failed to converge\")",
     "output_type": "error",
     "traceback": [
      "Roots.ConvergenceFailed(\"Algorithm failed to converge\")",
      "",
      "Stacktrace:",
      " [1] #find_zero#29",
      "   @ C:\\Users\\sigor\\.julia\\packages\\Roots\\kyxnO\\src\\find_zero.jl:199 [inlined]",
      " [2] derivativeMethod(f::Function, startX::Float64)",
      "   @ Main .\\In[2]:13",
      " [3] top-level scope",
      "   @ In[25]:1",
      " [4] eval",
      "   @ .\\boot.jl:373 [inlined]",
      " [5] include_string(mapexpr::typeof(REPL.softscope), mod::Module, code::String, filename::String)",
      "   @ Base .\\loading.jl:1196"
     ]
    }
   ],
   "source": [
    "derivativeMethod(f, 0.000000001)"
   ]
  },
  {
   "cell_type": "markdown",
   "id": "0828f0d2",
   "metadata": {},
   "source": [
    "### metoda siecznych"
   ]
  },
  {
   "cell_type": "code",
   "execution_count": 26,
   "id": "3b3edccc",
   "metadata": {
    "scrolled": true
   },
   "outputs": [
    {
     "data": {
      "text/plain": [
       "Results of univariate zero finding:\n",
       "\n",
       "* Converged to: 0.0\n",
       "* Algorithm: Secant(); finished with bracketing method AlefeldPotraShi()\n",
       "* iterations: 2\n",
       "* function evaluations ≈ 4\n",
       "* Note: Used bracketing method AlefeldPotraShi() on  [-5.0,298.0822359033467]\n",
       "\n",
       "Trace:\n",
       "x₁ = -4.9999939443622052,\t fx₁ = -1.9936620291671865\n",
       "x₂ = -5,\t fx₂ = -1.9936620690009146\n",
       "x₃ = 298.08223590334671,\t fx₃ = 2.8541067075185228e+129\n",
       "(a₃, b₃) = ( -5, 298.08223590334671 )\n",
       "(a₄, b₄) = ( 0, 298.08223590334671 )\n",
       "\n"
      ]
     },
     "metadata": {},
     "output_type": "display_data"
    },
    {
     "data": {
      "text/plain": [
       "Algorithm has not been run"
      ]
     },
     "execution_count": 26,
     "metadata": {},
     "output_type": "execute_result"
    }
   ],
   "source": [
    "derivativeApproxMethod(f, -5)"
   ]
  },
  {
   "cell_type": "markdown",
   "id": "1d680f65",
   "metadata": {},
   "source": [
    "<h2 style=\"color:red\"> 0 nie nalezy do dziedziny </h2>"
   ]
  },
  {
   "cell_type": "code",
   "execution_count": 27,
   "id": "c12db6b3",
   "metadata": {},
   "outputs": [
    {
     "data": {
      "text/plain": [
       "Results of univariate zero finding:\n",
       "\n",
       "* Converged to: 0.00019999920016961132\n",
       "* Algorithm: Secant(); finished with bracketing method AlefeldPotraShi()\n",
       "* iterations: 13\n",
       "* function evaluations ≈ 18\n",
       "* stopped as x_n ≈ x_{n-1} using atol=xatol, rtol=xrtol\n",
       "* Note: Used bracketing method AlefeldPotraShi() on  [0.00019999920015762444,0.0001999992002208157]\n",
       "\n",
       "Trace:\n",
       "x₁ = 0.0001060554544560602,\t fx₁ = 787538.8562873624\n",
       "x₂ = 0.0001,\t fx₂ = 999999.00010000472\n",
       "x₃ = 0.00012850157348359559,\t fx₃ = 336953.41233361757\n",
       "x₄ = 0.00014298579993705417,\t fx₄ = 195030.29636042478\n",
       "x₅ = 0.00016288997804362213,\t fx₅ = 85862.407169067359\n",
       "x₆ = 0.00017854495367437817,\t fx₆ = 37694.25787968986\n",
       "x₇ = 0.00019079584346839634,\t fx₇ = 13250.873282310902\n",
       "x₈ = 0.00019743710820852966,\t fx₈ = 3328.9978379574022\n",
       "x₉ = 0.00019966539217411688,\t fx₉ = 419.36632102692965\n",
       "x₁₀ = 0.00019998655560784178,\t fx₁₀ = 15.809079754078994\n",
       "x₁₁ = 0.00019999913696636687,\t fx₁₁ = 0.079006026149727404\n",
       "x₁₂ = 0.00019999920015762444,\t fx₁₂ = 1.4983961591497064e-05\n",
       "x₁₃ = 0.00019999920015762444,\t fx₁₃ = 1.4983961591497064e-05\n",
       "(a₁₃, b₁₃) = ( 0.00019999920015762444, 0.0001999992002208157 )\n",
       "(a₁₄, b₁₄) = ( 0.00019999920015762444, 0.00019999920018922007 )\n",
       "(a₁₅, b₁₅) = ( 0.00019999920016961132, 0.0001999992001696114 )\n",
       "\n"
      ]
     },
     "metadata": {},
     "output_type": "display_data"
    },
    {
     "data": {
      "text/plain": [
       "Algorithm has not been run"
      ]
     },
     "execution_count": 27,
     "metadata": {},
     "output_type": "execute_result"
    }
   ],
   "source": [
    "derivativeApproxMethod(f, 0.0001)"
   ]
  },
  {
   "cell_type": "code",
   "execution_count": 28,
   "id": "c59a9d81",
   "metadata": {},
   "outputs": [
    {
     "data": {
      "text/plain": [
       "false"
      ]
     },
     "execution_count": 28,
     "metadata": {},
     "output_type": "execute_result"
    }
   ],
   "source": [
    "iszero(f(0.00019999920016961132))"
   ]
  },
  {
   "cell_type": "markdown",
   "id": "b0a83d0d",
   "metadata": {},
   "source": [
    "Rozbiliśmy bank, nic nie działa :)"
   ]
  },
  {
   "cell_type": "markdown",
   "id": "3f9ebf4a",
   "metadata": {},
   "source": [
    "#### 3. Dla każdej z wybranych metod zademonstrować i wyjaśnić po jednym  przykładzie, dla którego nie działają (można na podstawie p.1 lub wymyślić własny)(1 pkt)"
   ]
  },
  {
   "cell_type": "markdown",
   "id": "409a036c",
   "metadata": {},
   "source": [
    "### intervalMethod"
   ]
  },
  {
   "cell_type": "code",
   "execution_count": 29,
   "id": "b6871840",
   "metadata": {
    "scrolled": true
   },
   "outputs": [
    {
     "ename": "LoadError",
     "evalue": "ArgumentError: The interval [a,b] is not a bracketing interval.\nYou need f(a) and f(b) to have different signs (f(a) * f(b) < 0).\nConsider a different bracket or try fzero(f, c) with an initial guess c.\n\n",
     "output_type": "error",
     "traceback": [
      "ArgumentError: The interval [a,b] is not a bracketing interval.\nYou need f(a) and f(b) to have different signs (f(a) * f(b) < 0).\nConsider a different bracket or try fzero(f, c) with an initial guess c.\n\n",
      "",
      "Stacktrace:",
      "  [1] assert_bracket",
      "    @ C:\\Users\\sigor\\.julia\\packages\\Roots\\kyxnO\\src\\Bracketing\\bracketing.jl:55 [inlined]",
      "  [2] init_state(::Bisection, F::Roots.Callable_Function{Val{1}, Val{false}, typeof(f), Nothing}, x₀::Float64, x₁::Float64, fx₀::Float64, fx₁::Float64; m::Float64, fm::Float64)",
      "    @ Roots C:\\Users\\sigor\\.julia\\packages\\Roots\\kyxnO\\src\\Bracketing\\bisection.jl:41",
      "  [3] init_state(::Bisection, F::Roots.Callable_Function{Val{1}, Val{false}, typeof(f), Nothing}, x₀::Float64, x₁::Float64, fx₀::Float64, fx₁::Float64)",
      "    @ Roots C:\\Users\\sigor\\.julia\\packages\\Roots\\kyxnO\\src\\Bracketing\\bisection.jl:35",
      "  [4] init_state",
      "    @ C:\\Users\\sigor\\.julia\\packages\\Roots\\kyxnO\\src\\Bracketing\\false_position.jl:49 [inlined]",
      "  [5] init_state",
      "    @ C:\\Users\\sigor\\.julia\\packages\\Roots\\kyxnO\\src\\DerivativeFree\\derivative_free.jl:7 [inlined]",
      "  [6] init(𝑭𝑿::ZeroProblem{typeof(f), Tuple{Float64, Float64}}, M::FalsePosition{:anderson_bjork}, p′::Nothing; p::Nothing, verbose::Bool, tracks::Roots.NullTracks, kwargs::Base.Pairs{Symbol, Union{}, Tuple{}, NamedTuple{(), Tuple{}}})",
      "    @ Roots C:\\Users\\sigor\\.julia\\packages\\Roots\\kyxnO\\src\\find_zero.jl:260",
      "  [7] #solve#35",
      "    @ C:\\Users\\sigor\\.julia\\packages\\Roots\\kyxnO\\src\\find_zero.jl:439 [inlined]",
      "  [8] find_zero(f::Function, x0::Tuple{Float64, Float64}, M::FalsePosition{:anderson_bjork}; p::Nothing, verbose::Bool, tracks::Roots.NullTracks, kwargs::Base.Pairs{Symbol, Union{}, Tuple{}, NamedTuple{(), Tuple{}}})",
      "    @ Roots C:\\Users\\sigor\\.julia\\packages\\Roots\\kyxnO\\src\\find_zero.jl:197",
      "  [9] intervalMethod(f::Function, a::Float64, b::Float64)",
      "    @ Main .\\In[2]:4",
      " [10] top-level scope",
      "    @ In[29]:3",
      " [11] eval",
      "    @ .\\boot.jl:373 [inlined]",
      " [12] include_string(mapexpr::typeof(REPL.softscope), mod::Module, code::String, filename::String)",
      "    @ Base .\\loading.jl:1196"
     ]
    }
   ],
   "source": [
    "f(x) = sin(x)\n",
    "a, b = 0.05, 6.5\n",
    "intervalMethod(f, a, b)"
   ]
  },
  {
   "cell_type": "markdown",
   "id": "a370b697",
   "metadata": {},
   "source": [
    "Natomiast pierwiastek w tym przedziale jest..."
   ]
  },
  {
   "cell_type": "code",
   "execution_count": 30,
   "id": "d8bd9f3f",
   "metadata": {},
   "outputs": [
    {
     "data": {
      "image/svg+xml": [
       "<?xml version=\"1.0\" encoding=\"utf-8\"?>\n",
       "<svg xmlns=\"http://www.w3.org/2000/svg\" xmlns:xlink=\"http://www.w3.org/1999/xlink\" width=\"600\" height=\"400\" viewBox=\"0 0 2400 1600\">\n",
       "<defs>\n",
       "  <clipPath id=\"clip490\">\n",
       "    <rect x=\"0\" y=\"0\" width=\"2400\" height=\"1600\"/>\n",
       "  </clipPath>\n",
       "</defs>\n",
       "<path clip-path=\"url(#clip490)\" d=\"\n",
       "M0 1600 L2400 1600 L2400 0 L0 0  Z\n",
       "  \" fill=\"#ffffff\" fill-rule=\"evenodd\" fill-opacity=\"1\"/>\n",
       "<defs>\n",
       "  <clipPath id=\"clip491\">\n",
       "    <rect x=\"480\" y=\"0\" width=\"1681\" height=\"1600\"/>\n",
       "  </clipPath>\n",
       "</defs>\n",
       "<path clip-path=\"url(#clip490)\" d=\"\n",
       "M193.936 1486.45 L2352.76 1486.45 L2352.76 47.2441 L193.936 47.2441  Z\n",
       "  \" fill=\"#ffffff\" fill-rule=\"evenodd\" fill-opacity=\"1\"/>\n",
       "<defs>\n",
       "  <clipPath id=\"clip492\">\n",
       "    <rect x=\"193\" y=\"47\" width=\"2160\" height=\"1440\"/>\n",
       "  </clipPath>\n",
       "</defs>\n",
       "<polyline clip-path=\"url(#clip492)\" style=\"stroke:#000000; stroke-linecap:butt; stroke-linejoin:round; stroke-width:2; stroke-opacity:0.1; fill:none\" points=\"\n",
       "  239.247,1486.45 239.247,47.2441 \n",
       "  \"/>\n",
       "<polyline clip-path=\"url(#clip492)\" style=\"stroke:#000000; stroke-linecap:butt; stroke-linejoin:round; stroke-width:2; stroke-opacity:0.1; fill:none\" points=\"\n",
       "  555.002,1486.45 555.002,47.2441 \n",
       "  \"/>\n",
       "<polyline clip-path=\"url(#clip492)\" style=\"stroke:#000000; stroke-linecap:butt; stroke-linejoin:round; stroke-width:2; stroke-opacity:0.1; fill:none\" points=\"\n",
       "  870.758,1486.45 870.758,47.2441 \n",
       "  \"/>\n",
       "<polyline clip-path=\"url(#clip492)\" style=\"stroke:#000000; stroke-linecap:butt; stroke-linejoin:round; stroke-width:2; stroke-opacity:0.1; fill:none\" points=\"\n",
       "  1186.51,1486.45 1186.51,47.2441 \n",
       "  \"/>\n",
       "<polyline clip-path=\"url(#clip492)\" style=\"stroke:#000000; stroke-linecap:butt; stroke-linejoin:round; stroke-width:2; stroke-opacity:0.1; fill:none\" points=\"\n",
       "  1502.27,1486.45 1502.27,47.2441 \n",
       "  \"/>\n",
       "<polyline clip-path=\"url(#clip492)\" style=\"stroke:#000000; stroke-linecap:butt; stroke-linejoin:round; stroke-width:2; stroke-opacity:0.1; fill:none\" points=\"\n",
       "  1818.02,1486.45 1818.02,47.2441 \n",
       "  \"/>\n",
       "<polyline clip-path=\"url(#clip492)\" style=\"stroke:#000000; stroke-linecap:butt; stroke-linejoin:round; stroke-width:2; stroke-opacity:0.1; fill:none\" points=\"\n",
       "  2133.78,1486.45 2133.78,47.2441 \n",
       "  \"/>\n",
       "<polyline clip-path=\"url(#clip490)\" style=\"stroke:#000000; stroke-linecap:butt; stroke-linejoin:round; stroke-width:4; stroke-opacity:1; fill:none\" points=\"\n",
       "  193.936,1486.45 2352.76,1486.45 \n",
       "  \"/>\n",
       "<polyline clip-path=\"url(#clip490)\" style=\"stroke:#000000; stroke-linecap:butt; stroke-linejoin:round; stroke-width:4; stroke-opacity:1; fill:none\" points=\"\n",
       "  239.247,1486.45 239.247,1467.55 \n",
       "  \"/>\n",
       "<polyline clip-path=\"url(#clip490)\" style=\"stroke:#000000; stroke-linecap:butt; stroke-linejoin:round; stroke-width:4; stroke-opacity:1; fill:none\" points=\"\n",
       "  555.002,1486.45 555.002,1467.55 \n",
       "  \"/>\n",
       "<polyline clip-path=\"url(#clip490)\" style=\"stroke:#000000; stroke-linecap:butt; stroke-linejoin:round; stroke-width:4; stroke-opacity:1; fill:none\" points=\"\n",
       "  870.758,1486.45 870.758,1467.55 \n",
       "  \"/>\n",
       "<polyline clip-path=\"url(#clip490)\" style=\"stroke:#000000; stroke-linecap:butt; stroke-linejoin:round; stroke-width:4; stroke-opacity:1; fill:none\" points=\"\n",
       "  1186.51,1486.45 1186.51,1467.55 \n",
       "  \"/>\n",
       "<polyline clip-path=\"url(#clip490)\" style=\"stroke:#000000; stroke-linecap:butt; stroke-linejoin:round; stroke-width:4; stroke-opacity:1; fill:none\" points=\"\n",
       "  1502.27,1486.45 1502.27,1467.55 \n",
       "  \"/>\n",
       "<polyline clip-path=\"url(#clip490)\" style=\"stroke:#000000; stroke-linecap:butt; stroke-linejoin:round; stroke-width:4; stroke-opacity:1; fill:none\" points=\"\n",
       "  1818.02,1486.45 1818.02,1467.55 \n",
       "  \"/>\n",
       "<polyline clip-path=\"url(#clip490)\" style=\"stroke:#000000; stroke-linecap:butt; stroke-linejoin:round; stroke-width:4; stroke-opacity:1; fill:none\" points=\"\n",
       "  2133.78,1486.45 2133.78,1467.55 \n",
       "  \"/>\n",
       "<path clip-path=\"url(#clip490)\" d=\"M239.247 1517.37 Q235.636 1517.37 233.807 1520.93 Q232.002 1524.47 232.002 1531.6 Q232.002 1538.71 233.807 1542.27 Q235.636 1545.82 239.247 1545.82 Q242.881 1545.82 244.687 1542.27 Q246.515 1538.71 246.515 1531.6 Q246.515 1524.47 244.687 1520.93 Q242.881 1517.37 239.247 1517.37 M239.247 1513.66 Q245.057 1513.66 248.113 1518.27 Q251.191 1522.85 251.191 1531.6 Q251.191 1540.33 248.113 1544.94 Q245.057 1549.52 239.247 1549.52 Q233.437 1549.52 230.358 1544.94 Q227.303 1540.33 227.303 1531.6 Q227.303 1522.85 230.358 1518.27 Q233.437 1513.66 239.247 1513.66 Z\" fill=\"#000000\" fill-rule=\"evenodd\" fill-opacity=\"1\" /><path clip-path=\"url(#clip490)\" d=\"M545.384 1544.91 L553.023 1544.91 L553.023 1518.55 L544.713 1520.21 L544.713 1515.95 L552.977 1514.29 L557.653 1514.29 L557.653 1544.91 L565.292 1544.91 L565.292 1548.85 L545.384 1548.85 L545.384 1544.91 Z\" fill=\"#000000\" fill-rule=\"evenodd\" fill-opacity=\"1\" /><path clip-path=\"url(#clip490)\" d=\"M865.411 1544.91 L881.73 1544.91 L881.73 1548.85 L859.786 1548.85 L859.786 1544.91 Q862.448 1542.16 867.031 1537.53 Q871.637 1532.88 872.818 1531.53 Q875.063 1529.01 875.943 1527.27 Q876.846 1525.51 876.846 1523.82 Q876.846 1521.07 874.901 1519.33 Q872.98 1517.6 869.878 1517.6 Q867.679 1517.6 865.225 1518.36 Q862.795 1519.13 860.017 1520.68 L860.017 1515.95 Q862.841 1514.82 865.295 1514.24 Q867.749 1513.66 869.786 1513.66 Q875.156 1513.66 878.35 1516.35 Q881.545 1519.03 881.545 1523.52 Q881.545 1525.65 880.735 1527.57 Q879.948 1529.47 877.841 1532.07 Q877.262 1532.74 874.161 1535.95 Q871.059 1539.15 865.411 1544.91 Z\" fill=\"#000000\" fill-rule=\"evenodd\" fill-opacity=\"1\" /><path clip-path=\"url(#clip490)\" d=\"M1190.76 1530.21 Q1194.12 1530.93 1195.99 1533.2 Q1197.89 1535.47 1197.89 1538.8 Q1197.89 1543.92 1194.37 1546.72 Q1190.85 1549.52 1184.37 1549.52 Q1182.2 1549.52 1179.88 1549.08 Q1177.59 1548.66 1175.14 1547.81 L1175.14 1543.29 Q1177.08 1544.43 1179.4 1545.01 Q1181.71 1545.58 1184.23 1545.58 Q1188.63 1545.58 1190.92 1543.85 Q1193.24 1542.11 1193.24 1538.8 Q1193.24 1535.75 1191.08 1534.03 Q1188.96 1532.3 1185.14 1532.3 L1181.11 1532.3 L1181.11 1528.45 L1185.32 1528.45 Q1188.77 1528.45 1190.6 1527.09 Q1192.43 1525.7 1192.43 1523.11 Q1192.43 1520.45 1190.53 1519.03 Q1188.65 1517.6 1185.14 1517.6 Q1183.21 1517.6 1181.02 1518.01 Q1178.82 1518.43 1176.18 1519.31 L1176.18 1515.14 Q1178.84 1514.4 1181.15 1514.03 Q1183.49 1513.66 1185.55 1513.66 Q1190.88 1513.66 1193.98 1516.09 Q1197.08 1518.5 1197.08 1522.62 Q1197.08 1525.49 1195.44 1527.48 Q1193.79 1529.45 1190.76 1530.21 Z\" fill=\"#000000\" fill-rule=\"evenodd\" fill-opacity=\"1\" /><path clip-path=\"url(#clip490)\" d=\"M1505.28 1518.36 L1493.47 1536.81 L1505.28 1536.81 L1505.28 1518.36 M1504.05 1514.29 L1509.93 1514.29 L1509.93 1536.81 L1514.86 1536.81 L1514.86 1540.7 L1509.93 1540.7 L1509.93 1548.85 L1505.28 1548.85 L1505.28 1540.7 L1489.68 1540.7 L1489.68 1536.19 L1504.05 1514.29 Z\" fill=\"#000000\" fill-rule=\"evenodd\" fill-opacity=\"1\" /><path clip-path=\"url(#clip490)\" d=\"M1808.3 1514.29 L1826.66 1514.29 L1826.66 1518.22 L1812.58 1518.22 L1812.58 1526.7 Q1813.6 1526.35 1814.62 1526.19 Q1815.64 1526 1816.66 1526 Q1822.45 1526 1825.82 1529.17 Q1829.2 1532.34 1829.2 1537.76 Q1829.2 1543.34 1825.73 1546.44 Q1822.26 1549.52 1815.94 1549.52 Q1813.76 1549.52 1811.5 1549.15 Q1809.25 1548.78 1806.84 1548.04 L1806.84 1543.34 Q1808.93 1544.47 1811.15 1545.03 Q1813.37 1545.58 1815.85 1545.58 Q1819.85 1545.58 1822.19 1543.48 Q1824.53 1541.37 1824.53 1537.76 Q1824.53 1534.15 1822.19 1532.04 Q1819.85 1529.94 1815.85 1529.94 Q1813.97 1529.94 1812.1 1530.35 Q1810.25 1530.77 1808.3 1531.65 L1808.3 1514.29 Z\" fill=\"#000000\" fill-rule=\"evenodd\" fill-opacity=\"1\" /><path clip-path=\"url(#clip490)\" d=\"M2134.18 1529.7 Q2131.04 1529.7 2129.18 1531.86 Q2127.36 1534.01 2127.36 1537.76 Q2127.36 1541.49 2129.18 1543.66 Q2131.04 1545.82 2134.18 1545.82 Q2137.33 1545.82 2139.16 1543.66 Q2141.01 1541.49 2141.01 1537.76 Q2141.01 1534.01 2139.16 1531.86 Q2137.33 1529.7 2134.18 1529.7 M2143.47 1515.05 L2143.47 1519.31 Q2141.71 1518.48 2139.9 1518.04 Q2138.12 1517.6 2136.36 1517.6 Q2131.73 1517.6 2129.28 1520.72 Q2126.85 1523.85 2126.5 1530.17 Q2127.87 1528.15 2129.93 1527.09 Q2131.99 1526 2134.46 1526 Q2139.67 1526 2142.68 1529.17 Q2145.71 1532.32 2145.71 1537.76 Q2145.71 1543.08 2142.56 1546.3 Q2139.42 1549.52 2134.18 1549.52 Q2128.19 1549.52 2125.02 1544.94 Q2121.85 1540.33 2121.85 1531.6 Q2121.85 1523.41 2125.74 1518.55 Q2129.62 1513.66 2136.18 1513.66 Q2137.93 1513.66 2139.72 1514.01 Q2141.52 1514.36 2143.47 1515.05 Z\" fill=\"#000000\" fill-rule=\"evenodd\" fill-opacity=\"1\" /><polyline clip-path=\"url(#clip492)\" style=\"stroke:#000000; stroke-linecap:butt; stroke-linejoin:round; stroke-width:2; stroke-opacity:0.1; fill:none\" points=\"\n",
       "  193.936,1445.93 2352.76,1445.93 \n",
       "  \"/>\n",
       "<polyline clip-path=\"url(#clip492)\" style=\"stroke:#000000; stroke-linecap:butt; stroke-linejoin:round; stroke-width:2; stroke-opacity:0.1; fill:none\" points=\"\n",
       "  193.936,1106.04 2352.76,1106.04 \n",
       "  \"/>\n",
       "<polyline clip-path=\"url(#clip492)\" style=\"stroke:#000000; stroke-linecap:butt; stroke-linejoin:round; stroke-width:2; stroke-opacity:0.1; fill:none\" points=\"\n",
       "  193.936,766.151 2352.76,766.151 \n",
       "  \"/>\n",
       "<polyline clip-path=\"url(#clip492)\" style=\"stroke:#000000; stroke-linecap:butt; stroke-linejoin:round; stroke-width:2; stroke-opacity:0.1; fill:none\" points=\"\n",
       "  193.936,426.262 2352.76,426.262 \n",
       "  \"/>\n",
       "<polyline clip-path=\"url(#clip492)\" style=\"stroke:#000000; stroke-linecap:butt; stroke-linejoin:round; stroke-width:2; stroke-opacity:0.1; fill:none\" points=\"\n",
       "  193.936,86.373 2352.76,86.373 \n",
       "  \"/>\n",
       "<polyline clip-path=\"url(#clip490)\" style=\"stroke:#000000; stroke-linecap:butt; stroke-linejoin:round; stroke-width:4; stroke-opacity:1; fill:none\" points=\"\n",
       "  193.936,1486.45 193.936,47.2441 \n",
       "  \"/>\n",
       "<polyline clip-path=\"url(#clip490)\" style=\"stroke:#000000; stroke-linecap:butt; stroke-linejoin:round; stroke-width:4; stroke-opacity:1; fill:none\" points=\"\n",
       "  193.936,1445.93 212.834,1445.93 \n",
       "  \"/>\n",
       "<polyline clip-path=\"url(#clip490)\" style=\"stroke:#000000; stroke-linecap:butt; stroke-linejoin:round; stroke-width:4; stroke-opacity:1; fill:none\" points=\"\n",
       "  193.936,1106.04 212.834,1106.04 \n",
       "  \"/>\n",
       "<polyline clip-path=\"url(#clip490)\" style=\"stroke:#000000; stroke-linecap:butt; stroke-linejoin:round; stroke-width:4; stroke-opacity:1; fill:none\" points=\"\n",
       "  193.936,766.151 212.834,766.151 \n",
       "  \"/>\n",
       "<polyline clip-path=\"url(#clip490)\" style=\"stroke:#000000; stroke-linecap:butt; stroke-linejoin:round; stroke-width:4; stroke-opacity:1; fill:none\" points=\"\n",
       "  193.936,426.262 212.834,426.262 \n",
       "  \"/>\n",
       "<polyline clip-path=\"url(#clip490)\" style=\"stroke:#000000; stroke-linecap:butt; stroke-linejoin:round; stroke-width:4; stroke-opacity:1; fill:none\" points=\"\n",
       "  193.936,86.373 212.834,86.373 \n",
       "  \"/>\n",
       "<path clip-path=\"url(#clip490)\" d=\"M50.9921 1446.38 L80.6679 1446.38 L80.6679 1450.32 L50.9921 1450.32 L50.9921 1446.38 Z\" fill=\"#000000\" fill-rule=\"evenodd\" fill-opacity=\"1\" /><path clip-path=\"url(#clip490)\" d=\"M91.5706 1459.27 L99.2095 1459.27 L99.2095 1432.91 L90.8993 1434.57 L90.8993 1430.32 L99.1632 1428.65 L103.839 1428.65 L103.839 1459.27 L111.478 1459.27 L111.478 1463.21 L91.5706 1463.21 L91.5706 1459.27 Z\" fill=\"#000000\" fill-rule=\"evenodd\" fill-opacity=\"1\" /><path clip-path=\"url(#clip490)\" d=\"M120.922 1457.33 L125.807 1457.33 L125.807 1463.21 L120.922 1463.21 L120.922 1457.33 Z\" fill=\"#000000\" fill-rule=\"evenodd\" fill-opacity=\"1\" /><path clip-path=\"url(#clip490)\" d=\"M145.992 1431.73 Q142.381 1431.73 140.552 1435.29 Q138.746 1438.83 138.746 1445.96 Q138.746 1453.07 140.552 1456.63 Q142.381 1460.18 145.992 1460.18 Q149.626 1460.18 151.431 1456.63 Q153.26 1453.07 153.26 1445.96 Q153.26 1438.83 151.431 1435.29 Q149.626 1431.73 145.992 1431.73 M145.992 1428.02 Q151.802 1428.02 154.857 1432.63 Q157.936 1437.21 157.936 1445.96 Q157.936 1454.69 154.857 1459.3 Q151.802 1463.88 145.992 1463.88 Q140.181 1463.88 137.103 1459.3 Q134.047 1454.69 134.047 1445.96 Q134.047 1437.21 137.103 1432.63 Q140.181 1428.02 145.992 1428.02 Z\" fill=\"#000000\" fill-rule=\"evenodd\" fill-opacity=\"1\" /><path clip-path=\"url(#clip490)\" d=\"M51.9875 1106.49 L81.6633 1106.49 L81.6633 1110.43 L51.9875 1110.43 L51.9875 1106.49 Z\" fill=\"#000000\" fill-rule=\"evenodd\" fill-opacity=\"1\" /><path clip-path=\"url(#clip490)\" d=\"M101.756 1091.84 Q98.1447 1091.84 96.316 1095.4 Q94.5104 1098.94 94.5104 1106.07 Q94.5104 1113.18 96.316 1116.75 Q98.1447 1120.29 101.756 1120.29 Q105.39 1120.29 107.196 1116.75 Q109.024 1113.18 109.024 1106.07 Q109.024 1098.94 107.196 1095.4 Q105.39 1091.84 101.756 1091.84 M101.756 1088.13 Q107.566 1088.13 110.621 1092.74 Q113.7 1097.32 113.7 1106.07 Q113.7 1114.8 110.621 1119.41 Q107.566 1123.99 101.756 1123.99 Q95.9456 1123.99 92.8669 1119.41 Q89.8114 1114.8 89.8114 1106.07 Q89.8114 1097.32 92.8669 1092.74 Q95.9456 1088.13 101.756 1088.13 Z\" fill=\"#000000\" fill-rule=\"evenodd\" fill-opacity=\"1\" /><path clip-path=\"url(#clip490)\" d=\"M121.918 1117.44 L126.802 1117.44 L126.802 1123.32 L121.918 1123.32 L121.918 1117.44 Z\" fill=\"#000000\" fill-rule=\"evenodd\" fill-opacity=\"1\" /><path clip-path=\"url(#clip490)\" d=\"M137.033 1088.76 L155.39 1088.76 L155.39 1092.69 L141.316 1092.69 L141.316 1101.17 Q142.334 1100.82 143.353 1100.66 Q144.371 1100.47 145.39 1100.47 Q151.177 1100.47 154.556 1103.64 Q157.936 1106.82 157.936 1112.23 Q157.936 1117.81 154.464 1120.91 Q150.992 1123.99 144.672 1123.99 Q142.496 1123.99 140.228 1123.62 Q137.982 1123.25 135.575 1122.51 L135.575 1117.81 Q137.658 1118.94 139.881 1119.5 Q142.103 1120.06 144.58 1120.06 Q148.584 1120.06 150.922 1117.95 Q153.26 1115.84 153.26 1112.23 Q153.26 1108.62 150.922 1106.51 Q148.584 1104.41 144.58 1104.41 Q142.705 1104.41 140.83 1104.82 Q138.978 1105.24 137.033 1106.12 L137.033 1088.76 Z\" fill=\"#000000\" fill-rule=\"evenodd\" fill-opacity=\"1\" /><path clip-path=\"url(#clip490)\" d=\"M100.76 751.949 Q97.1493 751.949 95.3206 755.514 Q93.515 759.056 93.515 766.186 Q93.515 773.292 95.3206 776.857 Q97.1493 780.398 100.76 780.398 Q104.395 780.398 106.2 776.857 Q108.029 773.292 108.029 766.186 Q108.029 759.056 106.2 755.514 Q104.395 751.949 100.76 751.949 M100.76 748.246 Q106.571 748.246 109.626 752.852 Q112.705 757.436 112.705 766.186 Q112.705 774.912 109.626 779.519 Q106.571 784.102 100.76 784.102 Q94.9502 784.102 91.8715 779.519 Q88.816 774.912 88.816 766.186 Q88.816 757.436 91.8715 752.852 Q94.9502 748.246 100.76 748.246 Z\" fill=\"#000000\" fill-rule=\"evenodd\" fill-opacity=\"1\" /><path clip-path=\"url(#clip490)\" d=\"M120.922 777.551 L125.807 777.551 L125.807 783.431 L120.922 783.431 L120.922 777.551 Z\" fill=\"#000000\" fill-rule=\"evenodd\" fill-opacity=\"1\" /><path clip-path=\"url(#clip490)\" d=\"M145.992 751.949 Q142.381 751.949 140.552 755.514 Q138.746 759.056 138.746 766.186 Q138.746 773.292 140.552 776.857 Q142.381 780.398 145.992 780.398 Q149.626 780.398 151.431 776.857 Q153.26 773.292 153.26 766.186 Q153.26 759.056 151.431 755.514 Q149.626 751.949 145.992 751.949 M145.992 748.246 Q151.802 748.246 154.857 752.852 Q157.936 757.436 157.936 766.186 Q157.936 774.912 154.857 779.519 Q151.802 784.102 145.992 784.102 Q140.181 784.102 137.103 779.519 Q134.047 774.912 134.047 766.186 Q134.047 757.436 137.103 752.852 Q140.181 748.246 145.992 748.246 Z\" fill=\"#000000\" fill-rule=\"evenodd\" fill-opacity=\"1\" /><path clip-path=\"url(#clip490)\" d=\"M101.756 412.061 Q98.1447 412.061 96.316 415.625 Q94.5104 419.167 94.5104 426.297 Q94.5104 433.403 96.316 436.968 Q98.1447 440.51 101.756 440.51 Q105.39 440.51 107.196 436.968 Q109.024 433.403 109.024 426.297 Q109.024 419.167 107.196 415.625 Q105.39 412.061 101.756 412.061 M101.756 408.357 Q107.566 408.357 110.621 412.963 Q113.7 417.547 113.7 426.297 Q113.7 435.023 110.621 439.63 Q107.566 444.213 101.756 444.213 Q95.9456 444.213 92.8669 439.63 Q89.8114 435.023 89.8114 426.297 Q89.8114 417.547 92.8669 412.963 Q95.9456 408.357 101.756 408.357 Z\" fill=\"#000000\" fill-rule=\"evenodd\" fill-opacity=\"1\" /><path clip-path=\"url(#clip490)\" d=\"M121.918 437.662 L126.802 437.662 L126.802 443.542 L121.918 443.542 L121.918 437.662 Z\" fill=\"#000000\" fill-rule=\"evenodd\" fill-opacity=\"1\" /><path clip-path=\"url(#clip490)\" d=\"M137.033 408.982 L155.39 408.982 L155.39 412.917 L141.316 412.917 L141.316 421.389 Q142.334 421.042 143.353 420.88 Q144.371 420.695 145.39 420.695 Q151.177 420.695 154.556 423.866 Q157.936 427.037 157.936 432.454 Q157.936 438.033 154.464 441.135 Q150.992 444.213 144.672 444.213 Q142.496 444.213 140.228 443.843 Q137.982 443.472 135.575 442.732 L135.575 438.033 Q137.658 439.167 139.881 439.722 Q142.103 440.278 144.58 440.278 Q148.584 440.278 150.922 438.172 Q153.26 436.065 153.26 432.454 Q153.26 428.843 150.922 426.736 Q148.584 424.63 144.58 424.63 Q142.705 424.63 140.83 425.047 Q138.978 425.463 137.033 426.343 L137.033 408.982 Z\" fill=\"#000000\" fill-rule=\"evenodd\" fill-opacity=\"1\" /><path clip-path=\"url(#clip490)\" d=\"M91.5706 99.7178 L99.2095 99.7178 L99.2095 73.3522 L90.8993 75.0189 L90.8993 70.7596 L99.1632 69.093 L103.839 69.093 L103.839 99.7178 L111.478 99.7178 L111.478 103.653 L91.5706 103.653 L91.5706 99.7178 Z\" fill=\"#000000\" fill-rule=\"evenodd\" fill-opacity=\"1\" /><path clip-path=\"url(#clip490)\" d=\"M120.922 97.7734 L125.807 97.7734 L125.807 103.653 L120.922 103.653 L120.922 97.7734 Z\" fill=\"#000000\" fill-rule=\"evenodd\" fill-opacity=\"1\" /><path clip-path=\"url(#clip490)\" d=\"M145.992 72.1717 Q142.381 72.1717 140.552 75.7365 Q138.746 79.2781 138.746 86.4077 Q138.746 93.5142 140.552 97.0789 Q142.381 100.621 145.992 100.621 Q149.626 100.621 151.431 97.0789 Q153.26 93.5142 153.26 86.4077 Q153.26 79.2781 151.431 75.7365 Q149.626 72.1717 145.992 72.1717 M145.992 68.468 Q151.802 68.468 154.857 73.0744 Q157.936 77.6578 157.936 86.4077 Q157.936 95.1345 154.857 99.741 Q151.802 104.324 145.992 104.324 Q140.181 104.324 137.103 99.741 Q134.047 95.1345 134.047 86.4077 Q134.047 77.6578 137.103 73.0744 Q140.181 68.468 145.992 68.468 Z\" fill=\"#000000\" fill-rule=\"evenodd\" fill-opacity=\"1\" /><polyline clip-path=\"url(#clip492)\" style=\"stroke:#009af9; stroke-linecap:butt; stroke-linejoin:round; stroke-width:4; stroke-opacity:1; fill:none\" points=\"\n",
       "  255.035,732.176 260.007,721.489 264.979,710.814 269.952,700.152 274.924,689.506 320.9,592.315 366.877,498.803 412.853,410.949 458.829,330.612 486.459,286.667 \n",
       "  514.089,246.39 541.719,210.091 569.348,178.046 616.07,134.211 662.791,104.185 713.544,87.9763 764.296,89.2502 787.691,95.7321 811.085,105.893 834.48,119.676 \n",
       "  857.875,137.006 908.038,185.656 958.201,248.925 1016.32,338.396 1074.44,442.318 1177.74,651.555 1268.32,845.835 1317.7,950.008 1367.08,1049.69 1416.75,1142.99 \n",
       "  1466.43,1226.97 1521.35,1306.5 1576.27,1369.73 1628.52,1413 1680.78,1438.59 1707.95,1444.66 1735.11,1445.72 1762.28,1441.74 1789.45,1432.77 1812.31,1421.39 \n",
       "  1835.18,1406.57 1858.05,1388.4 1880.92,1366.96 1936.76,1301.64 1992.6,1219.63 2045.09,1129.57 2097.58,1029.5 2181.68,855.277 2265.77,674.767 2278.72,647.242 \n",
       "  2291.66,619.917 \n",
       "  \"/>\n",
       "<path clip-path=\"url(#clip490)\" d=\"\n",
       "M1988.5 198.898 L2280.8 198.898 L2280.8 95.2176 L1988.5 95.2176  Z\n",
       "  \" fill=\"#ffffff\" fill-rule=\"evenodd\" fill-opacity=\"1\"/>\n",
       "<polyline clip-path=\"url(#clip490)\" style=\"stroke:#000000; stroke-linecap:butt; stroke-linejoin:round; stroke-width:4; stroke-opacity:1; fill:none\" points=\"\n",
       "  1988.5,198.898 2280.8,198.898 2280.8,95.2176 1988.5,95.2176 1988.5,198.898 \n",
       "  \"/>\n",
       "<polyline clip-path=\"url(#clip490)\" style=\"stroke:#009af9; stroke-linecap:butt; stroke-linejoin:round; stroke-width:4; stroke-opacity:1; fill:none\" points=\"\n",
       "  2012.48,147.058 2156.4,147.058 \n",
       "  \"/>\n",
       "<path clip-path=\"url(#clip490)\" d=\"M2194.23 166.745 Q2192.43 171.375 2190.72 172.787 Q2189 174.199 2186.13 174.199 L2182.73 174.199 L2182.73 170.634 L2185.23 170.634 Q2186.99 170.634 2187.96 169.8 Q2188.93 168.967 2190.11 165.865 L2190.88 163.921 L2180.39 138.412 L2184.91 138.412 L2193.01 158.689 L2201.11 138.412 L2205.62 138.412 L2194.23 166.745 Z\" fill=\"#000000\" fill-rule=\"evenodd\" fill-opacity=\"1\" /><path clip-path=\"url(#clip490)\" d=\"M2212.91 160.402 L2220.55 160.402 L2220.55 134.037 L2212.24 135.703 L2212.24 131.444 L2220.51 129.778 L2225.18 129.778 L2225.18 160.402 L2232.82 160.402 L2232.82 164.338 L2212.91 164.338 L2212.91 160.402 Z\" fill=\"#000000\" fill-rule=\"evenodd\" fill-opacity=\"1\" /></svg>\n"
      ]
     },
     "execution_count": 30,
     "metadata": {},
     "output_type": "execute_result"
    }
   ],
   "source": [
    "plot(f, a, b)"
   ]
  },
  {
   "cell_type": "markdown",
   "id": "6d2f9ced",
   "metadata": {},
   "source": [
    "Metoda nie działa, ponieważ wartości na krańcach oraz w jego środku są tego samego znaku (algorytm opiera się na fakcie, że dla funkcji ciągłej w przedziale [a,b] o różnych znakach na jego końcu funkcja w tym przedziale ma pierwiastek)."
   ]
  },
  {
   "cell_type": "markdown",
   "id": "3f0b3695",
   "metadata": {},
   "source": [
    "### derivativeMethod"
   ]
  },
  {
   "cell_type": "code",
   "execution_count": 31,
   "id": "4729866e",
   "metadata": {
    "scrolled": true
   },
   "outputs": [
    {
     "data": {
      "text/plain": [
       "Results of univariate zero finding:\n",
       "\n",
       "* Convergence failed: \n",
       "* Algorithm Roots.Newton()\n",
       "\n",
       "Trace:\n",
       "x₁ = 1,\t fx₁ = 1\n",
       "x₂ = 0,\t fx₂ = 2\n",
       "x₃ = 1,\t fx₃ = 1\n",
       "x₄ = 0,\t fx₄ = 2\n",
       "x₅ = 1,\t fx₅ = 1\n",
       "x₆ = 0,\t fx₆ = 2\n",
       "x₇ = 1,\t fx₇ = 1\n",
       "x₈ = 0,\t fx₈ = 2\n",
       "x₉ = 1,\t fx₉ = 1\n",
       "x₁₀ = 0,\t fx₁₀ = 2\n",
       "x₁₁ = 1,\t fx₁₁ = 1\n",
       "x₁₂ = 0,\t fx₁₂ = 2\n",
       "x₁₃ = 1,\t fx₁₃ = 1\n",
       "x₁₄ = 0,\t fx₁₄ = 2\n",
       "x₁₅ = 1,\t fx₁₅ = 1\n",
       "x₁₆ = 0,\t fx₁₆ = 2\n",
       "x₁₇ = 1,\t fx₁₇ = 1\n",
       "x₁₈ = 0,\t fx₁₈ = 2\n",
       "x₁₉ = 1,\t fx₁₉ = 1\n",
       "x₂₀ = 0,\t fx₂₀ = 2\n",
       "x₂₁ = 1,\t fx₂₁ = 1\n",
       "x₂₂ = 0,\t fx₂₂ = 2\n",
       "x₂₃ = 1,\t fx₂₃ = 1\n",
       "x₂₄ = 0,\t fx₂₄ = 2\n",
       "x₂₅ = 1,\t fx₂₅ = 1\n",
       "x₂₆ = 0,\t fx₂₆ = 2\n",
       "x₂₇ = 1,\t fx₂₇ = 1\n",
       "x₂₈ = 0,\t fx₂₈ = 2\n",
       "x₂₉ = 1,\t fx₂₉ = 1\n",
       "x₃₀ = 0,\t fx₃₀ = 2\n",
       "x₃₁ = 1,\t fx₃₁ = 1\n",
       "x₃₂ = 0,\t fx₃₂ = 2\n",
       "x₃₃ = 1,\t fx₃₃ = 1\n",
       "x₃₄ = 0,\t fx₃₄ = 2\n",
       "x₃₅ = 1,\t fx₃₅ = 1\n",
       "x₃₆ = 0,\t fx₃₆ = 2\n",
       "x₃₇ = 1,\t fx₃₇ = 1\n",
       "x₃₈ = 0,\t fx₃₈ = 2\n",
       "x₃₉ = 1,\t fx₃₉ = 1\n",
       "x₄₀ = 0,\t fx₄₀ = 2\n",
       "x₄₁ = 1,\t fx₄₁ = 1\n",
       "x₄₂ = 0,\t fx₄₂ = 2\n",
       "\n"
      ]
     },
     "metadata": {},
     "output_type": "display_data"
    },
    {
     "ename": "LoadError",
     "evalue": "Roots.ConvergenceFailed(\"Algorithm failed to converge\")",
     "output_type": "error",
     "traceback": [
      "Roots.ConvergenceFailed(\"Algorithm failed to converge\")",
      "",
      "Stacktrace:",
      " [1] #find_zero#29",
      "   @ C:\\Users\\sigor\\.julia\\packages\\Roots\\kyxnO\\src\\find_zero.jl:199 [inlined]",
      " [2] derivativeMethod(f::Function, startX::Int64)",
      "   @ Main .\\In[2]:13",
      " [3] top-level scope",
      "   @ In[31]:3",
      " [4] eval",
      "   @ .\\boot.jl:373 [inlined]",
      " [5] include_string(mapexpr::typeof(REPL.softscope), mod::Module, code::String, filename::String)",
      "   @ Base .\\loading.jl:1196"
     ]
    }
   ],
   "source": [
    "f(x) = x^3 - 2*x + 2\n",
    "startX = 1\n",
    "derivativeMethod(f, startX)"
   ]
  },
  {
   "cell_type": "code",
   "execution_count": 32,
   "id": "9b98788f",
   "metadata": {},
   "outputs": [
    {
     "data": {
      "image/svg+xml": [
       "<?xml version=\"1.0\" encoding=\"utf-8\"?>\n",
       "<svg xmlns=\"http://www.w3.org/2000/svg\" xmlns:xlink=\"http://www.w3.org/1999/xlink\" width=\"600\" height=\"400\" viewBox=\"0 0 2400 1600\">\n",
       "<defs>\n",
       "  <clipPath id=\"clip530\">\n",
       "    <rect x=\"0\" y=\"0\" width=\"2400\" height=\"1600\"/>\n",
       "  </clipPath>\n",
       "</defs>\n",
       "<path clip-path=\"url(#clip530)\" d=\"\n",
       "M0 1600 L2400 1600 L2400 0 L0 0  Z\n",
       "  \" fill=\"#ffffff\" fill-rule=\"evenodd\" fill-opacity=\"1\"/>\n",
       "<defs>\n",
       "  <clipPath id=\"clip531\">\n",
       "    <rect x=\"480\" y=\"0\" width=\"1681\" height=\"1600\"/>\n",
       "  </clipPath>\n",
       "</defs>\n",
       "<path clip-path=\"url(#clip530)\" d=\"\n",
       "M178.867 1486.45 L2352.76 1486.45 L2352.76 47.2441 L178.867 47.2441  Z\n",
       "  \" fill=\"#ffffff\" fill-rule=\"evenodd\" fill-opacity=\"1\"/>\n",
       "<defs>\n",
       "  <clipPath id=\"clip532\">\n",
       "    <rect x=\"178\" y=\"47\" width=\"2175\" height=\"1440\"/>\n",
       "  </clipPath>\n",
       "</defs>\n",
       "<polyline clip-path=\"url(#clip532)\" style=\"stroke:#000000; stroke-linecap:butt; stroke-linejoin:round; stroke-width:2; stroke-opacity:0.1; fill:none\" points=\"\n",
       "  240.392,1486.45 240.392,47.2441 \n",
       "  \"/>\n",
       "<polyline clip-path=\"url(#clip532)\" style=\"stroke:#000000; stroke-linecap:butt; stroke-linejoin:round; stroke-width:2; stroke-opacity:0.1; fill:none\" points=\"\n",
       "  582.198,1486.45 582.198,47.2441 \n",
       "  \"/>\n",
       "<polyline clip-path=\"url(#clip532)\" style=\"stroke:#000000; stroke-linecap:butt; stroke-linejoin:round; stroke-width:2; stroke-opacity:0.1; fill:none\" points=\"\n",
       "  924.005,1486.45 924.005,47.2441 \n",
       "  \"/>\n",
       "<polyline clip-path=\"url(#clip532)\" style=\"stroke:#000000; stroke-linecap:butt; stroke-linejoin:round; stroke-width:2; stroke-opacity:0.1; fill:none\" points=\"\n",
       "  1265.81,1486.45 1265.81,47.2441 \n",
       "  \"/>\n",
       "<polyline clip-path=\"url(#clip532)\" style=\"stroke:#000000; stroke-linecap:butt; stroke-linejoin:round; stroke-width:2; stroke-opacity:0.1; fill:none\" points=\"\n",
       "  1607.62,1486.45 1607.62,47.2441 \n",
       "  \"/>\n",
       "<polyline clip-path=\"url(#clip532)\" style=\"stroke:#000000; stroke-linecap:butt; stroke-linejoin:round; stroke-width:2; stroke-opacity:0.1; fill:none\" points=\"\n",
       "  1949.42,1486.45 1949.42,47.2441 \n",
       "  \"/>\n",
       "<polyline clip-path=\"url(#clip532)\" style=\"stroke:#000000; stroke-linecap:butt; stroke-linejoin:round; stroke-width:2; stroke-opacity:0.1; fill:none\" points=\"\n",
       "  2291.23,1486.45 2291.23,47.2441 \n",
       "  \"/>\n",
       "<polyline clip-path=\"url(#clip530)\" style=\"stroke:#000000; stroke-linecap:butt; stroke-linejoin:round; stroke-width:4; stroke-opacity:1; fill:none\" points=\"\n",
       "  178.867,1486.45 2352.76,1486.45 \n",
       "  \"/>\n",
       "<polyline clip-path=\"url(#clip530)\" style=\"stroke:#000000; stroke-linecap:butt; stroke-linejoin:round; stroke-width:4; stroke-opacity:1; fill:none\" points=\"\n",
       "  240.392,1486.45 240.392,1467.55 \n",
       "  \"/>\n",
       "<polyline clip-path=\"url(#clip530)\" style=\"stroke:#000000; stroke-linecap:butt; stroke-linejoin:round; stroke-width:4; stroke-opacity:1; fill:none\" points=\"\n",
       "  582.198,1486.45 582.198,1467.55 \n",
       "  \"/>\n",
       "<polyline clip-path=\"url(#clip530)\" style=\"stroke:#000000; stroke-linecap:butt; stroke-linejoin:round; stroke-width:4; stroke-opacity:1; fill:none\" points=\"\n",
       "  924.005,1486.45 924.005,1467.55 \n",
       "  \"/>\n",
       "<polyline clip-path=\"url(#clip530)\" style=\"stroke:#000000; stroke-linecap:butt; stroke-linejoin:round; stroke-width:4; stroke-opacity:1; fill:none\" points=\"\n",
       "  1265.81,1486.45 1265.81,1467.55 \n",
       "  \"/>\n",
       "<polyline clip-path=\"url(#clip530)\" style=\"stroke:#000000; stroke-linecap:butt; stroke-linejoin:round; stroke-width:4; stroke-opacity:1; fill:none\" points=\"\n",
       "  1607.62,1486.45 1607.62,1467.55 \n",
       "  \"/>\n",
       "<polyline clip-path=\"url(#clip530)\" style=\"stroke:#000000; stroke-linecap:butt; stroke-linejoin:round; stroke-width:4; stroke-opacity:1; fill:none\" points=\"\n",
       "  1949.42,1486.45 1949.42,1467.55 \n",
       "  \"/>\n",
       "<polyline clip-path=\"url(#clip530)\" style=\"stroke:#000000; stroke-linecap:butt; stroke-linejoin:round; stroke-width:4; stroke-opacity:1; fill:none\" points=\"\n",
       "  2291.23,1486.45 2291.23,1467.55 \n",
       "  \"/>\n",
       "<path clip-path=\"url(#clip530)\" d=\"M209.86 1532.02 L239.535 1532.02 L239.535 1535.95 L209.86 1535.95 L209.86 1532.02 Z\" fill=\"#000000\" fill-rule=\"evenodd\" fill-opacity=\"1\" /><path clip-path=\"url(#clip530)\" d=\"M263.794 1530.21 Q267.151 1530.93 269.026 1533.2 Q270.924 1535.47 270.924 1538.8 Q270.924 1543.92 267.406 1546.72 Q263.887 1549.52 257.406 1549.52 Q255.23 1549.52 252.915 1549.08 Q250.623 1548.66 248.17 1547.81 L248.17 1543.29 Q250.114 1544.43 252.429 1545.01 Q254.744 1545.58 257.267 1545.58 Q261.665 1545.58 263.956 1543.85 Q266.271 1542.11 266.271 1538.8 Q266.271 1535.75 264.119 1534.03 Q261.989 1532.3 258.169 1532.3 L254.142 1532.3 L254.142 1528.45 L258.355 1528.45 Q261.804 1528.45 263.632 1527.09 Q265.461 1525.7 265.461 1523.11 Q265.461 1520.45 263.563 1519.03 Q261.688 1517.6 258.169 1517.6 Q256.248 1517.6 254.049 1518.01 Q251.85 1518.43 249.211 1519.31 L249.211 1515.14 Q251.873 1514.4 254.188 1514.03 Q256.526 1513.66 258.586 1513.66 Q263.91 1513.66 267.012 1516.09 Q270.114 1518.5 270.114 1522.62 Q270.114 1525.49 268.47 1527.48 Q266.827 1529.45 263.794 1530.21 Z\" fill=\"#000000\" fill-rule=\"evenodd\" fill-opacity=\"1\" /><path clip-path=\"url(#clip530)\" d=\"M552.141 1532.02 L581.816 1532.02 L581.816 1535.95 L552.141 1535.95 L552.141 1532.02 Z\" fill=\"#000000\" fill-rule=\"evenodd\" fill-opacity=\"1\" /><path clip-path=\"url(#clip530)\" d=\"M595.937 1544.91 L612.256 1544.91 L612.256 1548.85 L590.312 1548.85 L590.312 1544.91 Q592.974 1542.16 597.557 1537.53 Q602.163 1532.88 603.344 1531.53 Q605.589 1529.01 606.469 1527.27 Q607.372 1525.51 607.372 1523.82 Q607.372 1521.07 605.427 1519.33 Q603.506 1517.6 600.404 1517.6 Q598.205 1517.6 595.751 1518.36 Q593.321 1519.13 590.543 1520.68 L590.543 1515.95 Q593.367 1514.82 595.821 1514.24 Q598.275 1513.66 600.312 1513.66 Q605.682 1513.66 608.876 1516.35 Q612.071 1519.03 612.071 1523.52 Q612.071 1525.65 611.261 1527.57 Q610.474 1529.47 608.367 1532.07 Q607.788 1532.74 604.687 1535.95 Q601.585 1539.15 595.937 1544.91 Z\" fill=\"#000000\" fill-rule=\"evenodd\" fill-opacity=\"1\" /><path clip-path=\"url(#clip530)\" d=\"M893.762 1532.02 L923.438 1532.02 L923.438 1535.95 L893.762 1535.95 L893.762 1532.02 Z\" fill=\"#000000\" fill-rule=\"evenodd\" fill-opacity=\"1\" /><path clip-path=\"url(#clip530)\" d=\"M934.34 1544.91 L941.979 1544.91 L941.979 1518.55 L933.669 1520.21 L933.669 1515.95 L941.933 1514.29 L946.609 1514.29 L946.609 1544.91 L954.248 1544.91 L954.248 1548.85 L934.34 1548.85 L934.34 1544.91 Z\" fill=\"#000000\" fill-rule=\"evenodd\" fill-opacity=\"1\" /><path clip-path=\"url(#clip530)\" d=\"M1265.81 1517.37 Q1262.2 1517.37 1260.37 1520.93 Q1258.57 1524.47 1258.57 1531.6 Q1258.57 1538.71 1260.37 1542.27 Q1262.2 1545.82 1265.81 1545.82 Q1269.45 1545.82 1271.25 1542.27 Q1273.08 1538.71 1273.08 1531.6 Q1273.08 1524.47 1271.25 1520.93 Q1269.45 1517.37 1265.81 1517.37 M1265.81 1513.66 Q1271.62 1513.66 1274.68 1518.27 Q1277.76 1522.85 1277.76 1531.6 Q1277.76 1540.33 1274.68 1544.94 Q1271.62 1549.52 1265.81 1549.52 Q1260 1549.52 1256.92 1544.94 Q1253.87 1540.33 1253.87 1531.6 Q1253.87 1522.85 1256.92 1518.27 Q1260 1513.66 1265.81 1513.66 Z\" fill=\"#000000\" fill-rule=\"evenodd\" fill-opacity=\"1\" /><path clip-path=\"url(#clip530)\" d=\"M1598 1544.91 L1605.64 1544.91 L1605.64 1518.55 L1597.33 1520.21 L1597.33 1515.95 L1605.59 1514.29 L1610.27 1514.29 L1610.27 1544.91 L1617.91 1544.91 L1617.91 1548.85 L1598 1548.85 L1598 1544.91 Z\" fill=\"#000000\" fill-rule=\"evenodd\" fill-opacity=\"1\" /><path clip-path=\"url(#clip530)\" d=\"M1944.08 1544.91 L1960.4 1544.91 L1960.4 1548.85 L1938.45 1548.85 L1938.45 1544.91 Q1941.11 1542.16 1945.7 1537.53 Q1950.3 1532.88 1951.48 1531.53 Q1953.73 1529.01 1954.61 1527.27 Q1955.51 1525.51 1955.51 1523.82 Q1955.51 1521.07 1953.57 1519.33 Q1951.65 1517.6 1948.54 1517.6 Q1946.35 1517.6 1943.89 1518.36 Q1941.46 1519.13 1938.68 1520.68 L1938.68 1515.95 Q1941.51 1514.82 1943.96 1514.24 Q1946.42 1513.66 1948.45 1513.66 Q1953.82 1513.66 1957.02 1516.35 Q1960.21 1519.03 1960.21 1523.52 Q1960.21 1525.65 1959.4 1527.57 Q1958.61 1529.47 1956.51 1532.07 Q1955.93 1532.74 1952.83 1535.95 Q1949.73 1539.15 1944.08 1544.91 Z\" fill=\"#000000\" fill-rule=\"evenodd\" fill-opacity=\"1\" /><path clip-path=\"url(#clip530)\" d=\"M2295.48 1530.21 Q2298.83 1530.93 2300.71 1533.2 Q2302.61 1535.47 2302.61 1538.8 Q2302.61 1543.92 2299.09 1546.72 Q2295.57 1549.52 2289.09 1549.52 Q2286.91 1549.52 2284.6 1549.08 Q2282.31 1548.66 2279.85 1547.81 L2279.85 1543.29 Q2281.8 1544.43 2284.11 1545.01 Q2286.43 1545.58 2288.95 1545.58 Q2293.35 1545.58 2295.64 1543.85 Q2297.96 1542.11 2297.96 1538.8 Q2297.96 1535.75 2295.8 1534.03 Q2293.67 1532.3 2289.85 1532.3 L2285.83 1532.3 L2285.83 1528.45 L2290.04 1528.45 Q2293.49 1528.45 2295.32 1527.09 Q2297.15 1525.7 2297.15 1523.11 Q2297.15 1520.45 2295.25 1519.03 Q2293.37 1517.6 2289.85 1517.6 Q2287.93 1517.6 2285.73 1518.01 Q2283.53 1518.43 2280.9 1519.31 L2280.9 1515.14 Q2283.56 1514.4 2285.87 1514.03 Q2288.21 1513.66 2290.27 1513.66 Q2295.59 1513.66 2298.7 1516.09 Q2301.8 1518.5 2301.8 1522.62 Q2301.8 1525.49 2300.15 1527.48 Q2298.51 1529.45 2295.48 1530.21 Z\" fill=\"#000000\" fill-rule=\"evenodd\" fill-opacity=\"1\" /><polyline clip-path=\"url(#clip532)\" style=\"stroke:#000000; stroke-linecap:butt; stroke-linejoin:round; stroke-width:2; stroke-opacity:0.1; fill:none\" points=\"\n",
       "  178.867,1478.04 2352.76,1478.04 \n",
       "  \"/>\n",
       "<polyline clip-path=\"url(#clip532)\" style=\"stroke:#000000; stroke-linecap:butt; stroke-linejoin:round; stroke-width:2; stroke-opacity:0.1; fill:none\" points=\"\n",
       "  178.867,1154.77 2352.76,1154.77 \n",
       "  \"/>\n",
       "<polyline clip-path=\"url(#clip532)\" style=\"stroke:#000000; stroke-linecap:butt; stroke-linejoin:round; stroke-width:2; stroke-opacity:0.1; fill:none\" points=\"\n",
       "  178.867,831.5 2352.76,831.5 \n",
       "  \"/>\n",
       "<polyline clip-path=\"url(#clip532)\" style=\"stroke:#000000; stroke-linecap:butt; stroke-linejoin:round; stroke-width:2; stroke-opacity:0.1; fill:none\" points=\"\n",
       "  178.867,508.229 2352.76,508.229 \n",
       "  \"/>\n",
       "<polyline clip-path=\"url(#clip532)\" style=\"stroke:#000000; stroke-linecap:butt; stroke-linejoin:round; stroke-width:2; stroke-opacity:0.1; fill:none\" points=\"\n",
       "  178.867,184.958 2352.76,184.958 \n",
       "  \"/>\n",
       "<polyline clip-path=\"url(#clip530)\" style=\"stroke:#000000; stroke-linecap:butt; stroke-linejoin:round; stroke-width:4; stroke-opacity:1; fill:none\" points=\"\n",
       "  178.867,1486.45 178.867,47.2441 \n",
       "  \"/>\n",
       "<polyline clip-path=\"url(#clip530)\" style=\"stroke:#000000; stroke-linecap:butt; stroke-linejoin:round; stroke-width:4; stroke-opacity:1; fill:none\" points=\"\n",
       "  178.867,1478.04 197.764,1478.04 \n",
       "  \"/>\n",
       "<polyline clip-path=\"url(#clip530)\" style=\"stroke:#000000; stroke-linecap:butt; stroke-linejoin:round; stroke-width:4; stroke-opacity:1; fill:none\" points=\"\n",
       "  178.867,1154.77 197.764,1154.77 \n",
       "  \"/>\n",
       "<polyline clip-path=\"url(#clip530)\" style=\"stroke:#000000; stroke-linecap:butt; stroke-linejoin:round; stroke-width:4; stroke-opacity:1; fill:none\" points=\"\n",
       "  178.867,831.5 197.764,831.5 \n",
       "  \"/>\n",
       "<polyline clip-path=\"url(#clip530)\" style=\"stroke:#000000; stroke-linecap:butt; stroke-linejoin:round; stroke-width:4; stroke-opacity:1; fill:none\" points=\"\n",
       "  178.867,508.229 197.764,508.229 \n",
       "  \"/>\n",
       "<polyline clip-path=\"url(#clip530)\" style=\"stroke:#000000; stroke-linecap:butt; stroke-linejoin:round; stroke-width:4; stroke-opacity:1; fill:none\" points=\"\n",
       "  178.867,184.958 197.764,184.958 \n",
       "  \"/>\n",
       "<path clip-path=\"url(#clip530)\" d=\"M50.9921 1478.49 L80.6679 1478.49 L80.6679 1482.43 L50.9921 1482.43 L50.9921 1478.49 Z\" fill=\"#000000\" fill-rule=\"evenodd\" fill-opacity=\"1\" /><path clip-path=\"url(#clip530)\" d=\"M94.7882 1491.39 L111.108 1491.39 L111.108 1495.32 L89.1632 1495.32 L89.1632 1491.39 Q91.8252 1488.63 96.4085 1484 Q101.015 1479.35 102.196 1478.01 Q104.441 1475.48 105.321 1473.75 Q106.223 1471.99 106.223 1470.3 Q106.223 1467.55 104.279 1465.81 Q102.358 1464.07 99.2558 1464.07 Q97.0567 1464.07 94.603 1464.84 Q92.1725 1465.6 89.3947 1467.15 L89.3947 1462.43 Q92.2188 1461.3 94.6724 1460.72 Q97.1261 1460.14 99.1632 1460.14 Q104.534 1460.14 107.728 1462.82 Q110.922 1465.51 110.922 1470 Q110.922 1472.13 110.112 1474.05 Q109.325 1475.95 107.219 1478.54 Q106.64 1479.21 103.538 1482.43 Q100.436 1485.62 94.7882 1491.39 Z\" fill=\"#000000\" fill-rule=\"evenodd\" fill-opacity=\"1\" /><path clip-path=\"url(#clip530)\" d=\"M130.922 1463.84 Q127.311 1463.84 125.482 1467.41 Q123.677 1470.95 123.677 1478.08 Q123.677 1485.18 125.482 1488.75 Q127.311 1492.29 130.922 1492.29 Q134.556 1492.29 136.362 1488.75 Q138.191 1485.18 138.191 1478.08 Q138.191 1470.95 136.362 1467.41 Q134.556 1463.84 130.922 1463.84 M130.922 1460.14 Q136.732 1460.14 139.788 1464.74 Q142.867 1469.33 142.867 1478.08 Q142.867 1486.8 139.788 1491.41 Q136.732 1495.99 130.922 1495.99 Q125.112 1495.99 122.033 1491.41 Q118.978 1486.8 118.978 1478.08 Q118.978 1469.33 122.033 1464.74 Q125.112 1460.14 130.922 1460.14 Z\" fill=\"#000000\" fill-rule=\"evenodd\" fill-opacity=\"1\" /><path clip-path=\"url(#clip530)\" d=\"M50.9921 1155.22 L80.6679 1155.22 L80.6679 1159.16 L50.9921 1159.16 L50.9921 1155.22 Z\" fill=\"#000000\" fill-rule=\"evenodd\" fill-opacity=\"1\" /><path clip-path=\"url(#clip530)\" d=\"M91.5706 1168.12 L99.2095 1168.12 L99.2095 1141.75 L90.8993 1143.42 L90.8993 1139.16 L99.1632 1137.49 L103.839 1137.49 L103.839 1168.12 L111.478 1168.12 L111.478 1172.05 L91.5706 1172.05 L91.5706 1168.12 Z\" fill=\"#000000\" fill-rule=\"evenodd\" fill-opacity=\"1\" /><path clip-path=\"url(#clip530)\" d=\"M130.922 1140.57 Q127.311 1140.57 125.482 1144.14 Q123.677 1147.68 123.677 1154.81 Q123.677 1161.91 125.482 1165.48 Q127.311 1169.02 130.922 1169.02 Q134.556 1169.02 136.362 1165.48 Q138.191 1161.91 138.191 1154.81 Q138.191 1147.68 136.362 1144.14 Q134.556 1140.57 130.922 1140.57 M130.922 1136.87 Q136.732 1136.87 139.788 1141.47 Q142.867 1146.06 142.867 1154.81 Q142.867 1163.53 139.788 1168.14 Q136.732 1172.72 130.922 1172.72 Q125.112 1172.72 122.033 1168.14 Q118.978 1163.53 118.978 1154.81 Q118.978 1146.06 122.033 1141.47 Q125.112 1136.87 130.922 1136.87 Z\" fill=\"#000000\" fill-rule=\"evenodd\" fill-opacity=\"1\" /><path clip-path=\"url(#clip530)\" d=\"M130.922 817.299 Q127.311 817.299 125.482 820.864 Q123.677 824.405 123.677 831.535 Q123.677 838.641 125.482 842.206 Q127.311 845.748 130.922 845.748 Q134.556 845.748 136.362 842.206 Q138.191 838.641 138.191 831.535 Q138.191 824.405 136.362 820.864 Q134.556 817.299 130.922 817.299 M130.922 813.595 Q136.732 813.595 139.788 818.202 Q142.867 822.785 142.867 831.535 Q142.867 840.262 139.788 844.868 Q136.732 849.452 130.922 849.452 Q125.112 849.452 122.033 844.868 Q118.978 840.262 118.978 831.535 Q118.978 822.785 122.033 818.202 Q125.112 813.595 130.922 813.595 Z\" fill=\"#000000\" fill-rule=\"evenodd\" fill-opacity=\"1\" /><path clip-path=\"url(#clip530)\" d=\"M91.5706 521.574 L99.2095 521.574 L99.2095 495.208 L90.8993 496.875 L90.8993 492.616 L99.1632 490.949 L103.839 490.949 L103.839 521.574 L111.478 521.574 L111.478 525.509 L91.5706 525.509 L91.5706 521.574 Z\" fill=\"#000000\" fill-rule=\"evenodd\" fill-opacity=\"1\" /><path clip-path=\"url(#clip530)\" d=\"M130.922 494.028 Q127.311 494.028 125.482 497.592 Q123.677 501.134 123.677 508.264 Q123.677 515.37 125.482 518.935 Q127.311 522.477 130.922 522.477 Q134.556 522.477 136.362 518.935 Q138.191 515.37 138.191 508.264 Q138.191 501.134 136.362 497.592 Q134.556 494.028 130.922 494.028 M130.922 490.324 Q136.732 490.324 139.788 494.93 Q142.867 499.514 142.867 508.264 Q142.867 516.99 139.788 521.597 Q136.732 526.18 130.922 526.18 Q125.112 526.18 122.033 521.597 Q118.978 516.99 118.978 508.264 Q118.978 499.514 122.033 494.93 Q125.112 490.324 130.922 490.324 Z\" fill=\"#000000\" fill-rule=\"evenodd\" fill-opacity=\"1\" /><path clip-path=\"url(#clip530)\" d=\"M94.7882 198.302 L111.108 198.302 L111.108 202.238 L89.1632 202.238 L89.1632 198.302 Q91.8252 195.548 96.4085 190.918 Q101.015 186.266 102.196 184.923 Q104.441 182.4 105.321 180.664 Q106.223 178.904 106.223 177.215 Q106.223 174.46 104.279 172.724 Q102.358 170.988 99.2558 170.988 Q97.0567 170.988 94.603 171.752 Q92.1725 172.516 89.3947 174.067 L89.3947 169.344 Q92.2188 168.21 94.6724 167.631 Q97.1261 167.053 99.1632 167.053 Q104.534 167.053 107.728 169.738 Q110.922 172.423 110.922 176.914 Q110.922 179.043 110.112 180.965 Q109.325 182.863 107.219 185.455 Q106.64 186.127 103.538 189.344 Q100.436 192.539 94.7882 198.302 Z\" fill=\"#000000\" fill-rule=\"evenodd\" fill-opacity=\"1\" /><path clip-path=\"url(#clip530)\" d=\"M130.922 170.756 Q127.311 170.756 125.482 174.321 Q123.677 177.863 123.677 184.992 Q123.677 192.099 125.482 195.664 Q127.311 199.205 130.922 199.205 Q134.556 199.205 136.362 195.664 Q138.191 192.099 138.191 184.992 Q138.191 177.863 136.362 174.321 Q134.556 170.756 130.922 170.756 M130.922 167.053 Q136.732 167.053 139.788 171.659 Q142.867 176.242 142.867 184.992 Q142.867 193.719 139.788 198.326 Q136.732 202.909 130.922 202.909 Q125.112 202.909 122.033 198.326 Q118.978 193.719 118.978 184.992 Q118.978 176.242 122.033 171.659 Q125.112 167.053 130.922 167.053 Z\" fill=\"#000000\" fill-rule=\"evenodd\" fill-opacity=\"1\" /><polyline clip-path=\"url(#clip532)\" style=\"stroke:#009af9; stroke-linecap:butt; stroke-linejoin:round; stroke-width:4; stroke-opacity:1; fill:none\" points=\"\n",
       "  240.392,1445.72 245.399,1433.94 250.406,1422.29 255.413,1410.76 260.42,1399.35 306.717,1299.61 353.014,1209.86 399.312,1129.6 445.609,1058.37 501.254,984.016 \n",
       "  556.9,921.157 603.947,876.362 650.995,838.683 702.101,805.226 753.208,778.921 800.324,760.446 847.44,746.99 948.466,732.69 1065.52,735.464 1169.53,749.357 \n",
       "  1260.75,765.889 1360.2,784.019 1460.24,797.673 1570.85,801.569 1676.09,788.546 1730.8,773.414 1785.51,751.52 1831.57,727.266 1877.63,697.183 1933.86,651.861 \n",
       "  1990.09,596.28 2042.94,533.906 2095.8,460.986 2138.14,394.484 2180.48,320.386 2222.83,238.323 2265.17,147.926 2271.68,133.251 2278.2,118.369 2284.71,103.278 \n",
       "  2291.23,87.9763 \n",
       "  \"/>\n",
       "<circle clip-path=\"url(#clip532)\" cx=\"1607.62\" cy=\"799.173\" r=\"14\" fill=\"#e26f46\" fill-rule=\"evenodd\" fill-opacity=\"1\" stroke=\"#000000\" stroke-opacity=\"1\" stroke-width=\"3.2\"/>\n",
       "<path clip-path=\"url(#clip530)\" d=\"\n",
       "M1722.76 250.738 L2280.29 250.738 L2280.29 95.2176 L1722.76 95.2176  Z\n",
       "  \" fill=\"#ffffff\" fill-rule=\"evenodd\" fill-opacity=\"1\"/>\n",
       "<polyline clip-path=\"url(#clip530)\" style=\"stroke:#000000; stroke-linecap:butt; stroke-linejoin:round; stroke-width:4; stroke-opacity:1; fill:none\" points=\"\n",
       "  1722.76,250.738 2280.29,250.738 2280.29,95.2176 1722.76,95.2176 1722.76,250.738 \n",
       "  \"/>\n",
       "<polyline clip-path=\"url(#clip530)\" style=\"stroke:#009af9; stroke-linecap:butt; stroke-linejoin:round; stroke-width:4; stroke-opacity:1; fill:none\" points=\"\n",
       "  1746.91,147.058 1891.84,147.058 \n",
       "  \"/>\n",
       "<path clip-path=\"url(#clip530)\" d=\"M1932.5 128.319 L1932.5 131.861 L1928.42 131.861 Q1926.13 131.861 1925.23 132.787 Q1924.35 133.713 1924.35 136.12 L1924.35 138.412 L1931.36 138.412 L1931.36 141.722 L1924.35 141.722 L1924.35 164.338 L1920.06 164.338 L1920.06 141.722 L1915.99 141.722 L1915.99 138.412 L1920.06 138.412 L1920.06 136.606 Q1920.06 132.278 1922.08 130.31 Q1924.09 128.319 1928.47 128.319 L1932.5 128.319 Z\" fill=\"#000000\" fill-rule=\"evenodd\" fill-opacity=\"1\" /><path clip-path=\"url(#clip530)\" d=\"M1935.62 154.106 L1935.62 138.412 L1939.88 138.412 L1939.88 153.944 Q1939.88 157.625 1941.31 159.476 Q1942.75 161.305 1945.62 161.305 Q1949.07 161.305 1951.06 159.106 Q1953.07 156.907 1953.07 153.111 L1953.07 138.412 L1957.33 138.412 L1957.33 164.338 L1953.07 164.338 L1953.07 160.356 Q1951.52 162.717 1949.46 163.875 Q1947.43 165.009 1944.72 165.009 Q1940.25 165.009 1937.93 162.231 Q1935.62 159.453 1935.62 154.106 M1946.34 137.787 L1946.34 137.787 Z\" fill=\"#000000\" fill-rule=\"evenodd\" fill-opacity=\"1\" /><path clip-path=\"url(#clip530)\" d=\"M1987.66 148.689 L1987.66 164.338 L1983.4 164.338 L1983.4 148.828 Q1983.4 145.148 1981.96 143.319 Q1980.53 141.49 1977.66 141.49 Q1974.21 141.49 1972.22 143.69 Q1970.23 145.889 1970.23 149.685 L1970.23 164.338 L1965.94 164.338 L1965.94 138.412 L1970.23 138.412 L1970.23 142.44 Q1971.75 140.102 1973.81 138.944 Q1975.9 137.787 1978.61 137.787 Q1983.07 137.787 1985.37 140.565 Q1987.66 143.319 1987.66 148.689 Z\" fill=\"#000000\" fill-rule=\"evenodd\" fill-opacity=\"1\" /><path clip-path=\"url(#clip530)\" d=\"M2014.81 139.407 L2014.81 143.389 Q2013 142.393 2011.18 141.907 Q2009.37 141.398 2007.52 141.398 Q2003.37 141.398 2001.08 144.037 Q1998.79 146.652 1998.79 151.398 Q1998.79 156.143 2001.08 158.782 Q2003.37 161.398 2007.52 161.398 Q2009.37 161.398 2011.18 160.912 Q2013 160.402 2014.81 159.407 L2014.81 163.342 Q2013.03 164.176 2011.11 164.592 Q2009.21 165.009 2007.05 165.009 Q2001.2 165.009 1997.75 161.328 Q1994.3 157.648 1994.3 151.398 Q1994.3 145.055 1997.77 141.421 Q2001.27 137.787 2007.33 137.787 Q2009.3 137.787 2011.18 138.203 Q2013.05 138.597 2014.81 139.407 Z\" fill=\"#000000\" fill-rule=\"evenodd\" fill-opacity=\"1\" /><path clip-path=\"url(#clip530)\" d=\"M2026.43 131.051 L2026.43 138.412 L2035.2 138.412 L2035.2 141.722 L2026.43 141.722 L2026.43 155.796 Q2026.43 158.967 2027.29 159.87 Q2028.17 160.773 2030.83 160.773 L2035.2 160.773 L2035.2 164.338 L2030.83 164.338 Q2025.9 164.338 2024.02 162.509 Q2022.15 160.657 2022.15 155.796 L2022.15 141.722 L2019.02 141.722 L2019.02 138.412 L2022.15 138.412 L2022.15 131.051 L2026.43 131.051 Z\" fill=\"#000000\" fill-rule=\"evenodd\" fill-opacity=\"1\" /><path clip-path=\"url(#clip530)\" d=\"M2040.8 138.412 L2045.06 138.412 L2045.06 164.338 L2040.8 164.338 L2040.8 138.412 M2040.8 128.319 L2045.06 128.319 L2045.06 133.713 L2040.8 133.713 L2040.8 128.319 Z\" fill=\"#000000\" fill-rule=\"evenodd\" fill-opacity=\"1\" /><path clip-path=\"url(#clip530)\" d=\"M2064.02 141.398 Q2060.6 141.398 2058.61 144.083 Q2056.61 146.745 2056.61 151.398 Q2056.61 156.051 2058.58 158.736 Q2060.57 161.398 2064.02 161.398 Q2067.42 161.398 2069.42 158.713 Q2071.41 156.027 2071.41 151.398 Q2071.41 146.791 2069.42 144.106 Q2067.42 141.398 2064.02 141.398 M2064.02 137.787 Q2069.58 137.787 2072.75 141.398 Q2075.92 145.009 2075.92 151.398 Q2075.92 157.764 2072.75 161.398 Q2069.58 165.009 2064.02 165.009 Q2058.44 165.009 2055.27 161.398 Q2052.12 157.764 2052.12 151.398 Q2052.12 145.009 2055.27 141.398 Q2058.44 137.787 2064.02 137.787 Z\" fill=\"#000000\" fill-rule=\"evenodd\" fill-opacity=\"1\" /><path clip-path=\"url(#clip530)\" d=\"M2104.53 148.689 L2104.53 164.338 L2100.27 164.338 L2100.27 148.828 Q2100.27 145.148 2098.84 143.319 Q2097.4 141.49 2094.53 141.49 Q2091.08 141.49 2089.09 143.69 Q2087.1 145.889 2087.1 149.685 L2087.1 164.338 L2082.82 164.338 L2082.82 138.412 L2087.1 138.412 L2087.1 142.44 Q2088.63 140.102 2090.69 138.944 Q2092.77 137.787 2095.48 137.787 Q2099.95 137.787 2102.24 140.565 Q2104.53 143.319 2104.53 148.689 Z\" fill=\"#000000\" fill-rule=\"evenodd\" fill-opacity=\"1\" /><circle clip-path=\"url(#clip530)\" cx=\"1819.37\" cy=\"198.898\" r=\"23\" fill=\"#e26f46\" fill-rule=\"evenodd\" fill-opacity=\"1\" stroke=\"#000000\" stroke-opacity=\"1\" stroke-width=\"5.12\"/>\n",
       "<path clip-path=\"url(#clip530)\" d=\"M1934.42 191.016 L1934.42 195.043 Q1932.61 194.117 1930.67 193.655 Q1928.72 193.192 1926.64 193.192 Q1923.47 193.192 1921.87 194.164 Q1920.3 195.136 1920.3 197.08 Q1920.3 198.562 1921.43 199.418 Q1922.56 200.252 1925.99 201.016 L1927.45 201.34 Q1931.99 202.312 1933.88 204.094 Q1935.81 205.854 1935.81 209.025 Q1935.81 212.636 1932.93 214.742 Q1930.09 216.849 1925.09 216.849 Q1923 216.849 1920.74 216.432 Q1918.49 216.039 1915.99 215.228 L1915.99 210.83 Q1918.35 212.057 1920.64 212.682 Q1922.94 213.284 1925.18 213.284 Q1928.19 213.284 1929.81 212.266 Q1931.43 211.224 1931.43 209.349 Q1931.43 207.613 1930.25 206.687 Q1929.09 205.761 1925.13 204.904 L1923.65 204.557 Q1919.69 203.724 1917.94 202.011 Q1916.18 200.275 1916.18 197.266 Q1916.18 193.608 1918.77 191.618 Q1921.36 189.627 1926.13 189.627 Q1928.49 189.627 1930.57 189.974 Q1932.66 190.321 1934.42 191.016 Z\" fill=\"#000000\" fill-rule=\"evenodd\" fill-opacity=\"1\" /><path clip-path=\"url(#clip530)\" d=\"M1946.8 182.891 L1946.8 190.252 L1955.57 190.252 L1955.57 193.562 L1946.8 193.562 L1946.8 207.636 Q1946.8 210.807 1947.66 211.71 Q1948.54 212.613 1951.2 212.613 L1955.57 212.613 L1955.57 216.178 L1951.2 216.178 Q1946.27 216.178 1944.39 214.349 Q1942.52 212.497 1942.52 207.636 L1942.52 193.562 L1939.39 193.562 L1939.39 190.252 L1942.52 190.252 L1942.52 182.891 L1946.8 182.891 Z\" fill=\"#000000\" fill-rule=\"evenodd\" fill-opacity=\"1\" /><path clip-path=\"url(#clip530)\" d=\"M1972.96 203.145 Q1967.8 203.145 1965.81 204.326 Q1963.81 205.506 1963.81 208.354 Q1963.81 210.622 1965.3 211.965 Q1966.8 213.284 1969.37 213.284 Q1972.91 213.284 1975.04 210.784 Q1977.19 208.261 1977.19 204.094 L1977.19 203.145 L1972.96 203.145 M1981.45 201.386 L1981.45 216.178 L1977.19 216.178 L1977.19 212.242 Q1975.74 214.603 1973.56 215.738 Q1971.38 216.849 1968.24 216.849 Q1964.25 216.849 1961.89 214.627 Q1959.56 212.381 1959.56 208.631 Q1959.56 204.256 1962.47 202.034 Q1965.41 199.812 1971.22 199.812 L1977.19 199.812 L1977.19 199.395 Q1977.19 196.455 1975.25 194.858 Q1973.33 193.238 1969.83 193.238 Q1967.61 193.238 1965.5 193.77 Q1963.4 194.303 1961.45 195.367 L1961.45 191.432 Q1963.79 190.53 1965.99 190.09 Q1968.19 189.627 1970.27 189.627 Q1975.9 189.627 1978.68 192.543 Q1981.45 195.46 1981.45 201.386 Z\" fill=\"#000000\" fill-rule=\"evenodd\" fill-opacity=\"1\" /><path clip-path=\"url(#clip530)\" d=\"M2005.25 194.233 Q2004.53 193.817 2003.68 193.631 Q2002.84 193.423 2001.82 193.423 Q1998.21 193.423 1996.27 195.784 Q1994.35 198.122 1994.35 202.52 L1994.35 216.178 L1990.06 216.178 L1990.06 190.252 L1994.35 190.252 L1994.35 194.28 Q1995.69 191.918 1997.84 190.784 Q1999.99 189.627 2003.07 189.627 Q2003.51 189.627 2004.05 189.696 Q2004.58 189.743 2005.23 189.858 L2005.25 194.233 Z\" fill=\"#000000\" fill-rule=\"evenodd\" fill-opacity=\"1\" /><path clip-path=\"url(#clip530)\" d=\"M2013.93 182.891 L2013.93 190.252 L2022.7 190.252 L2022.7 193.562 L2013.93 193.562 L2013.93 207.636 Q2013.93 210.807 2014.79 211.71 Q2015.67 212.613 2018.33 212.613 L2022.7 212.613 L2022.7 216.178 L2018.33 216.178 Q2013.4 216.178 2011.52 214.349 Q2009.65 212.497 2009.65 207.636 L2009.65 193.562 L2006.52 193.562 L2006.52 190.252 L2009.65 190.252 L2009.65 182.891 L2013.93 182.891 Z\" fill=\"#000000\" fill-rule=\"evenodd\" fill-opacity=\"1\" /><path clip-path=\"url(#clip530)\" d=\"M2028.3 190.252 L2032.56 190.252 L2032.56 216.178 L2028.3 216.178 L2028.3 190.252 M2028.3 180.159 L2032.56 180.159 L2032.56 185.553 L2028.3 185.553 L2028.3 180.159 Z\" fill=\"#000000\" fill-rule=\"evenodd\" fill-opacity=\"1\" /><path clip-path=\"url(#clip530)\" d=\"M2063.03 200.529 L2063.03 216.178 L2058.77 216.178 L2058.77 200.668 Q2058.77 196.988 2057.33 195.159 Q2055.9 193.33 2053.03 193.33 Q2049.58 193.33 2047.59 195.53 Q2045.6 197.729 2045.6 201.525 L2045.6 216.178 L2041.31 216.178 L2041.31 190.252 L2045.6 190.252 L2045.6 194.28 Q2047.12 191.942 2049.18 190.784 Q2051.27 189.627 2053.98 189.627 Q2058.44 189.627 2060.74 192.405 Q2063.03 195.159 2063.03 200.529 Z\" fill=\"#000000\" fill-rule=\"evenodd\" fill-opacity=\"1\" /><path clip-path=\"url(#clip530)\" d=\"M2088.58 202.914 Q2088.58 198.284 2086.66 195.738 Q2084.76 193.192 2081.31 193.192 Q2077.89 193.192 2075.97 195.738 Q2074.07 198.284 2074.07 202.914 Q2074.07 207.52 2075.97 210.066 Q2077.89 212.613 2081.31 212.613 Q2084.76 212.613 2086.66 210.066 Q2088.58 207.52 2088.58 202.914 M2092.84 212.96 Q2092.84 219.58 2089.9 222.798 Q2086.96 226.039 2080.9 226.039 Q2078.65 226.039 2076.66 225.691 Q2074.67 225.367 2072.8 224.673 L2072.8 220.529 Q2074.67 221.548 2076.5 222.034 Q2078.33 222.52 2080.23 222.52 Q2084.42 222.52 2086.5 220.321 Q2088.58 218.145 2088.58 213.724 L2088.58 211.617 Q2087.26 213.909 2085.2 215.043 Q2083.14 216.178 2080.27 216.178 Q2075.5 216.178 2072.59 212.543 Q2069.67 208.909 2069.67 202.914 Q2069.67 196.895 2072.59 193.261 Q2075.5 189.627 2080.27 189.627 Q2083.14 189.627 2085.2 190.761 Q2087.26 191.895 2088.58 194.187 L2088.58 190.252 L2092.84 190.252 L2092.84 212.96 Z\" fill=\"#000000\" fill-rule=\"evenodd\" fill-opacity=\"1\" /><path clip-path=\"url(#clip530)\" d=\"M2120.8 212.289 L2120.8 226.039 L2116.52 226.039 L2116.52 190.252 L2120.8 190.252 L2120.8 194.187 Q2122.15 191.872 2124.18 190.761 Q2126.24 189.627 2129.09 189.627 Q2133.81 189.627 2136.75 193.377 Q2139.72 197.127 2139.72 203.238 Q2139.72 209.349 2136.75 213.099 Q2133.81 216.849 2129.09 216.849 Q2126.24 216.849 2124.18 215.738 Q2122.15 214.603 2120.8 212.289 M2135.29 203.238 Q2135.29 198.539 2133.35 195.877 Q2131.43 193.192 2128.05 193.192 Q2124.67 193.192 2122.73 195.877 Q2120.8 198.539 2120.8 203.238 Q2120.8 207.937 2122.73 210.622 Q2124.67 213.284 2128.05 213.284 Q2131.43 213.284 2133.35 210.622 Q2135.29 207.937 2135.29 203.238 Z\" fill=\"#000000\" fill-rule=\"evenodd\" fill-opacity=\"1\" /><path clip-path=\"url(#clip530)\" d=\"M2156.82 193.238 Q2153.4 193.238 2151.41 195.923 Q2149.42 198.585 2149.42 203.238 Q2149.42 207.891 2151.38 210.576 Q2153.37 213.238 2156.82 213.238 Q2160.23 213.238 2162.22 210.553 Q2164.21 207.867 2164.21 203.238 Q2164.21 198.631 2162.22 195.946 Q2160.23 193.238 2156.82 193.238 M2156.82 189.627 Q2162.38 189.627 2165.55 193.238 Q2168.72 196.849 2168.72 203.238 Q2168.72 209.604 2165.55 213.238 Q2162.38 216.849 2156.82 216.849 Q2151.24 216.849 2148.07 213.238 Q2144.92 209.604 2144.92 203.238 Q2144.92 196.849 2148.07 193.238 Q2151.24 189.627 2156.82 189.627 Z\" fill=\"#000000\" fill-rule=\"evenodd\" fill-opacity=\"1\" /><path clip-path=\"url(#clip530)\" d=\"M2175.78 190.252 L2180.04 190.252 L2180.04 216.178 L2175.78 216.178 L2175.78 190.252 M2175.78 180.159 L2180.04 180.159 L2180.04 185.553 L2175.78 185.553 L2175.78 180.159 Z\" fill=\"#000000\" fill-rule=\"evenodd\" fill-opacity=\"1\" /><path clip-path=\"url(#clip530)\" d=\"M2210.5 200.529 L2210.5 216.178 L2206.24 216.178 L2206.24 200.668 Q2206.24 196.988 2204.81 195.159 Q2203.37 193.33 2200.5 193.33 Q2197.05 193.33 2195.06 195.53 Q2193.07 197.729 2193.07 201.525 L2193.07 216.178 L2188.79 216.178 L2188.79 190.252 L2193.07 190.252 L2193.07 194.28 Q2194.6 191.942 2196.66 190.784 Q2198.74 189.627 2201.45 189.627 Q2205.92 189.627 2208.21 192.405 Q2210.5 195.159 2210.5 200.529 Z\" fill=\"#000000\" fill-rule=\"evenodd\" fill-opacity=\"1\" /><path clip-path=\"url(#clip530)\" d=\"M2223.21 182.891 L2223.21 190.252 L2231.98 190.252 L2231.98 193.562 L2223.21 193.562 L2223.21 207.636 Q2223.21 210.807 2224.07 211.71 Q2224.95 212.613 2227.61 212.613 L2231.98 212.613 L2231.98 216.178 L2227.61 216.178 Q2222.68 216.178 2220.8 214.349 Q2218.93 212.497 2218.93 207.636 L2218.93 193.562 L2215.8 193.562 L2215.8 190.252 L2218.93 190.252 L2218.93 182.891 L2223.21 182.891 Z\" fill=\"#000000\" fill-rule=\"evenodd\" fill-opacity=\"1\" /></svg>\n"
      ]
     },
     "execution_count": 32,
     "metadata": {},
     "output_type": "execute_result"
    }
   ],
   "source": [
    "plot(f, -3, 3, label=\"function\")\n",
    "scatter!([startX], [f(startX)], label=\"starting point\")"
   ]
  },
  {
   "cell_type": "markdown",
   "id": "f73a57d3",
   "metadata": {},
   "source": [
    "W metodzie Newtona przyjmuje się następujące założenia dla funkcji f:\n",
    "\n",
    "- W przedziale [a,b] znajduje się dokładnie jeden pierwiastek.\n",
    "- Funkcja ma różne znaki na krańcach przedziału, $${\\displaystyle f(a)\\cdot f(b)<0.}$$ \n",
    "- Pierwsza i druga pochodna funkcji mają stały znak w tym przedziale.\n",
    "\n",
    "Jak widzimy po wykresie, funkcja nie jest monotoniczna, zatem trzecie założenie jest fałszywe (powoduje to, że algorytm wykonuje wahania na małym przedziale, starając się znaleźć minimum)"
   ]
  },
  {
   "cell_type": "markdown",
   "id": "faddd378",
   "metadata": {},
   "source": [
    "### derivativeApproxMethod"
   ]
  },
  {
   "cell_type": "code",
   "execution_count": 33,
   "id": "732335fb",
   "metadata": {
    "scrolled": true
   },
   "outputs": [
    {
     "data": {
      "text/plain": [
       "Results of univariate zero finding:\n",
       "\n",
       "* Converged to: -6.236647047591709e16\n",
       "* Algorithm: Secant()\n",
       "* iterations: 12\n",
       "* function evaluations ≈ 16\n",
       "* stopped as |f(x_n)| ≤ max(δ, |x|⋅ϵ) using δ = atol, ϵ = rtol\n",
       "\n",
       "Trace:\n",
       "x₁ = -1.7999939444795443,\t fx₁ = -4.8144800223586826\n",
       "x₂ = -1.8,\t fx₂ = -4.8144796380090495\n",
       "x₃ = -1.8006055520455739,\t fx₃ = -4.8144411838227317\n",
       "x₄ = -1.8611607566029627,\t fx₄ = -4.8104123468578956\n",
       "x₅ = -7.9166812123418344,\t fx₅ = -4.3933402644477217\n",
       "x₆ = -71.704124588186062,\t fx₆ = -4.0542505164443723\n",
       "x₇ = -834.36438421546359,\t fx₇ = -4.0047825907122032\n",
       "x₈ = -62577.170155373184,\t fx₈ = -4.000063919032292\n",
       "x₉ = -6236857.7472711457,\t fx₉ = -4.0000006413483966\n",
       "x₁₀ = -623664915.45884836,\t fx₁₀ = -4.0000000064137007\n",
       "x₁₁ = -62366470686.616562,\t fx₁₁ = -4.0000000000641371\n",
       "x₁₂ = -6236647047802.3877,\t fx₁₂ = -4.0000000000006413\n",
       "x₁₃ = -623664704759379.5,\t fx₁₃ = -4.0000000000000062\n",
       "x₁₄ = -62366470475917088,\t fx₁₄ = -4\n",
       "\n"
      ]
     },
     "metadata": {},
     "output_type": "display_data"
    },
    {
     "data": {
      "text/plain": [
       "Algorithm has not been run"
      ]
     },
     "execution_count": 33,
     "metadata": {},
     "output_type": "execute_result"
    }
   ],
   "source": [
    "f(x) = (x^2 + 2x + 2)/(x^2 - 2x + 2) - 5\n",
    "startX = -1.8\n",
    "derivativeApproxMethod(f, startX)"
   ]
  },
  {
   "cell_type": "code",
   "execution_count": 34,
   "id": "5afd451f",
   "metadata": {},
   "outputs": [
    {
     "data": {
      "image/svg+xml": [
       "<?xml version=\"1.0\" encoding=\"utf-8\"?>\n",
       "<svg xmlns=\"http://www.w3.org/2000/svg\" xmlns:xlink=\"http://www.w3.org/1999/xlink\" width=\"600\" height=\"400\" viewBox=\"0 0 2400 1600\">\n",
       "<defs>\n",
       "  <clipPath id=\"clip570\">\n",
       "    <rect x=\"0\" y=\"0\" width=\"2400\" height=\"1600\"/>\n",
       "  </clipPath>\n",
       "</defs>\n",
       "<path clip-path=\"url(#clip570)\" d=\"\n",
       "M0 1600 L2400 1600 L2400 0 L0 0  Z\n",
       "  \" fill=\"#ffffff\" fill-rule=\"evenodd\" fill-opacity=\"1\"/>\n",
       "<defs>\n",
       "  <clipPath id=\"clip571\">\n",
       "    <rect x=\"480\" y=\"0\" width=\"1681\" height=\"1600\"/>\n",
       "  </clipPath>\n",
       "</defs>\n",
       "<path clip-path=\"url(#clip570)\" d=\"\n",
       "M149.191 1486.45 L2352.76 1486.45 L2352.76 47.2441 L149.191 47.2441  Z\n",
       "  \" fill=\"#ffffff\" fill-rule=\"evenodd\" fill-opacity=\"1\"/>\n",
       "<defs>\n",
       "  <clipPath id=\"clip572\">\n",
       "    <rect x=\"149\" y=\"47\" width=\"2205\" height=\"1440\"/>\n",
       "  </clipPath>\n",
       "</defs>\n",
       "<polyline clip-path=\"url(#clip572)\" style=\"stroke:#000000; stroke-linecap:butt; stroke-linejoin:round; stroke-width:2; stroke-opacity:0.1; fill:none\" points=\"\n",
       "  419.439,1486.45 419.439,47.2441 \n",
       "  \"/>\n",
       "<polyline clip-path=\"url(#clip572)\" style=\"stroke:#000000; stroke-linecap:butt; stroke-linejoin:round; stroke-width:2; stroke-opacity:0.1; fill:none\" points=\"\n",
       "  835.206,1486.45 835.206,47.2441 \n",
       "  \"/>\n",
       "<polyline clip-path=\"url(#clip572)\" style=\"stroke:#000000; stroke-linecap:butt; stroke-linejoin:round; stroke-width:2; stroke-opacity:0.1; fill:none\" points=\"\n",
       "  1250.97,1486.45 1250.97,47.2441 \n",
       "  \"/>\n",
       "<polyline clip-path=\"url(#clip572)\" style=\"stroke:#000000; stroke-linecap:butt; stroke-linejoin:round; stroke-width:2; stroke-opacity:0.1; fill:none\" points=\"\n",
       "  1666.74,1486.45 1666.74,47.2441 \n",
       "  \"/>\n",
       "<polyline clip-path=\"url(#clip572)\" style=\"stroke:#000000; stroke-linecap:butt; stroke-linejoin:round; stroke-width:2; stroke-opacity:0.1; fill:none\" points=\"\n",
       "  2082.51,1486.45 2082.51,47.2441 \n",
       "  \"/>\n",
       "<polyline clip-path=\"url(#clip570)\" style=\"stroke:#000000; stroke-linecap:butt; stroke-linejoin:round; stroke-width:4; stroke-opacity:1; fill:none\" points=\"\n",
       "  149.191,1486.45 2352.76,1486.45 \n",
       "  \"/>\n",
       "<polyline clip-path=\"url(#clip570)\" style=\"stroke:#000000; stroke-linecap:butt; stroke-linejoin:round; stroke-width:4; stroke-opacity:1; fill:none\" points=\"\n",
       "  419.439,1486.45 419.439,1467.55 \n",
       "  \"/>\n",
       "<polyline clip-path=\"url(#clip570)\" style=\"stroke:#000000; stroke-linecap:butt; stroke-linejoin:round; stroke-width:4; stroke-opacity:1; fill:none\" points=\"\n",
       "  835.206,1486.45 835.206,1467.55 \n",
       "  \"/>\n",
       "<polyline clip-path=\"url(#clip570)\" style=\"stroke:#000000; stroke-linecap:butt; stroke-linejoin:round; stroke-width:4; stroke-opacity:1; fill:none\" points=\"\n",
       "  1250.97,1486.45 1250.97,1467.55 \n",
       "  \"/>\n",
       "<polyline clip-path=\"url(#clip570)\" style=\"stroke:#000000; stroke-linecap:butt; stroke-linejoin:round; stroke-width:4; stroke-opacity:1; fill:none\" points=\"\n",
       "  1666.74,1486.45 1666.74,1467.55 \n",
       "  \"/>\n",
       "<polyline clip-path=\"url(#clip570)\" style=\"stroke:#000000; stroke-linecap:butt; stroke-linejoin:round; stroke-width:4; stroke-opacity:1; fill:none\" points=\"\n",
       "  2082.51,1486.45 2082.51,1467.55 \n",
       "  \"/>\n",
       "<path clip-path=\"url(#clip570)\" d=\"M373.502 1532.02 L403.178 1532.02 L403.178 1535.95 L373.502 1535.95 L373.502 1532.02 Z\" fill=\"#000000\" fill-rule=\"evenodd\" fill-opacity=\"1\" /><path clip-path=\"url(#clip570)\" d=\"M426.118 1518.36 L414.312 1536.81 L426.118 1536.81 L426.118 1518.36 M424.891 1514.29 L430.77 1514.29 L430.77 1536.81 L435.701 1536.81 L435.701 1540.7 L430.77 1540.7 L430.77 1548.85 L426.118 1548.85 L426.118 1540.7 L410.516 1540.7 L410.516 1536.19 L424.891 1514.29 Z\" fill=\"#000000\" fill-rule=\"evenodd\" fill-opacity=\"1\" /><path clip-path=\"url(#clip570)\" d=\"M453.432 1517.37 Q449.821 1517.37 447.992 1520.93 Q446.187 1524.47 446.187 1531.6 Q446.187 1538.71 447.992 1542.27 Q449.821 1545.82 453.432 1545.82 Q457.067 1545.82 458.872 1542.27 Q460.701 1538.71 460.701 1531.6 Q460.701 1524.47 458.872 1520.93 Q457.067 1517.37 453.432 1517.37 M453.432 1513.66 Q459.242 1513.66 462.298 1518.27 Q465.377 1522.85 465.377 1531.6 Q465.377 1540.33 462.298 1544.94 Q459.242 1549.52 453.432 1549.52 Q447.622 1549.52 444.543 1544.94 Q441.488 1540.33 441.488 1531.6 Q441.488 1522.85 444.543 1518.27 Q447.622 1513.66 453.432 1513.66 Z\" fill=\"#000000\" fill-rule=\"evenodd\" fill-opacity=\"1\" /><path clip-path=\"url(#clip570)\" d=\"M789.269 1532.02 L818.945 1532.02 L818.945 1535.95 L789.269 1535.95 L789.269 1532.02 Z\" fill=\"#000000\" fill-rule=\"evenodd\" fill-opacity=\"1\" /><path clip-path=\"url(#clip570)\" d=\"M833.065 1544.91 L849.385 1544.91 L849.385 1548.85 L827.44 1548.85 L827.44 1544.91 Q830.102 1542.16 834.686 1537.53 Q839.292 1532.88 840.473 1531.53 Q842.718 1529.01 843.598 1527.27 Q844.5 1525.51 844.5 1523.82 Q844.5 1521.07 842.556 1519.33 Q840.635 1517.6 837.533 1517.6 Q835.334 1517.6 832.88 1518.36 Q830.449 1519.13 827.672 1520.68 L827.672 1515.95 Q830.496 1514.82 832.949 1514.24 Q835.403 1513.66 837.44 1513.66 Q842.811 1513.66 846.005 1516.35 Q849.199 1519.03 849.199 1523.52 Q849.199 1525.65 848.389 1527.57 Q847.602 1529.47 845.496 1532.07 Q844.917 1532.74 841.815 1535.95 Q838.713 1539.15 833.065 1544.91 Z\" fill=\"#000000\" fill-rule=\"evenodd\" fill-opacity=\"1\" /><path clip-path=\"url(#clip570)\" d=\"M869.199 1517.37 Q865.588 1517.37 863.759 1520.93 Q861.954 1524.47 861.954 1531.6 Q861.954 1538.71 863.759 1542.27 Q865.588 1545.82 869.199 1545.82 Q872.834 1545.82 874.639 1542.27 Q876.468 1538.71 876.468 1531.6 Q876.468 1524.47 874.639 1520.93 Q872.834 1517.37 869.199 1517.37 M869.199 1513.66 Q875.009 1513.66 878.065 1518.27 Q881.144 1522.85 881.144 1531.6 Q881.144 1540.33 878.065 1544.94 Q875.009 1549.52 869.199 1549.52 Q863.389 1549.52 860.31 1544.94 Q857.255 1540.33 857.255 1531.6 Q857.255 1522.85 860.31 1518.27 Q863.389 1513.66 869.199 1513.66 Z\" fill=\"#000000\" fill-rule=\"evenodd\" fill-opacity=\"1\" /><path clip-path=\"url(#clip570)\" d=\"M1250.97 1517.37 Q1247.36 1517.37 1245.53 1520.93 Q1243.73 1524.47 1243.73 1531.6 Q1243.73 1538.71 1245.53 1542.27 Q1247.36 1545.82 1250.97 1545.82 Q1254.61 1545.82 1256.41 1542.27 Q1258.24 1538.71 1258.24 1531.6 Q1258.24 1524.47 1256.41 1520.93 Q1254.61 1517.37 1250.97 1517.37 M1250.97 1513.66 Q1256.78 1513.66 1259.84 1518.27 Q1262.92 1522.85 1262.92 1531.6 Q1262.92 1540.33 1259.84 1544.94 Q1256.78 1549.52 1250.97 1549.52 Q1245.16 1549.52 1242.08 1544.94 Q1239.03 1540.33 1239.03 1531.6 Q1239.03 1522.85 1242.08 1518.27 Q1245.16 1513.66 1250.97 1513.66 Z\" fill=\"#000000\" fill-rule=\"evenodd\" fill-opacity=\"1\" /><path clip-path=\"url(#clip570)\" d=\"M1645.51 1544.91 L1661.83 1544.91 L1661.83 1548.85 L1639.89 1548.85 L1639.89 1544.91 Q1642.55 1542.16 1647.13 1537.53 Q1651.74 1532.88 1652.92 1531.53 Q1655.17 1529.01 1656.05 1527.27 Q1656.95 1525.51 1656.95 1523.82 Q1656.95 1521.07 1655 1519.33 Q1653.08 1517.6 1649.98 1517.6 Q1647.78 1517.6 1645.33 1518.36 Q1642.9 1519.13 1640.12 1520.68 L1640.12 1515.95 Q1642.94 1514.82 1645.4 1514.24 Q1647.85 1513.66 1649.89 1513.66 Q1655.26 1513.66 1658.45 1516.35 Q1661.65 1519.03 1661.65 1523.52 Q1661.65 1525.65 1660.84 1527.57 Q1660.05 1529.47 1657.94 1532.07 Q1657.37 1532.74 1654.26 1535.95 Q1651.16 1539.15 1645.51 1544.91 Z\" fill=\"#000000\" fill-rule=\"evenodd\" fill-opacity=\"1\" /><path clip-path=\"url(#clip570)\" d=\"M1681.65 1517.37 Q1678.04 1517.37 1676.21 1520.93 Q1674.4 1524.47 1674.4 1531.6 Q1674.4 1538.71 1676.21 1542.27 Q1678.04 1545.82 1681.65 1545.82 Q1685.28 1545.82 1687.09 1542.27 Q1688.92 1538.71 1688.92 1531.6 Q1688.92 1524.47 1687.09 1520.93 Q1685.28 1517.37 1681.65 1517.37 M1681.65 1513.66 Q1687.46 1513.66 1690.51 1518.27 Q1693.59 1522.85 1693.59 1531.6 Q1693.59 1540.33 1690.51 1544.94 Q1687.46 1549.52 1681.65 1549.52 Q1675.84 1549.52 1672.76 1544.94 Q1669.7 1540.33 1669.7 1531.6 Q1669.7 1522.85 1672.76 1518.27 Q1675.84 1513.66 1681.65 1513.66 Z\" fill=\"#000000\" fill-rule=\"evenodd\" fill-opacity=\"1\" /><path clip-path=\"url(#clip570)\" d=\"M2070.68 1518.36 L2058.87 1536.81 L2070.68 1536.81 L2070.68 1518.36 M2069.45 1514.29 L2075.33 1514.29 L2075.33 1536.81 L2080.26 1536.81 L2080.26 1540.7 L2075.33 1540.7 L2075.33 1548.85 L2070.68 1548.85 L2070.68 1540.7 L2055.08 1540.7 L2055.08 1536.19 L2069.45 1514.29 Z\" fill=\"#000000\" fill-rule=\"evenodd\" fill-opacity=\"1\" /><path clip-path=\"url(#clip570)\" d=\"M2097.99 1517.37 Q2094.38 1517.37 2092.55 1520.93 Q2090.75 1524.47 2090.75 1531.6 Q2090.75 1538.71 2092.55 1542.27 Q2094.38 1545.82 2097.99 1545.82 Q2101.63 1545.82 2103.43 1542.27 Q2105.26 1538.71 2105.26 1531.6 Q2105.26 1524.47 2103.43 1520.93 Q2101.63 1517.37 2097.99 1517.37 M2097.99 1513.66 Q2103.8 1513.66 2106.86 1518.27 Q2109.94 1522.85 2109.94 1531.6 Q2109.94 1540.33 2106.86 1544.94 Q2103.8 1549.52 2097.99 1549.52 Q2092.18 1549.52 2089.1 1544.94 Q2086.05 1540.33 2086.05 1531.6 Q2086.05 1522.85 2089.1 1518.27 Q2092.18 1513.66 2097.99 1513.66 Z\" fill=\"#000000\" fill-rule=\"evenodd\" fill-opacity=\"1\" /><polyline clip-path=\"url(#clip572)\" style=\"stroke:#000000; stroke-linecap:butt; stroke-linejoin:round; stroke-width:2; stroke-opacity:0.1; fill:none\" points=\"\n",
       "  149.191,1246.95 2352.76,1246.95 \n",
       "  \"/>\n",
       "<polyline clip-path=\"url(#clip572)\" style=\"stroke:#000000; stroke-linecap:butt; stroke-linejoin:round; stroke-width:2; stroke-opacity:0.1; fill:none\" points=\"\n",
       "  149.191,1006.91 2352.76,1006.91 \n",
       "  \"/>\n",
       "<polyline clip-path=\"url(#clip572)\" style=\"stroke:#000000; stroke-linecap:butt; stroke-linejoin:round; stroke-width:2; stroke-opacity:0.1; fill:none\" points=\"\n",
       "  149.191,766.875 2352.76,766.875 \n",
       "  \"/>\n",
       "<polyline clip-path=\"url(#clip572)\" style=\"stroke:#000000; stroke-linecap:butt; stroke-linejoin:round; stroke-width:2; stroke-opacity:0.1; fill:none\" points=\"\n",
       "  149.191,526.836 2352.76,526.836 \n",
       "  \"/>\n",
       "<polyline clip-path=\"url(#clip572)\" style=\"stroke:#000000; stroke-linecap:butt; stroke-linejoin:round; stroke-width:2; stroke-opacity:0.1; fill:none\" points=\"\n",
       "  149.191,286.797 2352.76,286.797 \n",
       "  \"/>\n",
       "<polyline clip-path=\"url(#clip570)\" style=\"stroke:#000000; stroke-linecap:butt; stroke-linejoin:round; stroke-width:4; stroke-opacity:1; fill:none\" points=\"\n",
       "  149.191,1486.45 149.191,47.2441 \n",
       "  \"/>\n",
       "<polyline clip-path=\"url(#clip570)\" style=\"stroke:#000000; stroke-linecap:butt; stroke-linejoin:round; stroke-width:4; stroke-opacity:1; fill:none\" points=\"\n",
       "  149.191,1246.95 168.089,1246.95 \n",
       "  \"/>\n",
       "<polyline clip-path=\"url(#clip570)\" style=\"stroke:#000000; stroke-linecap:butt; stroke-linejoin:round; stroke-width:4; stroke-opacity:1; fill:none\" points=\"\n",
       "  149.191,1006.91 168.089,1006.91 \n",
       "  \"/>\n",
       "<polyline clip-path=\"url(#clip570)\" style=\"stroke:#000000; stroke-linecap:butt; stroke-linejoin:round; stroke-width:4; stroke-opacity:1; fill:none\" points=\"\n",
       "  149.191,766.875 168.089,766.875 \n",
       "  \"/>\n",
       "<polyline clip-path=\"url(#clip570)\" style=\"stroke:#000000; stroke-linecap:butt; stroke-linejoin:round; stroke-width:4; stroke-opacity:1; fill:none\" points=\"\n",
       "  149.191,526.836 168.089,526.836 \n",
       "  \"/>\n",
       "<polyline clip-path=\"url(#clip570)\" style=\"stroke:#000000; stroke-linecap:butt; stroke-linejoin:round; stroke-width:4; stroke-opacity:1; fill:none\" points=\"\n",
       "  149.191,286.797 168.089,286.797 \n",
       "  \"/>\n",
       "<path clip-path=\"url(#clip570)\" d=\"M50.9921 1247.41 L80.6679 1247.41 L80.6679 1251.34 L50.9921 1251.34 L50.9921 1247.41 Z\" fill=\"#000000\" fill-rule=\"evenodd\" fill-opacity=\"1\" /><path clip-path=\"url(#clip570)\" d=\"M103.608 1233.75 L91.8021 1252.2 L103.608 1252.2 L103.608 1233.75 M102.381 1229.67 L108.26 1229.67 L108.26 1252.2 L113.191 1252.2 L113.191 1256.09 L108.26 1256.09 L108.26 1264.23 L103.608 1264.23 L103.608 1256.09 L88.0058 1256.09 L88.0058 1251.57 L102.381 1229.67 Z\" fill=\"#000000\" fill-rule=\"evenodd\" fill-opacity=\"1\" /><path clip-path=\"url(#clip570)\" d=\"M52.1264 1007.37 L81.8021 1007.37 L81.8021 1011.3 L52.1264 1011.3 L52.1264 1007.37 Z\" fill=\"#000000\" fill-rule=\"evenodd\" fill-opacity=\"1\" /><path clip-path=\"url(#clip570)\" d=\"M106.061 1005.56 Q109.418 1006.28 111.293 1008.55 Q113.191 1010.82 113.191 1014.15 Q113.191 1019.26 109.672 1022.07 Q106.154 1024.87 99.6724 1024.87 Q97.4965 1024.87 95.1817 1024.43 Q92.89 1024.01 90.4364 1023.15 L90.4364 1018.64 Q92.3808 1019.77 94.6956 1020.35 Q97.0104 1020.93 99.5335 1020.93 Q103.932 1020.93 106.223 1019.19 Q108.538 1017.46 108.538 1014.15 Q108.538 1011.09 106.385 1009.38 Q104.256 1007.64 100.436 1007.64 L96.4085 1007.64 L96.4085 1003.8 L100.621 1003.8 Q104.071 1003.8 105.899 1002.44 Q107.728 1001.05 107.728 998.454 Q107.728 995.792 105.83 994.38 Q103.955 992.945 100.436 992.945 Q98.515 992.945 96.316 993.361 Q94.1169 993.778 91.478 994.658 L91.478 990.491 Q94.14 989.75 96.4548 989.38 Q98.7928 989.01 100.853 989.01 Q106.177 989.01 109.279 991.44 Q112.381 993.848 112.381 997.968 Q112.381 1000.84 110.737 1002.83 Q109.094 1004.8 106.061 1005.56 Z\" fill=\"#000000\" fill-rule=\"evenodd\" fill-opacity=\"1\" /><path clip-path=\"url(#clip570)\" d=\"M53.0754 767.327 L82.7512 767.327 L82.7512 771.262 L53.0754 771.262 L53.0754 767.327 Z\" fill=\"#000000\" fill-rule=\"evenodd\" fill-opacity=\"1\" /><path clip-path=\"url(#clip570)\" d=\"M96.8715 780.22 L113.191 780.22 L113.191 784.155 L91.2465 784.155 L91.2465 780.22 Q93.9086 777.466 98.4919 772.836 Q103.098 768.183 104.279 766.841 Q106.524 764.317 107.404 762.581 Q108.307 760.822 108.307 759.132 Q108.307 756.378 106.362 754.642 Q104.441 752.905 101.339 752.905 Q99.14 752.905 96.6863 753.669 Q94.2558 754.433 91.478 755.984 L91.478 751.262 Q94.3021 750.128 96.7558 749.549 Q99.2095 748.97 101.246 748.97 Q106.617 748.97 109.811 751.655 Q113.006 754.341 113.006 758.831 Q113.006 760.961 112.196 762.882 Q111.408 764.78 109.302 767.373 Q108.723 768.044 105.621 771.262 Q102.52 774.456 96.8715 780.22 Z\" fill=\"#000000\" fill-rule=\"evenodd\" fill-opacity=\"1\" /><path clip-path=\"url(#clip570)\" d=\"M52.7051 527.287 L82.3808 527.287 L82.3808 531.223 L52.7051 531.223 L52.7051 527.287 Z\" fill=\"#000000\" fill-rule=\"evenodd\" fill-opacity=\"1\" /><path clip-path=\"url(#clip570)\" d=\"M93.2836 540.181 L100.922 540.181 L100.922 513.815 L92.6123 515.482 L92.6123 511.223 L100.876 509.556 L105.552 509.556 L105.552 540.181 L113.191 540.181 L113.191 544.116 L93.2836 544.116 L93.2836 540.181 Z\" fill=\"#000000\" fill-rule=\"evenodd\" fill-opacity=\"1\" /><path clip-path=\"url(#clip570)\" d=\"M101.246 272.595 Q97.6354 272.595 95.8067 276.16 Q94.0012 279.702 94.0012 286.831 Q94.0012 293.938 95.8067 297.503 Q97.6354 301.044 101.246 301.044 Q104.881 301.044 106.686 297.503 Q108.515 293.938 108.515 286.831 Q108.515 279.702 106.686 276.16 Q104.881 272.595 101.246 272.595 M101.246 268.892 Q107.057 268.892 110.112 273.498 Q113.191 278.081 113.191 286.831 Q113.191 295.558 110.112 300.165 Q107.057 304.748 101.246 304.748 Q95.4363 304.748 92.3576 300.165 Q89.3021 295.558 89.3021 286.831 Q89.3021 278.081 92.3576 273.498 Q95.4363 268.892 101.246 268.892 Z\" fill=\"#000000\" fill-rule=\"evenodd\" fill-opacity=\"1\" /><polyline clip-path=\"url(#clip572)\" style=\"stroke:#009af9; stroke-linecap:butt; stroke-linejoin:round; stroke-width:4; stroke-opacity:1; fill:none\" points=\"\n",
       "  211.556,1265.4 231.857,1265.76 419.574,1269.79 532.384,1273.17 627.764,1276.92 731.373,1282.42 826.891,1289.63 878.094,1294.85 929.296,1301.5 988.62,1311.92 \n",
       "  1047.94,1327.16 1100.66,1347.95 1153.38,1381.8 1176.5,1403.31 1199.61,1428.8 1211.17,1440.56 1222.73,1445.72 1228.51,1441.66 1234.29,1428.31 1237.18,1416.09 \n",
       "  1240.06,1398.49 1242.95,1373.79 1245.84,1339.71 1247.42,1316.19 1248.99,1288.52 1250.57,1256.12 1252.14,1218.36 1253.72,1174.62 1255.29,1124.33 1256.87,1066.99 \n",
       "  1258.44,1002.29 1260.02,930.199 1261.59,851.079 1263.17,765.825 1264.74,675.944 1266.32,583.593 1267.9,491.522 1269.47,402.893 1271.05,320.987 1272.62,248.84 \n",
       "  1274.2,188.889 1275.77,142.702 1277.35,110.859 1278.92,92.9943 1280.5,87.9763 1282.07,94.1516 1283.65,109.603 1286.8,160.606 1289.95,227.208 1293.1,299.419 \n",
       "  1296.25,371.043 1299.4,438.724 1302.55,500.951 1305.7,557.285 1308.85,607.865 1312,653.105 1315.15,693.527 1318.3,729.671 1321.45,762.048 1327.75,817.306 \n",
       "  1334.05,862.392 1340.35,899.644 1346.65,930.8 1359.33,979.941 1372,1016.45 1384.68,1044.5 1397.35,1066.66 1422.71,1099.31 1448.06,1122.12 1476.09,1140.43 \n",
       "  1504.12,1154.11 1532.15,1164.7 1560.17,1173.14 1613.51,1185.22 1666.85,1193.92 1777.77,1205.96 1871.14,1212.54 1985.14,1218.18 2092.29,1222.03 2263.97,1226.42 \n",
       "  2290.39,1226.97 \n",
       "  \"/>\n",
       "<path clip-path=\"url(#clip570)\" d=\"\n",
       "M1982.03 198.898 L2279.3 198.898 L2279.3 95.2176 L1982.03 95.2176  Z\n",
       "  \" fill=\"#ffffff\" fill-rule=\"evenodd\" fill-opacity=\"1\"/>\n",
       "<polyline clip-path=\"url(#clip570)\" style=\"stroke:#000000; stroke-linecap:butt; stroke-linejoin:round; stroke-width:4; stroke-opacity:1; fill:none\" points=\"\n",
       "  1982.03,198.898 2279.3,198.898 2279.3,95.2176 1982.03,95.2176 1982.03,198.898 \n",
       "  \"/>\n",
       "<polyline clip-path=\"url(#clip570)\" style=\"stroke:#009af9; stroke-linecap:butt; stroke-linejoin:round; stroke-width:4; stroke-opacity:1; fill:none\" points=\"\n",
       "  2006.52,147.058 2153.42,147.058 \n",
       "  \"/>\n",
       "<path clip-path=\"url(#clip570)\" d=\"M2191.75 166.745 Q2189.94 171.375 2188.23 172.787 Q2186.52 174.199 2183.65 174.199 L2180.24 174.199 L2180.24 170.634 L2182.74 170.634 Q2184.5 170.634 2185.47 169.8 Q2186.45 168.967 2187.63 165.865 L2188.39 163.921 L2177.91 138.412 L2182.42 138.412 L2190.52 158.689 L2198.62 138.412 L2203.14 138.412 L2191.75 166.745 Z\" fill=\"#000000\" fill-rule=\"evenodd\" fill-opacity=\"1\" /><path clip-path=\"url(#clip570)\" d=\"M2210.43 160.402 L2218.07 160.402 L2218.07 134.037 L2209.76 135.703 L2209.76 131.444 L2218.02 129.778 L2222.7 129.778 L2222.7 160.402 L2230.34 160.402 L2230.34 164.338 L2210.43 164.338 L2210.43 160.402 Z\" fill=\"#000000\" fill-rule=\"evenodd\" fill-opacity=\"1\" /></svg>\n"
      ]
     },
     "execution_count": 34,
     "metadata": {},
     "output_type": "execute_result"
    }
   ],
   "source": [
    "plot(f, -50, 50)"
   ]
  },
  {
   "cell_type": "code",
   "execution_count": 35,
   "id": "afb98c12",
   "metadata": {},
   "outputs": [
    {
     "data": {
      "text/plain": [
       "-4.0"
      ]
     },
     "execution_count": 35,
     "metadata": {},
     "output_type": "execute_result"
    }
   ],
   "source": [
    "f(-6.236647047591709e16)"
   ]
  },
  {
   "cell_type": "markdown",
   "id": "3882f5a6",
   "metadata": {},
   "source": [
    "$$x_0 = a$$\n",
    "$$x_1 = b$$\n",
    "$$x_{n+1} = \\frac{f(x_n)x_{n-1} - f(x_{n-1})x_n}{f(x_n) - f(x_{n-1})}$$\n",
    "\n",
    "Jak widać po stackTrace, różnica wartości funkcji $x_n$ i $x_{n+1}$ jest tak mała, że nowe $x_n$ jest źle obliczane."
   ]
  }
 ],
 "metadata": {
  "kernelspec": {
   "display_name": "Julia 1.7.2",
   "language": "julia",
   "name": "julia-1.7"
  },
  "language_info": {
   "file_extension": ".jl",
   "mimetype": "application/julia",
   "name": "julia",
   "version": "1.7.2"
  }
 },
 "nbformat": 4,
 "nbformat_minor": 5
}
